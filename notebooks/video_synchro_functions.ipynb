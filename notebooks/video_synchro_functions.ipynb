{
 "cells": [
  {
   "cell_type": "code",
   "execution_count": 1,
   "id": "f2409397-6fb0-465a-8b60-515c2dbf2c09",
   "metadata": {},
   "outputs": [
    {
     "ename": "IndentationError",
     "evalue": "unindent does not match any outer indentation level (synchronization.py, line 359)",
     "output_type": "error",
     "traceback": [
      "Traceback \u001b[0;36m(most recent call last)\u001b[0m:\n",
      "  File \u001b[1;32m~/anaconda3/envs/surgeon_recording/lib/python3.8/site-packages/IPython/core/interactiveshell.py:3340\u001b[0m in \u001b[1;35mrun_code\u001b[0m\n    exec(code_obj, self.user_global_ns, self.user_ns)\n",
      "\u001b[0;36m  Input \u001b[0;32mIn [1]\u001b[0;36m in \u001b[0;35m<cell line: 15>\u001b[0;36m\u001b[0m\n\u001b[0;31m    from surgeon_recording.synchronization import Synchro\u001b[0m\n",
      "\u001b[0;36m  File \u001b[0;32m~/git/surgeon_recording/source/surgeon_recording/surgeon_recording/synchronization.py:359\u001b[0;36m\u001b[0m\n\u001b[0;31m    def color_clip(size, duration, output, fps=25, color=(0,0,0)):\u001b[0m\n\u001b[0m                                                                  ^\u001b[0m\n\u001b[0;31mIndentationError\u001b[0m\u001b[0;31m:\u001b[0m unindent does not match any outer indentation level\n"
     ]
    }
   ],
   "source": [
    "from surgeon_recording.reader import Reader\n",
    "from glob import glob\n",
    "from os.path import join\n",
    "import os\n",
    "import numpy as np\n",
    "from scipy import stats\n",
    "import plotly.express as px\n",
    "import plotly.graph_objects as go\n",
    "from copy import deepcopy\n",
    "import pandas as pd\n",
    "\n",
    "import cv2\n",
    "import csv\n",
    "from natsort import natsorted\n",
    "from surgeon_recording.synchronization import Synchro\n",
    "\n",
    "from moviepy.editor import *\n",
    "from moviepy.video.io.ffmpeg_tools import ffmpeg_extract_subclip"
   ]
  },
  {
   "cell_type": "code",
   "execution_count": 2,
   "id": "ea7b093a-f754-4d85-b55f-1612bfa0982e",
   "metadata": {},
   "outputs": [],
   "source": [
    "synchro = Synchro()"
   ]
  },
  {
   "cell_type": "markdown",
   "id": "f23f05ab-9ce8-4d53-b5f7-b1f61ed72498",
   "metadata": {},
   "source": [
    "# Manual entries"
   ]
  },
  {
   "cell_type": "code",
   "execution_count": 3,
   "id": "fa29bace-8de4-4612-8633-d4a81e9eed93",
   "metadata": {},
   "outputs": [],
   "source": [
    "recording_session = 'SFITS_28_03_22'\n",
    "subject = 'MAXIME'\n",
    "camera_ref = \"MICROSCOPE\"\n",
    "\n",
    "#synchro mouvement frames\n",
    "rs_frame = 694\n",
    "micro_frame = 365\n",
    "gopro_frame = 1217\n",
    "\n",
    "#rs_abs_time = 1648459085159.2    #REMPLACER AVEC LES INFOS DES PNG\n",
    "#rs_nb_frame = 66934\n",
    "\n",
    "fps_gopro = 59.940\n",
    "fps_rs = 29.98\n",
    "fps_micro = 30\n",
    "\n",
    "frame = {\n",
    "    \"REALSENSE\": rs_frame,\n",
    "    \"GOPRO\": gopro_frame,\n",
    "    \"MICROSCOPE\": micro_frame\n",
    "}\n",
    "\n",
    "\n",
    "fps = {\n",
    "    \"GOPRO\": fps_gopro,\n",
    "    \"MICROSCOPE\": fps_micro,\n",
    "    \"REALSENSE\": fps_rs\n",
    "}\n",
    "\n",
    "cameras = ['GOPRO', 'MICROSCOPE', 'REALSENSE']\n",
    "folder = ['complete','segments']\n",
    "\n",
    "\n",
    "path_to_data_folder = '/home/anaelle/git/surgeon_recording/data'\n",
    "\n",
    "data_folder = join('..', 'data', recording_session , subject)"
   ]
  },
  {
   "cell_type": "code",
   "execution_count": 4,
   "id": "ab12b7f1-db68-4648-b59a-63196fe1651d",
   "metadata": {},
   "outputs": [
    {
     "name": "stdout",
     "output_type": "stream",
     "text": [
      "WARNING: need to create the appropriate folders: GOPRO, MICROSCOPE, REALSENSE, CSV, PNG, complete, segments\n"
     ]
    }
   ],
   "source": [
    "print('WARNING: need to create the appropriate folders: GOPRO, MICROSCOPE, REALSENSE, CSV, PNG, complete, segments')"
   ]
  },
  {
   "cell_type": "markdown",
   "id": "baa5d82c-7da2-4709-b868-b2ceb4220803",
   "metadata": {
    "jp-MarkdownHeadingCollapsed": true,
    "tags": []
   },
   "source": [
    "# Convert video"
   ]
  },
  {
   "cell_type": "markdown",
   "id": "ba65e765-61e2-4a50-8c78-df0efc985215",
   "metadata": {},
   "source": [
    "## bag to png to mp4"
   ]
  },
  {
   "cell_type": "code",
   "execution_count": null,
   "id": "6d6d6fba-b201-4a65-9519-6e1fbe121c31",
   "metadata": {},
   "outputs": [],
   "source": [
    "# extract the png with the converter (from shell) to the folder PNG in the folder REALSENSE in the SUBJECT folder\n",
    "\n",
    "camera = 'REALSENSE'\n",
    "synchro.bag_to_png(path_to_data_folder, data_folder, camera)"
   ]
  },
  {
   "cell_type": "code",
   "execution_count": null,
   "id": "52d927b6-a9b6-4db7-b05b-98c1713b1d93",
   "metadata": {},
   "outputs": [],
   "source": [
    "# put the png into MP4 video with given fps\n",
    "synchro.png_to_MP4(fps_rs, data_folder, camera)"
   ]
  },
  {
   "cell_type": "markdown",
   "id": "2df3f7db-4cc0-4bc7-8375-5aee616a9d39",
   "metadata": {},
   "source": [
    "## get segments into one video (gopro, microscope)\n"
   ]
  },
  {
   "cell_type": "code",
   "execution_count": null,
   "id": "de37d8b2-8651-444c-9b8e-db6fce4c9e0d",
   "metadata": {},
   "outputs": [],
   "source": [
    "for camera in cameras:\n",
    "    if camera != 'REALSENSE':\n",
    "        synchro.concatenate_videos(fps[camera], data_folder, camera)"
   ]
  },
  {
   "cell_type": "markdown",
   "id": "e05c0b8d-d694-4e96-90fb-e746b3f38022",
   "metadata": {},
   "source": [
    "# Write CSV with absolute time ref"
   ]
  },
  {
   "cell_type": "code",
   "execution_count": 5,
   "id": "a4812ee9-1e87-439c-b4f5-adb5d3650b51",
   "metadata": {},
   "outputs": [
    {
     "name": "stdout",
     "output_type": "stream",
     "text": [
      "Total nb of frames of segments for  GOPRO 98287\n",
      "Total nb of frames of segments for  MICROSCOPE 97236\n",
      "Total nb of frames of segments for  REALSENSE {}\n",
      "Nb of frames of the outputGOPRO video 98289\n",
      "Nb of frames of the outputMICROSCOPE video 48610\n",
      "Nb of frames of the outputREALSENSE video 43380\n",
      "[['output_gopro.MP4', 'output_gopro_original.mp4', 'outputGOPRO.mp4']]\n",
      "[['GP025852.MP4', 'GP015852.MP4', 'GOPR5852.MP4']]\n",
      "[['output_microscope.MP4', 'outputMICROSCOPE.mp4', 'output_microscope.mp4']]\n",
      "[['SegmentSDI10013.mp4', 'SegmentSDI10018.mp4', 'SegmentSDI10019.mp4', 'SegmentSDI10014.mp4', 'SegmentSDI10016.mp4', 'SegmentSDI10012.mp4', 'SegmentSDI10015.mp4', 'SegmentSDI10017.mp4']]\n",
      "[['my_video2.mp4']]\n",
      "[]\n"
     ]
    }
   ],
   "source": [
    "###################################get absolute time from png names + nb of frames of realsense ###################################################\n",
    "camera = 'REALSENSE'\n",
    "synchro.get_abs_time_png_names(data_folder, camera, rs_frame)\n",
    "\n",
    "abs_time_vector = synchro.abs_time_vector[camera]\n",
    "rs_abs_time = synchro.rs_abs_time \n",
    "\n",
    "#####################################get nb of frames for micro and gopro #########################################################################\n",
    "synchro.get_nb_frame(data_folder, cameras, folder)\n",
    "\n",
    "for camera in cameras:\n",
    "    print('Nb of frames of the output' + camera + ' video', synchro.nb_frames[camera])\n",
    "    \n",
    "    \n",
    "########################################### write CSV with corresponding abs time for other cameras ################################################################################\n",
    "synchro.write_csv_file_camera(data_folder, cameras, folder, frame, fps  )"
   ]
  },
  {
   "cell_type": "code",
   "execution_count": null,
   "id": "2bb33535-f4ca-4e21-b61c-afc63841cd87",
   "metadata": {},
   "outputs": [],
   "source": []
  },
  {
   "cell_type": "markdown",
   "id": "cfe0debf-bf2d-41a8-a692-1450dbda6a71",
   "metadata": {},
   "source": [
    "# Segmentation"
   ]
  },
  {
   "cell_type": "markdown",
   "id": "827b7546-4f30-4b20-a853-45a6864c5163",
   "metadata": {},
   "source": [
    "## read csv data created to store them"
   ]
  },
  {
   "cell_type": "code",
   "execution_count": null,
   "id": "3388fe80-f7c0-48a7-a06e-4bcd75b1714d",
   "metadata": {},
   "outputs": [],
   "source": []
  },
  {
   "cell_type": "code",
   "execution_count": 6,
   "id": "82e0c558-4466-4eab-a9e0-e445d2a64de8",
   "metadata": {},
   "outputs": [
    {
     "name": "stdout",
     "output_type": "stream",
     "text": [
      "outputGOPRO.mp4_abs_time.csv\n",
      "../data/SFITS_28_03_22/MAXIME/GOPRO/CSV/complete/outputGOPRO.mp4_abs_time.csv\n",
      "outputMICROSCOP_abs_time.csv\n",
      "../data/SFITS_28_03_22/MAXIME/MICROSCOPE/CSV/complete/outputMICROSCOP_abs_time.csv\n",
      "REALSENSE_abs_time.csv\n",
      "../data/SFITS_28_03_22/MAXIME/REALSENSE/CSV/complete/REALSENSE_abs_time.csv\n"
     ]
    }
   ],
   "source": [
    "synchro.get_csv_data_camera( data_folder, cameras)\n",
    "\n",
    "#print(synchro.relative_time['MICROSCOPE'])"
   ]
  },
  {
   "cell_type": "markdown",
   "id": "c2d59c5f-ba2c-486b-aa3b-5ef0d4190729",
   "metadata": {},
   "source": [
    "## get closest no of frame and rel time to the ref no frame (on microscope) using absolute time, and export coresp videos (read microscope frame from csv)"
   ]
  },
  {
   "cell_type": "code",
   "execution_count": null,
   "id": "2e84d4ff-e8e9-4c74-ad1d-1c47aea6dc36",
   "metadata": {},
   "outputs": [],
   "source": [
    "\n",
    "for o in range(len(start_ref_frame_vector)):\n",
    "    start_ref_frame = start_ref_frame_vector[o]\n",
    "    stop_ref_frame = stop_ref_frame_vector[o]\n",
    "\n",
    "    #camera = camera_ref\n",
    "    start_ref_abs_time = absolute_time[camera_ref][start_ref_frame]\n",
    "    stop_ref_abs_time = absolute_time[camera_ref][stop_ref_frame]\n",
    "    #\n",
    "    pos_start = {}\n",
    "    pos_stop = {}\n",
    "    rel_time_start = {}\n",
    "    rel_time_stop = {}\n",
    "    abs_time_start = {}\n",
    "    abs_time_stop = {}\n",
    "    #for camera in cameras:\n",
    "    print(\"start reference abs time:  \", start_ref_abs_time)  \n",
    "    print(\"stop reference abs time:  \", stop_ref_abs_time) \n",
    "    print(\"----------------------\")\n",
    "    for camera in cameras:\n",
    "        pos_start[camera] = []\n",
    "        pos_stop[camera] = []\n",
    "        rel_time_start[camera] = {}\n",
    "        rel_time_stop[camera] = {}\n",
    "        abs_time_start[camera] = {}\n",
    "        abs_time_stop[camera] = {}\n",
    "        if not camera in camera_ref:\n",
    "            #print(absolute_time[camera])\n",
    "            [pos_start[camera], abs_time_start[camera]]= synchro.take_closest(absolute_time[camera], start_ref_abs_time, frame[camera])\n",
    "            print(camera, \"start index:       \", pos_start[camera], \"abs time:   \", abs_time_start[camera])\n",
    "            [pos_stop[camera], abs_time_stop[camera]] = synchro.take_closest(absolute_time[camera], stop_ref_abs_time, frame[camera])\n",
    "            print(camera, \"stop index:        \", pos_stop[camera], \"abs time:   \", abs_time_stop[camera])\n",
    "            rel_time_start[camera] = relative_time[camera][pos_start[camera]]\n",
    "            rel_time_stop[camera] = relative_time[camera][pos_stop[camera]]\n",
    "            print(camera, \"start index:       \", pos_start[camera], \"rel time:   \", rel_time_start[camera])\n",
    "            print(camera, \"stop index:       \", pos_stop[camera], \"rel time:   \", rel_time_stop[camera])\n",
    "            print(\"----------------------\")\n",
    "        else:\n",
    "            rel_time_start[camera] = relative_time[camera][start_ref_frame]\n",
    "            rel_time_stop[camera]  = relative_time[camera][stop_ref_frame]\n",
    "            abs_time_start[camera] = absolute_time[camera][start_ref_frame]\n",
    "            abs_time_stop[camera]  = absolute_time[camera][stop_ref_frame]\n",
    "            print(camera, \"start index   \", start_ref_frame, \"rel time:   \", rel_time_start[camera])\n",
    "            print(camera, \"stop index   \", stop_ref_frame, \"rel time:   \", rel_time_stop[camera])\n",
    "            print(\"----------------------\")\n",
    "            pos_start[camera] = start_ref_frame\n",
    "            pos_stop[camera] = stop_ref_frame\n",
    "            \n",
    "        #export video from t1 to t2 in seconds\n",
    "\n",
    "\n",
    "        path_to_data_folder = '/home/anaelle/git/surgeon_recording/data'\n",
    "\n",
    "        data_folder = join('..', 'data', recording_session , subject)\n",
    "\n",
    "     \n",
    "        #for camera in cameras:\n",
    "        t1 = rel_time_start[camera]\n",
    "        t2 = rel_time_stop[camera]\n",
    "    \n",
    "        #name with abs time ref\n",
    "        #r1 = abs_time_start[camera]\n",
    "        #r2 = abs_time_stop[camera]\n",
    "        #ref = str(r1)[1:7] + \"_to_\" + str(r2)[1:7] + \".mp4\"\n",
    "    \n",
    "        #name with no of frame\n",
    "        r1 = pos_start[camera]\n",
    "        r2 = pos_stop[camera]\n",
    "        ref = str(r1) + \"_to_\" + str(r2) + \".mp4\"\n",
    "\n",
    "        #name with rel time\n",
    "        #ref = str(t1)[1:7] + \"_to_\" + str(t2)[1:7] + \".mp4\"\n",
    "    \n",
    "        #name with rsegment nb\n",
    "        r1 = index_segment_vector[o]\n",
    "        ref = \"segment_nb_\" + str(r1) + \".mp4\"\n",
    "        \n",
    "        file = [x[2] for x in os.walk(join(data_folder, camera , 'complete'))]\n",
    "        print(file[0][0])  \n",
    "        target_name = join(path_to_data_folder, recording_session, subject, camera , 'SEGMENTATION', ref)\n",
    "        file_name = join(data_folder, camera, 'complete', file[0][0])\n",
    "        print(target_name)\n",
    "        ffmpeg_extract_subclip(file_name, t1, t2, targetname=target_name)\n",
    "    \n",
    "    #export videos parts according to microscope frames"
   ]
  },
  {
   "cell_type": "code",
   "execution_count": 15,
   "id": "ea101cd2-1cdf-4caa-ab93-6e8362251979",
   "metadata": {},
   "outputs": [
    {
     "name": "stdout",
     "output_type": "stream",
     "text": [
      "microscope_frames.csv\n"
     ]
    }
   ],
   "source": [
    "############# store the frame no of the segments from microscope ref csv file #############################\n",
    "synchro.get_micro_frame_from_csv(data_folder)\n"
   ]
  },
  {
   "cell_type": "code",
   "execution_count": 16,
   "id": "53eda739-506d-4b22-92d4-777733d66414",
   "metadata": {},
   "outputs": [
    {
     "name": "stdout",
     "output_type": "stream",
     "text": [
      "start reference abs time:   1648460117596.3809\n",
      "stop reference abs time:   1648460148629.6384\n",
      "----------------------\n",
      "GOPRO stop index:         23585 abs time:    1648460148637.0469\n",
      "GOPRO start index:        21725 abs time:    1648460117589.3333\n",
      "GOPRO start index:        21725 rel time:    362.4457791125242\n",
      "GOPRO stop index:        23585 rel time:    393.4768101435971\n",
      "----------------------\n",
      "output_gopro.MP4\n",
      "/home/anaelle/git/surgeon_recording/data/SFITS_28_03_22/MAXIME/GOPRO/SEGMENTATION/segment_nb_1.mp4\n",
      "Moviepy - Running:\n",
      ">>> \"+ \" \".join(cmd)\n",
      "Moviepy - Command successful\n",
      "MICROSCOPE start index    10629 rel time:    354.30000000006623\n",
      "MICROSCOPE stop index    11560 rel time:    385.33333333342426\n",
      "----------------------\n",
      "output_microscope.MP4\n",
      "/home/anaelle/git/surgeon_recording/data/SFITS_28_03_22/MAXIME/MICROSCOPE/SEGMENTATION/segment_nb_1.mp4\n",
      "Moviepy - Running:\n",
      ">>> \"+ \" \".join(cmd)\n",
      "Moviepy - Command successful\n",
      "REALSENSE stop index:         27863 abs time:    1648460148634.5596\n",
      "REALSENSE start index:        27188 abs time:    1648460117611.619\n",
      "REALSENSE start index:        27188 rel time:    906.8712474989592\n",
      "REALSENSE stop index:        27863 rel time:    929.3862575056676\n",
      "----------------------\n",
      "my_video2.mp4\n",
      "/home/anaelle/git/surgeon_recording/data/SFITS_28_03_22/MAXIME/REALSENSE/SEGMENTATION/segment_nb_1.mp4\n",
      "Moviepy - Running:\n",
      ">>> \"+ \" \".join(cmd)\n",
      "Moviepy - Command successful\n",
      "start reference abs time:   1648460406095.6765\n",
      "stop reference abs time:   1648460409362.3352\n",
      "----------------------\n",
      "GOPRO stop index:         39213 abs time:    1648460409364.4346\n",
      "GOPRO start index:        39018 abs time:    1648460406094.498\n",
      "GOPRO start index:        39018 rel time:    650.9509509514183\n",
      "GOPRO stop index:        39213 rel time:    654.204204204676\n",
      "----------------------\n",
      "output_gopro.MP4\n",
      "/home/anaelle/git/surgeon_recording/data/SFITS_28_03_22/MAXIME/GOPRO/SEGMENTATION/segment_nb_2.mp4\n",
      "Moviepy - Running:\n",
      ">>> \"+ \" \".join(cmd)\n",
      "Moviepy - Command successful\n",
      "MICROSCOPE start index    19284 rel time:    642.8000000000727\n",
      "MICROSCOPE stop index    19382 rel time:    646.0666666667364\n",
      "----------------------\n",
      "output_microscope.MP4\n",
      "/home/anaelle/git/surgeon_recording/data/SFITS_28_03_22/MAXIME/MICROSCOPE/SEGMENTATION/segment_nb_2.mp4\n",
      "Moviepy - Running:\n",
      ">>> \"+ \" \".join(cmd)\n",
      "Moviepy - Command successful\n",
      "REALSENSE stop index:         34379 abs time:    1648460409356.4817\n",
      "REALSENSE start index:        34281 abs time:    1648460406087.319\n",
      "REALSENSE start index:        34281 rel time:    1143.462308206488\n",
      "REALSENSE stop index:        34379 rel time:    1146.7311541037582\n",
      "----------------------\n",
      "my_video2.mp4\n",
      "/home/anaelle/git/surgeon_recording/data/SFITS_28_03_22/MAXIME/REALSENSE/SEGMENTATION/segment_nb_2.mp4\n",
      "Moviepy - Running:\n",
      ">>> \"+ \" \".join(cmd)\n",
      "Moviepy - Command successful\n",
      "start reference abs time:   1648460459928.8784\n",
      "stop reference abs time:   1648460463295.5369\n",
      "----------------------\n",
      "GOPRO stop index:         42446 abs time:    1648460463301.704\n",
      "GOPRO start index:        42244 abs time:    1648460459931.6672\n",
      "GOPRO start index:        42244 rel time:    704.7714381053114\n",
      "GOPRO stop index:        42446 rel time:    708.141474808686\n",
      "----------------------\n",
      "output_gopro.MP4\n",
      "/home/anaelle/git/surgeon_recording/data/SFITS_28_03_22/MAXIME/GOPRO/SEGMENTATION/segment_nb_3.mp4\n",
      "Moviepy - Running:\n",
      ">>> \"+ \" \".join(cmd)\n",
      "Moviepy - Command successful\n",
      "MICROSCOPE start index    20899 rel time:    696.6333333333571\n",
      "MICROSCOPE stop index    21000 rel time:    700.0000000000207\n",
      "----------------------\n",
      "output_microscope.MP4\n",
      "/home/anaelle/git/surgeon_recording/data/SFITS_28_03_22/MAXIME/MICROSCOPE/SEGMENTATION/segment_nb_3.mp4\n",
      "Moviepy - Running:\n",
      ">>> \"+ \" \".join(cmd)\n",
      "Moviepy - Command successful\n",
      "REALSENSE stop index:         35993 abs time:    1648460463295.8848\n",
      "REALSENSE start index:        35893 abs time:    1648460459926.421\n",
      "REALSENSE start index:        35893 rel time:    1197.231487659545\n",
      "REALSENSE stop index:        35993 rel time:    1200.5670446975762\n",
      "----------------------\n",
      "my_video2.mp4\n",
      "/home/anaelle/git/surgeon_recording/data/SFITS_28_03_22/MAXIME/REALSENSE/SEGMENTATION/segment_nb_3.mp4\n",
      "Moviepy - Running:\n",
      ">>> \"+ \" \".join(cmd)\n",
      "Moviepy - Command successful\n",
      "start reference abs time:   1648460113296.3914\n",
      "stop reference abs time:   1648460123296.367\n",
      "----------------------\n",
      "GOPRO stop index:         22067 abs time:    1648460123295.0388\n",
      "GOPRO start index:        21467 abs time:    1648460113301.7124\n",
      "GOPRO start index:        21467 rel time:    358.1414748082141\n",
      "GOPRO stop index:        22067 rel time:    368.1514848182376\n",
      "----------------------\n",
      "output_gopro.MP4\n",
      "/home/anaelle/git/surgeon_recording/data/SFITS_28_03_22/MAXIME/GOPRO/SEGMENTATION/segment_nb_4.mp4\n",
      "Moviepy - Running:\n",
      ">>> \"+ \" \".join(cmd)\n",
      "Moviepy - Command successful\n",
      "MICROSCOPE start index    10500 rel time:    350.0000000000628\n",
      "MICROSCOPE stop index    10800 rel time:    360.0000000000708\n",
      "----------------------\n",
      "output_microscope.MP4\n",
      "/home/anaelle/git/surgeon_recording/data/SFITS_28_03_22/MAXIME/MICROSCOPE/SEGMENTATION/segment_nb_4.mp4\n",
      "Moviepy - Running:\n",
      ">>> \"+ \" \".join(cmd)\n",
      "Moviepy - Command successful\n",
      "REALSENSE stop index:         27359 abs time:    1648460123282.409\n",
      "REALSENSE start index:        27059 abs time:    1648460113308.6326\n",
      "REALSENSE start index:        27059 rel time:    902.5683789198996\n",
      "REALSENSE stop index:        27359 rel time:    912.575050033992\n",
      "----------------------\n",
      "my_video2.mp4\n",
      "/home/anaelle/git/surgeon_recording/data/SFITS_28_03_22/MAXIME/REALSENSE/SEGMENTATION/segment_nb_4.mp4\n",
      "Moviepy - Running:\n",
      ">>> \"+ \" \".join(cmd)\n",
      "Moviepy - Command successful\n",
      "start reference abs time:   1648459796630.4978\n",
      "stop reference abs time:   1648459829963.7498\n",
      "----------------------\n",
      "GOPRO stop index:         4484 abs time:    1648459829968.386\n",
      "GOPRO start index:        2486 abs time:    1648459796635.0537\n",
      "GOPRO start index:        2486 rel time:    41.47480814147637\n",
      "GOPRO stop index:        4484 rel time:    74.80814147480746\n",
      "----------------------\n",
      "output_gopro.MP4\n",
      "/home/anaelle/git/surgeon_recording/data/SFITS_28_03_22/MAXIME/GOPRO/SEGMENTATION/segment_nb_5.mp4\n",
      "Moviepy - Running:\n",
      ">>> \"+ \" \".join(cmd)\n",
      "Moviepy - Command successful\n",
      "MICROSCOPE start index    1000 rel time:    33.333333333334004\n",
      "MICROSCOPE stop index    2000 rel time:    66.66666666666545\n",
      "----------------------\n",
      "output_microscope.MP4\n",
      "/home/anaelle/git/surgeon_recording/data/SFITS_28_03_22/MAXIME/MICROSCOPE/SEGMENTATION/segment_nb_5.mp4\n",
      "Moviepy - Running:\n",
      ">>> \"+ \" \".join(cmd)\n",
      "Moviepy - Command successful\n",
      "REALSENSE stop index:         19515 abs time:    1648459829970.0798\n",
      "REALSENSE start index:        18727 abs time:    1648459796645.8716\n",
      "REALSENSE start index:        18727 rel time:    624.6497665111685\n",
      "REALSENSE stop index:        19515 rel time:    650.9339559708517\n",
      "----------------------\n",
      "my_video2.mp4\n",
      "/home/anaelle/git/surgeon_recording/data/SFITS_28_03_22/MAXIME/REALSENSE/SEGMENTATION/segment_nb_5.mp4\n",
      "Moviepy - Running:\n",
      ">>> \"+ \" \".join(cmd)\n",
      "Moviepy - Command successful\n",
      "start reference abs time:   1648459775563.8826\n",
      "stop reference abs time:   1648459778297.2092\n",
      "----------------------\n",
      "GOPRO stop index:         1387 abs time:    1648459778300.0522\n",
      "GOPRO start index:        1223 abs time:    1648459775563.983\n",
      "GOPRO start index:        1223 rel time:    20.40373707040381\n",
      "GOPRO stop index:        1387 rel time:    23.13980647314008\n",
      "----------------------\n",
      "output_gopro.MP4\n",
      "/home/anaelle/git/surgeon_recording/data/SFITS_28_03_22/MAXIME/GOPRO/SEGMENTATION/segment_nb_6.mp4\n",
      "Moviepy - Running:\n",
      ">>> \"+ \" \".join(cmd)\n",
      "Moviepy - Command successful\n",
      "MICROSCOPE start index    368 rel time:    12.266666666666634\n",
      "MICROSCOPE stop index    450 rel time:    14.999999999999956\n",
      "----------------------\n",
      "output_microscope.MP4\n",
      "/home/anaelle/git/surgeon_recording/data/SFITS_28_03_22/MAXIME/MICROSCOPE/SEGMENTATION/segment_nb_6.mp4\n",
      "Moviepy - Running:\n",
      ">>> \"+ \" \".join(cmd)\n",
      "Moviepy - Command successful\n",
      "REALSENSE stop index:         18301 abs time:    1648459778299.2778\n",
      "REALSENSE start index:        18219 abs time:    1648459775563.9448\n",
      "REALSENSE start index:        18219 rel time:    607.7051367579718\n",
      "REALSENSE stop index:        18301 rel time:    610.4402935291571\n",
      "----------------------\n",
      "my_video2.mp4\n",
      "/home/anaelle/git/surgeon_recording/data/SFITS_28_03_22/MAXIME/REALSENSE/SEGMENTATION/segment_nb_6.mp4\n",
      "Moviepy - Running:\n",
      ">>> \"+ \" \".join(cmd)\n",
      "Moviepy - Command successful\n"
     ]
    }
   ],
   "source": [
    "synchro.export_synchro_videos(path_to_data_folder, data_folder, recording_session, subject, cameras, camera_ref, frame)"
   ]
  },
  {
   "cell_type": "code",
   "execution_count": null,
   "id": "342168bf-e57e-45e1-96aa-500f67e4ab76",
   "metadata": {},
   "outputs": [],
   "source": []
  },
  {
   "cell_type": "code",
   "execution_count": null,
   "id": "511604ee-54a3-4c68-87ac-847967824e2a",
   "metadata": {},
   "outputs": [],
   "source": []
  }
 ],
 "metadata": {
  "kernelspec": {
   "display_name": "Python 3 (ipykernel)",
   "language": "python",
   "name": "python3"
  },
  "language_info": {
   "codemirror_mode": {
    "name": "ipython",
    "version": 3
   },
   "file_extension": ".py",
   "mimetype": "text/x-python",
   "name": "python",
   "nbconvert_exporter": "python",
   "pygments_lexer": "ipython3",
   "version": "3.8.12"
  }
 },
 "nbformat": 4,
 "nbformat_minor": 5
}
