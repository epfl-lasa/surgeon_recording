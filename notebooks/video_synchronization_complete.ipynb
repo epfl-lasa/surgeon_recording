{
 "cells": [
  {
   "cell_type": "code",
   "execution_count": 1,
   "id": "f2409397-6fb0-465a-8b60-515c2dbf2c09",
   "metadata": {},
   "outputs": [],
   "source": [
    "from surgeon_recording.reader import Reader\n",
    "from glob import glob\n",
    "from os.path import join\n",
    "import os\n",
    "import numpy as np\n",
    "from scipy import stats\n",
    "import plotly.express as px\n",
    "import plotly.graph_objects as go\n",
    "from copy import deepcopy\n",
    "import pandas as pd\n",
    "\n",
    "import cv2\n",
    "import csv\n",
    "from natsort import natsorted\n",
    "from surgeon_recording.synchronization import Synchro\n",
    "\n",
    "from moviepy.editor import *\n",
    "\n",
    "from moviepy.video.io.ffmpeg_tools import ffmpeg_extract_subclip\n",
    "import moviepy.video.io.ImageSequenceClip"
   ]
  },
  {
   "cell_type": "code",
   "execution_count": 2,
   "id": "ea7b093a-f754-4d85-b55f-1612bfa0982e",
   "metadata": {},
   "outputs": [],
   "source": [
    "synchro = Synchro()"
   ]
  },
  {
   "cell_type": "markdown",
   "id": "f23f05ab-9ce8-4d53-b5f7-b1f61ed72498",
   "metadata": {},
   "source": [
    "# Manual entries"
   ]
  },
  {
   "cell_type": "code",
   "execution_count": 3,
   "id": "ab11a868-1153-4967-9faa-db202b8a3e8c",
   "metadata": {},
   "outputs": [],
   "source": [
    "recording_session = 'SFITS_28_03_22'\n",
    "subject = 'MAXIME'\n",
    "fps_gopro = 59.940\n",
    "fps_rs = 30\n",
    "fps_micro = 30\n",
    "sensors = []\n",
    "\n",
    "#recording_session = 'test_19_04_22'\n",
    "#subject = 'ANAELLE_all4'\n",
    "#fps_gopro = 30   #test at LASA: gopro = oneplus, 30fps ATTENTION pour conversion besoin de set la resolution (mais de toute facon on utilisera pas ET fait pas des segments donc ok)\n",
    "#fps_rs = 30\n",
    "#fps_micro = 60       #test at LASA: microscope + gopro, 59.940\n",
    "#sensors = ['optitrack', 'emg', 'tps']\n",
    "\n",
    "\n",
    "path_to_data_folder = '/home/anaelle/git/surgeon_recording/data'                 #lasa computer\n",
    "#path_to_data_folder = '/Users/anael/Documents/GitHub/surgeon_recordings/data'   #windows computer\n",
    "\n",
    "\n",
    "\n",
    "#synchro mouvement frames --> REPLACE BY READ FROM CSV FILE\n",
    "#rs_frame = 694\n",
    "#micro_frame = 384\n",
    "#gopro_frame = 1217\n",
    "\n",
    "#rs_abs_time = 1648459085159.2    #REMPLACER AVEC LES INFOS DES PNG\n",
    "#rs_nb_frame = 66934\n"
   ]
  },
  {
   "cell_type": "code",
   "execution_count": 4,
   "id": "a11f6908-599d-4acb-b0df-49f651a04942",
   "metadata": {},
   "outputs": [],
   "source": [
    "# read synchro frames from csv\n",
    "data_folder = join('..', 'data', recording_session , subject)\n",
    "\n",
    "file = 'synchro_frame.csv'\n",
    "directory = join(data_folder, file)\n",
    "\n",
    "data = pd.read_csv(directory)\n",
    "rs_frame = int(data['rs_frame'])\n",
    "micro_frame = int(data['micro_frame'])\n",
    "gopro_frame = int(data['gopro_frame'])\n",
    "\n",
    "frame = {\n",
    "    \"REALSENSE\": rs_frame,\n",
    "    \"GOPRO\": gopro_frame,\n",
    "    \"MICROSCOPE\": micro_frame\n",
    "}\n",
    "frame\n",
    "\n",
    "fps = {\n",
    "    \"GOPRO\": fps_gopro,\n",
    "    \"MICROSCOPE\": fps_micro,\n",
    "    \"REALSENSE\": fps_rs\n",
    "}\n",
    "\n",
    "cameras = ['GOPRO', 'MICROSCOPE', 'REALSENSE']\n",
    "folder = ['complete','segments']\n",
    "\n"
   ]
  },
  {
   "cell_type": "code",
   "execution_count": null,
   "id": "419eb8f7-26af-4e7c-9adc-38535da729be",
   "metadata": {},
   "outputs": [],
   "source": [
    "\n"
   ]
  },
  {
   "cell_type": "code",
   "execution_count": 5,
   "id": "ab12b7f1-db68-4648-b59a-63196fe1651d",
   "metadata": {},
   "outputs": [
    {
     "name": "stdout",
     "output_type": "stream",
     "text": [
      "WARNING: need to create the appropriate folders: GOPRO, MICROSCOPE, REALSENSE, CSV, PNG, complete, segments\n"
     ]
    }
   ],
   "source": [
    "print('WARNING: need to create the appropriate folders: GOPRO, MICROSCOPE, REALSENSE, CSV, PNG, complete, segments')"
   ]
  },
  {
   "cell_type": "markdown",
   "id": "baa5d82c-7da2-4709-b868-b2ceb4220803",
   "metadata": {
    "jp-MarkdownHeadingCollapsed": true,
    "tags": []
   },
   "source": [
    "# Convert video"
   ]
  },
  {
   "cell_type": "markdown",
   "id": "a7b5f42d-14c3-439d-8ee6-6c0d96808ed3",
   "metadata": {},
   "source": [
    "## get segments into one video (gopro, microscope)\n"
   ]
  },
  {
   "cell_type": "code",
   "execution_count": 7,
   "id": "332d12e9-cf30-419b-9107-b3626cca8718",
   "metadata": {},
   "outputs": [
    {
     "name": "stdout",
     "output_type": "stream",
     "text": [
      "['VID_20220419_165912.mp4']\n",
      "Moviepy - Building video ../data/test_19_04_22/ANAELLE_all4/GOPRO/complete/outputGOPRO.mp4.\n",
      "Moviepy - Writing video ../data/test_19_04_22/ANAELLE_all4/GOPRO/complete/outputGOPRO.mp4\n",
      "\n"
     ]
    },
    {
     "name": "stderr",
     "output_type": "stream",
     "text": [
      "                                                                                \r"
     ]
    },
    {
     "name": "stdout",
     "output_type": "stream",
     "text": [
      "Moviepy - Done !\n",
      "Moviepy - video ready ../data/test_19_04_22/ANAELLE_all4/GOPRO/complete/outputGOPRO.mp4\n"
     ]
    }
   ],
   "source": [
    "# convert microscope and gopro mp4 video\n",
    "for camera in cameras:\n",
    "    L =[]\n",
    "    if camera != 'REALSENSE':\n",
    "        \n",
    "        for root, dirs, files in os.walk(join(data_folder, camera, 'segments')):\n",
    "            files = natsorted(files)\n",
    "            print(files)\n",
    "            for file in files:\n",
    "                if os.path.splitext(file)[1] == '.mp4' or os.path.splitext(file)[1] == '.MP4':\n",
    "                    filePath = os.path.join(root, file)\n",
    "                    video = VideoFileClip(filePath)\n",
    "                    #video = VideoFileClip(filePath, target_resolution=(1920, 1080))              # need to set manually resolution for oneplus videos\n",
    "                    L.append(video)\n",
    "        tmp = 'output' + camera + '.mp4'\n",
    "        output_path = join(data_folder, camera, 'complete', tmp)\n",
    "        final_clip = concatenate_videoclips(L)\n",
    "        final_clip.write_videofile(output_path, fps=fps[camera], remove_temp=True, audio = False)\n",
    "        "
   ]
  },
  {
   "cell_type": "code",
   "execution_count": null,
   "id": "1995b819-814d-406d-9229-b6f45efb4731",
   "metadata": {},
   "outputs": [],
   "source": []
  },
  {
   "cell_type": "code",
   "execution_count": null,
   "id": "0f4e9f4e-9e74-42d3-abf3-64d72b8a1b47",
   "metadata": {},
   "outputs": [],
   "source": []
  },
  {
   "cell_type": "markdown",
   "id": "ba65e765-61e2-4a50-8c78-df0efc985215",
   "metadata": {},
   "source": [
    "## bag to png to mp4"
   ]
  },
  {
   "cell_type": "code",
   "execution_count": 8,
   "id": "6d6d6fba-b201-4a65-9519-6e1fbe121c31",
   "metadata": {},
   "outputs": [
    {
     "name": "stdout",
     "output_type": "stream",
     "text": [
      "20220419_165835.bag\n",
      "/home/anaelle/git/surgeon_recording/data/test_19_04_22/ANAELLE_all4/REALSENSE/BAG/20220419_165835.bag\n",
      "/home/anaelle/git/surgeon_recording/data/test_19_04_22/ANAELLE_all4/REALSENSE/PNG/a\n",
      "100%\n",
      "PNG converter\n",
      "\t10227 Color frame(s) processed\n",
      "\n"
     ]
    },
    {
     "data": {
      "text/plain": [
       "0"
      ]
     },
     "execution_count": 8,
     "metadata": {},
     "output_type": "execute_result"
    }
   ],
   "source": [
    "# extract the png with the converter (from shell) to the folder PNG in the folder REALSENSE in the SUBJECT folder\n",
    "data_folder = join('..', 'data', recording_session , subject)\n",
    "camera = 'REALSENSE'\n",
    "\n",
    "bag_file = [x[2] for x in os.walk(join(data_folder, camera, 'BAG'))]\n",
    "print(bag_file[0][0])\n",
    "\n",
    "path_bag_file = join(path_to_data_folder, recording_session , subject, camera, 'BAG', bag_file[0][0])\n",
    "print(path_bag_file)\n",
    "path_png=  join(path_to_data_folder, recording_session , subject,  camera, 'PNG', 'a')\n",
    "print(path_png)\n",
    "os.system('rs-convert -i ' + path_bag_file + ' -p ' + path_png)"
   ]
  },
  {
   "cell_type": "code",
   "execution_count": 9,
   "id": "52d927b6-a9b6-4db7-b05b-98c1713b1d93",
   "metadata": {},
   "outputs": [
    {
     "name": "stdout",
     "output_type": "stream",
     "text": [
      "mp4 file: ../data/test_19_04_22/ANAELLE_all4/REALSENSE/complete/rs_converted.mp4\n",
      "Moviepy - Building video ../data/test_19_04_22/ANAELLE_all4/REALSENSE/complete/rs_converted.mp4.\n",
      "Moviepy - Writing video ../data/test_19_04_22/ANAELLE_all4/REALSENSE/complete/rs_converted.mp4\n",
      "\n"
     ]
    },
    {
     "name": "stderr",
     "output_type": "stream",
     "text": [
      "                                                                                \r"
     ]
    },
    {
     "name": "stdout",
     "output_type": "stream",
     "text": [
      "Moviepy - Done !\n",
      "Moviepy - video ready ../data/test_19_04_22/ANAELLE_all4/REALSENSE/complete/rs_converted.mp4\n"
     ]
    }
   ],
   "source": [
    "image_folder=join(data_folder, camera, 'PNG')\n",
    "image_files = [os.path.join(image_folder,img) for img in os.listdir(image_folder) if img.endswith(\".png\")]\n",
    "\n",
    "clip = moviepy.video.io.ImageSequenceClip.ImageSequenceClip(natsorted(image_files), fps=fps[camera])\n",
    "path_mp4 = join(data_folder, camera, 'complete', 'rs_converted.mp4')\n",
    "print('mp4 file: ' + path_mp4)\n",
    "clip.write_videofile(path_mp4)"
   ]
  },
  {
   "cell_type": "code",
   "execution_count": null,
   "id": "14061097-bb97-4f55-a5fc-c5007cd58775",
   "metadata": {},
   "outputs": [],
   "source": []
  },
  {
   "cell_type": "markdown",
   "id": "2df3f7db-4cc0-4bc7-8375-5aee616a9d39",
   "metadata": {},
   "source": []
  },
  {
   "cell_type": "code",
   "execution_count": null,
   "id": "de37d8b2-8651-444c-9b8e-db6fce4c9e0d",
   "metadata": {},
   "outputs": [],
   "source": []
  },
  {
   "cell_type": "markdown",
   "id": "e05c0b8d-d694-4e96-90fb-e746b3f38022",
   "metadata": {},
   "source": [
    "# Get absolute time from png names"
   ]
  },
  {
   "cell_type": "code",
   "execution_count": null,
   "id": "9ac79763-36b2-470b-8818-a7354801f824",
   "metadata": {},
   "outputs": [],
   "source": []
  },
  {
   "cell_type": "code",
   "execution_count": 6,
   "id": "bf90607c-4b2e-4f5d-a6ac-63be49e3e759",
   "metadata": {},
   "outputs": [],
   "source": [
    "# file directory to access the png files (Attention: also in the function to get video from png)\n",
    "camera = 'REALSENSE'\n",
    "image_folder=join(data_folder, camera, 'PNG')\n",
    "image_files = [os.path.join(image_folder,img) for img in os.listdir(image_folder) if img.endswith(\".png\")]\n",
    "\n",
    "# get nb of frames of the rs camera\n",
    "rs_nb_frame = len(image_files)\n",
    "\n",
    "# get absolute time vector of rs from png files\n",
    "abs_time_vector = {}\n",
    "abs_time_vector[camera] = [name[-32:-4] for name in natsorted(image_files)]\n",
    "\n",
    "rs_abs_time = float(abs_time_vector['REALSENSE'][rs_frame]) #abs time vector from png names"
   ]
  },
  {
   "cell_type": "markdown",
   "id": "5bef99d4-d7dd-49d2-9e54-b1248493ba5b",
   "metadata": {},
   "source": [
    "# Writ CSV files"
   ]
  },
  {
   "cell_type": "markdown",
   "id": "e09fc700-7a89-4ba0-bc49-075b995f761d",
   "metadata": {},
   "source": [
    "## Get nb of frames"
   ]
  },
  {
   "cell_type": "code",
   "execution_count": null,
   "id": "ff7a0fa8-ebdb-43b6-a725-ac2069a5e93e",
   "metadata": {},
   "outputs": [],
   "source": []
  },
  {
   "cell_type": "code",
   "execution_count": 7,
   "id": "8840b549-56c8-4d6d-ba92-af612c6f777a",
   "metadata": {},
   "outputs": [
    {
     "name": "stdout",
     "output_type": "stream",
     "text": [
      "Total nb of frames of segments for  GOPRO 98287\n",
      "Total nb of frames of segments for  MICROSCOPE 97236\n",
      "Total nb of frames of segments for  REALSENSE {}\n",
      "Nb of frames of the output GOPRO video:    98289\n",
      "Nb of frames of the output MICROSCOPE video:    48610\n",
      "Nb of frames of the output RS video:    43380\n"
     ]
    }
   ],
   "source": [
    "# get the nub of frames for each segments and the total videos for the gopro and microscope\n",
    "\n",
    "nb_frames = {}\n",
    "sum_frame = {}\n",
    "\n",
    "\n",
    "for k in range(len(cameras)):    #for the different cameras\n",
    "    camera = cameras[k]\n",
    "    sum_frame[camera] = {}\n",
    "    for j in range(len(folder)):  #segments and complete\n",
    "        files = [x[2] for x in os.walk(join(data_folder, camera,folder[j]))]   #get the nam of the files of the video\n",
    "        tmp = 0\n",
    "        if camera == 'REALSENSE':\n",
    "                    nb_frames[camera] = rs_nb_frame\n",
    "        else:\n",
    "            if len(files) != 0:                                                    # exclude rs for now bc no files\n",
    "                for i in range(len(files[0])):                                   \n",
    "                    file = files[0][i]                                             # prend la valeur des differents fichiers a la suite (les videos)\n",
    "                \n",
    "                    if os.path.splitext(file)[1] == '.MP4' or os.path.splitext(file)[1] == '.mp4':   #check si bien une video\n",
    "                    #print(join(data_folder, folder[j], file))\n",
    "                        cap = cv2.VideoCapture(join(data_folder, camera, folder[j], file))\n",
    "                        nb_frames[file] = int(cap.get(cv2.CAP_PROP_FRAME_COUNT))                     # store nb of frames with file name as key\n",
    "                \n",
    "                        if folder[j] == 'segments':                                # si on est dans le fichiers des segments on calcule la somme de tous les segments\n",
    "                            tmp = tmp + nb_frames[file]\n",
    "                            sum_frame[camera] = tmp\n",
    "                \n",
    "                #print(file, '  nb of frames:   ', nb_frames[file] )\n",
    "    print('Total nb of frames of segments for ', camera, sum_frame[camera])   #ok 9896, originale oneplus 9896 aussi mais n'arrive pas correctement a lire l-info apparement \n",
    "print('Nb of frames of the output GOPRO video:   ' , nb_frames['outputGOPRO.mp4'])\n",
    "print('Nb of frames of the output MICROSCOPE video:   ', nb_frames['outputMICROSCOPE.mp4'])\n",
    "print('Nb of frames of the output RS video:   ', nb_frames['REALSENSE'])  \n",
    "#print(nb_frames) #ok le nb of frame obtenu pour les segments coresp. a celui donne par Resolve\n",
    "  "
   ]
  },
  {
   "cell_type": "code",
   "execution_count": null,
   "id": "75795584-187f-417c-adfb-e419f8ae0e67",
   "metadata": {},
   "outputs": [],
   "source": []
  },
  {
   "cell_type": "code",
   "execution_count": null,
   "id": "b4d52ff2-472f-4059-9f1b-48d6f6b01b55",
   "metadata": {},
   "outputs": [],
   "source": []
  },
  {
   "cell_type": "markdown",
   "id": "5df54a6c-df41-4f7b-a621-553f97756ca1",
   "metadata": {
    "tags": []
   },
   "source": [
    "## write CSV with absolute time for RS coming from PNG, and absolute time starting on the frame of the mvmt for the other, based on the abs time of RS"
   ]
  },
  {
   "cell_type": "markdown",
   "id": "bf559002-b165-4cf7-8a47-f3ec65b8aae7",
   "metadata": {
    "jp-MarkdownHeadingCollapsed": true,
    "tags": []
   },
   "source": [
    "### method 1 "
   ]
  },
  {
   "cell_type": "code",
   "execution_count": 8,
   "id": "b417b71e-34b2-486f-8eb5-477a8b6e8614",
   "metadata": {},
   "outputs": [
    {
     "name": "stdout",
     "output_type": "stream",
     "text": [
      "[['outputGOPRO.mp4']]\n",
      "[['GP025852.MP4', 'GP015852.MP4', 'GOPR5852.MP4']]\n",
      "[['outputMICROSCOPE.mp4']]\n",
      "[['SegmentSDI10013.mp4', 'SegmentSDI10018.mp4', 'SegmentSDI10019.mp4', 'SegmentSDI10014.mp4', 'SegmentSDI10016.mp4', 'SegmentSDI10012.mp4', 'SegmentSDI10015.mp4', 'SegmentSDI10017.mp4']]\n",
      "[['my_video2.mp4']]\n",
      "1648460710274.84\n",
      "[]\n",
      "1648460710274.84\n"
     ]
    }
   ],
   "source": [
    "csv_names = []\n",
    "\n",
    "for k in range(len(cameras)):\n",
    "    camera = cameras[k]\n",
    "    \n",
    "    for j in range(len(folder)):\n",
    "        files = [x[2] for x in os.walk(join(data_folder, camera ,folder[j]))]\n",
    "        print(files)  \n",
    "        \n",
    "        if camera == 'REALSENSE':\n",
    "            \n",
    "            rs_csv = join(data_folder,camera, 'CSV', 'complete', 'REALSENSE_abs_time.csv')\n",
    "            f = open(rs_csv, 'w') # open the file in the write mode                        #open last one\n",
    "    \n",
    "            # create the csv writer\n",
    "            writer = csv.writer(f)\n",
    "            header = ['index','frequency','relative_time','abs_time']\n",
    "            # write a row to the csv file\n",
    "            writer.writerow(header)\n",
    "            rel_time = 0\n",
    "            #abs_time = rs_abs_time                                        #put the ref_abs time we got from RS as the first absolute time to write\n",
    "            \n",
    "            for m in range((nb_frames[camera])):                            #pour toutes les frames\n",
    "                abs_time = abs_time_vector['REALSENSE'][m]\n",
    "                        #if m >= frame[camera]:        # si on est dans les videos completes et que l-indice est plus grand que la frame avec le mvmt de ref\n",
    "                row = [m,fps[camera],rel_time,float(abs_time)]               # alors on inscrit le abs time, et a partir de la on l'incremente de la fps (en ms)\n",
    "                            #abs_time = abs_time + 1/fps[camera]*1000\n",
    "                        #else:\n",
    "                            #row = [m, fps[camera], rel_time]                      # sinon on est soit dans les segments (pas besoin absolute time), soit on est avant le mvmt de ref donc pas de abs time\n",
    "                    \n",
    "                writer.writerow(row)\n",
    "                rel_time = rel_time + 1/fps[camera]                       # on incremente le rel time par la fps corespondante \n",
    "                            \n",
    "            print(float(abs_time)-1/fps[camera]*1000)\n",
    "            f.close()        \n",
    "            \n",
    "        else:\n",
    "            for i in range(len(files[0])):\n",
    "                file = files[0][i] \n",
    "                if os.path.splitext(file)[1] == '.mp4' or os.path.splitext(file)[1] == '.MP4':\n",
    "            \n",
    "                    csv_names.append(join(data_folder,camera, 'CSV',folder[j], str(file)[0:10] + '_abs_time.csv'))  #create the csv references\n",
    "                    f = open(csv_names[-1], 'w') # open the file in the write mode                        #open last one\n",
    "    \n",
    "    \n",
    "                    # create the csv writer\n",
    "                    writer = csv.writer(f)\n",
    "                    header = ['index','frequency','relative_time','abs_time']\n",
    "    \n",
    "                    # write a row to the csv file\n",
    "                    writer.writerow(header)\n",
    "                    rel_time = 0\n",
    "                    abs_time = rs_abs_time                                        #put the ref_abs time we got from RS as the first absolute time to write\n",
    "                    #print(file)\n",
    "                    \n",
    "                    for m in range((nb_frames[file])):                            #pour toutes les frames\n",
    "                        if folder[j] == 'complete' and m >= frame[camera]:        # si on est dans les videos completes et que l-indice est plus grand que la frame avec le mvmt de ref\n",
    "                            row = [m,fps[camera],rel_time,abs_time]               # alors on inscrit le abs time, et a partir de la on l'incremente de la fps (en ms)\n",
    "                            abs_time = abs_time + 1/fps[camera]*1000\n",
    "                        else:\n",
    "                            row = [m, fps[camera], rel_time]                      # sinon on est soit dans les segments (pas besoin absolute time), soit on est avant le mvmt de ref donc pas de abs time\n",
    "                    \n",
    "                        writer.writerow(row)\n",
    "                        rel_time = rel_time + 1/fps[camera]                       # on incremente le rel time par la fps corespondante \n",
    "                            \n",
    "           \n",
    "                    f.close()"
   ]
  },
  {
   "cell_type": "markdown",
   "id": "580167bb-9e47-480f-b72a-4c3f85785df0",
   "metadata": {},
   "source": [
    "### method 2 test to get relaive time of RS from absolute time to avoid drift"
   ]
  },
  {
   "cell_type": "code",
   "execution_count": 35,
   "id": "4c5a6094-02a4-4f5c-bc27-71ce7e56a0ac",
   "metadata": {},
   "outputs": [
    {
     "name": "stdout",
     "output_type": "stream",
     "text": [
      "[['outputGOPRO.mp4']]\n",
      "[['GP025852.MP4', 'GP015852.MP4', 'GOPR5852.MP4']]\n",
      "[['outputMICROSCOPE.mp4']]\n",
      "[['SegmentSDI10013.mp4', 'SegmentSDI10018.mp4', 'SegmentSDI10019.mp4', 'SegmentSDI10014.mp4', 'SegmentSDI10016.mp4', 'SegmentSDI10012.mp4', 'SegmentSDI10015.mp4', 'SegmentSDI10017.mp4']]\n",
      "[['my_video2.mp4']]\n",
      "1648460710274.84\n",
      "[]\n",
      "1648460710274.84\n"
     ]
    }
   ],
   "source": [
    "csv_names = []\n",
    "\n",
    "\n",
    "for k in range(len(cameras)):\n",
    "    camera = cameras[k]\n",
    "    \n",
    "    for j in range(len(folder)):\n",
    "        files = [x[2] for x in os.walk(join(data_folder, camera ,folder[j]))]\n",
    "        print(files)  \n",
    "        \n",
    "        if camera == 'REALSENSE':\n",
    "            \n",
    "            rs_csv = join(data_folder,camera, 'CSV', 'complete', 'REALSENSE_abs_time.csv')\n",
    "            f = open(rs_csv, 'w') # open the file in the write mode                        #open last one\n",
    "    \n",
    "            # create the csv writer\n",
    "            writer = csv.writer(f)\n",
    "            header = ['index','frequency','relative_time','abs_time']\n",
    "            # write a row to the csv file\n",
    "            writer.writerow(header)\n",
    "            rel_time = 0\n",
    "            #abs_time = rs_abs_time                                        #put the ref_abs time we got from RS as the first absolute time to write\n",
    "            \n",
    "            for m in range((nb_frames[camera])):                            #pour toutes les frames\n",
    "                abs_time = abs_time_vector['REALSENSE'][m]\n",
    "                        #if m >= frame[camera]:        # si on est dans les videos completes et que l-indice est plus grand que la frame avec le mvmt de ref\n",
    "                row = [m,fps[camera],rel_time,float(abs_time)]               # alors on inscrit le abs time, et a partir de la on l'incremente de la fps (en ms)\n",
    "                            #abs_time = abs_time + 1/fps[camera]*1000\n",
    "                        #else:\n",
    "                            #row = [m, fps[camera], rel_time]                      # sinon on est soit dans les segments (pas besoin absolute time), soit on est avant le mvmt de ref donc pas de abs time\n",
    "                    \n",
    "                writer.writerow(row)\n",
    "                if m < nb_frames[camera]-1:\n",
    "                    #print(m)\n",
    "                    rel_time = rel_time + (float(abs_time_vector['REALSENSE'][m+1])-float(abs_time_vector['REALSENSE'][m]))/1000\n",
    "                else:\n",
    "                    rel_time = rel_time + 1/fps[camera]\n",
    "                            \n",
    "            print(float(abs_time)-1/fps[camera]*1000)\n",
    "            f.close()        \n",
    "            \n",
    "        else:\n",
    "            for i in range(len(files[0])):\n",
    "                file = files[0][i] \n",
    "                if os.path.splitext(file)[1] == '.mp4' or os.path.splitext(file)[1] == '.MP4':\n",
    "            \n",
    "                    csv_names.append(join(data_folder,camera, 'CSV',folder[j], str(file)[0:10] + '_abs_time.csv'))  #create the csv references\n",
    "                    f = open(csv_names[-1], 'w') # open the file in the write mode                        #open last one\n",
    "    \n",
    "    \n",
    "                    # create the csv writer\n",
    "                    writer = csv.writer(f)\n",
    "                    header = ['index','frequency','relative_time','abs_time']\n",
    "    \n",
    "                    # write a row to the csv file\n",
    "                    writer.writerow(header)\n",
    "                    rel_time = 0\n",
    "                    abs_time = rs_abs_time                                        #put the ref_abs time we got from RS as the first absolute time to write\n",
    "                    #print(file)\n",
    "                    \n",
    "                    for m in range((nb_frames[file])):                            #pour toutes les frames\n",
    "                        if folder[j] == 'complete' and m >= frame[camera]:        # si on est dans les videos completes et que l-indice est plus grand que la frame avec le mvmt de ref\n",
    "                            row = [m,fps[camera],rel_time,abs_time]               # alors on inscrit le abs time, et a partir de la on l'incremente de la fps (en ms)\n",
    "                            abs_time = abs_time + 1/fps[camera]*1000\n",
    "                        else:\n",
    "                            row = [m, fps[camera], rel_time]                      # sinon on est soit dans les segments (pas besoin absolute time), soit on est avant le mvmt de ref donc pas de abs time\n",
    "                    \n",
    "                        writer.writerow(row)\n",
    "                        rel_time = rel_time + 1/fps[camera]                       # on incremente le rel time par la fps corespondante \n",
    "                            \n",
    "           \n",
    "                    f.close()"
   ]
  },
  {
   "cell_type": "code",
   "execution_count": null,
   "id": "2bb33535-f4ca-4e21-b61c-afc63841cd87",
   "metadata": {},
   "outputs": [],
   "source": [
    "\n"
   ]
  },
  {
   "cell_type": "code",
   "execution_count": null,
   "id": "61cb78b6-173e-4e93-a2c0-73bf729e4189",
   "metadata": {},
   "outputs": [],
   "source": []
  },
  {
   "cell_type": "code",
   "execution_count": null,
   "id": "822ff450-1fce-4ee4-bf5c-460ca3486a6e",
   "metadata": {},
   "outputs": [],
   "source": []
  },
  {
   "cell_type": "markdown",
   "id": "cfe0debf-bf2d-41a8-a692-1450dbda6a71",
   "metadata": {},
   "source": [
    "# Segmentation"
   ]
  },
  {
   "cell_type": "markdown",
   "id": "827b7546-4f30-4b20-a853-45a6864c5163",
   "metadata": {},
   "source": [
    "## read csv data created to store them"
   ]
  },
  {
   "cell_type": "code",
   "execution_count": 36,
   "id": "3388fe80-f7c0-48a7-a06e-4bcd75b1714d",
   "metadata": {},
   "outputs": [
    {
     "name": "stdout",
     "output_type": "stream",
     "text": [
      "outputGOPR_abs_time.csv\n",
      "../data/SFITS_28_03_22/MAXIME/GOPRO/CSV/complete/outputGOPR_abs_time.csv\n",
      "outputMICR_abs_time.csv\n",
      "../data/SFITS_28_03_22/MAXIME/MICROSCOPE/CSV/complete/outputMICR_abs_time.csv\n",
      "REALSENSE_abs_time.csv\n",
      "../data/SFITS_28_03_22/MAXIME/REALSENSE/CSV/complete/REALSENSE_abs_time.csv\n"
     ]
    }
   ],
   "source": [
    "#reprend les donnes de csv , on peut en profiter pour les cut\n",
    "index = {}\n",
    "relative_time = {}\n",
    "absolute_time = {}\n",
    "\n",
    "for k in range(len(cameras)):\n",
    "    camera = cameras[k]\n",
    "    file = [x[2] for x in os.walk(join(data_folder, camera , 'CSV', 'complete'))]\n",
    "    print(file[0][0])  \n",
    "    \n",
    "    directory = join(data_folder, camera , 'CSV', 'complete', file[0][0])\n",
    "    print(directory)\n",
    "    synchro.play(directory, camera)\n",
    "    index[camera] = synchro.data[camera]['index']\n",
    "    relative_time[camera] = synchro.data[camera]['relative_time']\n",
    "    absolute_time[camera] = synchro.data[camera]['abs_time']\n",
    "    #print(absolute_time[camera])\n",
    "#print(relative_time)"
   ]
  },
  {
   "cell_type": "code",
   "execution_count": 37,
   "id": "de3b25b6-8060-4107-aae2-4b4ff4d4b6c4",
   "metadata": {},
   "outputs": [],
   "source": [
    "# get sensor data from CSV\n",
    "\n",
    "index_sensor = {}\n",
    "relative_time_sensor = {}\n",
    "absolute_time_sensor = {}\n",
    "headers = {}\n",
    "directory_sensor = {}\n",
    "\n",
    "\n",
    "#file = [x[2] for x in os.walk(join(data_folder, 'SENSORS'))]\n",
    "#print(file[0])  \n",
    "\n",
    "for sensor in sensors:\n",
    "    file = sensor + '.csv'\n",
    "    print(file)\n",
    "    directory_sensor[sensor] = join(data_folder, 'SENSORS', file)\n",
    "\n",
    "    synchro.play(directory_sensor[sensor], sensor)\n",
    "    index_sensor[sensor] = synchro.data[sensor]['index']\n",
    "    relative_time_sensor[sensor] = synchro.data[sensor]['relative_time']\n",
    "    absolute_time_sensor[sensor] = synchro.data[sensor]['absolute_time']\n",
    "    \n",
    "    f = open(directory_sensor[sensor])\n",
    "    d_reader = csv.DictReader(f)\n",
    "    #get fieldnames from DictReader object and store in list\n",
    "    headers[sensor] = d_reader.fieldnames\n",
    "    print(headers[sensor])"
   ]
  },
  {
   "cell_type": "markdown",
   "id": "c2d59c5f-ba2c-486b-aa3b-5ef0d4190729",
   "metadata": {},
   "source": [
    "## get closest no of frame and rel time to the ref no frame (on microscope) using absolute time, and export coresp videos (read microscope frame from csv)"
   ]
  },
  {
   "cell_type": "code",
   "execution_count": 38,
   "id": "2e84d4ff-e8e9-4c74-ad1d-1c47aea6dc36",
   "metadata": {},
   "outputs": [
    {
     "name": "stdout",
     "output_type": "stream",
     "text": [
      "microscope_frames.csv\n",
      "../data/SFITS_28_03_22/MAXIME/SEGMENTATION_CSV/microscope_frames.csv\n",
      "30000\n",
      "start reference abs time:   1648460072356.8892\n",
      "stop reference abs time:   1648460139023.393\n",
      "----------------------\n",
      "GOPRO start index:        60390 abs time:    1648460072363.1458\n",
      "GOPRO stop index:         64386 abs time:    1648460139029.8108\n",
      "GOPRO start index:        60390 rel time:    1007.5075075084555\n",
      "GOPRO stop index:        64386 rel time:    1074.1741741748704\n",
      "----------------------\n",
      "outputGOPRO.mp4\n",
      "/home/anaelle/git/surgeon_recording/data/SFITS_28_03_22/MAXIME/GOPRO/SEGMENTATION/segment_nb_11.mp4\n",
      "Moviepy - Running:\n",
      ">>> \"+ \" \".join(cmd)\n",
      "Moviepy - Command successful\n",
      "MICROSCOPE start index    30000 rel time:    999.9999999997478\n",
      "MICROSCOPE stop index    32000 rel time:    1066.666666666354\n",
      "----------------------\n",
      "outputMICROSCOPE.mp4\n",
      "/home/anaelle/git/surgeon_recording/data/SFITS_28_03_22/MAXIME/MICROSCOPE/SEGMENTATION/segment_nb_11.mp4\n",
      "Moviepy - Running:\n",
      ">>> \"+ \" \".join(cmd)\n",
      "Moviepy - Command successful\n",
      "REALSENSE start index:        26082 abs time:    1648460072345.513\n",
      "REALSENSE stop index:         27650 abs time:    1648460138994.625\n",
      "REALSENSE start index:        26082 rel time:    1010.602130126942\n",
      "REALSENSE stop index:        27650 rel time:    1077.2846005859192\n",
      "----------------------\n",
      "my_video2.mp4\n",
      "/home/anaelle/git/surgeon_recording/data/SFITS_28_03_22/MAXIME/REALSENSE/SEGMENTATION/segment_nb_11.mp4\n",
      "Moviepy - Running:\n",
      ">>> \"+ \" \".join(cmd)\n",
      "Moviepy - Command successful\n",
      "66.66666666641481\n",
      "Moviepy - Building video /home/anaelle/git/surgeon_recording/data/SFITS_28_03_22/MAXIME/blank_video.mp4.\n",
      "Moviepy - Writing video /home/anaelle/git/surgeon_recording/data/SFITS_28_03_22/MAXIME/blank_video.mp4\n",
      "\n"
     ]
    },
    {
     "name": "stderr",
     "output_type": "stream",
     "text": [
      "                                                                                \r"
     ]
    },
    {
     "name": "stdout",
     "output_type": "stream",
     "text": [
      "Moviepy - Done !\n",
      "Moviepy - video ready /home/anaelle/git/surgeon_recording/data/SFITS_28_03_22/MAXIME/blank_video.mp4\n",
      "Moviepy - Building video /home/anaelle/git/surgeon_recording/data/SFITS_28_03_22/MAXIME/segment_nb_11_all_views.mp4.\n",
      "Moviepy - Writing video /home/anaelle/git/surgeon_recording/data/SFITS_28_03_22/MAXIME/segment_nb_11_all_views.mp4\n",
      "\n"
     ]
    },
    {
     "name": "stderr",
     "output_type": "stream",
     "text": [
      "                                                                                \r"
     ]
    },
    {
     "name": "stdout",
     "output_type": "stream",
     "text": [
      "Moviepy - Done !\n",
      "Moviepy - video ready /home/anaelle/git/surgeon_recording/data/SFITS_28_03_22/MAXIME/segment_nb_11_all_views.mp4\n"
     ]
    }
   ],
   "source": [
    "camera_ref = \"MICROSCOPE\"\n",
    "\n",
    "#get ref fram of microscope directly from csv file\n",
    "file = [x[2] for x in os.walk(join(data_folder, 'SEGMENTATION_CSV'))]\n",
    "print(file[0][0])  \n",
    "    \n",
    "directory = join(data_folder ,'SEGMENTATION_CSV', file[0][0])\n",
    "print(directory)\n",
    "DATA = pd.read_csv(directory)\n",
    "start_ref_frame_vector = DATA['Start_frame']\n",
    "stop_ref_frame_vector = DATA['Stop_frame']\n",
    "index_segment_vector = DATA['nb']\n",
    "\n",
    "    \n",
    "for o in range(len(start_ref_frame_vector)):\n",
    "    start_ref_frame = start_ref_frame_vector[o]\n",
    "    print(start_ref_frame)\n",
    "    stop_ref_frame = stop_ref_frame_vector[o]\n",
    "\n",
    "    #camera = camera_ref\n",
    "    start_ref_abs_time = absolute_time[camera_ref][start_ref_frame]\n",
    "    stop_ref_abs_time = absolute_time[camera_ref][stop_ref_frame]\n",
    "    #\n",
    "    pos_start = {}\n",
    "    pos_stop = {}\n",
    "    rel_time_start = {}\n",
    "    rel_time_stop = {}\n",
    "    abs_time_start = {}\n",
    "    abs_time_stop = {}\n",
    "    duration_clip = {}\n",
    "    clip = {}\n",
    "    \n",
    "    pos_start_sensor = {}\n",
    "    pos_stop_sensor = {}\n",
    "    abs_time_start_sensor = {}\n",
    "    abs_time_stop_sensor = {}\n",
    "\n",
    "    #for camera in cameras:\n",
    "    print(\"start reference abs time:  \", start_ref_abs_time)  \n",
    "    print(\"stop reference abs time:  \", stop_ref_abs_time) \n",
    "    print(\"----------------------\")\n",
    "    for camera in cameras:\n",
    "        pos_start[camera] = []\n",
    "        pos_stop[camera] = []\n",
    "        rel_time_start[camera] = {}\n",
    "        rel_time_stop[camera] = {}\n",
    "        abs_time_start[camera] = {}\n",
    "        abs_time_stop[camera] = {}\n",
    "        duration_clip[camera] = {}\n",
    "        if not camera in camera_ref:\n",
    "            #print(absolute_time[camera])\n",
    "            [pos_start[camera], abs_time_start[camera]]= synchro.take_closest(absolute_time[camera], start_ref_abs_time, frame[camera])\n",
    "            print(camera, \"start index:       \", pos_start[camera], \"abs time:   \", abs_time_start[camera])\n",
    "            [pos_stop[camera], abs_time_stop[camera]] = synchro.take_closest(absolute_time[camera], stop_ref_abs_time, frame[camera])\n",
    "            print(camera, \"stop index:        \", pos_stop[camera], \"abs time:   \", abs_time_stop[camera])\n",
    "            rel_time_start[camera] = relative_time[camera][pos_start[camera]]\n",
    "            rel_time_stop[camera] = relative_time[camera][pos_stop[camera]]\n",
    "            print(camera, \"start index:       \", pos_start[camera], \"rel time:   \", rel_time_start[camera])\n",
    "            print(camera, \"stop index:       \", pos_stop[camera], \"rel time:   \", rel_time_stop[camera])\n",
    "            print(\"----------------------\")\n",
    "        else:\n",
    "            rel_time_start[camera] = relative_time[camera][start_ref_frame]\n",
    "            rel_time_stop[camera]  = relative_time[camera][stop_ref_frame]\n",
    "            #abs_time_start[camera] = absolute_time[camera][start_ref_frame]\n",
    "            abs_time_start[camera] = start_ref_abs_time\n",
    "            #abs_time_stop[camera]  = absolute_time[camera][stop_ref_frame]\n",
    "            abs_time_stop[camera] = stop_ref_abs_time\n",
    "            print(camera, \"start index   \", start_ref_frame, \"rel time:   \", rel_time_start[camera])\n",
    "            print(camera, \"stop index   \", stop_ref_frame, \"rel time:   \", rel_time_stop[camera])\n",
    "            print(\"----------------------\")\n",
    "            pos_start[camera] = start_ref_frame\n",
    "            pos_stop[camera] = stop_ref_frame\n",
    "            \n",
    "        #export video from t1 to t2 in seconds\n",
    "\n",
    "\n",
    "        path_to_data_folder = '/home/anaelle/git/surgeon_recording/data'\n",
    "\n",
    "        data_folder = join('..', 'data', recording_session , subject)\n",
    "\n",
    "     \n",
    "        #for camera in cameras:\n",
    "        t1 = rel_time_start[camera]\n",
    "        t2 = rel_time_stop[camera]\n",
    "    \n",
    "        #name with abs time ref\n",
    "        #r1 = abs_time_start[camera]\n",
    "        #r2 = abs_time_stop[camera]\n",
    "        #ref = str(r1)[1:7] + \"_to_\" + str(r2)[1:7] + \".mp4\"\n",
    "    \n",
    "        #name with no of frame\n",
    "        r1 = pos_start[camera]\n",
    "        r2 = pos_stop[camera]\n",
    "        ref = str(r1) + \"_to_\" + str(r2) + \".mp4\"\n",
    "\n",
    "        #name with rel time\n",
    "        #ref = str(t1)[1:7] + \"_to_\" + str(t2)[1:7] + \".mp4\"\n",
    "    \n",
    "        #name with rsegment nb\n",
    "        r1 = index_segment_vector[o]\n",
    "        ref = \"segment_nb_\" + str(r1) + \".mp4\"\n",
    "        \n",
    "        file = [x[2] for x in os.walk(join(data_folder, camera , 'complete'))]\n",
    "        print(file[0][0])  \n",
    "        target_name = join(path_to_data_folder, recording_session, subject, camera , 'SEGMENTATION', ref)\n",
    "        file_name = join(data_folder, camera, 'complete', file[0][0])\n",
    "        print(target_name)\n",
    "        ffmpeg_extract_subclip(file_name, t1, t2, targetname=target_name)\n",
    "        \n",
    "        clip[camera] = VideoFileClip(target_name)\n",
    "        duration_clip[camera] = t2 - t1\n",
    "        \n",
    "    smallest_duration = min(duration_clip.values())\n",
    "   \n",
    "    \n",
    "    output_blank = join(path_to_data_folder, recording_session, subject, 'blank_video.mp4')\n",
    "\n",
    "    size = (200, 100)\n",
    "    duration = (smallest_duration)\n",
    "    print(duration)\n",
    "    synchro.color_clip(size, duration, output_blank)\n",
    "    clip4 = VideoFileClip(output_blank)\n",
    "        \n",
    "    # clips list\n",
    "    clips = [[clip['MICROSCOPE'], clip['REALSENSE'].resize(1.4)],\n",
    "             [clip4, clip['GOPRO']]]\n",
    " \n",
    "    # stacking clips\n",
    "    final = clips_array(clips, rows_widths=[1000, 1000], cols_widths=[2000, 2000])\n",
    " \n",
    "    # showing final clip\n",
    "    #final.ipython_display(width = 480)\n",
    "    ref2 = \"segment_nb_\" + str(r1) + \"_all_views.mp4\"\n",
    "    output_name = join(path_to_data_folder, recording_session, subject, ref2)\n",
    "    final.set_duration(smallest_duration).write_videofile(output_name, fps=30, remove_temp=True, audio = False)\n",
    "      \n",
    "    \n",
    "    for sensor in sensors:\n",
    "        pos_start_sensor[sensor] = []\n",
    "        pos_stop_sensor[sensor] = []\n",
    "        abs_time_start_sensor[sensor] = {}\n",
    "        abs_time_stop_sensor[sensor] = {}\n",
    "        \n",
    "        [pos_start_sensor[sensor], abs_time_start_sensor[sensor]]= synchro.take_closest(absolute_time_sensor[sensor]*1000, start_ref_abs_time, 0)\n",
    "        print(sensor, \"start index:       \", pos_start_sensor[sensor], \"     abs time:   \", abs_time_start_sensor[sensor])\n",
    "        [pos_stop_sensor[sensor], abs_time_stop_sensor[sensor]] = synchro.take_closest(absolute_time_sensor[sensor]*1000, stop_ref_abs_time, 0)\n",
    "        print(sensor, \"stop index:        \", pos_stop_sensor[sensor], \"      abs time:   \", abs_time_stop_sensor[sensor])\n",
    "        \n",
    "        r1 = index_segment_vector[o]\n",
    "        ref = \"segment_nb_\" + str(r1) + \"_\" + sensor + \".csv\"\n",
    "        csv_name = join(data_folder,'SENSORS', 'SEGMENTATION', ref)\n",
    "          \n",
    "        f = open(csv_name, 'w', newline='') # open the file in the write mode                        #open last one\n",
    "    \n",
    "        # create the csv writer\n",
    "        writer = csv.writer(f)\n",
    "       \n",
    "        # write a row to the csv file\n",
    "        writer.writerow(headers[sensor])\n",
    "        table = pd.read_csv(directory_sensor[sensor],skiprows=pos_start_sensor[sensor]-1,nrows=(pos_stop_sensor[sensor] - pos_start_sensor[sensor]+1))\n",
    "        table2 = table.to_numpy()\n",
    "    \n",
    "        for m in range(pos_stop_sensor[sensor] - pos_start_sensor[sensor]+1):\n",
    "            row = table2[m]\n",
    "            writer.writerow(row)\n",
    "            # print(row)\n",
    "    \n",
    "        f.close()        \n",
    "   \n",
    "    #export videos parts according to microscope frames"
   ]
  },
  {
   "cell_type": "code",
   "execution_count": 25,
   "id": "2778edc2-a012-4bd0-8bc8-653e234032e7",
   "metadata": {},
   "outputs": [],
   "source": []
  },
  {
   "cell_type": "code",
   "execution_count": null,
   "id": "3b3abc18-1556-4b98-bfb5-5196920844bc",
   "metadata": {},
   "outputs": [],
   "source": [
    "\n"
   ]
  },
  {
   "cell_type": "code",
   "execution_count": null,
   "id": "f0f834be-fb8e-4c92-b3fe-8407971b92bf",
   "metadata": {},
   "outputs": [],
   "source": []
  },
  {
   "cell_type": "markdown",
   "id": "25e27ef5-c167-4891-9c3a-14998579fdd8",
   "metadata": {},
   "source": [
    "## export segments of sensors"
   ]
  },
  {
   "cell_type": "code",
   "execution_count": null,
   "id": "cd6ea325-9dec-4cb6-804a-35e75a9b6ab9",
   "metadata": {},
   "outputs": [],
   "source": []
  },
  {
   "cell_type": "code",
   "execution_count": null,
   "id": "37e5929a-e652-46f4-a4a7-205a5f36b8c3",
   "metadata": {},
   "outputs": [],
   "source": []
  },
  {
   "cell_type": "code",
   "execution_count": null,
   "id": "39f37d90-159d-45c2-9299-ffece8f4c203",
   "metadata": {},
   "outputs": [],
   "source": []
  },
  {
   "cell_type": "code",
   "execution_count": null,
   "id": "e127907c-63ef-4944-8ae8-4a26ceebd814",
   "metadata": {},
   "outputs": [],
   "source": [
    "\n"
   ]
  },
  {
   "cell_type": "code",
   "execution_count": null,
   "id": "ea101cd2-1cdf-4caa-ab93-6e8362251979",
   "metadata": {},
   "outputs": [],
   "source": [
    "\n"
   ]
  },
  {
   "cell_type": "code",
   "execution_count": null,
   "id": "53eda739-506d-4b22-92d4-777733d66414",
   "metadata": {},
   "outputs": [],
   "source": []
  },
  {
   "cell_type": "code",
   "execution_count": null,
   "id": "342168bf-e57e-45e1-96aa-500f67e4ab76",
   "metadata": {},
   "outputs": [],
   "source": []
  },
  {
   "cell_type": "code",
   "execution_count": null,
   "id": "511604ee-54a3-4c68-87ac-847967824e2a",
   "metadata": {},
   "outputs": [],
   "source": []
  }
 ],
 "metadata": {
  "kernelspec": {
   "display_name": "Python 3 (ipykernel)",
   "language": "python",
   "name": "python3"
  },
  "language_info": {
   "codemirror_mode": {
    "name": "ipython",
    "version": 3
   },
   "file_extension": ".py",
   "mimetype": "text/x-python",
   "name": "python",
   "nbconvert_exporter": "python",
   "pygments_lexer": "ipython3",
   "version": "3.8.12"
  }
 },
 "nbformat": 4,
 "nbformat_minor": 5
}
