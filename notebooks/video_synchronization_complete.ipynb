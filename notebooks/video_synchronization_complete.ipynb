{
 "cells": [
  {
   "cell_type": "code",
   "execution_count": 23,
   "id": "f2409397-6fb0-465a-8b60-515c2dbf2c09",
   "metadata": {},
   "outputs": [],
   "source": [
    "from surgeon_recording.reader import Reader\n",
    "from glob import glob\n",
    "from os.path import join\n",
    "import os\n",
    "import numpy as np\n",
    "from scipy import stats\n",
    "import plotly.express as px\n",
    "import plotly.graph_objects as go\n",
    "from copy import deepcopy\n",
    "import pandas as pd\n",
    "\n",
    "import cv2\n",
    "import csv\n",
    "from natsort import natsorted\n",
    "from surgeon_recording.synchronization import Synchro\n",
    "\n",
    "from moviepy.editor import *\n",
    "\n",
    "from moviepy.video.io.ffmpeg_tools import ffmpeg_extract_subclip\n",
    "import moviepy.video.io.ImageSequenceClip"
   ]
  },
  {
   "cell_type": "code",
   "execution_count": 24,
   "id": "ea7b093a-f754-4d85-b55f-1612bfa0982e",
   "metadata": {},
   "outputs": [],
   "source": [
    "synchro = Synchro()"
   ]
  },
  {
   "cell_type": "markdown",
   "id": "f23f05ab-9ce8-4d53-b5f7-b1f61ed72498",
   "metadata": {},
   "source": [
    "# Manual entries"
   ]
  },
  {
   "cell_type": "code",
   "execution_count": 25,
   "id": "fa29bace-8de4-4612-8633-d4a81e9eed93",
   "metadata": {},
   "outputs": [],
   "source": [
    "recording_session = 'SFITS_28_03_22'\n",
    "subject = 'MAXIME'\n",
    "\n",
    "#synchro mouvement frames\n",
    "rs_frame = 694\n",
    "micro_frame = 384\n",
    "gopro_frame = 1217\n",
    "\n",
    "#rs_abs_time = 1648459085159.2    #REMPLACER AVEC LES INFOS DES PNG\n",
    "#rs_nb_frame = 66934\n",
    "\n",
    "fps_gopro = 59.940\n",
    "fps_rs = 29.98\n",
    "fps_micro = 30\n",
    "\n",
    "frame = {\n",
    "    \"REALSENSE\": rs_frame,\n",
    "    \"GOPRO\": gopro_frame,\n",
    "    \"MICROSCOPE\": micro_frame\n",
    "}\n",
    "frame\n",
    "\n",
    "fps = {\n",
    "    \"GOPRO\": fps_gopro,\n",
    "    \"MICROSCOPE\": fps_micro,\n",
    "    \"REALSENSE\": fps_rs\n",
    "}\n",
    "\n",
    "cameras = ['GOPRO', 'MICROSCOPE', 'REALSENSE']\n",
    "folder = ['complete','segments']\n",
    "\n",
    "\n",
    "path_to_data_folder = '/home/anaelle/git/surgeon_recording/data'\n",
    "\n",
    "data_folder = join('..', 'data', recording_session , subject)"
   ]
  },
  {
   "cell_type": "code",
   "execution_count": 26,
   "id": "ab12b7f1-db68-4648-b59a-63196fe1651d",
   "metadata": {},
   "outputs": [
    {
     "name": "stdout",
     "output_type": "stream",
     "text": [
      "WARNING: need to create the appropriate folders: GOPRO, MICROSCOPE, REALSENSE, CSV, PNG, complete, segments\n"
     ]
    }
   ],
   "source": [
    "print('WARNING: need to create the appropriate folders: GOPRO, MICROSCOPE, REALSENSE, CSV, PNG, complete, segments')"
   ]
  },
  {
   "cell_type": "markdown",
   "id": "baa5d82c-7da2-4709-b868-b2ceb4220803",
   "metadata": {
    "tags": []
   },
   "source": [
    "# Convert video"
   ]
  },
  {
   "cell_type": "markdown",
   "id": "a7b5f42d-14c3-439d-8ee6-6c0d96808ed3",
   "metadata": {},
   "source": [
    "## get segments into one video (gopro, microscope)\n"
   ]
  },
  {
   "cell_type": "code",
   "execution_count": null,
   "id": "737240b2-473c-427f-9419-9e1beb068d28",
   "metadata": {},
   "outputs": [],
   "source": [
    "# convert microscope and gopro mp4 video\n",
    "for camera in cameras:\n",
    "    L =[]\n",
    "    if camera != 'REALSENSE':\n",
    "        \n",
    "        for root, dirs, files in os.walk(join(data_folder, camera, 'segments')):\n",
    "            files = natsorted(files)\n",
    "            print(files)\n",
    "            for file in files:\n",
    "                if os.path.splitext(file)[1] == '.mp4' or os.path.splitext(file)[1] == '.MP4':\n",
    "                    filePath = os.path.join(root, file)\n",
    "                    video = VideoFileClip(filePath)\n",
    "                    L.append(video)\n",
    "        tmp = 'output' + camera + '.mp4'\n",
    "        output_path = join(data_folder, camera, 'complete', tmp)\n",
    "        final_clip = concatenate_videoclips(L)\n",
    "        final_clip.write_videofile(output_path, fps=fps[camera], remove_temp=True, audio = False)"
   ]
  },
  {
   "cell_type": "markdown",
   "id": "ba65e765-61e2-4a50-8c78-df0efc985215",
   "metadata": {},
   "source": [
    "## bag to png to mp4"
   ]
  },
  {
   "cell_type": "code",
   "execution_count": null,
   "id": "6d6d6fba-b201-4a65-9519-6e1fbe121c31",
   "metadata": {},
   "outputs": [],
   "source": [
    "# extract the png with the converter (from shell) to the folder PNG in the folder REALSENSE in the SUBJECT folder\n",
    "data_folder = join('..', 'data', recording_session , subject)\n",
    "camera = 'REALSENSE'\n",
    "\n",
    "bag_file = [x[2] for x in os.walk(join(data_folder, camera, 'BAG'))]\n",
    "print(bag_file[0][0])\n",
    "\n",
    "path_bag_file = join(path_to_data_folder, recording_session , subject, camera, 'BAG', bag_file[0][0])\n",
    "print(path_bag_file)\n",
    "path_png=  join(path_to_data_folder, recording_session , subject,  camera, 'PNG', 'a')\n",
    "print(path_png)\n",
    "os.system('rs-convert -i ' + path_bag_file + ' -p ' + path_png)"
   ]
  },
  {
   "cell_type": "code",
   "execution_count": null,
   "id": "52d927b6-a9b6-4db7-b05b-98c1713b1d93",
   "metadata": {},
   "outputs": [],
   "source": [
    "image_folder=join(data_folder, camera, 'PNG')\n",
    "image_files = [os.path.join(image_folder,img) for img in os.listdir(image_folder) if img.endswith(\".png\")]\n",
    "\n",
    "clip = moviepy.video.io.ImageSequenceClip.ImageSequenceClip(natsorted(image_files), fps=fps[camera])\n",
    "path_mp4 = join(data_folder, camera, 'MP4', 'rs_converted.mp4')\n",
    "print('mp4 file: ' + path_mp4)\n",
    "clip.write_videofile(path_mp4)"
   ]
  },
  {
   "cell_type": "code",
   "execution_count": null,
   "id": "14061097-bb97-4f55-a5fc-c5007cd58775",
   "metadata": {},
   "outputs": [],
   "source": []
  },
  {
   "cell_type": "markdown",
   "id": "2df3f7db-4cc0-4bc7-8375-5aee616a9d39",
   "metadata": {},
   "source": []
  },
  {
   "cell_type": "code",
   "execution_count": null,
   "id": "de37d8b2-8651-444c-9b8e-db6fce4c9e0d",
   "metadata": {},
   "outputs": [],
   "source": []
  },
  {
   "cell_type": "markdown",
   "id": "e05c0b8d-d694-4e96-90fb-e746b3f38022",
   "metadata": {},
   "source": [
    "# Get absolute time from png names"
   ]
  },
  {
   "cell_type": "code",
   "execution_count": null,
   "id": "9ac79763-36b2-470b-8818-a7354801f824",
   "metadata": {},
   "outputs": [],
   "source": []
  },
  {
   "cell_type": "code",
   "execution_count": 27,
   "id": "bf90607c-4b2e-4f5d-a6ac-63be49e3e759",
   "metadata": {},
   "outputs": [],
   "source": [
    "# file directory to access the png files (Attention: also in the function to get video from png)\n",
    "camera = 'REALSENSE'\n",
    "image_folder=join(data_folder, camera, 'PNG')\n",
    "image_files = [os.path.join(image_folder,img) for img in os.listdir(image_folder) if img.endswith(\".png\")]\n",
    "\n",
    "# get nb of frames of the rs camera\n",
    "rs_nb_frame = len(image_files)\n",
    "\n",
    "# get absolute time vector of rs from png files\n",
    "abs_time_vector = {}\n",
    "abs_time_vector[camera] = [name[-32:-4] for name in natsorted(image_files)]\n",
    "\n",
    "rs_abs_time = float(abs_time_vector['REALSENSE'][rs_frame]) #abs time vector from png names"
   ]
  },
  {
   "cell_type": "markdown",
   "id": "5bef99d4-d7dd-49d2-9e54-b1248493ba5b",
   "metadata": {},
   "source": [
    "# Writ CSV files"
   ]
  },
  {
   "cell_type": "markdown",
   "id": "e09fc700-7a89-4ba0-bc49-075b995f761d",
   "metadata": {},
   "source": [
    "## Get nb of frames"
   ]
  },
  {
   "cell_type": "code",
   "execution_count": null,
   "id": "ff7a0fa8-ebdb-43b6-a725-ac2069a5e93e",
   "metadata": {},
   "outputs": [],
   "source": []
  },
  {
   "cell_type": "code",
   "execution_count": 28,
   "id": "8840b549-56c8-4d6d-ba92-af612c6f777a",
   "metadata": {},
   "outputs": [
    {
     "name": "stdout",
     "output_type": "stream",
     "text": [
      "Total nb of frames of segments for  GOPRO 98287\n",
      "Total nb of frames of segments for  MICROSCOPE 97236\n",
      "Total nb of frames of segments for  REALSENSE {}\n",
      "Nb of frames of the output GOPRO video:    98289\n",
      "Nb of frames of the output MICROSCOPE video:    48610\n"
     ]
    }
   ],
   "source": [
    "# get the nub of frames for each segments and the total videos for the gopro and microscope\n",
    "\n",
    "data_folder = join('..', 'data', 'SFITS_28_03_22', 'MAXIME')\n",
    "nb_frames = {}\n",
    "sum_frame = {}\n",
    "\n",
    "\n",
    "for k in range(len(cameras)):    #for the different cameras\n",
    "    camera = cameras[k]\n",
    "    sum_frame[camera] = {}\n",
    "    for j in range(len(folder)):  #segments and complete\n",
    "        files = [x[2] for x in os.walk(join(data_folder, camera,folder[j]))]   #get the nam of the files of the video\n",
    "        tmp = 0\n",
    "        if camera == 'REALSENSE':\n",
    "                    nb_frames[camera] = rs_nb_frame\n",
    "        else:\n",
    "            if len(files) != 0:                                                    # exclude rs for now bc no files\n",
    "                for i in range(len(files[0])):                                   \n",
    "                    file = files[0][i]                                             # prend la valeur des differents fichiers a la suite (les videos)\n",
    "                \n",
    "                    if os.path.splitext(file)[1] == '.MP4' or os.path.splitext(file)[1] == '.mp4':   #check si bien une video\n",
    "                    #print(join(data_folder, folder[j], file))\n",
    "                        cap = cv2.VideoCapture(join(data_folder, camera, folder[j], file))\n",
    "                        nb_frames[file] = int(cap.get(cv2.CAP_PROP_FRAME_COUNT))                     # store nb of frames with file name as key\n",
    "                \n",
    "                        if folder[j] == 'segments':                                # si on est dans le fichiers des segments on calcule la somme de tous les segments\n",
    "                            tmp = tmp + nb_frames[file]\n",
    "                            sum_frame[camera] = tmp\n",
    "                \n",
    "                #print(file, '  nb of frames:   ', nb_frames[file] )\n",
    "    print('Total nb of frames of segments for ', camera, sum_frame[camera])\n",
    "print('Nb of frames of the output GOPRO video:   ' , nb_frames['output_gopro.MP4'])\n",
    "print('Nb of frames of the output MICROSCOPE video:   ', nb_frames['output_microscope.MP4'])\n",
    "    \n",
    "#print(nb_frames) #ok le nb of frame obtenu pour les segments coresp. a celui donne par Resolve\n",
    "  "
   ]
  },
  {
   "cell_type": "code",
   "execution_count": null,
   "id": "75795584-187f-417c-adfb-e419f8ae0e67",
   "metadata": {},
   "outputs": [],
   "source": []
  },
  {
   "cell_type": "code",
   "execution_count": null,
   "id": "b4d52ff2-472f-4059-9f1b-48d6f6b01b55",
   "metadata": {},
   "outputs": [],
   "source": []
  },
  {
   "cell_type": "markdown",
   "id": "5df54a6c-df41-4f7b-a621-553f97756ca1",
   "metadata": {},
   "source": [
    "## write CSV with absolute time for RS coming from PNG, and absolute time starting on the frame of the mvmt for the other, based on the abs time of RS"
   ]
  },
  {
   "cell_type": "code",
   "execution_count": 29,
   "id": "b417b71e-34b2-486f-8eb5-477a8b6e8614",
   "metadata": {},
   "outputs": [
    {
     "name": "stdout",
     "output_type": "stream",
     "text": [
      "[['output_gopro.MP4', 'output_gopro_original.mp4', 'outputGOPRO.mp4']]\n",
      "[['GP025852.MP4', 'GP015852.MP4', 'GOPR5852.MP4']]\n",
      "[['output_microscope.MP4', 'outputMICROSCOPE.mp4', 'output_microscope.mp4']]\n",
      "[['SegmentSDI10013.mp4', 'SegmentSDI10018.mp4', 'SegmentSDI10019.mp4', 'SegmentSDI10014.mp4', 'SegmentSDI10016.mp4', 'SegmentSDI10012.mp4', 'SegmentSDI10015.mp4', 'SegmentSDI10017.mp4']]\n",
      "[['my_video2.mp4']]\n",
      "1648460710274.8179\n",
      "[]\n",
      "1648460710274.8179\n"
     ]
    }
   ],
   "source": [
    "data_folder = join('..', 'data', 'SFITS_28_03_22', 'MAXIME')\n",
    "csv_names = []\n",
    "\n",
    "for k in range(len(cameras)):\n",
    "    camera = cameras[k]\n",
    "    \n",
    "    for j in range(len(folder)):\n",
    "        files = [x[2] for x in os.walk(join(data_folder, camera ,folder[j]))]\n",
    "        print(files)  \n",
    "        \n",
    "        if camera == 'REALSENSE':\n",
    "            \n",
    "            rs_csv = join(data_folder,camera, 'CSV', 'complete', 'REALSENSE_abs_time.csv')\n",
    "            f = open(rs_csv, 'w') # open the file in the write mode                        #open last one\n",
    "    \n",
    "            # create the csv writer\n",
    "            writer = csv.writer(f)\n",
    "            header = ['index','frequency','relative_time','abs_time']\n",
    "            # write a row to the csv file\n",
    "            writer.writerow(header)\n",
    "            rel_time = 0\n",
    "            #abs_time = rs_abs_time                                        #put the ref_abs time we got from RS as the first absolute time to write\n",
    "            \n",
    "            for m in range((nb_frames[camera])):                            #pour toutes les frames\n",
    "                abs_time = abs_time_vector['REALSENSE'][m]\n",
    "                        #if m >= frame[camera]:        # si on est dans les videos completes et que l-indice est plus grand que la frame avec le mvmt de ref\n",
    "                row = [m,fps[camera],rel_time,float(abs_time)]               # alors on inscrit le abs time, et a partir de la on l'incremente de la fps (en ms)\n",
    "                            #abs_time = abs_time + 1/fps[camera]*1000\n",
    "                        #else:\n",
    "                            #row = [m, fps[camera], rel_time]                      # sinon on est soit dans les segments (pas besoin absolute time), soit on est avant le mvmt de ref donc pas de abs time\n",
    "                    \n",
    "                writer.writerow(row)\n",
    "                rel_time = rel_time + 1/fps[camera]                       # on incremente le rel time par la fps corespondante \n",
    "                            \n",
    "            print(float(abs_time)-1/fps[camera]*1000)\n",
    "            f.close()        \n",
    "            \n",
    "        else:\n",
    "            for i in range(len(files[0])):\n",
    "                file = files[0][i] \n",
    "                if os.path.splitext(file)[1] == '.mp4' or os.path.splitext(file)[1] == '.MP4':\n",
    "            \n",
    "                    csv_names.append(join(data_folder,camera, 'CSV',folder[j], str(file)[0:15] + '_abs_time.csv'))  #create the csv references\n",
    "                    f = open(csv_names[-1], 'w') # open the file in the write mode                        #open last one\n",
    "    \n",
    "    \n",
    "                    # create the csv writer\n",
    "                    writer = csv.writer(f)\n",
    "                    header = ['index','frequency','relative_time','abs_time']\n",
    "    \n",
    "                    # write a row to the csv file\n",
    "                    writer.writerow(header)\n",
    "                    rel_time = 0\n",
    "                    abs_time = rs_abs_time                                        #put the ref_abs time we got from RS as the first absolute time to write\n",
    "                    #print(file)\n",
    "                    \n",
    "                    for m in range((nb_frames[file])):                            #pour toutes les frames\n",
    "                        if folder[j] == 'complete' and m >= frame[camera]:        # si on est dans les videos completes et que l-indice est plus grand que la frame avec le mvmt de ref\n",
    "                            row = [m,fps[camera],rel_time,abs_time]               # alors on inscrit le abs time, et a partir de la on l'incremente de la fps (en ms)\n",
    "                            abs_time = abs_time + 1/fps[camera]*1000\n",
    "                        else:\n",
    "                            row = [m, fps[camera], rel_time]                      # sinon on est soit dans les segments (pas besoin absolute time), soit on est avant le mvmt de ref donc pas de abs time\n",
    "                    \n",
    "                        writer.writerow(row)\n",
    "                        rel_time = rel_time + 1/fps[camera]                       # on incremente le rel time par la fps corespondante \n",
    "                            \n",
    "           \n",
    "                    f.close()"
   ]
  },
  {
   "cell_type": "code",
   "execution_count": null,
   "id": "4c5a6094-02a4-4f5c-bc27-71ce7e56a0ac",
   "metadata": {},
   "outputs": [],
   "source": []
  },
  {
   "cell_type": "code",
   "execution_count": null,
   "id": "2bb33535-f4ca-4e21-b61c-afc63841cd87",
   "metadata": {},
   "outputs": [],
   "source": []
  },
  {
   "cell_type": "markdown",
   "id": "cfe0debf-bf2d-41a8-a692-1450dbda6a71",
   "metadata": {},
   "source": [
    "# Segmentation"
   ]
  },
  {
   "cell_type": "markdown",
   "id": "827b7546-4f30-4b20-a853-45a6864c5163",
   "metadata": {},
   "source": [
    "## read csv data created to store them"
   ]
  },
  {
   "cell_type": "code",
   "execution_count": 30,
   "id": "3388fe80-f7c0-48a7-a06e-4bcd75b1714d",
   "metadata": {},
   "outputs": [
    {
     "name": "stdout",
     "output_type": "stream",
     "text": [
      "outputGOPRO.mp4_abs_time.csv\n",
      "../data/SFITS_28_03_22/MAXIME/GOPRO/CSV/complete/outputGOPRO.mp4_abs_time.csv\n",
      "outputMICROSCOP_abs_time.csv\n",
      "../data/SFITS_28_03_22/MAXIME/MICROSCOPE/CSV/complete/outputMICROSCOP_abs_time.csv\n",
      "REALSENSE_abs_time.csv\n",
      "../data/SFITS_28_03_22/MAXIME/REALSENSE/CSV/complete/REALSENSE_abs_time.csv\n"
     ]
    }
   ],
   "source": [
    "#reprend les donnes de csv , on peut en profiter pour les cut\n",
    "index = {}\n",
    "relative_time = {}\n",
    "absolute_time = {}\n",
    "\n",
    "for k in range(len(cameras)):\n",
    "    camera = cameras[k]\n",
    "    file = [x[2] for x in os.walk(join(data_folder, camera , 'CSV', 'complete'))]\n",
    "    print(file[0][0])  \n",
    "    \n",
    "    directory = join(data_folder, camera , 'CSV', 'complete', file[0][0])\n",
    "    print(directory)\n",
    "    synchro.play(directory, camera)\n",
    "    index[camera] = synchro.data[camera]['index']\n",
    "    relative_time[camera] = synchro.data[camera]['relative_time']\n",
    "    absolute_time[camera] = synchro.data[camera]['abs_time']\n",
    "    #print(absolute_time[camera])\n",
    "#print(relative_time)"
   ]
  },
  {
   "cell_type": "markdown",
   "id": "c2d59c5f-ba2c-486b-aa3b-5ef0d4190729",
   "metadata": {},
   "source": [
    "## get closest no of frame and rel time to the ref no frame (on microscope) using absolute time, and export coresp videos (read microscope frame from csv)"
   ]
  },
  {
   "cell_type": "code",
   "execution_count": 36,
   "id": "2e84d4ff-e8e9-4c74-ad1d-1c47aea6dc36",
   "metadata": {},
   "outputs": [
    {
     "name": "stdout",
     "output_type": "stream",
     "text": [
      "microscope_frames.csv\n",
      "../data/SFITS_28_03_22/MAXIME/SEGMENTATION_CSV/microscope_frames.csv\n",
      "start reference abs time:   1648459426658.4656\n",
      "stop reference abs time:   1648459457691.7231\n",
      "----------------------\n",
      "GOPRO start index:        21687 abs time:    1648459426650.7825\n",
      "GOPRO stop index:         23547 abs time:    1648459457698.496\n",
      "GOPRO start index:        21687 rel time:    361.8118118118894\n",
      "GOPRO stop index:        23547 rel time:    392.8428428429623\n",
      "----------------------\n",
      "output_gopro.MP4\n",
      "/home/anaelle/git/surgeon_recording/data/SFITS_28_03_22/MAXIME/GOPRO/SEGMENTATION/segment_nb_1.mp4\n",
      "Moviepy - Running:\n",
      ">>> \"+ \" \".join(cmd)\n",
      "Moviepy - Command successful\n",
      "MICROSCOPE start index    10629 rel time:    354.30000000006623\n",
      "MICROSCOPE stop index    11560 rel time:    385.33333333342426\n",
      "----------------------\n",
      "output_microscope.MP4\n",
      "/home/anaelle/git/surgeon_recording/data/SFITS_28_03_22/MAXIME/MICROSCOPE/SEGMENTATION/segment_nb_1.mp4\n",
      "Moviepy - Running:\n",
      ">>> \"+ \" \".join(cmd)\n",
      "Moviepy - Command successful\n",
      "REALSENSE start index:        9852 abs time:    1648459426644.9102\n",
      "REALSENSE stop index:         10680 abs time:    1648459457733.7524\n",
      "REALSENSE start index:        9852 rel time:    328.6190793862425\n",
      "REALSENSE stop index:        10680 rel time:    356.2374916610909\n",
      "----------------------\n",
      "my_video2.mp4\n",
      "/home/anaelle/git/surgeon_recording/data/SFITS_28_03_22/MAXIME/REALSENSE/SEGMENTATION/segment_nb_1.mp4\n",
      "Moviepy - Running:\n",
      ">>> \"+ \" \".join(cmd)\n",
      "Moviepy - Command successful\n"
     ]
    },
    {
     "ename": "AttributeError",
     "evalue": "'list' object has no attribute 'size'",
     "output_type": "error",
     "traceback": [
      "\u001b[0;31m---------------------------------------------------------------------------\u001b[0m",
      "\u001b[0;31mAttributeError\u001b[0m                            Traceback (most recent call last)",
      "Input \u001b[0;32mIn [36]\u001b[0m, in \u001b[0;36m<cell line: 15>\u001b[0;34m()\u001b[0m\n\u001b[1;32m    104\u001b[0m clips \u001b[38;5;241m=\u001b[39m [[clip[\u001b[38;5;124m'\u001b[39m\u001b[38;5;124mREALSENSE\u001b[39m\u001b[38;5;124m'\u001b[39m], clip[\u001b[38;5;124m'\u001b[39m\u001b[38;5;124mMICROSCOPE\u001b[39m\u001b[38;5;124m'\u001b[39m]],\n\u001b[1;32m    105\u001b[0m          [clip[\u001b[38;5;124m'\u001b[39m\u001b[38;5;124mGOPRO\u001b[39m\u001b[38;5;124m'\u001b[39m]]],\n\u001b[1;32m    107\u001b[0m \u001b[38;5;66;03m# stacking clips\u001b[39;00m\n\u001b[0;32m--> 108\u001b[0m final \u001b[38;5;241m=\u001b[39m \u001b[43mclips_array\u001b[49m\u001b[43m(\u001b[49m\u001b[43mclips\u001b[49m\u001b[43m)\u001b[49m\n\u001b[1;32m    110\u001b[0m \u001b[38;5;66;03m# showing final clip\u001b[39;00m\n\u001b[1;32m    111\u001b[0m final\u001b[38;5;241m.\u001b[39mipython_display(width \u001b[38;5;241m=\u001b[39m \u001b[38;5;241m480\u001b[39m)\n",
      "File \u001b[0;32m~/anaconda3/envs/surgeon_recording/lib/python3.8/site-packages/moviepy/video/compositing/CompositeVideoClip.py:153\u001b[0m, in \u001b[0;36mclips_array\u001b[0;34m(array, rows_widths, cols_widths, bg_color)\u001b[0m\n\u001b[1;32m    136\u001b[0m \u001b[38;5;124;03m\"\"\"\u001b[39;00m\n\u001b[1;32m    137\u001b[0m \n\u001b[1;32m    138\u001b[0m \u001b[38;5;124;03mrows_widths\u001b[39;00m\n\u001b[0;32m   (...)\u001b[0m\n\u001b[1;32m    149\u001b[0m \n\u001b[1;32m    150\u001b[0m \u001b[38;5;124;03m\"\"\"\u001b[39;00m\n\u001b[1;32m    152\u001b[0m array \u001b[38;5;241m=\u001b[39m np\u001b[38;5;241m.\u001b[39marray(array)\n\u001b[0;32m--> 153\u001b[0m sizes_array \u001b[38;5;241m=\u001b[39m np\u001b[38;5;241m.\u001b[39marray([[c\u001b[38;5;241m.\u001b[39msize \u001b[38;5;28;01mfor\u001b[39;00m c \u001b[38;5;129;01min\u001b[39;00m line] \u001b[38;5;28;01mfor\u001b[39;00m line \u001b[38;5;129;01min\u001b[39;00m array])\n\u001b[1;32m    155\u001b[0m \u001b[38;5;66;03m# find row width and col_widths automatically if not provided\u001b[39;00m\n\u001b[1;32m    156\u001b[0m \u001b[38;5;28;01mif\u001b[39;00m rows_widths \u001b[38;5;129;01mis\u001b[39;00m \u001b[38;5;28;01mNone\u001b[39;00m:\n",
      "File \u001b[0;32m~/anaconda3/envs/surgeon_recording/lib/python3.8/site-packages/moviepy/video/compositing/CompositeVideoClip.py:153\u001b[0m, in \u001b[0;36m<listcomp>\u001b[0;34m(.0)\u001b[0m\n\u001b[1;32m    136\u001b[0m \u001b[38;5;124;03m\"\"\"\u001b[39;00m\n\u001b[1;32m    137\u001b[0m \n\u001b[1;32m    138\u001b[0m \u001b[38;5;124;03mrows_widths\u001b[39;00m\n\u001b[0;32m   (...)\u001b[0m\n\u001b[1;32m    149\u001b[0m \n\u001b[1;32m    150\u001b[0m \u001b[38;5;124;03m\"\"\"\u001b[39;00m\n\u001b[1;32m    152\u001b[0m array \u001b[38;5;241m=\u001b[39m np\u001b[38;5;241m.\u001b[39marray(array)\n\u001b[0;32m--> 153\u001b[0m sizes_array \u001b[38;5;241m=\u001b[39m np\u001b[38;5;241m.\u001b[39marray([[c\u001b[38;5;241m.\u001b[39msize \u001b[38;5;28;01mfor\u001b[39;00m c \u001b[38;5;129;01min\u001b[39;00m line] \u001b[38;5;28;01mfor\u001b[39;00m line \u001b[38;5;129;01min\u001b[39;00m array])\n\u001b[1;32m    155\u001b[0m \u001b[38;5;66;03m# find row width and col_widths automatically if not provided\u001b[39;00m\n\u001b[1;32m    156\u001b[0m \u001b[38;5;28;01mif\u001b[39;00m rows_widths \u001b[38;5;129;01mis\u001b[39;00m \u001b[38;5;28;01mNone\u001b[39;00m:\n",
      "File \u001b[0;32m~/anaconda3/envs/surgeon_recording/lib/python3.8/site-packages/moviepy/video/compositing/CompositeVideoClip.py:153\u001b[0m, in \u001b[0;36m<listcomp>\u001b[0;34m(.0)\u001b[0m\n\u001b[1;32m    136\u001b[0m \u001b[38;5;124;03m\"\"\"\u001b[39;00m\n\u001b[1;32m    137\u001b[0m \n\u001b[1;32m    138\u001b[0m \u001b[38;5;124;03mrows_widths\u001b[39;00m\n\u001b[0;32m   (...)\u001b[0m\n\u001b[1;32m    149\u001b[0m \n\u001b[1;32m    150\u001b[0m \u001b[38;5;124;03m\"\"\"\u001b[39;00m\n\u001b[1;32m    152\u001b[0m array \u001b[38;5;241m=\u001b[39m np\u001b[38;5;241m.\u001b[39marray(array)\n\u001b[0;32m--> 153\u001b[0m sizes_array \u001b[38;5;241m=\u001b[39m np\u001b[38;5;241m.\u001b[39marray([[\u001b[43mc\u001b[49m\u001b[38;5;241;43m.\u001b[39;49m\u001b[43msize\u001b[49m \u001b[38;5;28;01mfor\u001b[39;00m c \u001b[38;5;129;01min\u001b[39;00m line] \u001b[38;5;28;01mfor\u001b[39;00m line \u001b[38;5;129;01min\u001b[39;00m array])\n\u001b[1;32m    155\u001b[0m \u001b[38;5;66;03m# find row width and col_widths automatically if not provided\u001b[39;00m\n\u001b[1;32m    156\u001b[0m \u001b[38;5;28;01mif\u001b[39;00m rows_widths \u001b[38;5;129;01mis\u001b[39;00m \u001b[38;5;28;01mNone\u001b[39;00m:\n",
      "\u001b[0;31mAttributeError\u001b[0m: 'list' object has no attribute 'size'"
     ]
    }
   ],
   "source": [
    "camera_ref = \"MICROSCOPE\"\n",
    "\n",
    "#get ref fram of microscope directly from csv file\n",
    "file = [x[2] for x in os.walk(join(data_folder, 'SEGMENTATION_CSV'))]\n",
    "print(file[0][0])  \n",
    "    \n",
    "directory = join(data_folder ,'SEGMENTATION_CSV', file[0][0])\n",
    "print(directory)\n",
    "DATA = pd.read_csv(directory)\n",
    "start_ref_frame_vector = DATA['Start_frame']\n",
    "stop_ref_frame_vector = DATA['Stop_frame']\n",
    "index_segment_vector = DATA['nb']\n",
    "#print(start_ref_frame)\n",
    "    \n",
    "for o in range(len(start_ref_frame_vector)):\n",
    "    start_ref_frame = start_ref_frame_vector[o]\n",
    "    stop_ref_frame = stop_ref_frame_vector[o]\n",
    "\n",
    "    #camera = camera_ref\n",
    "    start_ref_abs_time = absolute_time[camera_ref][start_ref_frame]\n",
    "    stop_ref_abs_time = absolute_time[camera_ref][stop_ref_frame]\n",
    "    #\n",
    "    pos_start = {}\n",
    "    pos_stop = {}\n",
    "    rel_time_start = {}\n",
    "    rel_time_stop = {}\n",
    "    abs_time_start = {}\n",
    "    abs_time_stop = {}\n",
    "    clip = {}\n",
    "    #for camera in cameras:\n",
    "    print(\"start reference abs time:  \", start_ref_abs_time)  \n",
    "    print(\"stop reference abs time:  \", stop_ref_abs_time) \n",
    "    print(\"----------------------\")\n",
    "    for camera in cameras:\n",
    "        pos_start[camera] = []\n",
    "        pos_stop[camera] = []\n",
    "        rel_time_start[camera] = {}\n",
    "        rel_time_stop[camera] = {}\n",
    "        abs_time_start[camera] = {}\n",
    "        abs_time_stop[camera] = {}\n",
    "        if not camera in camera_ref:\n",
    "            #print(absolute_time[camera])\n",
    "            [pos_start[camera], abs_time_start[camera]]= synchro.take_closest(absolute_time[camera], start_ref_abs_time, frame[camera])\n",
    "            print(camera, \"start index:       \", pos_start[camera], \"abs time:   \", abs_time_start[camera])\n",
    "            [pos_stop[camera], abs_time_stop[camera]] = synchro.take_closest(absolute_time[camera], stop_ref_abs_time, frame[camera])\n",
    "            print(camera, \"stop index:        \", pos_stop[camera], \"abs time:   \", abs_time_stop[camera])\n",
    "            rel_time_start[camera] = relative_time[camera][pos_start[camera]]\n",
    "            rel_time_stop[camera] = relative_time[camera][pos_stop[camera]]\n",
    "            print(camera, \"start index:       \", pos_start[camera], \"rel time:   \", rel_time_start[camera])\n",
    "            print(camera, \"stop index:       \", pos_stop[camera], \"rel time:   \", rel_time_stop[camera])\n",
    "            print(\"----------------------\")\n",
    "        else:\n",
    "            rel_time_start[camera] = relative_time[camera][start_ref_frame]\n",
    "            rel_time_stop[camera]  = relative_time[camera][stop_ref_frame]\n",
    "            #abs_time_start[camera] = absolute_time[camera][start_ref_frame]\n",
    "            abs_time_start[camera] = start_ref_abs_time\n",
    "            #abs_time_stop[camera]  = absolute_time[camera][stop_ref_frame]\n",
    "            abs_time_stop[camera] = stop_ref_abs_time\n",
    "            print(camera, \"start index   \", start_ref_frame, \"rel time:   \", rel_time_start[camera])\n",
    "            print(camera, \"stop index   \", stop_ref_frame, \"rel time:   \", rel_time_stop[camera])\n",
    "            print(\"----------------------\")\n",
    "            pos_start[camera] = start_ref_frame\n",
    "            pos_stop[camera] = stop_ref_frame\n",
    "            \n",
    "        #export video from t1 to t2 in seconds\n",
    "\n",
    "\n",
    "        path_to_data_folder = '/home/anaelle/git/surgeon_recording/data'\n",
    "\n",
    "        data_folder = join('..', 'data', recording_session , subject)\n",
    "\n",
    "     \n",
    "        #for camera in cameras:\n",
    "        t1 = rel_time_start[camera]\n",
    "        t2 = rel_time_stop[camera]\n",
    "    \n",
    "        #name with abs time ref\n",
    "        #r1 = abs_time_start[camera]\n",
    "        #r2 = abs_time_stop[camera]\n",
    "        #ref = str(r1)[1:7] + \"_to_\" + str(r2)[1:7] + \".mp4\"\n",
    "    \n",
    "        #name with no of frame\n",
    "        r1 = pos_start[camera]\n",
    "        r2 = pos_stop[camera]\n",
    "        ref = str(r1) + \"_to_\" + str(r2) + \".mp4\"\n",
    "\n",
    "        #name with rel time\n",
    "        #ref = str(t1)[1:7] + \"_to_\" + str(t2)[1:7] + \".mp4\"\n",
    "    \n",
    "        #name with rsegment nb\n",
    "        r1 = index_segment_vector[o]\n",
    "        ref = \"segment_nb_\" + str(r1) + \".mp4\"\n",
    "        \n",
    "        file = [x[2] for x in os.walk(join(data_folder, camera , 'complete'))]\n",
    "        print(file[0][0])  \n",
    "        target_name = join(path_to_data_folder, recording_session, subject, camera , 'SEGMENTATION', ref)\n",
    "        file_name = join(data_folder, camera, 'complete', file[0][0])\n",
    "        print(target_name)\n",
    "        ffmpeg_extract_subclip(file_name, t1, t2, targetname=target_name)\n",
    "        \n",
    "        clip[camera] = VideoFileClip(target_name)\n",
    "        \n",
    "    # clips list\n",
    "    clips = [[clip['REALSENSE'], clip['MICROSCOPE']],\n",
    "             [clip['GOPRO']]],\n",
    " \n",
    "    # stacking clips\n",
    "    final = clips_array(clips)\n",
    " \n",
    "    # showing final clip\n",
    "    final.ipython_display(width = 480)\n",
    "    ref2 = \"segment_nb_\" + str(r1) + \"_all_views.mp4\"\n",
    "    output_name = join(path_to_data_folder, recording_session, subject, ref2)\n",
    "    final.write_videofile(output_name, fps=30, remove_temp=True, audio = False)\n",
    "    \n",
    "    #export videos parts according to microscope frames"
   ]
  },
  {
   "cell_type": "code",
   "execution_count": 35,
   "id": "e127907c-63ef-4944-8ae8-4a26ceebd814",
   "metadata": {},
   "outputs": [
    {
     "data": {
      "text/plain": [
       "([[<moviepy.video.io.VideoFileClip.VideoFileClip at 0x7f6db9856b80>,\n",
       "   <moviepy.video.io.VideoFileClip.VideoFileClip at 0x7f6db9856250>],\n",
       "  [<moviepy.video.io.VideoFileClip.VideoFileClip at 0x7f6dd00b7a30>]],)"
      ]
     },
     "execution_count": 35,
     "metadata": {},
     "output_type": "execute_result"
    }
   ],
   "source": [
    "clips"
   ]
  },
  {
   "cell_type": "code",
   "execution_count": null,
   "id": "ea101cd2-1cdf-4caa-ab93-6e8362251979",
   "metadata": {},
   "outputs": [],
   "source": []
  },
  {
   "cell_type": "code",
   "execution_count": null,
   "id": "53eda739-506d-4b22-92d4-777733d66414",
   "metadata": {},
   "outputs": [],
   "source": []
  },
  {
   "cell_type": "code",
   "execution_count": null,
   "id": "342168bf-e57e-45e1-96aa-500f67e4ab76",
   "metadata": {},
   "outputs": [],
   "source": []
  },
  {
   "cell_type": "code",
   "execution_count": null,
   "id": "511604ee-54a3-4c68-87ac-847967824e2a",
   "metadata": {},
   "outputs": [],
   "source": []
  }
 ],
 "metadata": {
  "kernelspec": {
   "display_name": "Python 3 (ipykernel)",
   "language": "python",
   "name": "python3"
  },
  "language_info": {
   "codemirror_mode": {
    "name": "ipython",
    "version": 3
   },
   "file_extension": ".py",
   "mimetype": "text/x-python",
   "name": "python",
   "nbconvert_exporter": "python",
   "pygments_lexer": "ipython3",
   "version": "3.8.12"
  }
 },
 "nbformat": 4,
 "nbformat_minor": 5
}
