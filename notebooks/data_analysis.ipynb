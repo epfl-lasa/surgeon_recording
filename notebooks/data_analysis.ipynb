{
 "cells": [
  {
   "cell_type": "code",
   "execution_count": null,
   "metadata": {},
   "outputs": [],
   "source": [
    "from surgeon_recording.reader import Reader\n",
    "from glob import glob\n",
    "from os.path import join\n",
    "import os\n",
    "import numpy as np\n",
    "from scipy import stats\n",
    "import plotly.express as px\n",
    "import plotly.graph_objects as go\n",
    "from copy import deepcopy\n",
    "import pandas as pd"
   ]
  },
  {
   "cell_type": "code",
   "execution_count": null,
   "metadata": {},
   "outputs": [],
   "source": [
    "reader = Reader()"
   ]
  },
  {
   "cell_type": "code",
   "execution_count": null,
   "metadata": {},
   "outputs": [],
   "source": [
    "data_folder = join('..', 'data')\n",
    "dir_list = ['15', '16', '17', '18', '19', '20', '21', '23']\n",
    "experiment = 'chicken'"
   ]
  },
  {
   "cell_type": "code",
   "execution_count": null,
   "metadata": {},
   "outputs": [],
   "source": [
    "blacklist = []\n",
    "#blacklist = ['1/run2', '3/run3', '3/run5']\n",
    "#blacklist = ['7/run2']\n",
    "#blacklist = [join(data_folder, x) for x in blacklist]"
   ]
  },
  {
   "cell_type": "code",
   "execution_count": null,
   "metadata": {},
   "outputs": [],
   "source": [
    "specialty_keys = [\"neuro\", \"plastic\"]\n",
    "expertise_keys = [\"novice\", \"expert\"]"
   ]
  },
  {
   "cell_type": "code",
   "execution_count": null,
   "metadata": {},
   "outputs": [],
   "source": [
    "knot_time = {}\n",
    "tps_forces = {}\n",
    "emg_data = {}\n",
    "tps_data_type = 'raw'\n",
    "\n",
    "for d in dir_list:\n",
    "    knots_dir = [x[0] for x in os.walk(join(data_folder, d, experiment))][1:]\n",
    "    knots_dir.sort()\n",
    "    knot_time[d] = []\n",
    "    tps_forces[d] = {}\n",
    "    emg_data[d] = {}\n",
    "    \n",
    "    for l in ['right', 'left']:\n",
    "        for f in ['index', 'middle', 'thumb']:\n",
    "            key = l + '_' + f + '_' + tps_data_type\n",
    "            tps_forces[d][key] = []\n",
    "            \n",
    "    for l in ['emg' + str(x) for x in range(8)]:\n",
    "         emg_data[d][l] = []\n",
    "        \n",
    "    for kd in knots_dir:\n",
    "        if not kd in blacklist:\n",
    "            print(kd)\n",
    "            reader.play(kd)\n",
    "            time = reader.data['camera']['relative_time'].iloc[-1]\n",
    "            knot_time[d].append(time)\n",
    "            for l in ['right', 'left']:\n",
    "                for f in ['index', 'middle', 'thumb']:\n",
    "                    key = l + '_' + f + '_' + tps_data_type\n",
    "                    tps_forces[d][key].append(reader.data['tps'][key].to_numpy())\n",
    "            for l in ['emg' + str(x) for x in range(8)]:\n",
    "                emg_data[d][l].append(np.absolute(reader.data['emg'][l].to_numpy()))"
   ]
  },
  {
   "cell_type": "code",
   "execution_count": null,
   "metadata": {},
   "outputs": [],
   "source": [
    "subject_data = pd.read_csv(join(data_folder,\"subject_data.csv\"))"
   ]
  },
  {
   "cell_type": "code",
   "execution_count": null,
   "metadata": {},
   "outputs": [],
   "source": [
    "subject_data"
   ]
  },
  {
   "cell_type": "markdown",
   "metadata": {},
   "source": [
    "# Execution time"
   ]
  },
  {
   "cell_type": "code",
   "execution_count": null,
   "metadata": {},
   "outputs": [],
   "source": [
    "for key, value in knot_time.items():\n",
    "    print(key, np.mean(value), np.std(value))"
   ]
  },
  {
   "cell_type": "markdown",
   "metadata": {},
   "source": [
    "## Differences between subjects"
   ]
  },
  {
   "cell_type": "code",
   "execution_count": null,
   "metadata": {},
   "outputs": [],
   "source": [
    "idx = 0\n",
    "for subject_id1 in dir_list:\n",
    "    tmp =  dir_list[idx + 1:]\n",
    "    for subject_id2 in tmp:\n",
    "        print('diff between ' + subject_id1 + ' and ' + subject_id2)\n",
    "        print(stats.ttest_ind(knot_time[subject_id1], knot_time[subject_id2]))\n",
    "        print('--------------')\n",
    "    idx = idx + 1"
   ]
  },
  {
   "cell_type": "markdown",
   "metadata": {},
   "source": [
    "# TPS Data"
   ]
  },
  {
   "cell_type": "code",
   "execution_count": null,
   "metadata": {},
   "outputs": [],
   "source": [
    "average_tps_per_run = {}\n",
    "for key, value in tps_forces.items():\n",
    "    average_tps_per_run[key] = {}\n",
    "    for finger, values in value.items():\n",
    "        average_tps_per_run[key][finger] = []\n",
    "        for run in values:\n",
    "            average_tps_per_run[key][finger].append(np.mean(run))"
   ]
  },
  {
   "cell_type": "code",
   "execution_count": null,
   "metadata": {},
   "outputs": [],
   "source": [
    "average_tps = {}\n",
    "for subject, fingers in average_tps_per_run.items():\n",
    "    average_tps[subject] = {}\n",
    "    for finger, values in fingers.items():\n",
    "        average_tps[subject][finger] = {}\n",
    "        average_tps[subject][finger]['mean'] = np.mean(values)\n",
    "        average_tps[subject][finger]['std'] = np.std(values)"
   ]
  },
  {
   "cell_type": "code",
   "execution_count": null,
   "metadata": {},
   "outputs": [],
   "source": [
    "fig = go.Figure()\n",
    "for subject, fingers in average_tps.items():\n",
    "    finger_names = list(fingers.keys())\n",
    "    finger_mean = []\n",
    "    finger_std = []\n",
    "    for finger in finger_names:\n",
    "        finger_mean.append(fingers[finger]['mean'])\n",
    "        finger_std.append(fingers[finger]['std'])\n",
    "    fig.add_trace(go.Bar(\n",
    "        name=subject,\n",
    "        x=finger_names,\n",
    "        y=finger_mean,\n",
    "        error_y=dict(type='data', array=finger_std)\n",
    "    ))\n",
    "fig.update_layout(barmode='group')"
   ]
  },
  {
   "cell_type": "markdown",
   "metadata": {},
   "source": [
    "### group per specialty"
   ]
  },
  {
   "cell_type": "code",
   "execution_count": null,
   "metadata": {},
   "outputs": [],
   "source": [
    "specialty_tps = {}\n",
    "for s in specialty_keys:\n",
    "    specialty_tps[s] = {}\n",
    "\n",
    "for l in ['right', 'left']:\n",
    "    for f in ['index', 'middle', 'thumb']:\n",
    "        key = l + '_' + f\n",
    "        for s in specialty_keys:\n",
    "            specialty_tps[s][key] = []\n",
    "            \n",
    "for key, value in tps_forces.items():\n",
    "    specialty = subject_data.loc[subject_data[\"subject\"] == int(key)][\"specialty\"].values[0]\n",
    "    for finger, values in value.items(): \n",
    "        f = finger.replace(\"_raw\", \"\")\n",
    "        for run in values:\n",
    "            specialty_tps[specialty][f] = specialty_tps[specialty][f] + run.tolist()"
   ]
  },
  {
   "cell_type": "code",
   "execution_count": null,
   "metadata": {},
   "outputs": [],
   "source": [
    "average_specialty_tps = {}\n",
    "for s in specialty_keys:\n",
    "    average_specialty_tps[s] = {}\n",
    "\n",
    "for l in ['right', 'left']:\n",
    "    for f in ['index', 'middle', 'thumb']:\n",
    "        key = l + '_' + f\n",
    "        for s in specialty_keys:\n",
    "            average_specialty_tps[s][key] = {}\n",
    "        \n",
    "for specialty, data in specialty_tps.items():\n",
    "    for finger, values in data.items():\n",
    "        average_specialty_tps[specialty][finger][\"mean\"] = np.mean(values)\n",
    "        average_specialty_tps[specialty][finger][\"std\"] = np.std(values)"
   ]
  },
  {
   "cell_type": "code",
   "execution_count": null,
   "metadata": {},
   "outputs": [],
   "source": [
    "fig = go.Figure()\n",
    "for specialty, fingers in average_specialty_tps.items():\n",
    "    finger_names = list(fingers.keys())\n",
    "    finger_mean = []\n",
    "    finger_std = []\n",
    "    for finger in finger_names:\n",
    "        finger_mean.append(fingers[finger]['mean'])\n",
    "        finger_std.append(fingers[finger]['std'])\n",
    "    fig.add_trace(go.Bar(\n",
    "        name=specialty,\n",
    "        x=finger_names,\n",
    "        y=finger_mean,\n",
    "        error_y=dict(type='data', array=finger_std)\n",
    "    ))\n",
    "fig.update_layout(barmode='group')\n",
    "fig.write_image(join(data_folder, \"figures\", \"tps_per_speciatly.svg\"))"
   ]
  },
  {
   "cell_type": "markdown",
   "metadata": {},
   "source": [
    "### heatmap per specialty"
   ]
  },
  {
   "cell_type": "code",
   "execution_count": null,
   "metadata": {},
   "outputs": [],
   "source": [
    "for specialty in specialty_keys:\n",
    "    x_values = []\n",
    "    y_values = []\n",
    "    y_min = 8000\n",
    "    y_max = 16000\n",
    "\n",
    "    fig = go.Figure()\n",
    "    for i, finger in enumerate(average_specialty_tps[specialty].keys()):\n",
    "        x_values.append(i)\n",
    "        y_values.append(average_specialty_tps[specialty][finger][\"mean\"])\n",
    "    y_values = (np.array(y_values) - 8000) / 8000\n",
    "\n",
    "    fig.add_trace(go.Scatter(\n",
    "        x=x_values,\n",
    "        y=y_values,\n",
    "        marker=dict(\n",
    "            size=16,\n",
    "            cmax=1,\n",
    "            cmin=0,\n",
    "            color=y_values,\n",
    "            colorbar=dict(\n",
    "                title=\"Colorbar\"\n",
    "            ),\n",
    "            colorscale=\"rdylgn_r\"\n",
    "        ),\n",
    "        mode=\"markers\"))\n",
    "\n",
    "    fig.write_image(join(data_folder, \"figures\", \"colorscale_tps_\" + specialty + \".svg\"))"
   ]
  },
  {
   "cell_type": "markdown",
   "metadata": {},
   "source": [
    "### group per expertise"
   ]
  },
  {
   "cell_type": "code",
   "execution_count": null,
   "metadata": {},
   "outputs": [],
   "source": [
    "expertise_tps = {}\n",
    "for e in expertise_keys:\n",
    "    expertise_tps[e] = {}\n",
    "\n",
    "for l in ['right', 'left']:\n",
    "    for f in ['index', 'middle', 'thumb']:\n",
    "        key = l + '_' + f\n",
    "        for e in expertise_keys:\n",
    "            expertise_tps[e][key] = []\n",
    "            \n",
    "for key, value in tps_forces.items():\n",
    "    expertise = subject_data.loc[subject_data[\"subject\"] == int(key)][\"level\"].values[0]\n",
    "    for finger, values in value.items(): \n",
    "        f = finger.replace(\"_raw\", \"\")\n",
    "        for run in values:\n",
    "            expertise_tps[expertise][f] = expertise_tps[expertise][f] + run.tolist()"
   ]
  },
  {
   "cell_type": "code",
   "execution_count": null,
   "metadata": {},
   "outputs": [],
   "source": [
    "average_expertise_tps = {}\n",
    "for e in expertise_keys:\n",
    "    average_expertise_tps[e] = {}\n",
    "\n",
    "for l in ['right', 'left']:\n",
    "    for f in ['index', 'middle', 'thumb']:\n",
    "        key = l + '_' + f\n",
    "        for e in expertise_keys:\n",
    "            average_expertise_tps[e][key] = {}\n",
    "        \n",
    "for expertise, data in expertise_tps.items():\n",
    "    for finger, values in data.items():\n",
    "        average_expertise_tps[expertise][finger][\"mean\"] = np.mean(values)\n",
    "        average_expertise_tps[expertise][finger][\"std\"] = np.std(values)"
   ]
  },
  {
   "cell_type": "code",
   "execution_count": null,
   "metadata": {},
   "outputs": [],
   "source": [
    "fig = go.Figure()\n",
    "for expertise, fingers in average_expertise_tps.items():\n",
    "    finger_names = list(fingers.keys())\n",
    "    finger_mean = []\n",
    "    finger_std = []\n",
    "    for finger in finger_names:\n",
    "        finger_mean.append(fingers[finger]['mean'])\n",
    "        finger_std.append(fingers[finger]['std'])\n",
    "    fig.add_trace(go.Bar(\n",
    "        name=expertise,\n",
    "        x=finger_names,\n",
    "        y=finger_mean,\n",
    "        error_y=dict(type='data', array=finger_std)\n",
    "    ))\n",
    "fig.update_layout(barmode='group')\n",
    "fig.write_image(join(data_folder, \"figures\", \"tps_per_expertise.svg\"))"
   ]
  },
  {
   "cell_type": "markdown",
   "metadata": {},
   "source": [
    "### heatmap per expertise"
   ]
  },
  {
   "cell_type": "code",
   "execution_count": null,
   "metadata": {},
   "outputs": [],
   "source": [
    "for expertise in expertise_keys:\n",
    "    x_values = []\n",
    "    y_values = []\n",
    "    y_min = 8000\n",
    "    y_max = 16000\n",
    "\n",
    "    fig = go.Figure()\n",
    "    for i, finger in enumerate(average_expertise_tps[expertise].keys()):\n",
    "        x_values.append(i)\n",
    "        y_values.append(average_expertise_tps[expertise][finger][\"mean\"])\n",
    "    y_values = (np.array(y_values) - 8000) / 8000\n",
    "\n",
    "    fig.add_trace(go.Scatter(\n",
    "        x=x_values,\n",
    "        y=y_values,\n",
    "        marker=dict(\n",
    "            size=16,\n",
    "            cmax=1,\n",
    "            cmin=0,\n",
    "            color=y_values,\n",
    "            colorbar=dict(\n",
    "                title=\"Colorbar\"\n",
    "            ),\n",
    "            colorscale=\"rdylgn_r\"\n",
    "        ),\n",
    "        mode=\"markers\"))\n",
    "\n",
    "    fig.write_image(join(data_folder, \"figures\", \"colorscale_tps_\" + expertise + \".svg\"))"
   ]
  },
  {
   "cell_type": "markdown",
   "metadata": {},
   "source": [
    "### group per specialty & expertise"
   ]
  },
  {
   "cell_type": "code",
   "execution_count": null,
   "metadata": {},
   "outputs": [],
   "source": [
    "specialty_expertise_tps = {}\n",
    "for s in specialty_keys:\n",
    "    specialty_expertise_tps[s] = {}\n",
    "    for expertise in expertise_keys:\n",
    "        specialty_expertise_tps[s][expertise] = {}\n",
    "\n",
    "for l in ['right', 'left']:\n",
    "    for f in ['index', 'middle', 'thumb']:\n",
    "        key = l + '_' + f\n",
    "        for s in specialty_keys:\n",
    "            for expertise in expertise_keys:\n",
    "                specialty_expertise_tps[s][expertise][key] = []\n",
    "            \n",
    "for key, value in tps_forces.items():\n",
    "    specialty = subject_data.loc[subject_data[\"subject\"] == int(key)][\"specialty\"].values[0]\n",
    "    expertise = subject_data.loc[subject_data[\"subject\"] == int(key)][\"level\"].values[0]\n",
    "    for finger, values in value.items(): \n",
    "        f = finger.replace(\"_raw\", \"\")\n",
    "        for run in values:\n",
    "            specialty_expertise_tps[specialty][expertise][f] = specialty_expertise_tps[specialty][expertise][f] + run.tolist()"
   ]
  },
  {
   "cell_type": "code",
   "execution_count": null,
   "metadata": {},
   "outputs": [],
   "source": [
    "average_specialty_expertise_tps = {}\n",
    "for s in specialty_keys:\n",
    "    average_specialty_expertise_tps[s] = {}\n",
    "    for expertise in expertise_keys:\n",
    "        average_specialty_expertise_tps[s][expertise] = {}\n",
    "        average_specialty_expertise_tps[s][expertise] = {}\n",
    "\n",
    "for l in ['right', 'left']:\n",
    "    for f in ['index', 'middle', 'thumb']:\n",
    "        key = l + '_' + f\n",
    "        for s in specialty_keys:\n",
    "            for expertise in expertise_keys:\n",
    "                average_specialty_expertise_tps[s][expertise][key] = {}\n",
    "        \n",
    "for specialty, data in specialty_expertise_tps.items():\n",
    "    for expertise, fingers in data.items():\n",
    "        for finger, values in fingers.items():\n",
    "            average_specialty_expertise_tps[specialty][expertise][finger][\"mean\"] = np.mean(values)\n",
    "            average_specialty_expertise_tps[specialty][expertise][finger][\"std\"] = np.std(values)"
   ]
  },
  {
   "cell_type": "code",
   "execution_count": null,
   "metadata": {},
   "outputs": [],
   "source": [
    "for specialty in specialty_keys:\n",
    "    fig = go.Figure()\n",
    "    for expertise, fingers in average_specialty_expertise_tps[specialty].items():\n",
    "        finger_names = list(fingers.keys())\n",
    "        finger_mean = []\n",
    "        finger_std = []\n",
    "        for finger in finger_names:\n",
    "            finger_mean.append(fingers[finger]['mean'])\n",
    "            finger_std.append(fingers[finger]['std'])\n",
    "        fig.add_trace(go.Bar(\n",
    "            name=expertise,\n",
    "            x=finger_names,\n",
    "            y=finger_mean,\n",
    "            error_y=dict(type='data', array=finger_std)\n",
    "        ))\n",
    "    fig.update_layout(barmode='group')\n",
    "    fig.write_image(join(data_folder, \"figures\", \"tps_per_expertise_\" + specialty + \".svg\"))"
   ]
  },
  {
   "cell_type": "markdown",
   "metadata": {},
   "source": [
    "### two way ANOVA"
   ]
  },
  {
   "cell_type": "code",
   "execution_count": 1,
   "metadata": {},
   "outputs": [],
   "source": [
    "import statsmodels.api as sm\n",
    "from statsmodels.formula.api import ols\n",
    "import pandas as pd"
   ]
  },
  {
   "cell_type": "code",
   "execution_count": null,
   "metadata": {},
   "outputs": [],
   "source": [
    "# create the data separating expertise and specialty for each fingers\n",
    "finger_data = {}\n",
    "for l in ['right', 'left']:\n",
    "    for f in ['index', 'middle', 'thumb']:\n",
    "        key = l + '_' + f + '_raw'\n",
    "        finger_data[key] = []\n",
    "    \n",
    "for subject, data in average_tps.items():\n",
    "    specialty = subject_data.loc[subject_data[\"subject\"] == int(subject)][\"specialty\"].values[0]\n",
    "    expertise = subject_data.loc[subject_data[\"subject\"] == int(subject)][\"level\"].values[0]\n",
    "    for finger, values in data.items():\n",
    "        row = [specialty, expertise, values[\"mean\"]]\n",
    "        finger_data[finger].append(row)\n",
    "                \n",
    "finger_dataframes = {}\n",
    "for finger, values in finger_data.items():\n",
    "    finger_dataframes[finger] = pd.DataFrame(values, columns=[\"specialty\", \"expertise\", \"value\"])"
   ]
  },
  {
   "cell_type": "code",
   "execution_count": null,
   "metadata": {},
   "outputs": [],
   "source": [
    "finger_anova_results = {}\n",
    "for finger, dataframe in finger_dataframes.items():\n",
    "    #perform two-way ANOVA\n",
    "    model = ols('value ~ C(specialty) + C(expertise) + C(specialty):C(expertise)', data=dataframe).fit()\n",
    "    finger_anova_results[finger] = sm.stats.anova_lm(model, typ=2)"
   ]
  },
  {
   "cell_type": "code",
   "execution_count": null,
   "metadata": {},
   "outputs": [],
   "source": [
    "finger_anova_results[\"right_index_raw\"]"
   ]
  },
  {
   "cell_type": "code",
   "execution_count": null,
   "metadata": {},
   "outputs": [],
   "source": [
    "finger_anova_results[\"left_index_raw\"]"
   ]
  },
  {
   "cell_type": "code",
   "execution_count": null,
   "metadata": {},
   "outputs": [],
   "source": [
    "finger_anova_results[\"right_middle_raw\"]"
   ]
  },
  {
   "cell_type": "code",
   "execution_count": null,
   "metadata": {},
   "outputs": [],
   "source": [
    "finger_anova_results[\"left_middle_raw\"]"
   ]
  },
  {
   "cell_type": "code",
   "execution_count": null,
   "metadata": {},
   "outputs": [],
   "source": [
    "finger_anova_results[\"right_thumb_raw\"]"
   ]
  },
  {
   "cell_type": "code",
   "execution_count": null,
   "metadata": {},
   "outputs": [],
   "source": [
    "finger_anova_results[\"left_thumb_raw\"]"
   ]
  },
  {
   "cell_type": "markdown",
   "metadata": {},
   "source": [
    "### t-test"
   ]
  },
  {
   "cell_type": "code",
   "execution_count": null,
   "metadata": {},
   "outputs": [],
   "source": [
    "expertise_finger_data = {}\n",
    "specialty_finger_data = {}\n",
    "\n",
    "for l in ['right', 'left']:\n",
    "    for f in ['index', 'middle', 'thumb']:\n",
    "        key = l + '_' + f + '_raw'\n",
    "        expertise_finger_data[key] = {}\n",
    "        specialty_finger_data[key] = {}\n",
    "        for specialty in specialty_keys:\n",
    "            specialty_finger_data[key][specialty] = []\n",
    "        for expertise in expertise_keys:\n",
    "            expertise_finger_data[key][expertise] = []\n",
    "        \n",
    "for subject, data in average_tps_per_run.items():\n",
    "    specialty = subject_data.loc[subject_data[\"subject\"] == int(subject)][\"specialty\"].values[0]\n",
    "    expertise = subject_data.loc[subject_data[\"subject\"] == int(subject)][\"level\"].values[0]\n",
    "    for finger, values in data.items():\n",
    "        expertise_finger_data[finger][expertise] = expertise_finger_data[finger][expertise] + values\n",
    "        specialty_finger_data[finger][specialty] = specialty_finger_data[finger][specialty] + values"
   ]
  },
  {
   "cell_type": "code",
   "execution_count": null,
   "metadata": {},
   "outputs": [],
   "source": [
    "for f, data in expertise_finger_data.items():\n",
    "    print('####### ' + f + ' ########')\n",
    "    keys = list(data.keys())\n",
    "    for i in range(len(keys)):\n",
    "        for j in range(i + 1, len(keys)):\n",
    "            print('diff between ' + keys[i] + ' and ' + keys[j])\n",
    "            print(stats.ttest_ind(data[keys[i]], data[keys[j]]))\n",
    "            print('--------------')"
   ]
  },
  {
   "cell_type": "code",
   "execution_count": null,
   "metadata": {},
   "outputs": [],
   "source": [
    "for f, data in specialty_finger_data.items():\n",
    "    print('####### ' + f + ' ########')\n",
    "    keys = list(data.keys())\n",
    "    for i in range(len(keys)):\n",
    "        for j in range(i + 1, len(keys)):\n",
    "            print('diff between ' + keys[i] + ' and ' + keys[j])\n",
    "            print(stats.ttest_ind(data[keys[i]], data[keys[j]]))\n",
    "            print('--------------')"
   ]
  },
  {
   "cell_type": "markdown",
   "metadata": {},
   "source": [
    "# EMG analysis"
   ]
  },
  {
   "cell_type": "code",
   "execution_count": null,
   "metadata": {},
   "outputs": [],
   "source": [
    "average_emg_per_run = {}\n",
    "for key, value in emg_data.items():\n",
    "    average_emg_per_run[key] = {}\n",
    "    for channel, values in value.items():\n",
    "        average_emg_per_run[key][channel] = []\n",
    "        for run in values:\n",
    "            mean_value = np.mean(run)\n",
    "            if mean_value < 1000:\n",
    "                average_emg_per_run[key][channel].append(np.mean(run))"
   ]
  },
  {
   "cell_type": "code",
   "execution_count": null,
   "metadata": {},
   "outputs": [],
   "source": [
    "average_emg = {}\n",
    "for subject, channels in average_emg_per_run.items():\n",
    "    average_emg[subject] = {}\n",
    "    for channel, values in channels.items():\n",
    "        average_emg[subject][channel] = {}\n",
    "        average_emg[subject][channel]['mean'] = np.mean(values)\n",
    "        average_emg[subject][channel]['std'] = np.std(values)"
   ]
  },
  {
   "cell_type": "code",
   "execution_count": null,
   "metadata": {},
   "outputs": [],
   "source": [
    "fig = go.Figure()\n",
    "for subject, channels in average_emg.items():\n",
    "    channel_names = list(channels.keys())\n",
    "    channel_mean = []\n",
    "    channel_std = []\n",
    "    for channel in channel_names:\n",
    "        channel_mean.append(channels[channel]['mean'])\n",
    "        channel_std.append(channels[channel]['std'])\n",
    "    fig.add_trace(go.Bar(\n",
    "        name=subject,\n",
    "        x=channel_names,\n",
    "        y=channel_mean,\n",
    "        error_y=dict(type='data', array=channel_std)\n",
    "    ))\n",
    "fig.update_layout(barmode='group')"
   ]
  },
  {
   "cell_type": "markdown",
   "metadata": {},
   "source": [
    "### group per specialty"
   ]
  },
  {
   "cell_type": "code",
   "execution_count": null,
   "metadata": {},
   "outputs": [],
   "source": [
    "specialty_emg = {}\n",
    "for s in specialty_keys:\n",
    "    specialty_emg[s] = {}\n",
    "\n",
    "for key in ['emg' + str(x) for x in range(8)]:\n",
    "    for s in specialty_keys:\n",
    "        specialty_emg[s][key] = []\n",
    "            \n",
    "for key, value in emg_data.items():\n",
    "    specialty = subject_data.loc[subject_data[\"subject\"] == int(key)][\"specialty\"].values[0]\n",
    "    for channel, values in value.items(): \n",
    "        for run in values:\n",
    "            mean_value = np.mean(run)\n",
    "            if mean_value < 1000:\n",
    "                specialty_emg[specialty][channel] = specialty_emg[specialty][channel] + run.tolist()"
   ]
  },
  {
   "cell_type": "code",
   "execution_count": null,
   "metadata": {},
   "outputs": [],
   "source": [
    "average_specialty_emg = {}\n",
    "for s in specialty_keys:\n",
    "    average_specialty_emg[s] = {}\n",
    "\n",
    "for key in ['emg' + str(x) for x in range(8)]:\n",
    "    for s in specialty_keys:\n",
    "        average_specialty_emg[s][key] = {}\n",
    "        \n",
    "for specialty, data in specialty_emg.items():\n",
    "    for channel, values in data.items():\n",
    "        average_specialty_emg[specialty][channel][\"mean\"] = np.mean(values)\n",
    "        average_specialty_emg[specialty][channel][\"std\"] = np.std(values)"
   ]
  },
  {
   "cell_type": "code",
   "execution_count": null,
   "metadata": {},
   "outputs": [],
   "source": [
    "fig = go.Figure()\n",
    "for specialty, channels in average_specialty_emg.items():\n",
    "    channel_names = list(channels.keys())\n",
    "    channel_mean = []\n",
    "    channel_std = []\n",
    "    for channel in channel_names:\n",
    "        channel_mean.append(channels[channel]['mean'])\n",
    "        channel_std.append(channels[channel]['std'])\n",
    "    fig.add_trace(go.Bar(\n",
    "        name=specialty,\n",
    "        x=channel_names,\n",
    "        y=channel_mean,\n",
    "        error_y=dict(type='data', array=channel_std)\n",
    "    ))\n",
    "fig.update_layout(barmode='group')\n",
    "fig.write_image(join(data_folder, \"figures\", \"emg_per_speciatly.svg\"))"
   ]
  },
  {
   "cell_type": "markdown",
   "metadata": {},
   "source": [
    "### heatmap per specialty"
   ]
  },
  {
   "cell_type": "code",
   "execution_count": null,
   "metadata": {},
   "outputs": [],
   "source": [
    "for specialty in specialty_keys:\n",
    "    x_values = []\n",
    "    y_values = []\n",
    "    y_min = 0\n",
    "    y_max = 100\n",
    "\n",
    "    fig = go.Figure()\n",
    "    for i, channel in enumerate(average_specialty_emg[specialty].keys()):\n",
    "        x_values.append(i)\n",
    "        y_values.append(average_specialty_emg[specialty][channel][\"mean\"])\n",
    "    y_values = (np.array(y_values) - y_min) / (y_max - y_min)\n",
    "\n",
    "    fig.add_trace(go.Scatter(\n",
    "        x=x_values,\n",
    "        y=y_values,\n",
    "        marker=dict(\n",
    "            size=16,\n",
    "            cmax=1,\n",
    "            cmin=0,\n",
    "            color=y_values,\n",
    "            colorbar=dict(\n",
    "                title=\"Colorbar\"\n",
    "            ),\n",
    "            colorscale=\"rdylgn_r\"\n",
    "        ),\n",
    "        mode=\"markers\"))\n",
    "\n",
    "    fig.write_image(join(data_folder, \"figures\", \"colorscale_emg_\" + specialty + \".svg\"))"
   ]
  },
  {
   "cell_type": "markdown",
   "metadata": {},
   "source": [
    "### group per expertise"
   ]
  },
  {
   "cell_type": "code",
   "execution_count": null,
   "metadata": {},
   "outputs": [],
   "source": [
    "expertise_emg = {}\n",
    "for e in expertise_keys:\n",
    "    expertise_emg[e] = {}\n",
    "\n",
    "for key in ['emg' + str(x) for x in range(8)]:\n",
    "    for e in expertise_keys:\n",
    "        expertise_emg[e][key] = []\n",
    "            \n",
    "for key, value in emg_data.items():\n",
    "    expertise = subject_data.loc[subject_data[\"subject\"] == int(key)][\"level\"].values[0]\n",
    "    for channel, values in value.items(): \n",
    "        for run in values:\n",
    "            mean_value = np.mean(run)\n",
    "            if mean_value < 1000:\n",
    "                expertise_emg[expertise][channel] = expertise_emg[expertise][channel] + run.tolist()"
   ]
  },
  {
   "cell_type": "code",
   "execution_count": null,
   "metadata": {},
   "outputs": [],
   "source": [
    "average_expertise_emg = {}\n",
    "for e in expertise_keys:\n",
    "    average_expertise_emg[e] = {}\n",
    "\n",
    "for key in ['emg' + str(x) for x in range(8)]:\n",
    "    for e in expertise_keys:\n",
    "        average_expertise_emg[e][key] = {}\n",
    "        \n",
    "for expertise, data in expertise_emg.items():\n",
    "    for channel, values in data.items():\n",
    "        average_expertise_emg[expertise][channel][\"mean\"] = np.mean(values)\n",
    "        average_expertise_emg[expertise][channel][\"std\"] = np.std(values)"
   ]
  },
  {
   "cell_type": "code",
   "execution_count": null,
   "metadata": {},
   "outputs": [],
   "source": [
    "fig = go.Figure()\n",
    "for expertise, channels in average_expertise_emg.items():\n",
    "    channel_names = list(channels.keys())\n",
    "    channel_mean = []\n",
    "    channel_std = []\n",
    "    for channel in channel_names:\n",
    "        channel_mean.append(channels[channel]['mean'])\n",
    "        channel_std.append(channels[channel]['std'])\n",
    "    fig.add_trace(go.Bar(\n",
    "        name=expertise,\n",
    "        x=channel_names,\n",
    "        y=channel_mean,\n",
    "        error_y=dict(type='data', array=channel_std)\n",
    "    ))\n",
    "fig.update_layout(barmode='group')\n",
    "fig.write_image(join(data_folder, \"figures\", \"emg_per_expertise.svg\"))"
   ]
  },
  {
   "cell_type": "markdown",
   "metadata": {},
   "source": [
    "### heatmap per expertise"
   ]
  },
  {
   "cell_type": "code",
   "execution_count": null,
   "metadata": {},
   "outputs": [],
   "source": [
    "for expertise in expertise_keys:\n",
    "    x_values = []\n",
    "    y_values = []\n",
    "    y_min = 0\n",
    "    y_max = 100\n",
    "\n",
    "    fig = go.Figure()\n",
    "    for i, channel in enumerate(average_expertise_emg[expertise].keys()):\n",
    "        x_values.append(i)\n",
    "        y_values.append(average_expertise_emg[expertise][channel][\"mean\"])\n",
    "    y_values = (np.array(y_values) - y_min) / (y_max - y_min)\n",
    "\n",
    "    fig.add_trace(go.Scatter(\n",
    "        x=x_values,\n",
    "        y=y_values,\n",
    "        marker=dict(\n",
    "            size=16,\n",
    "            cmax=1,\n",
    "            cmin=0,\n",
    "            color=y_values,\n",
    "            colorbar=dict(\n",
    "                title=\"Colorbar\"\n",
    "            ),\n",
    "            colorscale=\"rdylgn_r\"\n",
    "        ),\n",
    "        mode=\"markers\"))\n",
    "\n",
    "    fig.write_image(join(data_folder, \"figures\", \"colorscale_emg_\" + expertise + \".svg\"))"
   ]
  },
  {
   "cell_type": "markdown",
   "metadata": {},
   "source": [
    "### group per expertise & specialty"
   ]
  },
  {
   "cell_type": "code",
   "execution_count": null,
   "metadata": {},
   "outputs": [],
   "source": [
    "specialty_expertise_emg = {}\n",
    "for s in specialty_keys:\n",
    "    specialty_expertise_emg[s] = {}\n",
    "    for expertise in expertise_keys:\n",
    "        specialty_expertise_emg[s][expertise] = {}\n",
    "        for key in ['emg' + str(x) for x in range(8)]:\n",
    "            specialty_expertise_emg[s][expertise][key] = []\n",
    "            \n",
    "for key, value in emg_data.items():\n",
    "    specialty = subject_data.loc[subject_data[\"subject\"] == int(key)][\"specialty\"].values[0]\n",
    "    expertise = subject_data.loc[subject_data[\"subject\"] == int(key)][\"level\"].values[0]\n",
    "    for channel, values in value.items(): \n",
    "        for run in values:\n",
    "            mean_value = np.mean(run)\n",
    "            if mean_value < 1000:\n",
    "                specialty_expertise_emg[specialty][expertise][channel] = specialty_expertise_emg[specialty][expertise][channel] + run.tolist()"
   ]
  },
  {
   "cell_type": "code",
   "execution_count": null,
   "metadata": {},
   "outputs": [],
   "source": [
    "average_specialty_expertise_emg = {}\n",
    "for s in specialty_keys:\n",
    "    average_specialty_expertise_emg[s] = {}\n",
    "    for expertise in expertise_keys:\n",
    "        average_specialty_expertise_emg[s][expertise] = {}\n",
    "        for key in ['emg' + str(x) for x in range(8)]:\n",
    "            average_specialty_expertise_emg[s][expertise][key] = {}\n",
    "        \n",
    "for specialty, data in specialty_expertise_emg.items():\n",
    "    for expertise, channels in data.items():\n",
    "        for channel, values in channels.items():\n",
    "            average_specialty_expertise_emg[specialty][expertise][channel][\"mean\"] = np.mean(values)\n",
    "            average_specialty_expertise_emg[specialty][expertise][channel][\"std\"] = np.std(values)"
   ]
  },
  {
   "cell_type": "markdown",
   "metadata": {},
   "source": [
    "for specialty in specialty_keys:\n",
    "    fig = go.Figure()\n",
    "    for expertise, channels in average_specialty_expertise_emg[specialty].items():\n",
    "        channel_names = list(channels.keys())\n",
    "        channel_mean = []\n",
    "        channel_std = []\n",
    "        for channel in channel_names:\n",
    "            channel_mean.append(channels[channel]['mean'])\n",
    "            channel_std.append(channels[channel]['std'])\n",
    "        fig.add_trace(go.Bar(\n",
    "            name=expertise,\n",
    "            x=channel_names,\n",
    "            y=channel_mean,\n",
    "            error_y=dict(type='data', array=channel_std)\n",
    "        ))\n",
    "    fig.update_layout(barmode='group')\n",
    "    fig.write_image(join(data_folder, \"figures\", \"emg_per_expertise_\" + specialty + \".svg\"))"
   ]
  },
  {
   "cell_type": "markdown",
   "metadata": {},
   "source": [
    "### two ways ANOVA"
   ]
  },
  {
   "cell_type": "code",
   "execution_count": null,
   "metadata": {},
   "outputs": [],
   "source": [
    "# create the data separating expertise and specialty for each channels\n",
    "channels_data = {}\n",
    "\n",
    "for key in ['emg' + str(x) for x in range(8)]:\n",
    "    channels_data[key] = []\n",
    "        \n",
    "for subject, data in average_emg.items():\n",
    "    specialty = subject_data.loc[subject_data[\"subject\"] == int(subject)][\"specialty\"].values[0]\n",
    "    expertise = subject_data.loc[subject_data[\"subject\"] == int(subject)][\"level\"].values[0]\n",
    "    for channel, values in data.items():\n",
    "        row = [specialty, expertise, values[\"mean\"]]\n",
    "        channels_data[channel].append(row)\n",
    "                \n",
    "channels_dataframes = {}\n",
    "for channel, values in channels_data.items():\n",
    "    channels_dataframes[channel] = pd.DataFrame(values, columns=[\"specialty\", \"expertise\", \"value\"])"
   ]
  },
  {
   "cell_type": "code",
   "execution_count": null,
   "metadata": {},
   "outputs": [],
   "source": [
    "emg_anova_results = {}\n",
    "for channel, dataframe in channels_dataframes.items():\n",
    "    #perform two-way ANOVA\n",
    "    model = ols('value ~ C(specialty) + C(expertise) + C(specialty):C(expertise)', data=dataframe).fit()\n",
    "    emg_anova_results[channel] = sm.stats.anova_lm(model, typ=2)"
   ]
  },
  {
   "cell_type": "code",
   "execution_count": null,
   "metadata": {},
   "outputs": [],
   "source": [
    "emg_anova_results[\"emg0\"]"
   ]
  },
  {
   "cell_type": "code",
   "execution_count": null,
   "metadata": {},
   "outputs": [],
   "source": [
    "emg_anova_results[\"emg1\"]"
   ]
  },
  {
   "cell_type": "code",
   "execution_count": null,
   "metadata": {},
   "outputs": [],
   "source": [
    "emg_anova_results[\"emg2\"]"
   ]
  },
  {
   "cell_type": "code",
   "execution_count": null,
   "metadata": {},
   "outputs": [],
   "source": [
    "emg_anova_results[\"emg3\"]"
   ]
  },
  {
   "cell_type": "code",
   "execution_count": null,
   "metadata": {},
   "outputs": [],
   "source": [
    "emg_anova_results[\"emg4\"]"
   ]
  },
  {
   "cell_type": "code",
   "execution_count": null,
   "metadata": {},
   "outputs": [],
   "source": [
    "emg_anova_results[\"emg5\"]"
   ]
  },
  {
   "cell_type": "code",
   "execution_count": null,
   "metadata": {},
   "outputs": [],
   "source": [
    "emg_anova_results[\"emg6\"]"
   ]
  },
  {
   "cell_type": "code",
   "execution_count": null,
   "metadata": {},
   "outputs": [],
   "source": [
    "emg_anova_results[\"emg7\"]"
   ]
  },
  {
   "cell_type": "markdown",
   "metadata": {},
   "source": [
    "### t-test"
   ]
  },
  {
   "cell_type": "code",
   "execution_count": null,
   "metadata": {},
   "outputs": [],
   "source": [
    "expertise_channel_data = {}\n",
    "specialty_channel_data = {}\n",
    "\n",
    "for key in ['emg' + str(x) for x in range(8)]:\n",
    "    expertise_channel_data[key] = {}\n",
    "    specialty_channel_data[key] = {}\n",
    "    for specialty in specialty_keys:\n",
    "        specialty_channel_data[key][specialty] = []\n",
    "    for expertise in expertise_keys:\n",
    "        expertise_channel_data[key][expertise] = []\n",
    "        \n",
    "for subject, data in average_emg_per_run.items():\n",
    "    specialty = subject_data.loc[subject_data[\"subject\"] == int(subject)][\"specialty\"].values[0]\n",
    "    expertise = subject_data.loc[subject_data[\"subject\"] == int(subject)][\"level\"].values[0]\n",
    "    for channel, values in data.items():\n",
    "        expertise_channel_data[channel][expertise] = expertise_channel_data[channel][expertise] + values\n",
    "        specialty_channel_data[channel][specialty] = specialty_channel_data[channel][specialty] + values"
   ]
  },
  {
   "cell_type": "code",
   "execution_count": null,
   "metadata": {},
   "outputs": [],
   "source": [
    "for f, data in expertise_channel_data.items():\n",
    "    print('####### ' + f + ' ########')\n",
    "    keys = list(data.keys())\n",
    "    for i in range(len(keys)):\n",
    "        for j in range(i + 1, len(keys)):\n",
    "            print('diff between ' + keys[i] + ' and ' + keys[j])\n",
    "            print(stats.ttest_ind(data[keys[i]], data[keys[j]]))\n",
    "            print('--------------')"
   ]
  },
  {
   "cell_type": "code",
   "execution_count": null,
   "metadata": {},
   "outputs": [],
   "source": [
    "for f, data in specialty_channel_data.items():\n",
    "    print('####### ' + f + ' ########')\n",
    "    keys = list(data.keys())\n",
    "    for i in range(len(keys)):\n",
    "        for j in range(i + 1, len(keys)):\n",
    "            print('diff between ' + keys[i] + ' and ' + keys[j])\n",
    "            print(stats.ttest_ind(data[keys[i]], data[keys[j]]))\n",
    "            print('--------------')"
   ]
  },
  {
   "cell_type": "code",
   "execution_count": null,
   "metadata": {},
   "outputs": [],
   "source": []
  }
 ],
 "metadata": {
  "kernelspec": {
   "display_name": "Python 3 (ipykernel)",
   "language": "python",
   "name": "python3"
  },
  "language_info": {
   "codemirror_mode": {
    "name": "ipython",
    "version": 3
   },
   "file_extension": ".py",
   "mimetype": "text/x-python",
   "name": "python",
   "nbconvert_exporter": "python",
   "pygments_lexer": "ipython3",
   "version": "3.8.12"
  }
 },
 "nbformat": 4,
 "nbformat_minor": 4
}
