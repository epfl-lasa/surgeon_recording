{
 "cells": [
  {
   "cell_type": "code",
   "execution_count": 1,
   "metadata": {},
   "outputs": [],
   "source": [
    "from surgeon_recording.reader import Reader\n",
    "from glob import glob\n",
    "from os.path import join\n",
    "import os\n",
    "import numpy as np\n",
    "from scipy import stats\n",
    "import plotly.express as px\n",
    "import plotly.graph_objects as go\n",
    "from copy import deepcopy\n",
    "import pandas as pd"
   ]
  },
  {
   "cell_type": "code",
   "execution_count": 2,
   "metadata": {},
   "outputs": [],
   "source": [
    "reader = Reader()"
   ]
  },
  {
   "cell_type": "code",
   "execution_count": 3,
   "metadata": {},
   "outputs": [],
   "source": [
    "# data_folder = join('..', 'data')\n",
    "# dir_list = [str(x) for x in range(1, 11)]\n",
    "# dir_list = ['1', '2', '3', '5', '6', '7', '8', '9', '10']"
   ]
  },
  {
   "cell_type": "code",
   "execution_count": 4,
   "metadata": {},
   "outputs": [],
   "source": [
    "data_folder = join('..', 'data_chicken')\n",
    "dir_list = ['7', '8', '9', '10']"
   ]
  },
  {
   "cell_type": "code",
   "execution_count": 5,
   "metadata": {},
   "outputs": [],
   "source": [
    "#blacklist = ['1/run2', '3/run3', '3/run5']\n",
    "blacklist = ['7/run2']\n",
    "blacklist = [join(data_folder, x) for x in blacklist]"
   ]
  },
  {
   "cell_type": "code",
   "execution_count": 25,
   "metadata": {},
   "outputs": [],
   "source": [
    "specialty_keys = [\"neuro\", \"plastic\"]\n",
    "expertise_keys = [\"novice\", \"expert\", \"intermediate1\", \"intermediate2\"]"
   ]
  },
  {
   "cell_type": "code",
   "execution_count": 26,
   "metadata": {},
   "outputs": [
    {
     "name": "stdout",
     "output_type": "stream",
     "text": [
      "../data_chicken/7/calibration\n",
      "../data_chicken/7/run\n",
      "../data_chicken/7/run3\n",
      "../data_chicken/8/run1\n",
      "../data_chicken/9/run1\n",
      "../data_chicken/10/run1\n",
      "../data_chicken/10/run2\n",
      "../data_chicken/10/run3\n"
     ]
    }
   ],
   "source": [
    "knot_time = {}\n",
    "tps_forces = {}\n",
    "emg_data = {}\n",
    "tps_data_type = 'raw'\n",
    "\n",
    "for d in dir_list:\n",
    "    knots_dir = [x[0] for x in os.walk(join(data_folder, d))][1:]\n",
    "    knots_dir.sort()\n",
    "    knot_time[d] = []\n",
    "    tps_forces[d] = {}\n",
    "    emg_data[d] = {}\n",
    "    \n",
    "    for l in ['right', 'left']:\n",
    "        for f in ['index', 'middle', 'thumb']:\n",
    "            key = l + '_' + f + '_' + tps_data_type\n",
    "            tps_forces[d][key] = []\n",
    "            \n",
    "    for l in ['emg' + str(x) for x in range(8)]:\n",
    "         emg_data[d][l] = []\n",
    "        \n",
    "    for kd in knots_dir:\n",
    "        if not kd in blacklist:\n",
    "            print(kd)\n",
    "            reader.play(kd)\n",
    "            time = reader.data['camera']['relative_time'].iloc[-1]\n",
    "            knot_time[d].append(time)\n",
    "            for l in ['right', 'left']:\n",
    "                for f in ['index', 'middle', 'thumb']:\n",
    "                    key = l + '_' + f + '_' + tps_data_type\n",
    "                    tps_forces[d][key].append(reader.data['tps'][key].to_numpy())\n",
    "            for l in ['emg' + str(x) for x in range(8)]:\n",
    "                emg_data[d][l].append(np.absolute(reader.data['emg'][l].to_numpy()))"
   ]
  },
  {
   "cell_type": "code",
   "execution_count": 27,
   "metadata": {},
   "outputs": [],
   "source": [
    "subject_data = pd.read_csv(join(data_folder,\"subject_data.csv\"))"
   ]
  },
  {
   "cell_type": "code",
   "execution_count": 28,
   "metadata": {},
   "outputs": [
    {
     "data": {
      "text/html": [
       "<div>\n",
       "<style scoped>\n",
       "    .dataframe tbody tr th:only-of-type {\n",
       "        vertical-align: middle;\n",
       "    }\n",
       "\n",
       "    .dataframe tbody tr th {\n",
       "        vertical-align: top;\n",
       "    }\n",
       "\n",
       "    .dataframe thead th {\n",
       "        text-align: right;\n",
       "    }\n",
       "</style>\n",
       "<table border=\"1\" class=\"dataframe\">\n",
       "  <thead>\n",
       "    <tr style=\"text-align: right;\">\n",
       "      <th></th>\n",
       "      <th>ID</th>\n",
       "      <th>Sex</th>\n",
       "      <th>Age</th>\n",
       "      <th>Laterality</th>\n",
       "      <th>Specialty</th>\n",
       "      <th>Expertise</th>\n",
       "      <th>Ali score</th>\n",
       "      <th>Score</th>\n",
       "    </tr>\n",
       "  </thead>\n",
       "  <tbody>\n",
       "    <tr>\n",
       "      <th>0</th>\n",
       "      <td>1</td>\n",
       "      <td>M</td>\n",
       "      <td>37</td>\n",
       "      <td>R</td>\n",
       "      <td>plastic</td>\n",
       "      <td>intermediate</td>\n",
       "      <td>5</td>\n",
       "      <td>estimated</td>\n",
       "    </tr>\n",
       "    <tr>\n",
       "      <th>1</th>\n",
       "      <td>2</td>\n",
       "      <td>F</td>\n",
       "      <td>30</td>\n",
       "      <td>R</td>\n",
       "      <td>plastic</td>\n",
       "      <td>novice</td>\n",
       "      <td>10</td>\n",
       "      <td>estimated</td>\n",
       "    </tr>\n",
       "    <tr>\n",
       "      <th>2</th>\n",
       "      <td>3</td>\n",
       "      <td>M</td>\n",
       "      <td>41</td>\n",
       "      <td>R</td>\n",
       "      <td>plastic</td>\n",
       "      <td>expert</td>\n",
       "      <td>5</td>\n",
       "      <td>estimated</td>\n",
       "    </tr>\n",
       "    <tr>\n",
       "      <th>3</th>\n",
       "      <td>4</td>\n",
       "      <td>M</td>\n",
       "      <td>29</td>\n",
       "      <td>L</td>\n",
       "      <td>neuro</td>\n",
       "      <td>novice</td>\n",
       "      <td>10</td>\n",
       "      <td>estimated</td>\n",
       "    </tr>\n",
       "    <tr>\n",
       "      <th>4</th>\n",
       "      <td>5</td>\n",
       "      <td>F</td>\n",
       "      <td>34</td>\n",
       "      <td>R</td>\n",
       "      <td>neuro</td>\n",
       "      <td>novice</td>\n",
       "      <td>8</td>\n",
       "      <td>estimated</td>\n",
       "    </tr>\n",
       "    <tr>\n",
       "      <th>5</th>\n",
       "      <td>6</td>\n",
       "      <td>M</td>\n",
       "      <td>45</td>\n",
       "      <td>R</td>\n",
       "      <td>neuro</td>\n",
       "      <td>expert</td>\n",
       "      <td>3</td>\n",
       "      <td>real</td>\n",
       "    </tr>\n",
       "    <tr>\n",
       "      <th>6</th>\n",
       "      <td>7</td>\n",
       "      <td>M</td>\n",
       "      <td>36</td>\n",
       "      <td>R</td>\n",
       "      <td>neuro</td>\n",
       "      <td>novice</td>\n",
       "      <td>10</td>\n",
       "      <td>real</td>\n",
       "    </tr>\n",
       "    <tr>\n",
       "      <th>7</th>\n",
       "      <td>8</td>\n",
       "      <td>M</td>\n",
       "      <td>45</td>\n",
       "      <td>R</td>\n",
       "      <td>plastic</td>\n",
       "      <td>expert</td>\n",
       "      <td>7</td>\n",
       "      <td>real</td>\n",
       "    </tr>\n",
       "    <tr>\n",
       "      <th>8</th>\n",
       "      <td>9</td>\n",
       "      <td>M</td>\n",
       "      <td>34</td>\n",
       "      <td>R</td>\n",
       "      <td>neuro</td>\n",
       "      <td>intermediate1</td>\n",
       "      <td>6</td>\n",
       "      <td>real</td>\n",
       "    </tr>\n",
       "    <tr>\n",
       "      <th>9</th>\n",
       "      <td>10</td>\n",
       "      <td>M</td>\n",
       "      <td>33</td>\n",
       "      <td>L</td>\n",
       "      <td>neuro</td>\n",
       "      <td>intermediate2</td>\n",
       "      <td>6</td>\n",
       "      <td>real</td>\n",
       "    </tr>\n",
       "  </tbody>\n",
       "</table>\n",
       "</div>"
      ],
      "text/plain": [
       "   ID Sex  Age Laterality Specialty      Expertise  Ali score      Score\n",
       "0   1   M   37          R   plastic   intermediate          5  estimated\n",
       "1   2   F   30          R   plastic         novice         10  estimated\n",
       "2   3   M   41          R   plastic         expert          5  estimated\n",
       "3   4   M   29          L     neuro         novice         10  estimated\n",
       "4   5   F   34          R     neuro         novice          8  estimated\n",
       "5   6   M   45          R     neuro         expert          3       real\n",
       "6   7   M   36          R     neuro         novice         10       real\n",
       "7   8   M   45          R   plastic         expert          7       real\n",
       "8   9   M   34          R     neuro  intermediate1          6       real\n",
       "9  10   M   33          L     neuro  intermediate2          6       real"
      ]
     },
     "execution_count": 28,
     "metadata": {},
     "output_type": "execute_result"
    }
   ],
   "source": [
    "subject_data"
   ]
  },
  {
   "cell_type": "markdown",
   "metadata": {},
   "source": [
    "# Execution time"
   ]
  },
  {
   "cell_type": "code",
   "execution_count": 29,
   "metadata": {},
   "outputs": [
    {
     "name": "stdout",
     "output_type": "stream",
     "text": [
      "7 335.4441443284353 236.5085727254296\n",
      "8 597.5771343708038 0.0\n",
      "9 1135.5206537246704 0.0\n",
      "10 520.0086479187012 43.76653734505754\n"
     ]
    }
   ],
   "source": [
    "for key, value in knot_time.items():\n",
    "    print(key, np.mean(value), np.std(value))"
   ]
  },
  {
   "cell_type": "markdown",
   "metadata": {},
   "source": [
    "## Differences between subjects"
   ]
  },
  {
   "cell_type": "code",
   "execution_count": 30,
   "metadata": {},
   "outputs": [
    {
     "name": "stdout",
     "output_type": "stream",
     "text": [
      "diff between 7 and 8\n",
      "Ttest_indResult(statistic=nan, pvalue=nan)\n",
      "--------------\n",
      "diff between 7 and 9\n",
      "Ttest_indResult(statistic=nan, pvalue=nan)\n",
      "--------------\n",
      "diff between 7 and 10\n",
      "Ttest_indResult(statistic=-1.0851872518698396, pvalue=0.3388665316779968)\n",
      "--------------\n",
      "diff between 8 and 9\n",
      "Ttest_indResult(statistic=nan, pvalue=nan)\n",
      "--------------\n",
      "diff between 8 and 10\n",
      "Ttest_indResult(statistic=nan, pvalue=nan)\n",
      "--------------\n",
      "diff between 9 and 10\n",
      "Ttest_indResult(statistic=nan, pvalue=nan)\n",
      "--------------\n"
     ]
    },
    {
     "name": "stderr",
     "output_type": "stream",
     "text": [
      "/home/buschbapti/anaconda3/envs/surgeon_recording/lib/python3.7/site-packages/numpy/core/fromnumeric.py:3584: RuntimeWarning:\n",
      "\n",
      "Degrees of freedom <= 0 for slice\n",
      "\n",
      "/home/buschbapti/anaconda3/envs/surgeon_recording/lib/python3.7/site-packages/numpy/core/_methods.py:209: RuntimeWarning:\n",
      "\n",
      "invalid value encountered in double_scalars\n",
      "\n"
     ]
    }
   ],
   "source": [
    "idx = 0\n",
    "for subject_id1 in dir_list:\n",
    "    tmp =  dir_list[idx + 1:]\n",
    "    for subject_id2 in tmp:\n",
    "        print('diff between ' + subject_id1 + ' and ' + subject_id2)\n",
    "        print(stats.ttest_ind(knot_time[subject_id1], knot_time[subject_id2]))\n",
    "        print('--------------')\n",
    "    idx = idx + 1"
   ]
  },
  {
   "cell_type": "markdown",
   "metadata": {},
   "source": [
    "# TPS Data"
   ]
  },
  {
   "cell_type": "code",
   "execution_count": 31,
   "metadata": {},
   "outputs": [],
   "source": [
    "average_tps_per_run = {}\n",
    "for key, value in tps_forces.items():\n",
    "    average_tps_per_run[key] = {}\n",
    "    for finger, values in value.items():\n",
    "        average_tps_per_run[key][finger] = []\n",
    "        for run in values:\n",
    "            average_tps_per_run[key][finger].append(np.mean(run))"
   ]
  },
  {
   "cell_type": "code",
   "execution_count": 32,
   "metadata": {},
   "outputs": [],
   "source": [
    "average_tps = {}\n",
    "for subject, fingers in average_tps_per_run.items():\n",
    "    average_tps[subject] = {}\n",
    "    for finger, values in fingers.items():\n",
    "        average_tps[subject][finger] = {}\n",
    "        average_tps[subject][finger]['mean'] = np.mean(values)\n",
    "        average_tps[subject][finger]['std'] = np.std(values)"
   ]
  },
  {
   "cell_type": "code",
   "execution_count": 33,
   "metadata": {},
   "outputs": [
    {
     "data": {
      "application/vnd.plotly.v1+json": {
       "config": {
        "plotlyServerURL": "https://plot.ly"
       },
       "data": [
        {
         "error_y": {
          "array": [
           26.15812340623395,
           37.750541185546446,
           79.48910407972572,
           270.1837361734899,
           225.93080566793293,
           63.18869627653839
          ],
          "type": "data"
         },
         "name": "7",
         "type": "bar",
         "x": [
          "right_index_raw",
          "right_middle_raw",
          "right_thumb_raw",
          "left_index_raw",
          "left_middle_raw",
          "left_thumb_raw"
         ],
         "y": [
          12328.725294060625,
          10938.322389033792,
          17442.962712941386,
          13420.310103936588,
          11958.197437519477,
          14650.39292969481
         ]
        },
        {
         "error_y": {
          "array": [
           0,
           0,
           0,
           0,
           0,
           0
          ],
          "type": "data"
         },
         "name": "8",
         "type": "bar",
         "x": [
          "right_index_raw",
          "right_middle_raw",
          "right_thumb_raw",
          "left_index_raw",
          "left_middle_raw",
          "left_thumb_raw"
         ],
         "y": [
          11984.323305407464,
          11056.593773800458,
          15079.179074638234,
          13710.477341964966,
          12582.606721249049,
          15722.707635186596
         ]
        },
        {
         "error_y": {
          "array": [
           0,
           0,
           0,
           0,
           0,
           0
          ],
          "type": "data"
         },
         "name": "9",
         "type": "bar",
         "x": [
          "right_index_raw",
          "right_middle_raw",
          "right_thumb_raw",
          "left_index_raw",
          "left_middle_raw",
          "left_thumb_raw"
         ],
         "y": [
          12227.168758156811,
          10763.816634876017,
          14546.838520228892,
          13053.7439514105,
          11728.314727437004,
          12904.976859753036
         ]
        },
        {
         "error_y": {
          "array": [
           72.62565591060539,
           22.626211430452283,
           16.710960862980865,
           238.83314171308038,
           112.43899320589075,
           131.5158995402231
          ],
          "type": "data"
         },
         "name": "10",
         "type": "bar",
         "x": [
          "right_index_raw",
          "right_middle_raw",
          "right_thumb_raw",
          "left_index_raw",
          "left_middle_raw",
          "left_thumb_raw"
         ],
         "y": [
          12701.549234918866,
          10916.671452258799,
          14743.760686772986,
          11494.013428176311,
          11570.867192952748,
          12031.665919002073
         ]
        }
       ],
       "layout": {
        "barmode": "group",
        "template": {
         "data": {
          "bar": [
           {
            "error_x": {
             "color": "#2a3f5f"
            },
            "error_y": {
             "color": "#2a3f5f"
            },
            "marker": {
             "line": {
              "color": "#E5ECF6",
              "width": 0.5
             }
            },
            "type": "bar"
           }
          ],
          "barpolar": [
           {
            "marker": {
             "line": {
              "color": "#E5ECF6",
              "width": 0.5
             }
            },
            "type": "barpolar"
           }
          ],
          "carpet": [
           {
            "aaxis": {
             "endlinecolor": "#2a3f5f",
             "gridcolor": "white",
             "linecolor": "white",
             "minorgridcolor": "white",
             "startlinecolor": "#2a3f5f"
            },
            "baxis": {
             "endlinecolor": "#2a3f5f",
             "gridcolor": "white",
             "linecolor": "white",
             "minorgridcolor": "white",
             "startlinecolor": "#2a3f5f"
            },
            "type": "carpet"
           }
          ],
          "choropleth": [
           {
            "colorbar": {
             "outlinewidth": 0,
             "ticks": ""
            },
            "type": "choropleth"
           }
          ],
          "contour": [
           {
            "colorbar": {
             "outlinewidth": 0,
             "ticks": ""
            },
            "colorscale": [
             [
              0,
              "#0d0887"
             ],
             [
              0.1111111111111111,
              "#46039f"
             ],
             [
              0.2222222222222222,
              "#7201a8"
             ],
             [
              0.3333333333333333,
              "#9c179e"
             ],
             [
              0.4444444444444444,
              "#bd3786"
             ],
             [
              0.5555555555555556,
              "#d8576b"
             ],
             [
              0.6666666666666666,
              "#ed7953"
             ],
             [
              0.7777777777777778,
              "#fb9f3a"
             ],
             [
              0.8888888888888888,
              "#fdca26"
             ],
             [
              1,
              "#f0f921"
             ]
            ],
            "type": "contour"
           }
          ],
          "contourcarpet": [
           {
            "colorbar": {
             "outlinewidth": 0,
             "ticks": ""
            },
            "type": "contourcarpet"
           }
          ],
          "heatmap": [
           {
            "colorbar": {
             "outlinewidth": 0,
             "ticks": ""
            },
            "colorscale": [
             [
              0,
              "#0d0887"
             ],
             [
              0.1111111111111111,
              "#46039f"
             ],
             [
              0.2222222222222222,
              "#7201a8"
             ],
             [
              0.3333333333333333,
              "#9c179e"
             ],
             [
              0.4444444444444444,
              "#bd3786"
             ],
             [
              0.5555555555555556,
              "#d8576b"
             ],
             [
              0.6666666666666666,
              "#ed7953"
             ],
             [
              0.7777777777777778,
              "#fb9f3a"
             ],
             [
              0.8888888888888888,
              "#fdca26"
             ],
             [
              1,
              "#f0f921"
             ]
            ],
            "type": "heatmap"
           }
          ],
          "heatmapgl": [
           {
            "colorbar": {
             "outlinewidth": 0,
             "ticks": ""
            },
            "colorscale": [
             [
              0,
              "#0d0887"
             ],
             [
              0.1111111111111111,
              "#46039f"
             ],
             [
              0.2222222222222222,
              "#7201a8"
             ],
             [
              0.3333333333333333,
              "#9c179e"
             ],
             [
              0.4444444444444444,
              "#bd3786"
             ],
             [
              0.5555555555555556,
              "#d8576b"
             ],
             [
              0.6666666666666666,
              "#ed7953"
             ],
             [
              0.7777777777777778,
              "#fb9f3a"
             ],
             [
              0.8888888888888888,
              "#fdca26"
             ],
             [
              1,
              "#f0f921"
             ]
            ],
            "type": "heatmapgl"
           }
          ],
          "histogram": [
           {
            "marker": {
             "colorbar": {
              "outlinewidth": 0,
              "ticks": ""
             }
            },
            "type": "histogram"
           }
          ],
          "histogram2d": [
           {
            "colorbar": {
             "outlinewidth": 0,
             "ticks": ""
            },
            "colorscale": [
             [
              0,
              "#0d0887"
             ],
             [
              0.1111111111111111,
              "#46039f"
             ],
             [
              0.2222222222222222,
              "#7201a8"
             ],
             [
              0.3333333333333333,
              "#9c179e"
             ],
             [
              0.4444444444444444,
              "#bd3786"
             ],
             [
              0.5555555555555556,
              "#d8576b"
             ],
             [
              0.6666666666666666,
              "#ed7953"
             ],
             [
              0.7777777777777778,
              "#fb9f3a"
             ],
             [
              0.8888888888888888,
              "#fdca26"
             ],
             [
              1,
              "#f0f921"
             ]
            ],
            "type": "histogram2d"
           }
          ],
          "histogram2dcontour": [
           {
            "colorbar": {
             "outlinewidth": 0,
             "ticks": ""
            },
            "colorscale": [
             [
              0,
              "#0d0887"
             ],
             [
              0.1111111111111111,
              "#46039f"
             ],
             [
              0.2222222222222222,
              "#7201a8"
             ],
             [
              0.3333333333333333,
              "#9c179e"
             ],
             [
              0.4444444444444444,
              "#bd3786"
             ],
             [
              0.5555555555555556,
              "#d8576b"
             ],
             [
              0.6666666666666666,
              "#ed7953"
             ],
             [
              0.7777777777777778,
              "#fb9f3a"
             ],
             [
              0.8888888888888888,
              "#fdca26"
             ],
             [
              1,
              "#f0f921"
             ]
            ],
            "type": "histogram2dcontour"
           }
          ],
          "mesh3d": [
           {
            "colorbar": {
             "outlinewidth": 0,
             "ticks": ""
            },
            "type": "mesh3d"
           }
          ],
          "parcoords": [
           {
            "line": {
             "colorbar": {
              "outlinewidth": 0,
              "ticks": ""
             }
            },
            "type": "parcoords"
           }
          ],
          "pie": [
           {
            "automargin": true,
            "type": "pie"
           }
          ],
          "scatter": [
           {
            "marker": {
             "colorbar": {
              "outlinewidth": 0,
              "ticks": ""
             }
            },
            "type": "scatter"
           }
          ],
          "scatter3d": [
           {
            "line": {
             "colorbar": {
              "outlinewidth": 0,
              "ticks": ""
             }
            },
            "marker": {
             "colorbar": {
              "outlinewidth": 0,
              "ticks": ""
             }
            },
            "type": "scatter3d"
           }
          ],
          "scattercarpet": [
           {
            "marker": {
             "colorbar": {
              "outlinewidth": 0,
              "ticks": ""
             }
            },
            "type": "scattercarpet"
           }
          ],
          "scattergeo": [
           {
            "marker": {
             "colorbar": {
              "outlinewidth": 0,
              "ticks": ""
             }
            },
            "type": "scattergeo"
           }
          ],
          "scattergl": [
           {
            "marker": {
             "colorbar": {
              "outlinewidth": 0,
              "ticks": ""
             }
            },
            "type": "scattergl"
           }
          ],
          "scattermapbox": [
           {
            "marker": {
             "colorbar": {
              "outlinewidth": 0,
              "ticks": ""
             }
            },
            "type": "scattermapbox"
           }
          ],
          "scatterpolar": [
           {
            "marker": {
             "colorbar": {
              "outlinewidth": 0,
              "ticks": ""
             }
            },
            "type": "scatterpolar"
           }
          ],
          "scatterpolargl": [
           {
            "marker": {
             "colorbar": {
              "outlinewidth": 0,
              "ticks": ""
             }
            },
            "type": "scatterpolargl"
           }
          ],
          "scatterternary": [
           {
            "marker": {
             "colorbar": {
              "outlinewidth": 0,
              "ticks": ""
             }
            },
            "type": "scatterternary"
           }
          ],
          "surface": [
           {
            "colorbar": {
             "outlinewidth": 0,
             "ticks": ""
            },
            "colorscale": [
             [
              0,
              "#0d0887"
             ],
             [
              0.1111111111111111,
              "#46039f"
             ],
             [
              0.2222222222222222,
              "#7201a8"
             ],
             [
              0.3333333333333333,
              "#9c179e"
             ],
             [
              0.4444444444444444,
              "#bd3786"
             ],
             [
              0.5555555555555556,
              "#d8576b"
             ],
             [
              0.6666666666666666,
              "#ed7953"
             ],
             [
              0.7777777777777778,
              "#fb9f3a"
             ],
             [
              0.8888888888888888,
              "#fdca26"
             ],
             [
              1,
              "#f0f921"
             ]
            ],
            "type": "surface"
           }
          ],
          "table": [
           {
            "cells": {
             "fill": {
              "color": "#EBF0F8"
             },
             "line": {
              "color": "white"
             }
            },
            "header": {
             "fill": {
              "color": "#C8D4E3"
             },
             "line": {
              "color": "white"
             }
            },
            "type": "table"
           }
          ]
         },
         "layout": {
          "annotationdefaults": {
           "arrowcolor": "#2a3f5f",
           "arrowhead": 0,
           "arrowwidth": 1
          },
          "autotypenumbers": "strict",
          "coloraxis": {
           "colorbar": {
            "outlinewidth": 0,
            "ticks": ""
           }
          },
          "colorscale": {
           "diverging": [
            [
             0,
             "#8e0152"
            ],
            [
             0.1,
             "#c51b7d"
            ],
            [
             0.2,
             "#de77ae"
            ],
            [
             0.3,
             "#f1b6da"
            ],
            [
             0.4,
             "#fde0ef"
            ],
            [
             0.5,
             "#f7f7f7"
            ],
            [
             0.6,
             "#e6f5d0"
            ],
            [
             0.7,
             "#b8e186"
            ],
            [
             0.8,
             "#7fbc41"
            ],
            [
             0.9,
             "#4d9221"
            ],
            [
             1,
             "#276419"
            ]
           ],
           "sequential": [
            [
             0,
             "#0d0887"
            ],
            [
             0.1111111111111111,
             "#46039f"
            ],
            [
             0.2222222222222222,
             "#7201a8"
            ],
            [
             0.3333333333333333,
             "#9c179e"
            ],
            [
             0.4444444444444444,
             "#bd3786"
            ],
            [
             0.5555555555555556,
             "#d8576b"
            ],
            [
             0.6666666666666666,
             "#ed7953"
            ],
            [
             0.7777777777777778,
             "#fb9f3a"
            ],
            [
             0.8888888888888888,
             "#fdca26"
            ],
            [
             1,
             "#f0f921"
            ]
           ],
           "sequentialminus": [
            [
             0,
             "#0d0887"
            ],
            [
             0.1111111111111111,
             "#46039f"
            ],
            [
             0.2222222222222222,
             "#7201a8"
            ],
            [
             0.3333333333333333,
             "#9c179e"
            ],
            [
             0.4444444444444444,
             "#bd3786"
            ],
            [
             0.5555555555555556,
             "#d8576b"
            ],
            [
             0.6666666666666666,
             "#ed7953"
            ],
            [
             0.7777777777777778,
             "#fb9f3a"
            ],
            [
             0.8888888888888888,
             "#fdca26"
            ],
            [
             1,
             "#f0f921"
            ]
           ]
          },
          "colorway": [
           "#636efa",
           "#EF553B",
           "#00cc96",
           "#ab63fa",
           "#FFA15A",
           "#19d3f3",
           "#FF6692",
           "#B6E880",
           "#FF97FF",
           "#FECB52"
          ],
          "font": {
           "color": "#2a3f5f"
          },
          "geo": {
           "bgcolor": "white",
           "lakecolor": "white",
           "landcolor": "#E5ECF6",
           "showlakes": true,
           "showland": true,
           "subunitcolor": "white"
          },
          "hoverlabel": {
           "align": "left"
          },
          "hovermode": "closest",
          "mapbox": {
           "style": "light"
          },
          "paper_bgcolor": "white",
          "plot_bgcolor": "#E5ECF6",
          "polar": {
           "angularaxis": {
            "gridcolor": "white",
            "linecolor": "white",
            "ticks": ""
           },
           "bgcolor": "#E5ECF6",
           "radialaxis": {
            "gridcolor": "white",
            "linecolor": "white",
            "ticks": ""
           }
          },
          "scene": {
           "xaxis": {
            "backgroundcolor": "#E5ECF6",
            "gridcolor": "white",
            "gridwidth": 2,
            "linecolor": "white",
            "showbackground": true,
            "ticks": "",
            "zerolinecolor": "white"
           },
           "yaxis": {
            "backgroundcolor": "#E5ECF6",
            "gridcolor": "white",
            "gridwidth": 2,
            "linecolor": "white",
            "showbackground": true,
            "ticks": "",
            "zerolinecolor": "white"
           },
           "zaxis": {
            "backgroundcolor": "#E5ECF6",
            "gridcolor": "white",
            "gridwidth": 2,
            "linecolor": "white",
            "showbackground": true,
            "ticks": "",
            "zerolinecolor": "white"
           }
          },
          "shapedefaults": {
           "line": {
            "color": "#2a3f5f"
           }
          },
          "ternary": {
           "aaxis": {
            "gridcolor": "white",
            "linecolor": "white",
            "ticks": ""
           },
           "baxis": {
            "gridcolor": "white",
            "linecolor": "white",
            "ticks": ""
           },
           "bgcolor": "#E5ECF6",
           "caxis": {
            "gridcolor": "white",
            "linecolor": "white",
            "ticks": ""
           }
          },
          "title": {
           "x": 0.05
          },
          "xaxis": {
           "automargin": true,
           "gridcolor": "white",
           "linecolor": "white",
           "ticks": "",
           "title": {
            "standoff": 15
           },
           "zerolinecolor": "white",
           "zerolinewidth": 2
          },
          "yaxis": {
           "automargin": true,
           "gridcolor": "white",
           "linecolor": "white",
           "ticks": "",
           "title": {
            "standoff": 15
           },
           "zerolinecolor": "white",
           "zerolinewidth": 2
          }
         }
        }
       }
      },
      "text/html": [
       "<div>                            <div id=\"23697e42-4f66-4116-839f-abcb17d4a5c9\" class=\"plotly-graph-div\" style=\"height:525px; width:100%;\"></div>            <script type=\"text/javascript\">                require([\"plotly\"], function(Plotly) {                    window.PLOTLYENV=window.PLOTLYENV || {};                                    if (document.getElementById(\"23697e42-4f66-4116-839f-abcb17d4a5c9\")) {                    Plotly.newPlot(                        \"23697e42-4f66-4116-839f-abcb17d4a5c9\",                        [{\"error_y\": {\"array\": [26.15812340623395, 37.750541185546446, 79.48910407972572, 270.1837361734899, 225.93080566793293, 63.18869627653839], \"type\": \"data\"}, \"name\": \"7\", \"type\": \"bar\", \"x\": [\"right_index_raw\", \"right_middle_raw\", \"right_thumb_raw\", \"left_index_raw\", \"left_middle_raw\", \"left_thumb_raw\"], \"y\": [12328.725294060625, 10938.322389033792, 17442.962712941386, 13420.310103936588, 11958.197437519477, 14650.39292969481]}, {\"error_y\": {\"array\": [0.0, 0.0, 0.0, 0.0, 0.0, 0.0], \"type\": \"data\"}, \"name\": \"8\", \"type\": \"bar\", \"x\": [\"right_index_raw\", \"right_middle_raw\", \"right_thumb_raw\", \"left_index_raw\", \"left_middle_raw\", \"left_thumb_raw\"], \"y\": [11984.323305407464, 11056.593773800458, 15079.179074638234, 13710.477341964966, 12582.606721249049, 15722.707635186596]}, {\"error_y\": {\"array\": [0.0, 0.0, 0.0, 0.0, 0.0, 0.0], \"type\": \"data\"}, \"name\": \"9\", \"type\": \"bar\", \"x\": [\"right_index_raw\", \"right_middle_raw\", \"right_thumb_raw\", \"left_index_raw\", \"left_middle_raw\", \"left_thumb_raw\"], \"y\": [12227.168758156811, 10763.816634876017, 14546.838520228892, 13053.7439514105, 11728.314727437004, 12904.976859753036]}, {\"error_y\": {\"array\": [72.62565591060539, 22.626211430452283, 16.710960862980865, 238.83314171308038, 112.43899320589075, 131.5158995402231], \"type\": \"data\"}, \"name\": \"10\", \"type\": \"bar\", \"x\": [\"right_index_raw\", \"right_middle_raw\", \"right_thumb_raw\", \"left_index_raw\", \"left_middle_raw\", \"left_thumb_raw\"], \"y\": [12701.549234918866, 10916.671452258799, 14743.760686772986, 11494.013428176311, 11570.867192952748, 12031.665919002073]}],                        {\"barmode\": \"group\", \"template\": {\"data\": {\"bar\": [{\"error_x\": {\"color\": \"#2a3f5f\"}, \"error_y\": {\"color\": \"#2a3f5f\"}, \"marker\": {\"line\": {\"color\": \"#E5ECF6\", \"width\": 0.5}}, \"type\": \"bar\"}], \"barpolar\": [{\"marker\": {\"line\": {\"color\": \"#E5ECF6\", \"width\": 0.5}}, \"type\": \"barpolar\"}], \"carpet\": [{\"aaxis\": {\"endlinecolor\": \"#2a3f5f\", \"gridcolor\": \"white\", \"linecolor\": \"white\", \"minorgridcolor\": \"white\", \"startlinecolor\": \"#2a3f5f\"}, \"baxis\": {\"endlinecolor\": \"#2a3f5f\", \"gridcolor\": \"white\", \"linecolor\": \"white\", \"minorgridcolor\": \"white\", \"startlinecolor\": \"#2a3f5f\"}, \"type\": \"carpet\"}], \"choropleth\": [{\"colorbar\": {\"outlinewidth\": 0, \"ticks\": \"\"}, \"type\": \"choropleth\"}], \"contour\": [{\"colorbar\": {\"outlinewidth\": 0, \"ticks\": \"\"}, \"colorscale\": [[0.0, \"#0d0887\"], [0.1111111111111111, \"#46039f\"], [0.2222222222222222, \"#7201a8\"], [0.3333333333333333, \"#9c179e\"], [0.4444444444444444, \"#bd3786\"], [0.5555555555555556, \"#d8576b\"], [0.6666666666666666, \"#ed7953\"], [0.7777777777777778, \"#fb9f3a\"], [0.8888888888888888, \"#fdca26\"], [1.0, \"#f0f921\"]], \"type\": \"contour\"}], \"contourcarpet\": [{\"colorbar\": {\"outlinewidth\": 0, \"ticks\": \"\"}, \"type\": \"contourcarpet\"}], \"heatmap\": [{\"colorbar\": {\"outlinewidth\": 0, \"ticks\": \"\"}, \"colorscale\": [[0.0, \"#0d0887\"], [0.1111111111111111, \"#46039f\"], [0.2222222222222222, \"#7201a8\"], [0.3333333333333333, \"#9c179e\"], [0.4444444444444444, \"#bd3786\"], [0.5555555555555556, \"#d8576b\"], [0.6666666666666666, \"#ed7953\"], [0.7777777777777778, \"#fb9f3a\"], [0.8888888888888888, \"#fdca26\"], [1.0, \"#f0f921\"]], \"type\": \"heatmap\"}], \"heatmapgl\": [{\"colorbar\": {\"outlinewidth\": 0, \"ticks\": \"\"}, \"colorscale\": [[0.0, \"#0d0887\"], [0.1111111111111111, \"#46039f\"], [0.2222222222222222, \"#7201a8\"], [0.3333333333333333, \"#9c179e\"], [0.4444444444444444, \"#bd3786\"], [0.5555555555555556, \"#d8576b\"], [0.6666666666666666, \"#ed7953\"], [0.7777777777777778, \"#fb9f3a\"], [0.8888888888888888, \"#fdca26\"], [1.0, \"#f0f921\"]], \"type\": \"heatmapgl\"}], \"histogram\": [{\"marker\": {\"colorbar\": {\"outlinewidth\": 0, \"ticks\": \"\"}}, \"type\": \"histogram\"}], \"histogram2d\": [{\"colorbar\": {\"outlinewidth\": 0, \"ticks\": \"\"}, \"colorscale\": [[0.0, \"#0d0887\"], [0.1111111111111111, \"#46039f\"], [0.2222222222222222, \"#7201a8\"], [0.3333333333333333, \"#9c179e\"], [0.4444444444444444, \"#bd3786\"], [0.5555555555555556, \"#d8576b\"], [0.6666666666666666, \"#ed7953\"], [0.7777777777777778, \"#fb9f3a\"], [0.8888888888888888, \"#fdca26\"], [1.0, \"#f0f921\"]], \"type\": \"histogram2d\"}], \"histogram2dcontour\": [{\"colorbar\": {\"outlinewidth\": 0, \"ticks\": \"\"}, \"colorscale\": [[0.0, \"#0d0887\"], [0.1111111111111111, \"#46039f\"], [0.2222222222222222, \"#7201a8\"], [0.3333333333333333, \"#9c179e\"], [0.4444444444444444, \"#bd3786\"], [0.5555555555555556, \"#d8576b\"], [0.6666666666666666, \"#ed7953\"], [0.7777777777777778, \"#fb9f3a\"], [0.8888888888888888, \"#fdca26\"], [1.0, \"#f0f921\"]], \"type\": \"histogram2dcontour\"}], \"mesh3d\": [{\"colorbar\": {\"outlinewidth\": 0, \"ticks\": \"\"}, \"type\": \"mesh3d\"}], \"parcoords\": [{\"line\": {\"colorbar\": {\"outlinewidth\": 0, \"ticks\": \"\"}}, \"type\": \"parcoords\"}], \"pie\": [{\"automargin\": true, \"type\": \"pie\"}], \"scatter\": [{\"marker\": {\"colorbar\": {\"outlinewidth\": 0, \"ticks\": \"\"}}, \"type\": \"scatter\"}], \"scatter3d\": [{\"line\": {\"colorbar\": {\"outlinewidth\": 0, \"ticks\": \"\"}}, \"marker\": {\"colorbar\": {\"outlinewidth\": 0, \"ticks\": \"\"}}, \"type\": \"scatter3d\"}], \"scattercarpet\": [{\"marker\": {\"colorbar\": {\"outlinewidth\": 0, \"ticks\": \"\"}}, \"type\": \"scattercarpet\"}], \"scattergeo\": [{\"marker\": {\"colorbar\": {\"outlinewidth\": 0, \"ticks\": \"\"}}, \"type\": \"scattergeo\"}], \"scattergl\": [{\"marker\": {\"colorbar\": {\"outlinewidth\": 0, \"ticks\": \"\"}}, \"type\": \"scattergl\"}], \"scattermapbox\": [{\"marker\": {\"colorbar\": {\"outlinewidth\": 0, \"ticks\": \"\"}}, \"type\": \"scattermapbox\"}], \"scatterpolar\": [{\"marker\": {\"colorbar\": {\"outlinewidth\": 0, \"ticks\": \"\"}}, \"type\": \"scatterpolar\"}], \"scatterpolargl\": [{\"marker\": {\"colorbar\": {\"outlinewidth\": 0, \"ticks\": \"\"}}, \"type\": \"scatterpolargl\"}], \"scatterternary\": [{\"marker\": {\"colorbar\": {\"outlinewidth\": 0, \"ticks\": \"\"}}, \"type\": \"scatterternary\"}], \"surface\": [{\"colorbar\": {\"outlinewidth\": 0, \"ticks\": \"\"}, \"colorscale\": [[0.0, \"#0d0887\"], [0.1111111111111111, \"#46039f\"], [0.2222222222222222, \"#7201a8\"], [0.3333333333333333, \"#9c179e\"], [0.4444444444444444, \"#bd3786\"], [0.5555555555555556, \"#d8576b\"], [0.6666666666666666, \"#ed7953\"], [0.7777777777777778, \"#fb9f3a\"], [0.8888888888888888, \"#fdca26\"], [1.0, \"#f0f921\"]], \"type\": \"surface\"}], \"table\": [{\"cells\": {\"fill\": {\"color\": \"#EBF0F8\"}, \"line\": {\"color\": \"white\"}}, \"header\": {\"fill\": {\"color\": \"#C8D4E3\"}, \"line\": {\"color\": \"white\"}}, \"type\": \"table\"}]}, \"layout\": {\"annotationdefaults\": {\"arrowcolor\": \"#2a3f5f\", \"arrowhead\": 0, \"arrowwidth\": 1}, \"autotypenumbers\": \"strict\", \"coloraxis\": {\"colorbar\": {\"outlinewidth\": 0, \"ticks\": \"\"}}, \"colorscale\": {\"diverging\": [[0, \"#8e0152\"], [0.1, \"#c51b7d\"], [0.2, \"#de77ae\"], [0.3, \"#f1b6da\"], [0.4, \"#fde0ef\"], [0.5, \"#f7f7f7\"], [0.6, \"#e6f5d0\"], [0.7, \"#b8e186\"], [0.8, \"#7fbc41\"], [0.9, \"#4d9221\"], [1, \"#276419\"]], \"sequential\": [[0.0, \"#0d0887\"], [0.1111111111111111, \"#46039f\"], [0.2222222222222222, \"#7201a8\"], [0.3333333333333333, \"#9c179e\"], [0.4444444444444444, \"#bd3786\"], [0.5555555555555556, \"#d8576b\"], [0.6666666666666666, \"#ed7953\"], [0.7777777777777778, \"#fb9f3a\"], [0.8888888888888888, \"#fdca26\"], [1.0, \"#f0f921\"]], \"sequentialminus\": [[0.0, \"#0d0887\"], [0.1111111111111111, \"#46039f\"], [0.2222222222222222, \"#7201a8\"], [0.3333333333333333, \"#9c179e\"], [0.4444444444444444, \"#bd3786\"], [0.5555555555555556, \"#d8576b\"], [0.6666666666666666, \"#ed7953\"], [0.7777777777777778, \"#fb9f3a\"], [0.8888888888888888, \"#fdca26\"], [1.0, \"#f0f921\"]]}, \"colorway\": [\"#636efa\", \"#EF553B\", \"#00cc96\", \"#ab63fa\", \"#FFA15A\", \"#19d3f3\", \"#FF6692\", \"#B6E880\", \"#FF97FF\", \"#FECB52\"], \"font\": {\"color\": \"#2a3f5f\"}, \"geo\": {\"bgcolor\": \"white\", \"lakecolor\": \"white\", \"landcolor\": \"#E5ECF6\", \"showlakes\": true, \"showland\": true, \"subunitcolor\": \"white\"}, \"hoverlabel\": {\"align\": \"left\"}, \"hovermode\": \"closest\", \"mapbox\": {\"style\": \"light\"}, \"paper_bgcolor\": \"white\", \"plot_bgcolor\": \"#E5ECF6\", \"polar\": {\"angularaxis\": {\"gridcolor\": \"white\", \"linecolor\": \"white\", \"ticks\": \"\"}, \"bgcolor\": \"#E5ECF6\", \"radialaxis\": {\"gridcolor\": \"white\", \"linecolor\": \"white\", \"ticks\": \"\"}}, \"scene\": {\"xaxis\": {\"backgroundcolor\": \"#E5ECF6\", \"gridcolor\": \"white\", \"gridwidth\": 2, \"linecolor\": \"white\", \"showbackground\": true, \"ticks\": \"\", \"zerolinecolor\": \"white\"}, \"yaxis\": {\"backgroundcolor\": \"#E5ECF6\", \"gridcolor\": \"white\", \"gridwidth\": 2, \"linecolor\": \"white\", \"showbackground\": true, \"ticks\": \"\", \"zerolinecolor\": \"white\"}, \"zaxis\": {\"backgroundcolor\": \"#E5ECF6\", \"gridcolor\": \"white\", \"gridwidth\": 2, \"linecolor\": \"white\", \"showbackground\": true, \"ticks\": \"\", \"zerolinecolor\": \"white\"}}, \"shapedefaults\": {\"line\": {\"color\": \"#2a3f5f\"}}, \"ternary\": {\"aaxis\": {\"gridcolor\": \"white\", \"linecolor\": \"white\", \"ticks\": \"\"}, \"baxis\": {\"gridcolor\": \"white\", \"linecolor\": \"white\", \"ticks\": \"\"}, \"bgcolor\": \"#E5ECF6\", \"caxis\": {\"gridcolor\": \"white\", \"linecolor\": \"white\", \"ticks\": \"\"}}, \"title\": {\"x\": 0.05}, \"xaxis\": {\"automargin\": true, \"gridcolor\": \"white\", \"linecolor\": \"white\", \"ticks\": \"\", \"title\": {\"standoff\": 15}, \"zerolinecolor\": \"white\", \"zerolinewidth\": 2}, \"yaxis\": {\"automargin\": true, \"gridcolor\": \"white\", \"linecolor\": \"white\", \"ticks\": \"\", \"title\": {\"standoff\": 15}, \"zerolinecolor\": \"white\", \"zerolinewidth\": 2}}}},                        {\"responsive\": true}                    ).then(function(){\n",
       "                            \n",
       "var gd = document.getElementById('23697e42-4f66-4116-839f-abcb17d4a5c9');\n",
       "var x = new MutationObserver(function (mutations, observer) {{\n",
       "        var display = window.getComputedStyle(gd).display;\n",
       "        if (!display || display === 'none') {{\n",
       "            console.log([gd, 'removed!']);\n",
       "            Plotly.purge(gd);\n",
       "            observer.disconnect();\n",
       "        }}\n",
       "}});\n",
       "\n",
       "// Listen for the removal of the full notebook cells\n",
       "var notebookContainer = gd.closest('#notebook-container');\n",
       "if (notebookContainer) {{\n",
       "    x.observe(notebookContainer, {childList: true});\n",
       "}}\n",
       "\n",
       "// Listen for the clearing of the current output cell\n",
       "var outputEl = gd.closest('.output');\n",
       "if (outputEl) {{\n",
       "    x.observe(outputEl, {childList: true});\n",
       "}}\n",
       "\n",
       "                        })                };                });            </script>        </div>"
      ]
     },
     "metadata": {},
     "output_type": "display_data"
    }
   ],
   "source": [
    "fig = go.Figure()\n",
    "for subject, fingers in average_tps.items():\n",
    "    finger_names = list(fingers.keys())\n",
    "    finger_mean = []\n",
    "    finger_std = []\n",
    "    for finger in finger_names:\n",
    "        finger_mean.append(fingers[finger]['mean'])\n",
    "        finger_std.append(fingers[finger]['std'])\n",
    "    fig.add_trace(go.Bar(\n",
    "        name=subject,\n",
    "        x=finger_names,\n",
    "        y=finger_mean,\n",
    "        error_y=dict(type='data', array=finger_std)\n",
    "    ))\n",
    "fig.update_layout(barmode='group')"
   ]
  },
  {
   "cell_type": "markdown",
   "metadata": {},
   "source": [
    "### group per specialty"
   ]
  },
  {
   "cell_type": "code",
   "execution_count": 34,
   "metadata": {},
   "outputs": [],
   "source": [
    "specialty_tps = {}\n",
    "for s in specialty_keys:\n",
    "    specialty_tps[s] = {}\n",
    "\n",
    "for l in ['right', 'left']:\n",
    "    for f in ['index', 'middle', 'thumb']:\n",
    "        key = l + '_' + f\n",
    "        for s in specialty_keys:\n",
    "            specialty_tps[s][key] = []\n",
    "            \n",
    "for key, value in tps_forces.items():\n",
    "    specialty = subject_data.loc[subject_data[\"ID\"] == int(key)][\"Specialty\"].values[0]\n",
    "    for finger, values in value.items(): \n",
    "        f = finger.replace(\"_raw\", \"\")\n",
    "        for run in values:\n",
    "            specialty_tps[specialty][f] = specialty_tps[specialty][f] + run.tolist()"
   ]
  },
  {
   "cell_type": "code",
   "execution_count": 35,
   "metadata": {},
   "outputs": [],
   "source": [
    "average_specialty_tps = {}\n",
    "for s in specialty_keys:\n",
    "    average_specialty_tps[s] = {}\n",
    "\n",
    "for l in ['right', 'left']:\n",
    "    for f in ['index', 'middle', 'thumb']:\n",
    "        key = l + '_' + f\n",
    "        for s in specialty_keys:\n",
    "            average_specialty_tps[s][key] = {}\n",
    "        \n",
    "for specialty, data in specialty_tps.items():\n",
    "    for finger, values in data.items():\n",
    "        average_specialty_tps[specialty][finger][\"mean\"] = np.mean(values)\n",
    "        average_specialty_tps[specialty][finger][\"std\"] = np.std(values)"
   ]
  },
  {
   "cell_type": "code",
   "execution_count": 36,
   "metadata": {},
   "outputs": [],
   "source": [
    "fig = go.Figure()\n",
    "for specialty, fingers in average_specialty_tps.items():\n",
    "    finger_names = list(fingers.keys())\n",
    "    finger_mean = []\n",
    "    finger_std = []\n",
    "    for finger in finger_names:\n",
    "        finger_mean.append(fingers[finger]['mean'])\n",
    "        finger_std.append(fingers[finger]['std'])\n",
    "    fig.add_trace(go.Bar(\n",
    "        name=specialty,\n",
    "        x=finger_names,\n",
    "        y=finger_mean,\n",
    "        error_y=dict(type='data', array=finger_std)\n",
    "    ))\n",
    "fig.update_layout(barmode='group')\n",
    "fig.write_image(join(data_folder, \"figures\", \"tps_per_speciatly.svg\"))"
   ]
  },
  {
   "cell_type": "markdown",
   "metadata": {},
   "source": [
    "### heatmap per specialty"
   ]
  },
  {
   "cell_type": "code",
   "execution_count": 37,
   "metadata": {},
   "outputs": [],
   "source": [
    "for specialty in specialty_keys:\n",
    "    x_values = []\n",
    "    y_values = []\n",
    "    y_min = 8000\n",
    "    y_max = 16000\n",
    "\n",
    "    fig = go.Figure()\n",
    "    for i, finger in enumerate(average_specialty_tps[specialty].keys()):\n",
    "        x_values.append(i)\n",
    "        y_values.append(average_specialty_tps[specialty][finger][\"mean\"])\n",
    "    y_values = (np.array(y_values) - 8000) / 8000\n",
    "\n",
    "    fig.add_trace(go.Scatter(\n",
    "        x=x_values,\n",
    "        y=y_values,\n",
    "        marker=dict(\n",
    "            size=16,\n",
    "            cmax=1,\n",
    "            cmin=0,\n",
    "            color=y_values,\n",
    "            colorbar=dict(\n",
    "                title=\"Colorbar\"\n",
    "            ),\n",
    "            colorscale=\"Turbo\"\n",
    "        ),\n",
    "        mode=\"markers\"))\n",
    "\n",
    "    fig.write_image(join(data_folder, \"figures\", \"colorscale_tps_\" + specialty + \".svg\"))"
   ]
  },
  {
   "cell_type": "markdown",
   "metadata": {},
   "source": [
    "### group per expertise"
   ]
  },
  {
   "cell_type": "code",
   "execution_count": 38,
   "metadata": {},
   "outputs": [],
   "source": [
    "expertise_tps = {}\n",
    "for e in expertise_keys:\n",
    "    expertise_tps[e] = {}\n",
    "\n",
    "for l in ['right', 'left']:\n",
    "    for f in ['index', 'middle', 'thumb']:\n",
    "        key = l + '_' + f\n",
    "        for e in expertise_keys:\n",
    "            expertise_tps[e][key] = []\n",
    "            \n",
    "for key, value in tps_forces.items():\n",
    "    expertise = subject_data.loc[subject_data[\"ID\"] == int(key)][\"Expertise\"].values[0]\n",
    "    for finger, values in value.items(): \n",
    "        f = finger.replace(\"_raw\", \"\")\n",
    "        for run in values:\n",
    "            expertise_tps[expertise][f] = expertise_tps[expertise][f] + run.tolist()"
   ]
  },
  {
   "cell_type": "code",
   "execution_count": 39,
   "metadata": {},
   "outputs": [],
   "source": [
    "average_expertise_tps = {}\n",
    "for e in expertise_keys:\n",
    "    average_expertise_tps[e] = {}\n",
    "\n",
    "for l in ['right', 'left']:\n",
    "    for f in ['index', 'middle', 'thumb']:\n",
    "        key = l + '_' + f\n",
    "        for e in expertise_keys:\n",
    "            average_expertise_tps[e][key] = {}\n",
    "        \n",
    "for expertise, data in expertise_tps.items():\n",
    "    for finger, values in data.items():\n",
    "        average_expertise_tps[expertise][finger][\"mean\"] = np.mean(values)\n",
    "        average_expertise_tps[expertise][finger][\"std\"] = np.std(values)"
   ]
  },
  {
   "cell_type": "code",
   "execution_count": 40,
   "metadata": {},
   "outputs": [],
   "source": [
    "fig = go.Figure()\n",
    "for expertise, fingers in average_expertise_tps.items():\n",
    "    finger_names = list(fingers.keys())\n",
    "    finger_mean = []\n",
    "    finger_std = []\n",
    "    for finger in finger_names:\n",
    "        finger_mean.append(fingers[finger]['mean'])\n",
    "        finger_std.append(fingers[finger]['std'])\n",
    "    fig.add_trace(go.Bar(\n",
    "        name=expertise,\n",
    "        x=finger_names,\n",
    "        y=finger_mean,\n",
    "        error_y=dict(type='data', array=finger_std)\n",
    "    ))\n",
    "fig.update_layout(barmode='group')\n",
    "fig.write_image(join(data_folder, \"figures\", \"tps_per_expertise.svg\"))"
   ]
  },
  {
   "cell_type": "markdown",
   "metadata": {},
   "source": [
    "### heatmap per expertise"
   ]
  },
  {
   "cell_type": "code",
   "execution_count": 41,
   "metadata": {},
   "outputs": [],
   "source": [
    "for expertise in expertise_keys:\n",
    "    x_values = []\n",
    "    y_values = []\n",
    "    y_min = 8000\n",
    "    y_max = 16000\n",
    "\n",
    "    fig = go.Figure()\n",
    "    for i, finger in enumerate(average_expertise_tps[expertise].keys()):\n",
    "        x_values.append(i)\n",
    "        y_values.append(average_expertise_tps[expertise][finger][\"mean\"])\n",
    "    y_values = (np.array(y_values) - 8000) / 8000\n",
    "\n",
    "    fig.add_trace(go.Scatter(\n",
    "        x=x_values,\n",
    "        y=y_values,\n",
    "        marker=dict(\n",
    "            size=16,\n",
    "            cmax=1,\n",
    "            cmin=0,\n",
    "            color=y_values,\n",
    "            colorbar=dict(\n",
    "                title=\"Colorbar\"\n",
    "            ),\n",
    "            colorscale=\"Turbo\"\n",
    "        ),\n",
    "        mode=\"markers\"))\n",
    "\n",
    "    fig.write_image(join(data_folder, \"figures\", \"colorscale_tps_\" + expertise + \".svg\"))"
   ]
  },
  {
   "cell_type": "markdown",
   "metadata": {},
   "source": [
    "### group per specialty & expertise"
   ]
  },
  {
   "cell_type": "code",
   "execution_count": 42,
   "metadata": {},
   "outputs": [],
   "source": [
    "specialty_expertise_tps = {}\n",
    "for s in specialty_keys:\n",
    "    specialty_expertise_tps[s] = {}\n",
    "    for expertise in expertise_keys:\n",
    "        specialty_expertise_tps[s][expertise] = {}\n",
    "\n",
    "for l in ['right', 'left']:\n",
    "    for f in ['index', 'middle', 'thumb']:\n",
    "        key = l + '_' + f\n",
    "        for s in specialty_keys:\n",
    "            for expertise in expertise_keys:\n",
    "                specialty_expertise_tps[s][expertise][key] = []\n",
    "            \n",
    "for key, value in tps_forces.items():\n",
    "    specialty = subject_data.loc[subject_data[\"ID\"] == int(key)][\"Specialty\"].values[0]\n",
    "    expertise = subject_data.loc[subject_data[\"ID\"] == int(key)][\"Expertise\"].values[0]\n",
    "    for finger, values in value.items(): \n",
    "        f = finger.replace(\"_raw\", \"\")\n",
    "        for run in values:\n",
    "            specialty_expertise_tps[specialty][expertise][f] = specialty_expertise_tps[specialty][expertise][f] + run.tolist()"
   ]
  },
  {
   "cell_type": "code",
   "execution_count": 43,
   "metadata": {},
   "outputs": [
    {
     "name": "stderr",
     "output_type": "stream",
     "text": [
      "/home/buschbapti/anaconda3/envs/surgeon_recording/lib/python3.7/site-packages/numpy/core/fromnumeric.py:3335: RuntimeWarning:\n",
      "\n",
      "Mean of empty slice.\n",
      "\n",
      "/home/buschbapti/anaconda3/envs/surgeon_recording/lib/python3.7/site-packages/numpy/core/_methods.py:161: RuntimeWarning:\n",
      "\n",
      "invalid value encountered in double_scalars\n",
      "\n",
      "/home/buschbapti/anaconda3/envs/surgeon_recording/lib/python3.7/site-packages/numpy/core/_methods.py:217: RuntimeWarning:\n",
      "\n",
      "Degrees of freedom <= 0 for slice\n",
      "\n",
      "/home/buschbapti/anaconda3/envs/surgeon_recording/lib/python3.7/site-packages/numpy/core/_methods.py:186: RuntimeWarning:\n",
      "\n",
      "invalid value encountered in true_divide\n",
      "\n"
     ]
    }
   ],
   "source": [
    "average_specialty_expertise_tps = {}\n",
    "for s in specialty_keys:\n",
    "    average_specialty_expertise_tps[s] = {}\n",
    "    for expertise in expertise_keys:\n",
    "        average_specialty_expertise_tps[s][expertise] = {}\n",
    "        average_specialty_expertise_tps[s][expertise] = {}\n",
    "\n",
    "for l in ['right', 'left']:\n",
    "    for f in ['index', 'middle', 'thumb']:\n",
    "        key = l + '_' + f\n",
    "        for s in specialty_keys:\n",
    "            for expertise in expertise_keys:\n",
    "                average_specialty_expertise_tps[s][expertise][key] = {}\n",
    "        \n",
    "for specialty, data in specialty_expertise_tps.items():\n",
    "    for expertise, fingers in data.items():\n",
    "        for finger, values in fingers.items():\n",
    "            average_specialty_expertise_tps[specialty][expertise][finger][\"mean\"] = np.mean(values)\n",
    "            average_specialty_expertise_tps[specialty][expertise][finger][\"std\"] = np.std(values)"
   ]
  },
  {
   "cell_type": "code",
   "execution_count": 44,
   "metadata": {},
   "outputs": [],
   "source": [
    "for specialty in specialty_keys:\n",
    "    fig = go.Figure()\n",
    "    for expertise, fingers in average_specialty_expertise_tps[specialty].items():\n",
    "        finger_names = list(fingers.keys())\n",
    "        finger_mean = []\n",
    "        finger_std = []\n",
    "        for finger in finger_names:\n",
    "            finger_mean.append(fingers[finger]['mean'])\n",
    "            finger_std.append(fingers[finger]['std'])\n",
    "        fig.add_trace(go.Bar(\n",
    "            name=expertise,\n",
    "            x=finger_names,\n",
    "            y=finger_mean,\n",
    "            error_y=dict(type='data', array=finger_std)\n",
    "        ))\n",
    "    fig.update_layout(barmode='group')\n",
    "    fig.write_image(join(data_folder, \"figures\", \"tps_per_expertise_\" + specialty + \".svg\"))"
   ]
  },
  {
   "cell_type": "markdown",
   "metadata": {},
   "source": [
    "### two way ANOVA"
   ]
  },
  {
   "cell_type": "code",
   "execution_count": 45,
   "metadata": {},
   "outputs": [],
   "source": [
    "import statsmodels.api as sm\n",
    "from statsmodels.formula.api import ols\n",
    "import pandas as pd"
   ]
  },
  {
   "cell_type": "code",
   "execution_count": 46,
   "metadata": {},
   "outputs": [],
   "source": [
    "# create the data separating expertise and specialty for each fingers\n",
    "finger_data = {}\n",
    "for l in ['right', 'left']:\n",
    "    for f in ['index', 'middle', 'thumb']:\n",
    "        key = l + '_' + f + '_raw'\n",
    "        finger_data[key] = []\n",
    "    \n",
    "for subject, data in average_tps.items():\n",
    "    specialty = subject_data.loc[subject_data[\"ID\"] == int(subject)][\"Specialty\"].values[0]\n",
    "    expertise = subject_data.loc[subject_data[\"ID\"] == int(subject)][\"Expertise\"].values[0]\n",
    "    for finger, values in data.items():\n",
    "        row = [specialty, expertise, values[\"mean\"]]\n",
    "        finger_data[finger].append(row)\n",
    "                \n",
    "finger_dataframes = {}\n",
    "for finger, values in finger_data.items():\n",
    "    finger_dataframes[finger] = pd.DataFrame(values, columns=[\"specialty\", \"expertise\", \"value\"])"
   ]
  },
  {
   "cell_type": "code",
   "execution_count": 47,
   "metadata": {},
   "outputs": [
    {
     "name": "stderr",
     "output_type": "stream",
     "text": [
      "/home/buschbapti/anaconda3/envs/surgeon_recording/lib/python3.7/site-packages/statsmodels/regression/linear_model.py:1650: RuntimeWarning:\n",
      "\n",
      "divide by zero encountered in double_scalars\n",
      "\n",
      "/home/buschbapti/anaconda3/envs/surgeon_recording/lib/python3.7/site-packages/statsmodels/base/model.py:1452: RuntimeWarning:\n",
      "\n",
      "invalid value encountered in multiply\n",
      "\n"
     ]
    },
    {
     "ename": "ValueError",
     "evalue": "array must not contain infs or NaNs",
     "output_type": "error",
     "traceback": [
      "\u001b[0;31m---------------------------------------------------------------------------\u001b[0m",
      "\u001b[0;31mValueError\u001b[0m                                Traceback (most recent call last)",
      "\u001b[0;32m<ipython-input-47-37dffebb713d>\u001b[0m in \u001b[0;36m<module>\u001b[0;34m\u001b[0m\n\u001b[1;32m      3\u001b[0m     \u001b[0;31m#perform two-way ANOVA\u001b[0m\u001b[0;34m\u001b[0m\u001b[0;34m\u001b[0m\u001b[0;34m\u001b[0m\u001b[0m\n\u001b[1;32m      4\u001b[0m     \u001b[0mmodel\u001b[0m \u001b[0;34m=\u001b[0m \u001b[0mols\u001b[0m\u001b[0;34m(\u001b[0m\u001b[0;34m'value ~ C(specialty) + C(expertise) + C(specialty):C(expertise)'\u001b[0m\u001b[0;34m,\u001b[0m \u001b[0mdata\u001b[0m\u001b[0;34m=\u001b[0m\u001b[0mdataframe\u001b[0m\u001b[0;34m)\u001b[0m\u001b[0;34m.\u001b[0m\u001b[0mfit\u001b[0m\u001b[0;34m(\u001b[0m\u001b[0;34m)\u001b[0m\u001b[0;34m\u001b[0m\u001b[0;34m\u001b[0m\u001b[0m\n\u001b[0;32m----> 5\u001b[0;31m     \u001b[0mfinger_anova_results\u001b[0m\u001b[0;34m[\u001b[0m\u001b[0mfinger\u001b[0m\u001b[0;34m]\u001b[0m \u001b[0;34m=\u001b[0m \u001b[0msm\u001b[0m\u001b[0;34m.\u001b[0m\u001b[0mstats\u001b[0m\u001b[0;34m.\u001b[0m\u001b[0manova_lm\u001b[0m\u001b[0;34m(\u001b[0m\u001b[0mmodel\u001b[0m\u001b[0;34m,\u001b[0m \u001b[0mtyp\u001b[0m\u001b[0;34m=\u001b[0m\u001b[0;36m2\u001b[0m\u001b[0;34m)\u001b[0m\u001b[0;34m\u001b[0m\u001b[0;34m\u001b[0m\u001b[0m\n\u001b[0m",
      "\u001b[0;32m~/anaconda3/envs/surgeon_recording/lib/python3.7/site-packages/statsmodels/stats/anova.py\u001b[0m in \u001b[0;36manova_lm\u001b[0;34m(*args, **kwargs)\u001b[0m\n\u001b[1;32m    347\u001b[0m     \u001b[0;32mif\u001b[0m \u001b[0mlen\u001b[0m\u001b[0;34m(\u001b[0m\u001b[0margs\u001b[0m\u001b[0;34m)\u001b[0m \u001b[0;34m==\u001b[0m \u001b[0;36m1\u001b[0m\u001b[0;34m:\u001b[0m\u001b[0;34m\u001b[0m\u001b[0;34m\u001b[0m\u001b[0m\n\u001b[1;32m    348\u001b[0m         \u001b[0mmodel\u001b[0m \u001b[0;34m=\u001b[0m \u001b[0margs\u001b[0m\u001b[0;34m[\u001b[0m\u001b[0;36m0\u001b[0m\u001b[0;34m]\u001b[0m\u001b[0;34m\u001b[0m\u001b[0;34m\u001b[0m\u001b[0m\n\u001b[0;32m--> 349\u001b[0;31m         \u001b[0;32mreturn\u001b[0m \u001b[0manova_single\u001b[0m\u001b[0;34m(\u001b[0m\u001b[0mmodel\u001b[0m\u001b[0;34m,\u001b[0m \u001b[0;34m**\u001b[0m\u001b[0mkwargs\u001b[0m\u001b[0;34m)\u001b[0m\u001b[0;34m\u001b[0m\u001b[0;34m\u001b[0m\u001b[0m\n\u001b[0m\u001b[1;32m    350\u001b[0m \u001b[0;34m\u001b[0m\u001b[0m\n\u001b[1;32m    351\u001b[0m     \u001b[0;32mif\u001b[0m \u001b[0mtyp\u001b[0m \u001b[0;32mnot\u001b[0m \u001b[0;32min\u001b[0m \u001b[0;34m[\u001b[0m\u001b[0;36m1\u001b[0m\u001b[0;34m,\u001b[0m \u001b[0;34m\"I\"\u001b[0m\u001b[0;34m]\u001b[0m\u001b[0;34m:\u001b[0m\u001b[0;34m\u001b[0m\u001b[0;34m\u001b[0m\u001b[0m\n",
      "\u001b[0;32m~/anaconda3/envs/surgeon_recording/lib/python3.7/site-packages/statsmodels/stats/anova.py\u001b[0m in \u001b[0;36manova_single\u001b[0;34m(model, **kwargs)\u001b[0m\n\u001b[1;32m     79\u001b[0m     \u001b[0;32melif\u001b[0m \u001b[0mtyp\u001b[0m \u001b[0;32min\u001b[0m \u001b[0;34m[\u001b[0m\u001b[0;36m2\u001b[0m\u001b[0;34m,\u001b[0m \u001b[0;34m\"II\"\u001b[0m\u001b[0;34m]\u001b[0m\u001b[0;34m:\u001b[0m\u001b[0;34m\u001b[0m\u001b[0;34m\u001b[0m\u001b[0m\n\u001b[1;32m     80\u001b[0m         return anova2_lm_single(model, design_info, n_rows, test, pr_test,\n\u001b[0;32m---> 81\u001b[0;31m                                 robust)\n\u001b[0m\u001b[1;32m     82\u001b[0m     \u001b[0;32melif\u001b[0m \u001b[0mtyp\u001b[0m \u001b[0;32min\u001b[0m \u001b[0;34m[\u001b[0m\u001b[0;36m3\u001b[0m\u001b[0;34m,\u001b[0m \u001b[0;34m\"III\"\u001b[0m\u001b[0;34m]\u001b[0m\u001b[0;34m:\u001b[0m\u001b[0;34m\u001b[0m\u001b[0;34m\u001b[0m\u001b[0m\n\u001b[1;32m     83\u001b[0m         return anova3_lm_single(model, design_info, n_rows, test, pr_test,\n",
      "\u001b[0;32m~/anaconda3/envs/surgeon_recording/lib/python3.7/site-packages/statsmodels/stats/anova.py\u001b[0m in \u001b[0;36manova2_lm_single\u001b[0;34m(model, design_info, n_rows, test, pr_test, robust)\u001b[0m\n\u001b[1;32m    201\u001b[0m             \u001b[0mLVL\u001b[0m \u001b[0;34m=\u001b[0m \u001b[0mnp\u001b[0m\u001b[0;34m.\u001b[0m\u001b[0mdot\u001b[0m\u001b[0;34m(\u001b[0m\u001b[0mnp\u001b[0m\u001b[0;34m.\u001b[0m\u001b[0mdot\u001b[0m\u001b[0;34m(\u001b[0m\u001b[0mL1\u001b[0m\u001b[0;34m,\u001b[0m\u001b[0mrobust_cov\u001b[0m\u001b[0;34m)\u001b[0m\u001b[0;34m,\u001b[0m\u001b[0mL2\u001b[0m\u001b[0;34m.\u001b[0m\u001b[0mT\u001b[0m\u001b[0;34m)\u001b[0m\u001b[0;34m\u001b[0m\u001b[0;34m\u001b[0m\u001b[0m\n\u001b[1;32m    202\u001b[0m             \u001b[0;32mfrom\u001b[0m \u001b[0mscipy\u001b[0m \u001b[0;32mimport\u001b[0m \u001b[0mlinalg\u001b[0m\u001b[0;34m\u001b[0m\u001b[0;34m\u001b[0m\u001b[0m\n\u001b[0;32m--> 203\u001b[0;31m             \u001b[0morth_compl\u001b[0m\u001b[0;34m,\u001b[0m\u001b[0m_\u001b[0m \u001b[0;34m=\u001b[0m \u001b[0mlinalg\u001b[0m\u001b[0;34m.\u001b[0m\u001b[0mqr\u001b[0m\u001b[0;34m(\u001b[0m\u001b[0mLVL\u001b[0m\u001b[0;34m)\u001b[0m\u001b[0;34m\u001b[0m\u001b[0;34m\u001b[0m\u001b[0m\n\u001b[0m\u001b[1;32m    204\u001b[0m             \u001b[0mr\u001b[0m \u001b[0;34m=\u001b[0m \u001b[0mL1\u001b[0m\u001b[0;34m.\u001b[0m\u001b[0mshape\u001b[0m\u001b[0;34m[\u001b[0m\u001b[0;36m0\u001b[0m\u001b[0;34m]\u001b[0m \u001b[0;34m-\u001b[0m \u001b[0mL2\u001b[0m\u001b[0;34m.\u001b[0m\u001b[0mshape\u001b[0m\u001b[0;34m[\u001b[0m\u001b[0;36m0\u001b[0m\u001b[0;34m]\u001b[0m\u001b[0;34m\u001b[0m\u001b[0;34m\u001b[0m\u001b[0m\n\u001b[1;32m    205\u001b[0m             \u001b[0;31m# L1|2\u001b[0m\u001b[0;34m\u001b[0m\u001b[0;34m\u001b[0m\u001b[0;34m\u001b[0m\u001b[0m\n",
      "\u001b[0;32m~/anaconda3/envs/surgeon_recording/lib/python3.7/site-packages/scipy/linalg/decomp_qr.py\u001b[0m in \u001b[0;36mqr\u001b[0;34m(a, overwrite_a, lwork, mode, pivoting, check_finite)\u001b[0m\n\u001b[1;32m    124\u001b[0m \u001b[0;34m\u001b[0m\u001b[0m\n\u001b[1;32m    125\u001b[0m     \u001b[0;32mif\u001b[0m \u001b[0mcheck_finite\u001b[0m\u001b[0;34m:\u001b[0m\u001b[0;34m\u001b[0m\u001b[0;34m\u001b[0m\u001b[0m\n\u001b[0;32m--> 126\u001b[0;31m         \u001b[0ma1\u001b[0m \u001b[0;34m=\u001b[0m \u001b[0mnumpy\u001b[0m\u001b[0;34m.\u001b[0m\u001b[0masarray_chkfinite\u001b[0m\u001b[0;34m(\u001b[0m\u001b[0ma\u001b[0m\u001b[0;34m)\u001b[0m\u001b[0;34m\u001b[0m\u001b[0;34m\u001b[0m\u001b[0m\n\u001b[0m\u001b[1;32m    127\u001b[0m     \u001b[0;32melse\u001b[0m\u001b[0;34m:\u001b[0m\u001b[0;34m\u001b[0m\u001b[0;34m\u001b[0m\u001b[0m\n\u001b[1;32m    128\u001b[0m         \u001b[0ma1\u001b[0m \u001b[0;34m=\u001b[0m \u001b[0mnumpy\u001b[0m\u001b[0;34m.\u001b[0m\u001b[0masarray\u001b[0m\u001b[0;34m(\u001b[0m\u001b[0ma\u001b[0m\u001b[0;34m)\u001b[0m\u001b[0;34m\u001b[0m\u001b[0;34m\u001b[0m\u001b[0m\n",
      "\u001b[0;32m~/anaconda3/envs/surgeon_recording/lib/python3.7/site-packages/numpy/lib/function_base.py\u001b[0m in \u001b[0;36masarray_chkfinite\u001b[0;34m(a, dtype, order)\u001b[0m\n\u001b[1;32m    497\u001b[0m     \u001b[0;32mif\u001b[0m \u001b[0ma\u001b[0m\u001b[0;34m.\u001b[0m\u001b[0mdtype\u001b[0m\u001b[0;34m.\u001b[0m\u001b[0mchar\u001b[0m \u001b[0;32min\u001b[0m \u001b[0mtypecodes\u001b[0m\u001b[0;34m[\u001b[0m\u001b[0;34m'AllFloat'\u001b[0m\u001b[0;34m]\u001b[0m \u001b[0;32mand\u001b[0m \u001b[0;32mnot\u001b[0m \u001b[0mnp\u001b[0m\u001b[0;34m.\u001b[0m\u001b[0misfinite\u001b[0m\u001b[0;34m(\u001b[0m\u001b[0ma\u001b[0m\u001b[0;34m)\u001b[0m\u001b[0;34m.\u001b[0m\u001b[0mall\u001b[0m\u001b[0;34m(\u001b[0m\u001b[0;34m)\u001b[0m\u001b[0;34m:\u001b[0m\u001b[0;34m\u001b[0m\u001b[0;34m\u001b[0m\u001b[0m\n\u001b[1;32m    498\u001b[0m         raise ValueError(\n\u001b[0;32m--> 499\u001b[0;31m             \"array must not contain infs or NaNs\")\n\u001b[0m\u001b[1;32m    500\u001b[0m     \u001b[0;32mreturn\u001b[0m \u001b[0ma\u001b[0m\u001b[0;34m\u001b[0m\u001b[0;34m\u001b[0m\u001b[0m\n\u001b[1;32m    501\u001b[0m \u001b[0;34m\u001b[0m\u001b[0m\n",
      "\u001b[0;31mValueError\u001b[0m: array must not contain infs or NaNs"
     ]
    }
   ],
   "source": [
    "finger_anova_results = {}\n",
    "for finger, dataframe in finger_dataframes.items():\n",
    "    #perform two-way ANOVA\n",
    "    model = ols('value ~ C(specialty) + C(expertise) + C(specialty):C(expertise)', data=dataframe).fit()\n",
    "    finger_anova_results[finger] = sm.stats.anova_lm(model, typ=2)"
   ]
  },
  {
   "cell_type": "code",
   "execution_count": 48,
   "metadata": {},
   "outputs": [
    {
     "ename": "KeyError",
     "evalue": "'right_index_raw'",
     "output_type": "error",
     "traceback": [
      "\u001b[0;31m---------------------------------------------------------------------------\u001b[0m",
      "\u001b[0;31mKeyError\u001b[0m                                  Traceback (most recent call last)",
      "\u001b[0;32m<ipython-input-48-5bc0db17c564>\u001b[0m in \u001b[0;36m<module>\u001b[0;34m\u001b[0m\n\u001b[0;32m----> 1\u001b[0;31m \u001b[0mfinger_anova_results\u001b[0m\u001b[0;34m[\u001b[0m\u001b[0;34m\"right_index_raw\"\u001b[0m\u001b[0;34m]\u001b[0m\u001b[0;34m\u001b[0m\u001b[0;34m\u001b[0m\u001b[0m\n\u001b[0m",
      "\u001b[0;31mKeyError\u001b[0m: 'right_index_raw'"
     ]
    }
   ],
   "source": [
    "finger_anova_results[\"right_index_raw\"]"
   ]
  },
  {
   "cell_type": "code",
   "execution_count": 49,
   "metadata": {},
   "outputs": [
    {
     "ename": "KeyError",
     "evalue": "'left_index_raw'",
     "output_type": "error",
     "traceback": [
      "\u001b[0;31m---------------------------------------------------------------------------\u001b[0m",
      "\u001b[0;31mKeyError\u001b[0m                                  Traceback (most recent call last)",
      "\u001b[0;32m<ipython-input-49-f25fdf55a419>\u001b[0m in \u001b[0;36m<module>\u001b[0;34m\u001b[0m\n\u001b[0;32m----> 1\u001b[0;31m \u001b[0mfinger_anova_results\u001b[0m\u001b[0;34m[\u001b[0m\u001b[0;34m\"left_index_raw\"\u001b[0m\u001b[0;34m]\u001b[0m\u001b[0;34m\u001b[0m\u001b[0;34m\u001b[0m\u001b[0m\n\u001b[0m",
      "\u001b[0;31mKeyError\u001b[0m: 'left_index_raw'"
     ]
    }
   ],
   "source": [
    "finger_anova_results[\"left_index_raw\"]"
   ]
  },
  {
   "cell_type": "code",
   "execution_count": 50,
   "metadata": {},
   "outputs": [
    {
     "ename": "KeyError",
     "evalue": "'right_middle_raw'",
     "output_type": "error",
     "traceback": [
      "\u001b[0;31m---------------------------------------------------------------------------\u001b[0m",
      "\u001b[0;31mKeyError\u001b[0m                                  Traceback (most recent call last)",
      "\u001b[0;32m<ipython-input-50-9a0f119b3003>\u001b[0m in \u001b[0;36m<module>\u001b[0;34m\u001b[0m\n\u001b[0;32m----> 1\u001b[0;31m \u001b[0mfinger_anova_results\u001b[0m\u001b[0;34m[\u001b[0m\u001b[0;34m\"right_middle_raw\"\u001b[0m\u001b[0;34m]\u001b[0m\u001b[0;34m\u001b[0m\u001b[0;34m\u001b[0m\u001b[0m\n\u001b[0m",
      "\u001b[0;31mKeyError\u001b[0m: 'right_middle_raw'"
     ]
    }
   ],
   "source": [
    "finger_anova_results[\"right_middle_raw\"]"
   ]
  },
  {
   "cell_type": "code",
   "execution_count": 51,
   "metadata": {},
   "outputs": [
    {
     "ename": "KeyError",
     "evalue": "'left_middle_raw'",
     "output_type": "error",
     "traceback": [
      "\u001b[0;31m---------------------------------------------------------------------------\u001b[0m",
      "\u001b[0;31mKeyError\u001b[0m                                  Traceback (most recent call last)",
      "\u001b[0;32m<ipython-input-51-82719283d7f2>\u001b[0m in \u001b[0;36m<module>\u001b[0;34m\u001b[0m\n\u001b[0;32m----> 1\u001b[0;31m \u001b[0mfinger_anova_results\u001b[0m\u001b[0;34m[\u001b[0m\u001b[0;34m\"left_middle_raw\"\u001b[0m\u001b[0;34m]\u001b[0m\u001b[0;34m\u001b[0m\u001b[0;34m\u001b[0m\u001b[0m\n\u001b[0m",
      "\u001b[0;31mKeyError\u001b[0m: 'left_middle_raw'"
     ]
    }
   ],
   "source": [
    "finger_anova_results[\"left_middle_raw\"]"
   ]
  },
  {
   "cell_type": "code",
   "execution_count": 52,
   "metadata": {},
   "outputs": [
    {
     "ename": "KeyError",
     "evalue": "'right_thumb_raw'",
     "output_type": "error",
     "traceback": [
      "\u001b[0;31m---------------------------------------------------------------------------\u001b[0m",
      "\u001b[0;31mKeyError\u001b[0m                                  Traceback (most recent call last)",
      "\u001b[0;32m<ipython-input-52-59fc0d78abb9>\u001b[0m in \u001b[0;36m<module>\u001b[0;34m\u001b[0m\n\u001b[0;32m----> 1\u001b[0;31m \u001b[0mfinger_anova_results\u001b[0m\u001b[0;34m[\u001b[0m\u001b[0;34m\"right_thumb_raw\"\u001b[0m\u001b[0;34m]\u001b[0m\u001b[0;34m\u001b[0m\u001b[0;34m\u001b[0m\u001b[0m\n\u001b[0m",
      "\u001b[0;31mKeyError\u001b[0m: 'right_thumb_raw'"
     ]
    }
   ],
   "source": [
    "finger_anova_results[\"right_thumb_raw\"]"
   ]
  },
  {
   "cell_type": "code",
   "execution_count": 53,
   "metadata": {},
   "outputs": [
    {
     "ename": "KeyError",
     "evalue": "'left_thumb_raw'",
     "output_type": "error",
     "traceback": [
      "\u001b[0;31m---------------------------------------------------------------------------\u001b[0m",
      "\u001b[0;31mKeyError\u001b[0m                                  Traceback (most recent call last)",
      "\u001b[0;32m<ipython-input-53-af1b038b5f1e>\u001b[0m in \u001b[0;36m<module>\u001b[0;34m\u001b[0m\n\u001b[0;32m----> 1\u001b[0;31m \u001b[0mfinger_anova_results\u001b[0m\u001b[0;34m[\u001b[0m\u001b[0;34m\"left_thumb_raw\"\u001b[0m\u001b[0;34m]\u001b[0m\u001b[0;34m\u001b[0m\u001b[0;34m\u001b[0m\u001b[0m\n\u001b[0m",
      "\u001b[0;31mKeyError\u001b[0m: 'left_thumb_raw'"
     ]
    }
   ],
   "source": [
    "finger_anova_results[\"left_thumb_raw\"]"
   ]
  },
  {
   "cell_type": "markdown",
   "metadata": {},
   "source": [
    "### t-test"
   ]
  },
  {
   "cell_type": "code",
   "execution_count": 54,
   "metadata": {},
   "outputs": [],
   "source": [
    "expertise_finger_data = {}\n",
    "specialty_finger_data = {}\n",
    "\n",
    "for l in ['right', 'left']:\n",
    "    for f in ['index', 'middle', 'thumb']:\n",
    "        key = l + '_' + f + '_raw'\n",
    "        expertise_finger_data[key] = {}\n",
    "        specialty_finger_data[key] = {}\n",
    "        for specialty in specialty_keys:\n",
    "            specialty_finger_data[key][specialty] = []\n",
    "        for expertise in expertise_keys:\n",
    "            expertise_finger_data[key][expertise] = []\n",
    "        \n",
    "for subject, data in average_tps_per_run.items():\n",
    "    specialty = subject_data.loc[subject_data[\"ID\"] == int(subject)][\"Specialty\"].values[0]\n",
    "    expertise = subject_data.loc[subject_data[\"ID\"] == int(subject)][\"Expertise\"].values[0]\n",
    "    for finger, values in data.items():\n",
    "        expertise_finger_data[finger][expertise] = expertise_finger_data[finger][expertise] + values\n",
    "        specialty_finger_data[finger][specialty] = specialty_finger_data[finger][specialty] + values"
   ]
  },
  {
   "cell_type": "code",
   "execution_count": 55,
   "metadata": {},
   "outputs": [
    {
     "name": "stdout",
     "output_type": "stream",
     "text": [
      "####### right_index_raw ########\n",
      "diff between novice and expert\n",
      "Ttest_indResult(statistic=nan, pvalue=nan)\n",
      "--------------\n",
      "diff between novice and intermediate1\n",
      "Ttest_indResult(statistic=nan, pvalue=nan)\n",
      "--------------\n",
      "diff between novice and intermediate2\n",
      "Ttest_indResult(statistic=-6.830332035808608, pvalue=0.0024029207893389386)\n",
      "--------------\n",
      "diff between expert and intermediate1\n",
      "Ttest_indResult(statistic=nan, pvalue=nan)\n",
      "--------------\n",
      "diff between expert and intermediate2\n",
      "Ttest_indResult(statistic=nan, pvalue=nan)\n",
      "--------------\n",
      "diff between intermediate1 and intermediate2\n",
      "Ttest_indResult(statistic=nan, pvalue=nan)\n",
      "--------------\n",
      "####### right_middle_raw ########\n",
      "diff between novice and expert\n",
      "Ttest_indResult(statistic=nan, pvalue=nan)\n",
      "--------------\n",
      "diff between novice and intermediate1\n",
      "Ttest_indResult(statistic=nan, pvalue=nan)\n",
      "--------------\n",
      "diff between novice and intermediate2\n",
      "Ttest_indResult(statistic=0.6956990466488792, pvalue=0.5249205657514293)\n",
      "--------------\n",
      "diff between expert and intermediate1\n",
      "Ttest_indResult(statistic=nan, pvalue=nan)\n",
      "--------------\n",
      "diff between expert and intermediate2\n",
      "Ttest_indResult(statistic=nan, pvalue=nan)\n",
      "--------------\n",
      "diff between intermediate1 and intermediate2\n",
      "Ttest_indResult(statistic=nan, pvalue=nan)\n",
      "--------------\n",
      "####### right_thumb_raw ########\n",
      "diff between novice and expert\n",
      "Ttest_indResult(statistic=nan, pvalue=nan)\n",
      "--------------\n",
      "diff between novice and intermediate1\n",
      "Ttest_indResult(statistic=nan, pvalue=nan)\n",
      "--------------\n",
      "diff between novice and intermediate2\n",
      "Ttest_indResult(statistic=46.99500232727992, pvalue=1.2264072922673717e-06)\n",
      "--------------\n",
      "diff between expert and intermediate1\n",
      "Ttest_indResult(statistic=nan, pvalue=nan)\n",
      "--------------\n",
      "diff between expert and intermediate2\n",
      "Ttest_indResult(statistic=nan, pvalue=nan)\n",
      "--------------\n",
      "diff between intermediate1 and intermediate2\n",
      "Ttest_indResult(statistic=nan, pvalue=nan)\n",
      "--------------\n",
      "####### left_index_raw ########\n",
      "diff between novice and expert\n",
      "Ttest_indResult(statistic=nan, pvalue=nan)\n",
      "--------------\n",
      "diff between novice and intermediate1\n",
      "Ttest_indResult(statistic=nan, pvalue=nan)\n",
      "--------------\n",
      "diff between novice and intermediate2\n",
      "Ttest_indResult(statistic=7.554379928894993, pvalue=0.001645326233979946)\n",
      "--------------\n",
      "diff between expert and intermediate1\n",
      "Ttest_indResult(statistic=nan, pvalue=nan)\n",
      "--------------\n",
      "diff between expert and intermediate2\n",
      "Ttest_indResult(statistic=nan, pvalue=nan)\n",
      "--------------\n",
      "diff between intermediate1 and intermediate2\n",
      "Ttest_indResult(statistic=nan, pvalue=nan)\n",
      "--------------\n",
      "####### left_middle_raw ########\n",
      "diff between novice and expert\n",
      "Ttest_indResult(statistic=nan, pvalue=nan)\n",
      "--------------\n",
      "diff between novice and intermediate1\n",
      "Ttest_indResult(statistic=nan, pvalue=nan)\n",
      "--------------\n",
      "diff between novice and intermediate2\n",
      "Ttest_indResult(statistic=2.1705517199339748, pvalue=0.09575098258728397)\n",
      "--------------\n",
      "diff between expert and intermediate1\n",
      "Ttest_indResult(statistic=nan, pvalue=nan)\n",
      "--------------\n",
      "diff between expert and intermediate2\n",
      "Ttest_indResult(statistic=nan, pvalue=nan)\n",
      "--------------\n",
      "diff between intermediate1 and intermediate2\n",
      "Ttest_indResult(statistic=nan, pvalue=nan)\n",
      "--------------\n",
      "####### left_thumb_raw ########\n",
      "diff between novice and expert\n",
      "Ttest_indResult(statistic=nan, pvalue=nan)\n",
      "--------------\n",
      "diff between novice and intermediate1\n",
      "Ttest_indResult(statistic=nan, pvalue=nan)\n",
      "--------------\n",
      "diff between novice and intermediate2\n",
      "Ttest_indResult(statistic=25.381957599242266, pvalue=1.430770603188637e-05)\n",
      "--------------\n",
      "diff between expert and intermediate1\n",
      "Ttest_indResult(statistic=nan, pvalue=nan)\n",
      "--------------\n",
      "diff between expert and intermediate2\n",
      "Ttest_indResult(statistic=nan, pvalue=nan)\n",
      "--------------\n",
      "diff between intermediate1 and intermediate2\n",
      "Ttest_indResult(statistic=nan, pvalue=nan)\n",
      "--------------\n"
     ]
    },
    {
     "name": "stderr",
     "output_type": "stream",
     "text": [
      "/home/buschbapti/anaconda3/envs/surgeon_recording/lib/python3.7/site-packages/numpy/core/fromnumeric.py:3584: RuntimeWarning:\n",
      "\n",
      "Degrees of freedom <= 0 for slice\n",
      "\n",
      "/home/buschbapti/anaconda3/envs/surgeon_recording/lib/python3.7/site-packages/numpy/core/_methods.py:209: RuntimeWarning:\n",
      "\n",
      "invalid value encountered in double_scalars\n",
      "\n"
     ]
    }
   ],
   "source": [
    "for f, data in expertise_finger_data.items():\n",
    "    print('####### ' + f + ' ########')\n",
    "    keys = list(data.keys())\n",
    "    for i in range(len(keys)):\n",
    "        for j in range(i + 1, len(keys)):\n",
    "            print('diff between ' + keys[i] + ' and ' + keys[j])\n",
    "            print(stats.ttest_ind(data[keys[i]], data[keys[j]]))\n",
    "            print('--------------')"
   ]
  },
  {
   "cell_type": "markdown",
   "metadata": {},
   "source": [
    "# EMG analysis"
   ]
  },
  {
   "cell_type": "code",
   "execution_count": 56,
   "metadata": {},
   "outputs": [],
   "source": [
    "average_emg_per_run = {}\n",
    "for key, value in emg_data.items():\n",
    "    average_emg_per_run[key] = {}\n",
    "    for channel, values in value.items():\n",
    "        average_emg_per_run[key][channel] = []\n",
    "        for run in values:\n",
    "            mean_value = np.mean(run)\n",
    "            if mean_value < 1000:\n",
    "                average_emg_per_run[key][channel].append(np.mean(run))"
   ]
  },
  {
   "cell_type": "code",
   "execution_count": 57,
   "metadata": {},
   "outputs": [],
   "source": [
    "average_emg = {}\n",
    "for subject, channels in average_emg_per_run.items():\n",
    "    average_emg[subject] = {}\n",
    "    for channel, values in channels.items():\n",
    "        average_emg[subject][channel] = {}\n",
    "        average_emg[subject][channel]['mean'] = np.mean(values)\n",
    "        average_emg[subject][channel]['std'] = np.std(values)"
   ]
  },
  {
   "cell_type": "code",
   "execution_count": 58,
   "metadata": {},
   "outputs": [
    {
     "data": {
      "application/vnd.plotly.v1+json": {
       "config": {
        "plotlyServerURL": "https://plot.ly"
       },
       "data": [
        {
         "error_y": {
          "array": [
           30.657240129761387,
           0.8907878717538216,
           0.6308176847969816,
           0.568049998204897,
           0.26235915268842414,
           3.750472525087996,
           0.9603796581024817,
           0.7047646399627936
          ],
          "type": "data"
         },
         "name": "7",
         "type": "bar",
         "x": [
          "emg0",
          "emg1",
          "emg2",
          "emg3",
          "emg4",
          "emg5",
          "emg6",
          "emg7"
         ],
         "y": [
          95.8575804125108,
          16.997088749035516,
          15.789414926842321,
          28.89194577436993,
          19.282991313134957,
          27.98771885045853,
          11.875602992230995,
          18.38246345601082
         ]
        },
        {
         "error_y": {
          "array": [
           0,
           0,
           0,
           0,
           0,
           0,
           0,
           0
          ],
          "type": "data"
         },
         "name": "8",
         "type": "bar",
         "x": [
          "emg0",
          "emg1",
          "emg2",
          "emg3",
          "emg4",
          "emg5",
          "emg6",
          "emg7"
         ],
         "y": [
          71.67724890867233,
          19.068181171915594,
          18.497465267655578,
          32.31420119260914,
          41.62913602937327,
          29.23675228361588,
          19.59238286564643,
          16.966351564460314
         ]
        },
        {
         "error_y": {
          "array": [
           0,
           0,
           0,
           0,
           0,
           0,
           0,
           0
          ],
          "type": "data"
         },
         "name": "9",
         "type": "bar",
         "x": [
          "emg0",
          "emg1",
          "emg2",
          "emg3",
          "emg4",
          "emg5",
          "emg6",
          "emg7"
         ],
         "y": [
          60.5802235163796,
          18.45879606780896,
          15.970298608029763,
          39.965614785117914,
          19.343744692857303,
          34.5419128808259,
          11.241993584974628,
          16.75959922873638
         ]
        },
        {
         "error_y": {
          "array": [
           2.7414699018642046,
           1.5268117737793847,
           0.2462588167148938,
           3.0576693001899544,
           1.7873777683185688,
           2.793904447528644,
           0.7323510853458898,
           3.066663419724951
          ],
          "type": "data"
         },
         "name": "10",
         "type": "bar",
         "x": [
          "emg0",
          "emg1",
          "emg2",
          "emg3",
          "emg4",
          "emg5",
          "emg6",
          "emg7"
         ],
         "y": [
          81.95806995330587,
          17.601324164500795,
          13.416406464172027,
          32.54549468960719,
          17.702664352092796,
          30.073728917992653,
          20.58850102540393,
          23.66852798066167
         ]
        }
       ],
       "layout": {
        "barmode": "group",
        "template": {
         "data": {
          "bar": [
           {
            "error_x": {
             "color": "#2a3f5f"
            },
            "error_y": {
             "color": "#2a3f5f"
            },
            "marker": {
             "line": {
              "color": "#E5ECF6",
              "width": 0.5
             }
            },
            "type": "bar"
           }
          ],
          "barpolar": [
           {
            "marker": {
             "line": {
              "color": "#E5ECF6",
              "width": 0.5
             }
            },
            "type": "barpolar"
           }
          ],
          "carpet": [
           {
            "aaxis": {
             "endlinecolor": "#2a3f5f",
             "gridcolor": "white",
             "linecolor": "white",
             "minorgridcolor": "white",
             "startlinecolor": "#2a3f5f"
            },
            "baxis": {
             "endlinecolor": "#2a3f5f",
             "gridcolor": "white",
             "linecolor": "white",
             "minorgridcolor": "white",
             "startlinecolor": "#2a3f5f"
            },
            "type": "carpet"
           }
          ],
          "choropleth": [
           {
            "colorbar": {
             "outlinewidth": 0,
             "ticks": ""
            },
            "type": "choropleth"
           }
          ],
          "contour": [
           {
            "colorbar": {
             "outlinewidth": 0,
             "ticks": ""
            },
            "colorscale": [
             [
              0,
              "#0d0887"
             ],
             [
              0.1111111111111111,
              "#46039f"
             ],
             [
              0.2222222222222222,
              "#7201a8"
             ],
             [
              0.3333333333333333,
              "#9c179e"
             ],
             [
              0.4444444444444444,
              "#bd3786"
             ],
             [
              0.5555555555555556,
              "#d8576b"
             ],
             [
              0.6666666666666666,
              "#ed7953"
             ],
             [
              0.7777777777777778,
              "#fb9f3a"
             ],
             [
              0.8888888888888888,
              "#fdca26"
             ],
             [
              1,
              "#f0f921"
             ]
            ],
            "type": "contour"
           }
          ],
          "contourcarpet": [
           {
            "colorbar": {
             "outlinewidth": 0,
             "ticks": ""
            },
            "type": "contourcarpet"
           }
          ],
          "heatmap": [
           {
            "colorbar": {
             "outlinewidth": 0,
             "ticks": ""
            },
            "colorscale": [
             [
              0,
              "#0d0887"
             ],
             [
              0.1111111111111111,
              "#46039f"
             ],
             [
              0.2222222222222222,
              "#7201a8"
             ],
             [
              0.3333333333333333,
              "#9c179e"
             ],
             [
              0.4444444444444444,
              "#bd3786"
             ],
             [
              0.5555555555555556,
              "#d8576b"
             ],
             [
              0.6666666666666666,
              "#ed7953"
             ],
             [
              0.7777777777777778,
              "#fb9f3a"
             ],
             [
              0.8888888888888888,
              "#fdca26"
             ],
             [
              1,
              "#f0f921"
             ]
            ],
            "type": "heatmap"
           }
          ],
          "heatmapgl": [
           {
            "colorbar": {
             "outlinewidth": 0,
             "ticks": ""
            },
            "colorscale": [
             [
              0,
              "#0d0887"
             ],
             [
              0.1111111111111111,
              "#46039f"
             ],
             [
              0.2222222222222222,
              "#7201a8"
             ],
             [
              0.3333333333333333,
              "#9c179e"
             ],
             [
              0.4444444444444444,
              "#bd3786"
             ],
             [
              0.5555555555555556,
              "#d8576b"
             ],
             [
              0.6666666666666666,
              "#ed7953"
             ],
             [
              0.7777777777777778,
              "#fb9f3a"
             ],
             [
              0.8888888888888888,
              "#fdca26"
             ],
             [
              1,
              "#f0f921"
             ]
            ],
            "type": "heatmapgl"
           }
          ],
          "histogram": [
           {
            "marker": {
             "colorbar": {
              "outlinewidth": 0,
              "ticks": ""
             }
            },
            "type": "histogram"
           }
          ],
          "histogram2d": [
           {
            "colorbar": {
             "outlinewidth": 0,
             "ticks": ""
            },
            "colorscale": [
             [
              0,
              "#0d0887"
             ],
             [
              0.1111111111111111,
              "#46039f"
             ],
             [
              0.2222222222222222,
              "#7201a8"
             ],
             [
              0.3333333333333333,
              "#9c179e"
             ],
             [
              0.4444444444444444,
              "#bd3786"
             ],
             [
              0.5555555555555556,
              "#d8576b"
             ],
             [
              0.6666666666666666,
              "#ed7953"
             ],
             [
              0.7777777777777778,
              "#fb9f3a"
             ],
             [
              0.8888888888888888,
              "#fdca26"
             ],
             [
              1,
              "#f0f921"
             ]
            ],
            "type": "histogram2d"
           }
          ],
          "histogram2dcontour": [
           {
            "colorbar": {
             "outlinewidth": 0,
             "ticks": ""
            },
            "colorscale": [
             [
              0,
              "#0d0887"
             ],
             [
              0.1111111111111111,
              "#46039f"
             ],
             [
              0.2222222222222222,
              "#7201a8"
             ],
             [
              0.3333333333333333,
              "#9c179e"
             ],
             [
              0.4444444444444444,
              "#bd3786"
             ],
             [
              0.5555555555555556,
              "#d8576b"
             ],
             [
              0.6666666666666666,
              "#ed7953"
             ],
             [
              0.7777777777777778,
              "#fb9f3a"
             ],
             [
              0.8888888888888888,
              "#fdca26"
             ],
             [
              1,
              "#f0f921"
             ]
            ],
            "type": "histogram2dcontour"
           }
          ],
          "mesh3d": [
           {
            "colorbar": {
             "outlinewidth": 0,
             "ticks": ""
            },
            "type": "mesh3d"
           }
          ],
          "parcoords": [
           {
            "line": {
             "colorbar": {
              "outlinewidth": 0,
              "ticks": ""
             }
            },
            "type": "parcoords"
           }
          ],
          "pie": [
           {
            "automargin": true,
            "type": "pie"
           }
          ],
          "scatter": [
           {
            "marker": {
             "colorbar": {
              "outlinewidth": 0,
              "ticks": ""
             }
            },
            "type": "scatter"
           }
          ],
          "scatter3d": [
           {
            "line": {
             "colorbar": {
              "outlinewidth": 0,
              "ticks": ""
             }
            },
            "marker": {
             "colorbar": {
              "outlinewidth": 0,
              "ticks": ""
             }
            },
            "type": "scatter3d"
           }
          ],
          "scattercarpet": [
           {
            "marker": {
             "colorbar": {
              "outlinewidth": 0,
              "ticks": ""
             }
            },
            "type": "scattercarpet"
           }
          ],
          "scattergeo": [
           {
            "marker": {
             "colorbar": {
              "outlinewidth": 0,
              "ticks": ""
             }
            },
            "type": "scattergeo"
           }
          ],
          "scattergl": [
           {
            "marker": {
             "colorbar": {
              "outlinewidth": 0,
              "ticks": ""
             }
            },
            "type": "scattergl"
           }
          ],
          "scattermapbox": [
           {
            "marker": {
             "colorbar": {
              "outlinewidth": 0,
              "ticks": ""
             }
            },
            "type": "scattermapbox"
           }
          ],
          "scatterpolar": [
           {
            "marker": {
             "colorbar": {
              "outlinewidth": 0,
              "ticks": ""
             }
            },
            "type": "scatterpolar"
           }
          ],
          "scatterpolargl": [
           {
            "marker": {
             "colorbar": {
              "outlinewidth": 0,
              "ticks": ""
             }
            },
            "type": "scatterpolargl"
           }
          ],
          "scatterternary": [
           {
            "marker": {
             "colorbar": {
              "outlinewidth": 0,
              "ticks": ""
             }
            },
            "type": "scatterternary"
           }
          ],
          "surface": [
           {
            "colorbar": {
             "outlinewidth": 0,
             "ticks": ""
            },
            "colorscale": [
             [
              0,
              "#0d0887"
             ],
             [
              0.1111111111111111,
              "#46039f"
             ],
             [
              0.2222222222222222,
              "#7201a8"
             ],
             [
              0.3333333333333333,
              "#9c179e"
             ],
             [
              0.4444444444444444,
              "#bd3786"
             ],
             [
              0.5555555555555556,
              "#d8576b"
             ],
             [
              0.6666666666666666,
              "#ed7953"
             ],
             [
              0.7777777777777778,
              "#fb9f3a"
             ],
             [
              0.8888888888888888,
              "#fdca26"
             ],
             [
              1,
              "#f0f921"
             ]
            ],
            "type": "surface"
           }
          ],
          "table": [
           {
            "cells": {
             "fill": {
              "color": "#EBF0F8"
             },
             "line": {
              "color": "white"
             }
            },
            "header": {
             "fill": {
              "color": "#C8D4E3"
             },
             "line": {
              "color": "white"
             }
            },
            "type": "table"
           }
          ]
         },
         "layout": {
          "annotationdefaults": {
           "arrowcolor": "#2a3f5f",
           "arrowhead": 0,
           "arrowwidth": 1
          },
          "autotypenumbers": "strict",
          "coloraxis": {
           "colorbar": {
            "outlinewidth": 0,
            "ticks": ""
           }
          },
          "colorscale": {
           "diverging": [
            [
             0,
             "#8e0152"
            ],
            [
             0.1,
             "#c51b7d"
            ],
            [
             0.2,
             "#de77ae"
            ],
            [
             0.3,
             "#f1b6da"
            ],
            [
             0.4,
             "#fde0ef"
            ],
            [
             0.5,
             "#f7f7f7"
            ],
            [
             0.6,
             "#e6f5d0"
            ],
            [
             0.7,
             "#b8e186"
            ],
            [
             0.8,
             "#7fbc41"
            ],
            [
             0.9,
             "#4d9221"
            ],
            [
             1,
             "#276419"
            ]
           ],
           "sequential": [
            [
             0,
             "#0d0887"
            ],
            [
             0.1111111111111111,
             "#46039f"
            ],
            [
             0.2222222222222222,
             "#7201a8"
            ],
            [
             0.3333333333333333,
             "#9c179e"
            ],
            [
             0.4444444444444444,
             "#bd3786"
            ],
            [
             0.5555555555555556,
             "#d8576b"
            ],
            [
             0.6666666666666666,
             "#ed7953"
            ],
            [
             0.7777777777777778,
             "#fb9f3a"
            ],
            [
             0.8888888888888888,
             "#fdca26"
            ],
            [
             1,
             "#f0f921"
            ]
           ],
           "sequentialminus": [
            [
             0,
             "#0d0887"
            ],
            [
             0.1111111111111111,
             "#46039f"
            ],
            [
             0.2222222222222222,
             "#7201a8"
            ],
            [
             0.3333333333333333,
             "#9c179e"
            ],
            [
             0.4444444444444444,
             "#bd3786"
            ],
            [
             0.5555555555555556,
             "#d8576b"
            ],
            [
             0.6666666666666666,
             "#ed7953"
            ],
            [
             0.7777777777777778,
             "#fb9f3a"
            ],
            [
             0.8888888888888888,
             "#fdca26"
            ],
            [
             1,
             "#f0f921"
            ]
           ]
          },
          "colorway": [
           "#636efa",
           "#EF553B",
           "#00cc96",
           "#ab63fa",
           "#FFA15A",
           "#19d3f3",
           "#FF6692",
           "#B6E880",
           "#FF97FF",
           "#FECB52"
          ],
          "font": {
           "color": "#2a3f5f"
          },
          "geo": {
           "bgcolor": "white",
           "lakecolor": "white",
           "landcolor": "#E5ECF6",
           "showlakes": true,
           "showland": true,
           "subunitcolor": "white"
          },
          "hoverlabel": {
           "align": "left"
          },
          "hovermode": "closest",
          "mapbox": {
           "style": "light"
          },
          "paper_bgcolor": "white",
          "plot_bgcolor": "#E5ECF6",
          "polar": {
           "angularaxis": {
            "gridcolor": "white",
            "linecolor": "white",
            "ticks": ""
           },
           "bgcolor": "#E5ECF6",
           "radialaxis": {
            "gridcolor": "white",
            "linecolor": "white",
            "ticks": ""
           }
          },
          "scene": {
           "xaxis": {
            "backgroundcolor": "#E5ECF6",
            "gridcolor": "white",
            "gridwidth": 2,
            "linecolor": "white",
            "showbackground": true,
            "ticks": "",
            "zerolinecolor": "white"
           },
           "yaxis": {
            "backgroundcolor": "#E5ECF6",
            "gridcolor": "white",
            "gridwidth": 2,
            "linecolor": "white",
            "showbackground": true,
            "ticks": "",
            "zerolinecolor": "white"
           },
           "zaxis": {
            "backgroundcolor": "#E5ECF6",
            "gridcolor": "white",
            "gridwidth": 2,
            "linecolor": "white",
            "showbackground": true,
            "ticks": "",
            "zerolinecolor": "white"
           }
          },
          "shapedefaults": {
           "line": {
            "color": "#2a3f5f"
           }
          },
          "ternary": {
           "aaxis": {
            "gridcolor": "white",
            "linecolor": "white",
            "ticks": ""
           },
           "baxis": {
            "gridcolor": "white",
            "linecolor": "white",
            "ticks": ""
           },
           "bgcolor": "#E5ECF6",
           "caxis": {
            "gridcolor": "white",
            "linecolor": "white",
            "ticks": ""
           }
          },
          "title": {
           "x": 0.05
          },
          "xaxis": {
           "automargin": true,
           "gridcolor": "white",
           "linecolor": "white",
           "ticks": "",
           "title": {
            "standoff": 15
           },
           "zerolinecolor": "white",
           "zerolinewidth": 2
          },
          "yaxis": {
           "automargin": true,
           "gridcolor": "white",
           "linecolor": "white",
           "ticks": "",
           "title": {
            "standoff": 15
           },
           "zerolinecolor": "white",
           "zerolinewidth": 2
          }
         }
        }
       }
      },
      "text/html": [
       "<div>                            <div id=\"7e8ee9bd-6e44-40e2-acf0-1937c5c3f889\" class=\"plotly-graph-div\" style=\"height:525px; width:100%;\"></div>            <script type=\"text/javascript\">                require([\"plotly\"], function(Plotly) {                    window.PLOTLYENV=window.PLOTLYENV || {};                                    if (document.getElementById(\"7e8ee9bd-6e44-40e2-acf0-1937c5c3f889\")) {                    Plotly.newPlot(                        \"7e8ee9bd-6e44-40e2-acf0-1937c5c3f889\",                        [{\"error_y\": {\"array\": [30.657240129761387, 0.8907878717538216, 0.6308176847969816, 0.568049998204897, 0.26235915268842414, 3.750472525087996, 0.9603796581024817, 0.7047646399627936], \"type\": \"data\"}, \"name\": \"7\", \"type\": \"bar\", \"x\": [\"emg0\", \"emg1\", \"emg2\", \"emg3\", \"emg4\", \"emg5\", \"emg6\", \"emg7\"], \"y\": [95.8575804125108, 16.997088749035516, 15.789414926842321, 28.89194577436993, 19.282991313134957, 27.98771885045853, 11.875602992230995, 18.38246345601082]}, {\"error_y\": {\"array\": [0.0, 0.0, 0.0, 0.0, 0.0, 0.0, 0.0, 0.0], \"type\": \"data\"}, \"name\": \"8\", \"type\": \"bar\", \"x\": [\"emg0\", \"emg1\", \"emg2\", \"emg3\", \"emg4\", \"emg5\", \"emg6\", \"emg7\"], \"y\": [71.67724890867233, 19.068181171915594, 18.497465267655578, 32.31420119260914, 41.62913602937327, 29.23675228361588, 19.59238286564643, 16.966351564460314]}, {\"error_y\": {\"array\": [0.0, 0.0, 0.0, 0.0, 0.0, 0.0, 0.0, 0.0], \"type\": \"data\"}, \"name\": \"9\", \"type\": \"bar\", \"x\": [\"emg0\", \"emg1\", \"emg2\", \"emg3\", \"emg4\", \"emg5\", \"emg6\", \"emg7\"], \"y\": [60.5802235163796, 18.45879606780896, 15.970298608029763, 39.965614785117914, 19.343744692857303, 34.5419128808259, 11.241993584974628, 16.75959922873638]}, {\"error_y\": {\"array\": [2.7414699018642046, 1.5268117737793847, 0.2462588167148938, 3.0576693001899544, 1.7873777683185688, 2.793904447528644, 0.7323510853458898, 3.066663419724951], \"type\": \"data\"}, \"name\": \"10\", \"type\": \"bar\", \"x\": [\"emg0\", \"emg1\", \"emg2\", \"emg3\", \"emg4\", \"emg5\", \"emg6\", \"emg7\"], \"y\": [81.95806995330587, 17.601324164500795, 13.416406464172027, 32.54549468960719, 17.702664352092796, 30.073728917992653, 20.58850102540393, 23.66852798066167]}],                        {\"barmode\": \"group\", \"template\": {\"data\": {\"bar\": [{\"error_x\": {\"color\": \"#2a3f5f\"}, \"error_y\": {\"color\": \"#2a3f5f\"}, \"marker\": {\"line\": {\"color\": \"#E5ECF6\", \"width\": 0.5}}, \"type\": \"bar\"}], \"barpolar\": [{\"marker\": {\"line\": {\"color\": \"#E5ECF6\", \"width\": 0.5}}, \"type\": \"barpolar\"}], \"carpet\": [{\"aaxis\": {\"endlinecolor\": \"#2a3f5f\", \"gridcolor\": \"white\", \"linecolor\": \"white\", \"minorgridcolor\": \"white\", \"startlinecolor\": \"#2a3f5f\"}, \"baxis\": {\"endlinecolor\": \"#2a3f5f\", \"gridcolor\": \"white\", \"linecolor\": \"white\", \"minorgridcolor\": \"white\", \"startlinecolor\": \"#2a3f5f\"}, \"type\": \"carpet\"}], \"choropleth\": [{\"colorbar\": {\"outlinewidth\": 0, \"ticks\": \"\"}, \"type\": \"choropleth\"}], \"contour\": [{\"colorbar\": {\"outlinewidth\": 0, \"ticks\": \"\"}, \"colorscale\": [[0.0, \"#0d0887\"], [0.1111111111111111, \"#46039f\"], [0.2222222222222222, \"#7201a8\"], [0.3333333333333333, \"#9c179e\"], [0.4444444444444444, \"#bd3786\"], [0.5555555555555556, \"#d8576b\"], [0.6666666666666666, \"#ed7953\"], [0.7777777777777778, \"#fb9f3a\"], [0.8888888888888888, \"#fdca26\"], [1.0, \"#f0f921\"]], \"type\": \"contour\"}], \"contourcarpet\": [{\"colorbar\": {\"outlinewidth\": 0, \"ticks\": \"\"}, \"type\": \"contourcarpet\"}], \"heatmap\": [{\"colorbar\": {\"outlinewidth\": 0, \"ticks\": \"\"}, \"colorscale\": [[0.0, \"#0d0887\"], [0.1111111111111111, \"#46039f\"], [0.2222222222222222, \"#7201a8\"], [0.3333333333333333, \"#9c179e\"], [0.4444444444444444, \"#bd3786\"], [0.5555555555555556, \"#d8576b\"], [0.6666666666666666, \"#ed7953\"], [0.7777777777777778, \"#fb9f3a\"], [0.8888888888888888, \"#fdca26\"], [1.0, \"#f0f921\"]], \"type\": \"heatmap\"}], \"heatmapgl\": [{\"colorbar\": {\"outlinewidth\": 0, \"ticks\": \"\"}, \"colorscale\": [[0.0, \"#0d0887\"], [0.1111111111111111, \"#46039f\"], [0.2222222222222222, \"#7201a8\"], [0.3333333333333333, \"#9c179e\"], [0.4444444444444444, \"#bd3786\"], [0.5555555555555556, \"#d8576b\"], [0.6666666666666666, \"#ed7953\"], [0.7777777777777778, \"#fb9f3a\"], [0.8888888888888888, \"#fdca26\"], [1.0, \"#f0f921\"]], \"type\": \"heatmapgl\"}], \"histogram\": [{\"marker\": {\"colorbar\": {\"outlinewidth\": 0, \"ticks\": \"\"}}, \"type\": \"histogram\"}], \"histogram2d\": [{\"colorbar\": {\"outlinewidth\": 0, \"ticks\": \"\"}, \"colorscale\": [[0.0, \"#0d0887\"], [0.1111111111111111, \"#46039f\"], [0.2222222222222222, \"#7201a8\"], [0.3333333333333333, \"#9c179e\"], [0.4444444444444444, \"#bd3786\"], [0.5555555555555556, \"#d8576b\"], [0.6666666666666666, \"#ed7953\"], [0.7777777777777778, \"#fb9f3a\"], [0.8888888888888888, \"#fdca26\"], [1.0, \"#f0f921\"]], \"type\": \"histogram2d\"}], \"histogram2dcontour\": [{\"colorbar\": {\"outlinewidth\": 0, \"ticks\": \"\"}, \"colorscale\": [[0.0, \"#0d0887\"], [0.1111111111111111, \"#46039f\"], [0.2222222222222222, \"#7201a8\"], [0.3333333333333333, \"#9c179e\"], [0.4444444444444444, \"#bd3786\"], [0.5555555555555556, \"#d8576b\"], [0.6666666666666666, \"#ed7953\"], [0.7777777777777778, \"#fb9f3a\"], [0.8888888888888888, \"#fdca26\"], [1.0, \"#f0f921\"]], \"type\": \"histogram2dcontour\"}], \"mesh3d\": [{\"colorbar\": {\"outlinewidth\": 0, \"ticks\": \"\"}, \"type\": \"mesh3d\"}], \"parcoords\": [{\"line\": {\"colorbar\": {\"outlinewidth\": 0, \"ticks\": \"\"}}, \"type\": \"parcoords\"}], \"pie\": [{\"automargin\": true, \"type\": \"pie\"}], \"scatter\": [{\"marker\": {\"colorbar\": {\"outlinewidth\": 0, \"ticks\": \"\"}}, \"type\": \"scatter\"}], \"scatter3d\": [{\"line\": {\"colorbar\": {\"outlinewidth\": 0, \"ticks\": \"\"}}, \"marker\": {\"colorbar\": {\"outlinewidth\": 0, \"ticks\": \"\"}}, \"type\": \"scatter3d\"}], \"scattercarpet\": [{\"marker\": {\"colorbar\": {\"outlinewidth\": 0, \"ticks\": \"\"}}, \"type\": \"scattercarpet\"}], \"scattergeo\": [{\"marker\": {\"colorbar\": {\"outlinewidth\": 0, \"ticks\": \"\"}}, \"type\": \"scattergeo\"}], \"scattergl\": [{\"marker\": {\"colorbar\": {\"outlinewidth\": 0, \"ticks\": \"\"}}, \"type\": \"scattergl\"}], \"scattermapbox\": [{\"marker\": {\"colorbar\": {\"outlinewidth\": 0, \"ticks\": \"\"}}, \"type\": \"scattermapbox\"}], \"scatterpolar\": [{\"marker\": {\"colorbar\": {\"outlinewidth\": 0, \"ticks\": \"\"}}, \"type\": \"scatterpolar\"}], \"scatterpolargl\": [{\"marker\": {\"colorbar\": {\"outlinewidth\": 0, \"ticks\": \"\"}}, \"type\": \"scatterpolargl\"}], \"scatterternary\": [{\"marker\": {\"colorbar\": {\"outlinewidth\": 0, \"ticks\": \"\"}}, \"type\": \"scatterternary\"}], \"surface\": [{\"colorbar\": {\"outlinewidth\": 0, \"ticks\": \"\"}, \"colorscale\": [[0.0, \"#0d0887\"], [0.1111111111111111, \"#46039f\"], [0.2222222222222222, \"#7201a8\"], [0.3333333333333333, \"#9c179e\"], [0.4444444444444444, \"#bd3786\"], [0.5555555555555556, \"#d8576b\"], [0.6666666666666666, \"#ed7953\"], [0.7777777777777778, \"#fb9f3a\"], [0.8888888888888888, \"#fdca26\"], [1.0, \"#f0f921\"]], \"type\": \"surface\"}], \"table\": [{\"cells\": {\"fill\": {\"color\": \"#EBF0F8\"}, \"line\": {\"color\": \"white\"}}, \"header\": {\"fill\": {\"color\": \"#C8D4E3\"}, \"line\": {\"color\": \"white\"}}, \"type\": \"table\"}]}, \"layout\": {\"annotationdefaults\": {\"arrowcolor\": \"#2a3f5f\", \"arrowhead\": 0, \"arrowwidth\": 1}, \"autotypenumbers\": \"strict\", \"coloraxis\": {\"colorbar\": {\"outlinewidth\": 0, \"ticks\": \"\"}}, \"colorscale\": {\"diverging\": [[0, \"#8e0152\"], [0.1, \"#c51b7d\"], [0.2, \"#de77ae\"], [0.3, \"#f1b6da\"], [0.4, \"#fde0ef\"], [0.5, \"#f7f7f7\"], [0.6, \"#e6f5d0\"], [0.7, \"#b8e186\"], [0.8, \"#7fbc41\"], [0.9, \"#4d9221\"], [1, \"#276419\"]], \"sequential\": [[0.0, \"#0d0887\"], [0.1111111111111111, \"#46039f\"], [0.2222222222222222, \"#7201a8\"], [0.3333333333333333, \"#9c179e\"], [0.4444444444444444, \"#bd3786\"], [0.5555555555555556, \"#d8576b\"], [0.6666666666666666, \"#ed7953\"], [0.7777777777777778, \"#fb9f3a\"], [0.8888888888888888, \"#fdca26\"], [1.0, \"#f0f921\"]], \"sequentialminus\": [[0.0, \"#0d0887\"], [0.1111111111111111, \"#46039f\"], [0.2222222222222222, \"#7201a8\"], [0.3333333333333333, \"#9c179e\"], [0.4444444444444444, \"#bd3786\"], [0.5555555555555556, \"#d8576b\"], [0.6666666666666666, \"#ed7953\"], [0.7777777777777778, \"#fb9f3a\"], [0.8888888888888888, \"#fdca26\"], [1.0, \"#f0f921\"]]}, \"colorway\": [\"#636efa\", \"#EF553B\", \"#00cc96\", \"#ab63fa\", \"#FFA15A\", \"#19d3f3\", \"#FF6692\", \"#B6E880\", \"#FF97FF\", \"#FECB52\"], \"font\": {\"color\": \"#2a3f5f\"}, \"geo\": {\"bgcolor\": \"white\", \"lakecolor\": \"white\", \"landcolor\": \"#E5ECF6\", \"showlakes\": true, \"showland\": true, \"subunitcolor\": \"white\"}, \"hoverlabel\": {\"align\": \"left\"}, \"hovermode\": \"closest\", \"mapbox\": {\"style\": \"light\"}, \"paper_bgcolor\": \"white\", \"plot_bgcolor\": \"#E5ECF6\", \"polar\": {\"angularaxis\": {\"gridcolor\": \"white\", \"linecolor\": \"white\", \"ticks\": \"\"}, \"bgcolor\": \"#E5ECF6\", \"radialaxis\": {\"gridcolor\": \"white\", \"linecolor\": \"white\", \"ticks\": \"\"}}, \"scene\": {\"xaxis\": {\"backgroundcolor\": \"#E5ECF6\", \"gridcolor\": \"white\", \"gridwidth\": 2, \"linecolor\": \"white\", \"showbackground\": true, \"ticks\": \"\", \"zerolinecolor\": \"white\"}, \"yaxis\": {\"backgroundcolor\": \"#E5ECF6\", \"gridcolor\": \"white\", \"gridwidth\": 2, \"linecolor\": \"white\", \"showbackground\": true, \"ticks\": \"\", \"zerolinecolor\": \"white\"}, \"zaxis\": {\"backgroundcolor\": \"#E5ECF6\", \"gridcolor\": \"white\", \"gridwidth\": 2, \"linecolor\": \"white\", \"showbackground\": true, \"ticks\": \"\", \"zerolinecolor\": \"white\"}}, \"shapedefaults\": {\"line\": {\"color\": \"#2a3f5f\"}}, \"ternary\": {\"aaxis\": {\"gridcolor\": \"white\", \"linecolor\": \"white\", \"ticks\": \"\"}, \"baxis\": {\"gridcolor\": \"white\", \"linecolor\": \"white\", \"ticks\": \"\"}, \"bgcolor\": \"#E5ECF6\", \"caxis\": {\"gridcolor\": \"white\", \"linecolor\": \"white\", \"ticks\": \"\"}}, \"title\": {\"x\": 0.05}, \"xaxis\": {\"automargin\": true, \"gridcolor\": \"white\", \"linecolor\": \"white\", \"ticks\": \"\", \"title\": {\"standoff\": 15}, \"zerolinecolor\": \"white\", \"zerolinewidth\": 2}, \"yaxis\": {\"automargin\": true, \"gridcolor\": \"white\", \"linecolor\": \"white\", \"ticks\": \"\", \"title\": {\"standoff\": 15}, \"zerolinecolor\": \"white\", \"zerolinewidth\": 2}}}},                        {\"responsive\": true}                    ).then(function(){\n",
       "                            \n",
       "var gd = document.getElementById('7e8ee9bd-6e44-40e2-acf0-1937c5c3f889');\n",
       "var x = new MutationObserver(function (mutations, observer) {{\n",
       "        var display = window.getComputedStyle(gd).display;\n",
       "        if (!display || display === 'none') {{\n",
       "            console.log([gd, 'removed!']);\n",
       "            Plotly.purge(gd);\n",
       "            observer.disconnect();\n",
       "        }}\n",
       "}});\n",
       "\n",
       "// Listen for the removal of the full notebook cells\n",
       "var notebookContainer = gd.closest('#notebook-container');\n",
       "if (notebookContainer) {{\n",
       "    x.observe(notebookContainer, {childList: true});\n",
       "}}\n",
       "\n",
       "// Listen for the clearing of the current output cell\n",
       "var outputEl = gd.closest('.output');\n",
       "if (outputEl) {{\n",
       "    x.observe(outputEl, {childList: true});\n",
       "}}\n",
       "\n",
       "                        })                };                });            </script>        </div>"
      ]
     },
     "metadata": {},
     "output_type": "display_data"
    }
   ],
   "source": [
    "fig = go.Figure()\n",
    "for subject, channels in average_emg.items():\n",
    "    channel_names = list(channels.keys())\n",
    "    channel_mean = []\n",
    "    channel_std = []\n",
    "    for channel in channel_names:\n",
    "        channel_mean.append(channels[channel]['mean'])\n",
    "        channel_std.append(channels[channel]['std'])\n",
    "    fig.add_trace(go.Bar(\n",
    "        name=subject,\n",
    "        x=channel_names,\n",
    "        y=channel_mean,\n",
    "        error_y=dict(type='data', array=channel_std)\n",
    "    ))\n",
    "fig.update_layout(barmode='group')"
   ]
  },
  {
   "cell_type": "markdown",
   "metadata": {},
   "source": [
    "### group per specialty"
   ]
  },
  {
   "cell_type": "code",
   "execution_count": 59,
   "metadata": {},
   "outputs": [],
   "source": [
    "specialty_emg = {}\n",
    "for s in specialty_keys:\n",
    "    specialty_emg[s] = {}\n",
    "\n",
    "for key in ['emg' + str(x) for x in range(8)]:\n",
    "    for s in specialty_keys:\n",
    "        specialty_emg[s][key] = []\n",
    "            \n",
    "for key, value in emg_data.items():\n",
    "    specialty = subject_data.loc[subject_data[\"ID\"] == int(key)][\"Specialty\"].values[0]\n",
    "    for channel, values in value.items(): \n",
    "        for run in values:\n",
    "            mean_value = np.mean(run)\n",
    "            if mean_value < 1000:\n",
    "                specialty_emg[specialty][channel] = specialty_emg[specialty][channel] + run.tolist()"
   ]
  },
  {
   "cell_type": "code",
   "execution_count": 60,
   "metadata": {},
   "outputs": [],
   "source": [
    "average_specialty_emg = {}\n",
    "for s in specialty_keys:\n",
    "    average_specialty_emg[s] = {}\n",
    "\n",
    "for key in ['emg' + str(x) for x in range(8)]:\n",
    "    for s in specialty_keys:\n",
    "        average_specialty_emg[s][key] = {}\n",
    "        \n",
    "for specialty, data in specialty_emg.items():\n",
    "    for channel, values in data.items():\n",
    "        average_specialty_emg[specialty][channel][\"mean\"] = np.mean(values)\n",
    "        average_specialty_emg[specialty][channel][\"std\"] = np.std(values)"
   ]
  },
  {
   "cell_type": "code",
   "execution_count": 61,
   "metadata": {},
   "outputs": [],
   "source": [
    "fig = go.Figure()\n",
    "for specialty, channels in average_specialty_emg.items():\n",
    "    channel_names = list(channels.keys())\n",
    "    channel_mean = []\n",
    "    channel_std = []\n",
    "    for channel in channel_names:\n",
    "        channel_mean.append(channels[channel]['mean'])\n",
    "        channel_std.append(channels[channel]['std'])\n",
    "    fig.add_trace(go.Bar(\n",
    "        name=specialty,\n",
    "        x=channel_names,\n",
    "        y=channel_mean,\n",
    "        error_y=dict(type='data', array=channel_std)\n",
    "    ))\n",
    "fig.update_layout(barmode='group')\n",
    "fig.write_image(join(data_folder, \"figures\", \"emg_per_speciatly.svg\"))"
   ]
  },
  {
   "cell_type": "markdown",
   "metadata": {},
   "source": [
    "### heatmap per specialty"
   ]
  },
  {
   "cell_type": "code",
   "execution_count": 62,
   "metadata": {},
   "outputs": [],
   "source": [
    "for specialty in specialty_keys:\n",
    "    x_values = []\n",
    "    y_values = []\n",
    "    y_min = 0\n",
    "    y_max = 100\n",
    "\n",
    "    fig = go.Figure()\n",
    "    for i, channel in enumerate(average_specialty_emg[specialty].keys()):\n",
    "        x_values.append(i)\n",
    "        y_values.append(average_specialty_emg[specialty][channel][\"mean\"])\n",
    "    y_values = (np.array(y_values) - y_min) / (y_max - y_min)\n",
    "\n",
    "    fig.add_trace(go.Scatter(\n",
    "        x=x_values,\n",
    "        y=y_values,\n",
    "        marker=dict(\n",
    "            size=16,\n",
    "            cmax=1,\n",
    "            cmin=0,\n",
    "            color=y_values,\n",
    "            colorbar=dict(\n",
    "                title=\"Colorbar\"\n",
    "            ),\n",
    "            colorscale=\"Turbo\"\n",
    "        ),\n",
    "        mode=\"markers\"))\n",
    "\n",
    "    fig.write_image(join(data_folder, \"figures\", \"colorscale_emg_\" + specialty + \".svg\"))"
   ]
  },
  {
   "cell_type": "markdown",
   "metadata": {},
   "source": [
    "### group per expertise"
   ]
  },
  {
   "cell_type": "code",
   "execution_count": 63,
   "metadata": {},
   "outputs": [],
   "source": [
    "expertise_emg = {}\n",
    "for e in expertise_keys:\n",
    "    expertise_emg[e] = {}\n",
    "\n",
    "for key in ['emg' + str(x) for x in range(8)]:\n",
    "    for e in expertise_keys:\n",
    "        expertise_emg[e][key] = []\n",
    "            \n",
    "for key, value in emg_data.items():\n",
    "    expertise = subject_data.loc[subject_data[\"ID\"] == int(key)][\"Expertise\"].values[0]\n",
    "    for channel, values in value.items(): \n",
    "        for run in values:\n",
    "            mean_value = np.mean(run)\n",
    "            if mean_value < 1000:\n",
    "                expertise_emg[expertise][channel] = expertise_emg[expertise][channel] + run.tolist()"
   ]
  },
  {
   "cell_type": "code",
   "execution_count": 64,
   "metadata": {},
   "outputs": [],
   "source": [
    "average_expertise_emg = {}\n",
    "for e in expertise_keys:\n",
    "    average_expertise_emg[e] = {}\n",
    "\n",
    "for key in ['emg' + str(x) for x in range(8)]:\n",
    "    for e in expertise_keys:\n",
    "        average_expertise_emg[e][key] = {}\n",
    "        \n",
    "for expertise, data in expertise_emg.items():\n",
    "    for channel, values in data.items():\n",
    "        average_expertise_emg[expertise][channel][\"mean\"] = np.mean(values)\n",
    "        average_expertise_emg[expertise][channel][\"std\"] = np.std(values)"
   ]
  },
  {
   "cell_type": "code",
   "execution_count": 65,
   "metadata": {},
   "outputs": [],
   "source": [
    "fig = go.Figure()\n",
    "for expertise, channels in average_expertise_emg.items():\n",
    "    channel_names = list(channels.keys())\n",
    "    channel_mean = []\n",
    "    channel_std = []\n",
    "    for channel in channel_names:\n",
    "        channel_mean.append(channels[channel]['mean'])\n",
    "        channel_std.append(channels[channel]['std'])\n",
    "    fig.add_trace(go.Bar(\n",
    "        name=expertise,\n",
    "        x=channel_names,\n",
    "        y=channel_mean,\n",
    "        error_y=dict(type='data', array=channel_std)\n",
    "    ))\n",
    "fig.update_layout(barmode='group')\n",
    "fig.write_image(join(data_folder, \"figures\", \"emg_per_expertise.svg\"))"
   ]
  },
  {
   "cell_type": "markdown",
   "metadata": {},
   "source": [
    "### heatmap per expertise"
   ]
  },
  {
   "cell_type": "code",
   "execution_count": 66,
   "metadata": {},
   "outputs": [],
   "source": [
    "for expertise in expertise_keys:\n",
    "    x_values = []\n",
    "    y_values = []\n",
    "    y_min = 0\n",
    "    y_max = 100\n",
    "\n",
    "    fig = go.Figure()\n",
    "    for i, channel in enumerate(average_expertise_emg[expertise].keys()):\n",
    "        x_values.append(i)\n",
    "        y_values.append(average_expertise_emg[expertise][channel][\"mean\"])\n",
    "    y_values = (np.array(y_values) - y_min) / (y_max - y_min)\n",
    "\n",
    "    fig.add_trace(go.Scatter(\n",
    "        x=x_values,\n",
    "        y=y_values,\n",
    "        marker=dict(\n",
    "            size=16,\n",
    "            cmax=1,\n",
    "            cmin=0,\n",
    "            color=y_values,\n",
    "            colorbar=dict(\n",
    "                title=\"Colorbar\"\n",
    "            ),\n",
    "            colorscale=\"Turbo\"\n",
    "        ),\n",
    "        mode=\"markers\"))\n",
    "\n",
    "    fig.write_image(join(data_folder, \"figures\", \"colorscale_emg_\" + expertise + \".svg\"))"
   ]
  },
  {
   "cell_type": "markdown",
   "metadata": {},
   "source": [
    "### group per expertise & specialty"
   ]
  },
  {
   "cell_type": "code",
   "execution_count": 67,
   "metadata": {},
   "outputs": [],
   "source": [
    "specialty_expertise_emg = {}\n",
    "for s in specialty_keys:\n",
    "    specialty_expertise_emg[s] = {}\n",
    "    for expertise in expertise_keys:\n",
    "        specialty_expertise_emg[s][expertise] = {}\n",
    "        for key in ['emg' + str(x) for x in range(8)]:\n",
    "            specialty_expertise_emg[s][expertise][key] = []\n",
    "            \n",
    "for key, value in emg_data.items():\n",
    "    specialty = subject_data.loc[subject_data[\"ID\"] == int(key)][\"Specialty\"].values[0]\n",
    "    expertise = subject_data.loc[subject_data[\"ID\"] == int(key)][\"Expertise\"].values[0]\n",
    "    for channel, values in value.items(): \n",
    "        for run in values:\n",
    "            mean_value = np.mean(run)\n",
    "            if mean_value < 1000:\n",
    "                specialty_expertise_emg[specialty][expertise][channel] = specialty_expertise_emg[specialty][expertise][channel] + run.tolist()"
   ]
  },
  {
   "cell_type": "code",
   "execution_count": 68,
   "metadata": {},
   "outputs": [
    {
     "name": "stderr",
     "output_type": "stream",
     "text": [
      "/home/buschbapti/anaconda3/envs/surgeon_recording/lib/python3.7/site-packages/numpy/core/fromnumeric.py:3335: RuntimeWarning:\n",
      "\n",
      "Mean of empty slice.\n",
      "\n",
      "/home/buschbapti/anaconda3/envs/surgeon_recording/lib/python3.7/site-packages/numpy/core/_methods.py:161: RuntimeWarning:\n",
      "\n",
      "invalid value encountered in double_scalars\n",
      "\n",
      "/home/buschbapti/anaconda3/envs/surgeon_recording/lib/python3.7/site-packages/numpy/core/_methods.py:217: RuntimeWarning:\n",
      "\n",
      "Degrees of freedom <= 0 for slice\n",
      "\n",
      "/home/buschbapti/anaconda3/envs/surgeon_recording/lib/python3.7/site-packages/numpy/core/_methods.py:186: RuntimeWarning:\n",
      "\n",
      "invalid value encountered in true_divide\n",
      "\n"
     ]
    }
   ],
   "source": [
    "average_specialty_expertise_emg = {}\n",
    "for s in specialty_keys:\n",
    "    average_specialty_expertise_emg[s] = {}\n",
    "    for expertise in expertise_keys:\n",
    "        average_specialty_expertise_emg[s][expertise] = {}\n",
    "        for key in ['emg' + str(x) for x in range(8)]:\n",
    "            average_specialty_expertise_emg[s][expertise][key] = {}\n",
    "        \n",
    "for specialty, data in specialty_expertise_emg.items():\n",
    "    for expertise, channels in data.items():\n",
    "        for channel, values in channels.items():\n",
    "            average_specialty_expertise_emg[specialty][expertise][channel][\"mean\"] = np.mean(values)\n",
    "            average_specialty_expertise_emg[specialty][expertise][channel][\"std\"] = np.std(values)"
   ]
  },
  {
   "cell_type": "code",
   "execution_count": 69,
   "metadata": {},
   "outputs": [],
   "source": [
    "for specialty in specialty_keys:\n",
    "    fig = go.Figure()\n",
    "    for expertise, channels in average_specialty_expertise_emg[specialty].items():\n",
    "        channel_names = list(channels.keys())\n",
    "        channel_mean = []\n",
    "        channel_std = []\n",
    "        for channel in channel_names:\n",
    "            channel_mean.append(channels[channel]['mean'])\n",
    "            channel_std.append(channels[channel]['std'])\n",
    "        fig.add_trace(go.Bar(\n",
    "            name=expertise,\n",
    "            x=channel_names,\n",
    "            y=channel_mean,\n",
    "            error_y=dict(type='data', array=channel_std)\n",
    "        ))\n",
    "    fig.update_layout(barmode='group')\n",
    "    fig.write_image(join(data_folder, \"figures\", \"emg_per_expertise_\" + specialty + \".svg\"))"
   ]
  },
  {
   "cell_type": "markdown",
   "metadata": {},
   "source": [
    "### two ways ANOVA"
   ]
  },
  {
   "cell_type": "code",
   "execution_count": 70,
   "metadata": {},
   "outputs": [],
   "source": [
    "# create the data separating expertise and specialty for each channels\n",
    "channels_data = {}\n",
    "\n",
    "for key in ['emg' + str(x) for x in range(8)]:\n",
    "    channels_data[key] = []\n",
    "        \n",
    "for subject, data in average_emg.items():\n",
    "    specialty = subject_data.loc[subject_data[\"ID\"] == int(subject)][\"Specialty\"].values[0]\n",
    "    expertise = subject_data.loc[subject_data[\"ID\"] == int(subject)][\"Expertise\"].values[0]\n",
    "    for channel, values in data.items():\n",
    "        row = [specialty, expertise, values[\"mean\"]]\n",
    "        channels_data[channel].append(row)\n",
    "                \n",
    "channels_dataframes = {}\n",
    "for channel, values in channels_data.items():\n",
    "    channels_dataframes[channel] = pd.DataFrame(values, columns=[\"specialty\", \"expertise\", \"value\"])"
   ]
  },
  {
   "cell_type": "code",
   "execution_count": 71,
   "metadata": {},
   "outputs": [
    {
     "ename": "ValueError",
     "evalue": "array must not contain infs or NaNs",
     "output_type": "error",
     "traceback": [
      "\u001b[0;31m---------------------------------------------------------------------------\u001b[0m",
      "\u001b[0;31mValueError\u001b[0m                                Traceback (most recent call last)",
      "\u001b[0;32m<ipython-input-71-d9811d36f1c4>\u001b[0m in \u001b[0;36m<module>\u001b[0;34m\u001b[0m\n\u001b[1;32m      3\u001b[0m     \u001b[0;31m#perform two-way ANOVA\u001b[0m\u001b[0;34m\u001b[0m\u001b[0;34m\u001b[0m\u001b[0;34m\u001b[0m\u001b[0m\n\u001b[1;32m      4\u001b[0m     \u001b[0mmodel\u001b[0m \u001b[0;34m=\u001b[0m \u001b[0mols\u001b[0m\u001b[0;34m(\u001b[0m\u001b[0;34m'value ~ C(specialty) + C(expertise) + C(specialty):C(expertise)'\u001b[0m\u001b[0;34m,\u001b[0m \u001b[0mdata\u001b[0m\u001b[0;34m=\u001b[0m\u001b[0mdataframe\u001b[0m\u001b[0;34m)\u001b[0m\u001b[0;34m.\u001b[0m\u001b[0mfit\u001b[0m\u001b[0;34m(\u001b[0m\u001b[0;34m)\u001b[0m\u001b[0;34m\u001b[0m\u001b[0;34m\u001b[0m\u001b[0m\n\u001b[0;32m----> 5\u001b[0;31m     \u001b[0memg_anova_results\u001b[0m\u001b[0;34m[\u001b[0m\u001b[0mchannel\u001b[0m\u001b[0;34m]\u001b[0m \u001b[0;34m=\u001b[0m \u001b[0msm\u001b[0m\u001b[0;34m.\u001b[0m\u001b[0mstats\u001b[0m\u001b[0;34m.\u001b[0m\u001b[0manova_lm\u001b[0m\u001b[0;34m(\u001b[0m\u001b[0mmodel\u001b[0m\u001b[0;34m,\u001b[0m \u001b[0mtyp\u001b[0m\u001b[0;34m=\u001b[0m\u001b[0;36m2\u001b[0m\u001b[0;34m)\u001b[0m\u001b[0;34m\u001b[0m\u001b[0;34m\u001b[0m\u001b[0m\n\u001b[0m",
      "\u001b[0;32m~/anaconda3/envs/surgeon_recording/lib/python3.7/site-packages/statsmodels/stats/anova.py\u001b[0m in \u001b[0;36manova_lm\u001b[0;34m(*args, **kwargs)\u001b[0m\n\u001b[1;32m    347\u001b[0m     \u001b[0;32mif\u001b[0m \u001b[0mlen\u001b[0m\u001b[0;34m(\u001b[0m\u001b[0margs\u001b[0m\u001b[0;34m)\u001b[0m \u001b[0;34m==\u001b[0m \u001b[0;36m1\u001b[0m\u001b[0;34m:\u001b[0m\u001b[0;34m\u001b[0m\u001b[0;34m\u001b[0m\u001b[0m\n\u001b[1;32m    348\u001b[0m         \u001b[0mmodel\u001b[0m \u001b[0;34m=\u001b[0m \u001b[0margs\u001b[0m\u001b[0;34m[\u001b[0m\u001b[0;36m0\u001b[0m\u001b[0;34m]\u001b[0m\u001b[0;34m\u001b[0m\u001b[0;34m\u001b[0m\u001b[0m\n\u001b[0;32m--> 349\u001b[0;31m         \u001b[0;32mreturn\u001b[0m \u001b[0manova_single\u001b[0m\u001b[0;34m(\u001b[0m\u001b[0mmodel\u001b[0m\u001b[0;34m,\u001b[0m \u001b[0;34m**\u001b[0m\u001b[0mkwargs\u001b[0m\u001b[0;34m)\u001b[0m\u001b[0;34m\u001b[0m\u001b[0;34m\u001b[0m\u001b[0m\n\u001b[0m\u001b[1;32m    350\u001b[0m \u001b[0;34m\u001b[0m\u001b[0m\n\u001b[1;32m    351\u001b[0m     \u001b[0;32mif\u001b[0m \u001b[0mtyp\u001b[0m \u001b[0;32mnot\u001b[0m \u001b[0;32min\u001b[0m \u001b[0;34m[\u001b[0m\u001b[0;36m1\u001b[0m\u001b[0;34m,\u001b[0m \u001b[0;34m\"I\"\u001b[0m\u001b[0;34m]\u001b[0m\u001b[0;34m:\u001b[0m\u001b[0;34m\u001b[0m\u001b[0;34m\u001b[0m\u001b[0m\n",
      "\u001b[0;32m~/anaconda3/envs/surgeon_recording/lib/python3.7/site-packages/statsmodels/stats/anova.py\u001b[0m in \u001b[0;36manova_single\u001b[0;34m(model, **kwargs)\u001b[0m\n\u001b[1;32m     79\u001b[0m     \u001b[0;32melif\u001b[0m \u001b[0mtyp\u001b[0m \u001b[0;32min\u001b[0m \u001b[0;34m[\u001b[0m\u001b[0;36m2\u001b[0m\u001b[0;34m,\u001b[0m \u001b[0;34m\"II\"\u001b[0m\u001b[0;34m]\u001b[0m\u001b[0;34m:\u001b[0m\u001b[0;34m\u001b[0m\u001b[0;34m\u001b[0m\u001b[0m\n\u001b[1;32m     80\u001b[0m         return anova2_lm_single(model, design_info, n_rows, test, pr_test,\n\u001b[0;32m---> 81\u001b[0;31m                                 robust)\n\u001b[0m\u001b[1;32m     82\u001b[0m     \u001b[0;32melif\u001b[0m \u001b[0mtyp\u001b[0m \u001b[0;32min\u001b[0m \u001b[0;34m[\u001b[0m\u001b[0;36m3\u001b[0m\u001b[0;34m,\u001b[0m \u001b[0;34m\"III\"\u001b[0m\u001b[0;34m]\u001b[0m\u001b[0;34m:\u001b[0m\u001b[0;34m\u001b[0m\u001b[0;34m\u001b[0m\u001b[0m\n\u001b[1;32m     83\u001b[0m         return anova3_lm_single(model, design_info, n_rows, test, pr_test,\n",
      "\u001b[0;32m~/anaconda3/envs/surgeon_recording/lib/python3.7/site-packages/statsmodels/stats/anova.py\u001b[0m in \u001b[0;36manova2_lm_single\u001b[0;34m(model, design_info, n_rows, test, pr_test, robust)\u001b[0m\n\u001b[1;32m    201\u001b[0m             \u001b[0mLVL\u001b[0m \u001b[0;34m=\u001b[0m \u001b[0mnp\u001b[0m\u001b[0;34m.\u001b[0m\u001b[0mdot\u001b[0m\u001b[0;34m(\u001b[0m\u001b[0mnp\u001b[0m\u001b[0;34m.\u001b[0m\u001b[0mdot\u001b[0m\u001b[0;34m(\u001b[0m\u001b[0mL1\u001b[0m\u001b[0;34m,\u001b[0m\u001b[0mrobust_cov\u001b[0m\u001b[0;34m)\u001b[0m\u001b[0;34m,\u001b[0m\u001b[0mL2\u001b[0m\u001b[0;34m.\u001b[0m\u001b[0mT\u001b[0m\u001b[0;34m)\u001b[0m\u001b[0;34m\u001b[0m\u001b[0;34m\u001b[0m\u001b[0m\n\u001b[1;32m    202\u001b[0m             \u001b[0;32mfrom\u001b[0m \u001b[0mscipy\u001b[0m \u001b[0;32mimport\u001b[0m \u001b[0mlinalg\u001b[0m\u001b[0;34m\u001b[0m\u001b[0;34m\u001b[0m\u001b[0m\n\u001b[0;32m--> 203\u001b[0;31m             \u001b[0morth_compl\u001b[0m\u001b[0;34m,\u001b[0m\u001b[0m_\u001b[0m \u001b[0;34m=\u001b[0m \u001b[0mlinalg\u001b[0m\u001b[0;34m.\u001b[0m\u001b[0mqr\u001b[0m\u001b[0;34m(\u001b[0m\u001b[0mLVL\u001b[0m\u001b[0;34m)\u001b[0m\u001b[0;34m\u001b[0m\u001b[0;34m\u001b[0m\u001b[0m\n\u001b[0m\u001b[1;32m    204\u001b[0m             \u001b[0mr\u001b[0m \u001b[0;34m=\u001b[0m \u001b[0mL1\u001b[0m\u001b[0;34m.\u001b[0m\u001b[0mshape\u001b[0m\u001b[0;34m[\u001b[0m\u001b[0;36m0\u001b[0m\u001b[0;34m]\u001b[0m \u001b[0;34m-\u001b[0m \u001b[0mL2\u001b[0m\u001b[0;34m.\u001b[0m\u001b[0mshape\u001b[0m\u001b[0;34m[\u001b[0m\u001b[0;36m0\u001b[0m\u001b[0;34m]\u001b[0m\u001b[0;34m\u001b[0m\u001b[0;34m\u001b[0m\u001b[0m\n\u001b[1;32m    205\u001b[0m             \u001b[0;31m# L1|2\u001b[0m\u001b[0;34m\u001b[0m\u001b[0;34m\u001b[0m\u001b[0;34m\u001b[0m\u001b[0m\n",
      "\u001b[0;32m~/anaconda3/envs/surgeon_recording/lib/python3.7/site-packages/scipy/linalg/decomp_qr.py\u001b[0m in \u001b[0;36mqr\u001b[0;34m(a, overwrite_a, lwork, mode, pivoting, check_finite)\u001b[0m\n\u001b[1;32m    124\u001b[0m \u001b[0;34m\u001b[0m\u001b[0m\n\u001b[1;32m    125\u001b[0m     \u001b[0;32mif\u001b[0m \u001b[0mcheck_finite\u001b[0m\u001b[0;34m:\u001b[0m\u001b[0;34m\u001b[0m\u001b[0;34m\u001b[0m\u001b[0m\n\u001b[0;32m--> 126\u001b[0;31m         \u001b[0ma1\u001b[0m \u001b[0;34m=\u001b[0m \u001b[0mnumpy\u001b[0m\u001b[0;34m.\u001b[0m\u001b[0masarray_chkfinite\u001b[0m\u001b[0;34m(\u001b[0m\u001b[0ma\u001b[0m\u001b[0;34m)\u001b[0m\u001b[0;34m\u001b[0m\u001b[0;34m\u001b[0m\u001b[0m\n\u001b[0m\u001b[1;32m    127\u001b[0m     \u001b[0;32melse\u001b[0m\u001b[0;34m:\u001b[0m\u001b[0;34m\u001b[0m\u001b[0;34m\u001b[0m\u001b[0m\n\u001b[1;32m    128\u001b[0m         \u001b[0ma1\u001b[0m \u001b[0;34m=\u001b[0m \u001b[0mnumpy\u001b[0m\u001b[0;34m.\u001b[0m\u001b[0masarray\u001b[0m\u001b[0;34m(\u001b[0m\u001b[0ma\u001b[0m\u001b[0;34m)\u001b[0m\u001b[0;34m\u001b[0m\u001b[0;34m\u001b[0m\u001b[0m\n",
      "\u001b[0;32m~/anaconda3/envs/surgeon_recording/lib/python3.7/site-packages/numpy/lib/function_base.py\u001b[0m in \u001b[0;36masarray_chkfinite\u001b[0;34m(a, dtype, order)\u001b[0m\n\u001b[1;32m    497\u001b[0m     \u001b[0;32mif\u001b[0m \u001b[0ma\u001b[0m\u001b[0;34m.\u001b[0m\u001b[0mdtype\u001b[0m\u001b[0;34m.\u001b[0m\u001b[0mchar\u001b[0m \u001b[0;32min\u001b[0m \u001b[0mtypecodes\u001b[0m\u001b[0;34m[\u001b[0m\u001b[0;34m'AllFloat'\u001b[0m\u001b[0;34m]\u001b[0m \u001b[0;32mand\u001b[0m \u001b[0;32mnot\u001b[0m \u001b[0mnp\u001b[0m\u001b[0;34m.\u001b[0m\u001b[0misfinite\u001b[0m\u001b[0;34m(\u001b[0m\u001b[0ma\u001b[0m\u001b[0;34m)\u001b[0m\u001b[0;34m.\u001b[0m\u001b[0mall\u001b[0m\u001b[0;34m(\u001b[0m\u001b[0;34m)\u001b[0m\u001b[0;34m:\u001b[0m\u001b[0;34m\u001b[0m\u001b[0;34m\u001b[0m\u001b[0m\n\u001b[1;32m    498\u001b[0m         raise ValueError(\n\u001b[0;32m--> 499\u001b[0;31m             \"array must not contain infs or NaNs\")\n\u001b[0m\u001b[1;32m    500\u001b[0m     \u001b[0;32mreturn\u001b[0m \u001b[0ma\u001b[0m\u001b[0;34m\u001b[0m\u001b[0;34m\u001b[0m\u001b[0m\n\u001b[1;32m    501\u001b[0m \u001b[0;34m\u001b[0m\u001b[0m\n",
      "\u001b[0;31mValueError\u001b[0m: array must not contain infs or NaNs"
     ]
    }
   ],
   "source": [
    "emg_anova_results = {}\n",
    "for channel, dataframe in channels_dataframes.items():\n",
    "    #perform two-way ANOVA\n",
    "    model = ols('value ~ C(specialty) + C(expertise) + C(specialty):C(expertise)', data=dataframe).fit()\n",
    "    emg_anova_results[channel] = sm.stats.anova_lm(model, typ=2)"
   ]
  },
  {
   "cell_type": "code",
   "execution_count": null,
   "metadata": {},
   "outputs": [],
   "source": [
    "emg_anova_results[\"emg0\"]"
   ]
  },
  {
   "cell_type": "code",
   "execution_count": null,
   "metadata": {},
   "outputs": [],
   "source": [
    "emg_anova_results[\"emg1\"]"
   ]
  },
  {
   "cell_type": "code",
   "execution_count": null,
   "metadata": {},
   "outputs": [],
   "source": [
    "emg_anova_results[\"emg2\"]"
   ]
  },
  {
   "cell_type": "code",
   "execution_count": null,
   "metadata": {},
   "outputs": [],
   "source": [
    "emg_anova_results[\"emg3\"]"
   ]
  },
  {
   "cell_type": "code",
   "execution_count": null,
   "metadata": {},
   "outputs": [],
   "source": [
    "emg_anova_results[\"emg4\"]"
   ]
  },
  {
   "cell_type": "code",
   "execution_count": null,
   "metadata": {},
   "outputs": [],
   "source": [
    "emg_anova_results[\"emg5\"]"
   ]
  },
  {
   "cell_type": "code",
   "execution_count": null,
   "metadata": {},
   "outputs": [],
   "source": [
    "emg_anova_results[\"emg6\"]"
   ]
  },
  {
   "cell_type": "code",
   "execution_count": null,
   "metadata": {},
   "outputs": [],
   "source": [
    "emg_anova_results[\"emg7\"]"
   ]
  },
  {
   "cell_type": "markdown",
   "metadata": {},
   "source": [
    "### t-test"
   ]
  },
  {
   "cell_type": "code",
   "execution_count": null,
   "metadata": {},
   "outputs": [],
   "source": [
    "expertise_channel_data = {}\n",
    "specialty_channel_data = {}\n",
    "\n",
    "for key in ['emg' + str(x) for x in range(8)]:\n",
    "    expertise_channel_data[key] = {}\n",
    "    specialty_channel_data[key] = {}\n",
    "    for specialty in specialty_keys:\n",
    "        specialty_channel_data[key][specialty] = []\n",
    "    for expertise in expertise_keys:\n",
    "        expertise_channel_data[key][expertise] = []\n",
    "        \n",
    "for subject, data in average_emg_per_run.items():\n",
    "    specialty = subject_data.loc[subject_data[\"ID\"] == int(subject)][\"Specialty\"].values[0]\n",
    "    expertise = subject_data.loc[subject_data[\"ID\"] == int(subject)][\"Expertise\"].values[0]\n",
    "    for channel, values in data.items():\n",
    "        expertise_channel_data[channel][expertise] = expertise_channel_data[channel][expertise] + values\n",
    "        specialty_channel_data[channel][specialty] = specialty_channel_data[channel][specialty] + values"
   ]
  },
  {
   "cell_type": "code",
   "execution_count": null,
   "metadata": {},
   "outputs": [],
   "source": [
    "for f, data in expertise_channel_data.items():\n",
    "    print('####### ' + f + ' ########')\n",
    "    keys = list(data.keys())\n",
    "    for i in range(len(keys)):\n",
    "        for j in range(i + 1, len(keys)):\n",
    "            print('diff between ' + keys[i] + ' and ' + keys[j])\n",
    "            print(stats.ttest_ind(data[keys[i]], data[keys[j]]))\n",
    "            print('--------------')"
   ]
  },
  {
   "cell_type": "code",
   "execution_count": null,
   "metadata": {},
   "outputs": [],
   "source": []
  }
 ],
 "metadata": {
  "kernelspec": {
   "display_name": "Python 3",
   "language": "python",
   "name": "python3"
  },
  "language_info": {
   "codemirror_mode": {
    "name": "ipython",
    "version": 3
   },
   "file_extension": ".py",
   "mimetype": "text/x-python",
   "name": "python",
   "nbconvert_exporter": "python",
   "pygments_lexer": "ipython3",
   "version": "3.7.7"
  }
 },
 "nbformat": 4,
 "nbformat_minor": 4
}
