{
 "cells": [
  {
   "cell_type": "code",
   "execution_count": 2,
   "id": "6e861a61-6698-4127-bbec-6af3a82406e0",
   "metadata": {},
   "outputs": [
    {
     "name": "stdout",
     "output_type": "stream",
     "text": [
      "['GOPR5852.MP4', 'GP015852.MP4', 'GP025852.MP4']\n",
      "Moviepy - Building video output2.mp4.\n",
      "MoviePy - Writing audio in output2TEMP_MPY_wvf_snd.mp3\n"
     ]
    },
    {
     "name": "stderr",
     "output_type": "stream",
     "text": [
      "                                                                                \r"
     ]
    },
    {
     "name": "stdout",
     "output_type": "stream",
     "text": [
      "MoviePy - Done.\n",
      "Moviepy - Writing video output2.mp4\n",
      "\n"
     ]
    },
    {
     "name": "stderr",
     "output_type": "stream",
     "text": [
      "                                                                                \r"
     ]
    },
    {
     "name": "stdout",
     "output_type": "stream",
     "text": [
      "Moviepy - Done !\n",
      "Moviepy - video ready output2.mp4\n"
     ]
    }
   ],
   "source": [
    "from moviepy.editor import *\n",
    "import os\n",
    "from natsort import natsorted\n",
    "\n",
    "L =[]\n",
    "\n",
    "for root, dirs, files in os.walk(\"../data/SFITS_28_03_22/MAXIME/GOPRO/segments\"):\n",
    "\n",
    "    #files.sort()\n",
    "    files = natsorted(files)\n",
    "    print(files)\n",
    "    for file in files:\n",
    "        if os.path.splitext(file)[1] == '.MP4':\n",
    "            filePath = os.path.join(root, file)\n",
    "            video = VideoFileClip(filePath)\n",
    "            L.append(video)\n",
    "\n",
    "final_clip = concatenate_videoclips(L)\n",
    "final_clip.to_videofile(\"output2.mp4\", fps=59.940, remove_temp=False)"
   ]
  },
  {
   "cell_type": "code",
   "execution_count": null,
   "id": "105bb80e-fce7-4268-8afb-9b83ba2c3ff7",
   "metadata": {},
   "outputs": [
    {
     "name": "stderr",
     "output_type": "stream",
     "text": [
      "t:   4%|▉                        | 3856/97220 [01:33<30:51, 50.43it/s, now=None]"
     ]
    }
   ],
   "source": [
    "from moviepy.editor import *\n",
    "import os\n",
    "from natsort import natsorted\n",
    "\n",
    "L =[]\n",
    "\n",
    "for root, dirs, files in os.walk(\"../data/SFITS_28_03_22/MAXIME/MICROSCOPE/segments\"):\n",
    "\n",
    "    #files.sort()\n",
    "    files = natsorted(files)\n",
    "    print(files)\n",
    "    for file in files:\n",
    "        if os.path.splitext(file)[1] == '.mp4':\n",
    "            filePath = os.path.join(root, file)\n",
    "            video = VideoFileClip(filePath)\n",
    "            L.append(video)\n",
    "final_clip = concatenate_videoclips(L)\n",
    "final_clip.write_videofile(\"output_microscope2.MP4\", fps=60, remove_temp=True, audio = False)"
   ]
  },
  {
   "cell_type": "code",
   "execution_count": null,
   "id": "6a830a20-66ff-43c0-94f3-719133320aee",
   "metadata": {},
   "outputs": [],
   "source": [
    "print(files)"
   ]
  },
  {
   "cell_type": "code",
   "execution_count": null,
   "id": "05c48b29-0f45-4ccb-b2ea-7a3e64a32417",
   "metadata": {},
   "outputs": [],
   "source": []
  },
  {
   "cell_type": "code",
   "execution_count": null,
   "id": "4602b037-473e-42c7-914f-57ea57df5c10",
   "metadata": {},
   "outputs": [],
   "source": []
  },
  {
   "cell_type": "code",
   "execution_count": null,
   "id": "7c5603e8-b688-453c-af1c-9a5cefbef40d",
   "metadata": {},
   "outputs": [],
   "source": []
  }
 ],
 "metadata": {
  "kernelspec": {
   "display_name": "Python 3 (ipykernel)",
   "language": "python",
   "name": "python3"
  },
  "language_info": {
   "codemirror_mode": {
    "name": "ipython",
    "version": 3
   },
   "file_extension": ".py",
   "mimetype": "text/x-python",
   "name": "python",
   "nbconvert_exporter": "python",
   "pygments_lexer": "ipython3",
   "version": "3.8.12"
  }
 },
 "nbformat": 4,
 "nbformat_minor": 5
}
