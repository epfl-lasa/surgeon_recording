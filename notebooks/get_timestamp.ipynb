{
 "cells": [
  {
   "cell_type": "code",
   "execution_count": 4,
   "id": "14a5eb3e-13dc-43b3-b3ed-d435cf98859b",
   "metadata": {},
   "outputs": [],
   "source": [
    "from surgeon_recording.reader import Reader\n",
    "from glob import glob\n",
    "from os.path import join\n",
    "import os\n",
    "import numpy as np\n",
    "from scipy import stats\n",
    "import plotly.express as px\n",
    "import plotly.graph_objects as go\n",
    "from copy import deepcopy\n",
    "import pandas as pd\n",
    "\n",
    "import cv2\n",
    "import csv\n",
    "from natsort import natsorted\n",
    "from surgeon_recording.synchronization import Synchro\n",
    "\n",
    "import moviepy.video.io.ImageSequenceClip"
   ]
  },
  {
   "cell_type": "markdown",
   "id": "5233abf4-ac4b-4898-9572-ce2c201d9f18",
   "metadata": {
    "jp-MarkdownHeadingCollapsed": true,
    "tags": []
   },
   "source": [
    "# GOPRO"
   ]
  },
  {
   "cell_type": "code",
   "execution_count": 136,
   "id": "a3b40799-df84-4af8-956a-050944f33155",
   "metadata": {},
   "outputs": [
    {
     "name": "stdout",
     "output_type": "stream",
     "text": [
      "Nb of frames of the output video:   98289\n",
      "Total nb of frames of segments:  98287\n",
      "{'output_gopro.MP4': 98289, 'GP025852.MP4': 13207, 'GP015852.MP4': 42540, 'GOPR5852.MP4': 42540}\n"
     ]
    }
   ],
   "source": [
    "data_folder = join('..', 'data', 'SFITS_28_03_22', 'MAXIME', 'GOPRO')\n",
    "nb_frames = {}\n",
    "sum_frame = 0\n",
    "\n",
    "folder = ['complete','segments']\n",
    "for j in range(len(folder)):\n",
    "    files = [x[2] for x in os.walk(join(data_folder,folder[j]))]\n",
    "    #print(files[0])  \n",
    "    \n",
    "    for i in range(len(files[0])):\n",
    "        file = files[0][i]  \n",
    "        if os.path.splitext(file)[1] == '.MP4':\n",
    "            #print(join(data_folder, folder[j], file))\n",
    "            cap = cv2.VideoCapture(join(data_folder, folder[j], file))\n",
    "            nb_frames[file] = int(cap.get(cv2.CAP_PROP_FRAME_COUNT))\n",
    "            if j == 1:\n",
    "                sum_frame = sum_frame + nb_frames[file]\n",
    "                \n",
    "print('Nb of frames of the output video:   ' + str(nb_frames['output_gopro.MP4']))\n",
    "print('Total nb of frames of segments:  ' + str(sum_frame))\n",
    "print(nb_frames) #ok le nb of frame obtenu pour les segments coresp. a celui donne par Resolve\n",
    "  \n",
    "    "
   ]
  },
  {
   "cell_type": "code",
   "execution_count": 109,
   "id": "f583e5e1-05ef-4136-8d50-f49a90951d2b",
   "metadata": {},
   "outputs": [
    {
     "name": "stdout",
     "output_type": "stream",
     "text": [
      "['../data/SFITS_28_03_22/MAXIME/GOPRO/CSV/output_g.csv', '../data/SFITS_28_03_22/MAXIME/GOPRO/CSV/GP025852.csv', '../data/SFITS_28_03_22/MAXIME/GOPRO/CSV/GP015852.csv', '../data/SFITS_28_03_22/MAXIME/GOPRO/CSV/GOPR5852.csv']\n"
     ]
    }
   ],
   "source": [
    "csv_names = []\n",
    "fps = 59.940\n",
    "for j in range(len(folder)):\n",
    "    files = [x[2] for x in os.walk(join(data_folder,folder[j]))]\n",
    "    #print(files[0])  \n",
    "    \n",
    "    for i in range(len(files[0])):\n",
    "        file = files[0][i]  \n",
    "        if os.path.splitext(file)[1] == '.MP4':\n",
    "            csv_names.append(join(data_folder, 'CSV', str(file)[0:8] + '.csv'))\n",
    "            f = open(csv_names[-1], 'w') # open the file in the write mode\n",
    "    \n",
    "    \n",
    "            # create the csv writer\n",
    "            writer = csv.writer(f)\n",
    "            header = ['index','frequency','relative_time']\n",
    "    \n",
    "            # write a row to the csv file\n",
    "            writer.writerow(header)\n",
    "            rel_time = 0\n",
    "            for j in range((nb_frames[file])):\n",
    "                row = [j, fps, rel_time]\n",
    "                writer.writerow(row)\n",
    "                rel_time = rel_time + 1/fps\n",
    "            # close the file\n",
    "            f.close()\n",
    "\n",
    "print(csv_names)  \n",
    "\n",
    "\n"
   ]
  },
  {
   "cell_type": "markdown",
   "id": "24780f80-a03f-453a-bcb3-1487a3eff041",
   "metadata": {
    "jp-MarkdownHeadingCollapsed": true,
    "tags": []
   },
   "source": [
    "# MICROSCOPE"
   ]
  },
  {
   "cell_type": "code",
   "execution_count": 110,
   "id": "bea6f5a4-ab91-4138-acb4-9296690e6430",
   "metadata": {},
   "outputs": [
    {
     "name": "stdout",
     "output_type": "stream",
     "text": [
      "Nb of frames of the output video:   48610\n",
      "Total nb of frames of segments:  97236\n",
      "{'output_microscope.mp4': 48610, 'SegmentSDI10013.mp4': 17992, 'SegmentSDI10018.mp4': 5530, 'SegmentSDI10019.mp4': 1562, 'SegmentSDI10014.mp4': 17990, 'SegmentSDI10016.mp4': 17990, 'SegmentSDI10012.mp4': 190, 'SegmentSDI10015.mp4': 17992, 'SegmentSDI10017.mp4': 17990}\n"
     ]
    }
   ],
   "source": [
    "\n",
    "data_folder = join('..', 'data', 'SFITS_28_03_22', 'MAXIME', 'MICROSCOPE')\n",
    "nb_frames = {}\n",
    "sum_frame = 0\n",
    "\n",
    "folder = ['complete','segments']\n",
    "for j in range(len(folder)):\n",
    "    files = [x[2] for x in os.walk(join(data_folder,folder[j]))]\n",
    "    #print(files[0])  \n",
    "    \n",
    "    for i in range(len(files[0])):\n",
    "        file = files[0][i]  \n",
    "        if os.path.splitext(file)[1] == '.mp4':\n",
    "            #print(join(data_folder, folder[j], file))\n",
    "            cap = cv2.VideoCapture(join(data_folder, folder[j], file))\n",
    "            nb_frames[file] = int(cap.get(cv2.CAP_PROP_FRAME_COUNT))\n",
    "            if j == 1:\n",
    "                sum_frame = sum_frame + nb_frames[file]\n",
    "                \n",
    "print('Nb of frames of the output video:   ' + str(nb_frames['output_microscope.mp4']))\n",
    "print('Total nb of frames of segments:  ' + str(sum_frame))\n",
    "print(nb_frames) #pour les segments: donne le double+1 du nb donne par Resolve ?? mais pour le complete output ca correspond\n",
    "\n",
    "  "
   ]
  },
  {
   "cell_type": "code",
   "execution_count": 111,
   "id": "40d67232-120c-4955-89d6-21351289f654",
   "metadata": {},
   "outputs": [
    {
     "name": "stdout",
     "output_type": "stream",
     "text": [
      "['../data/SFITS_28_03_22/MAXIME/MICROSCOPE/CSV/output_microsco.csv', '../data/SFITS_28_03_22/MAXIME/MICROSCOPE/CSV/SegmentSDI10013.csv', '../data/SFITS_28_03_22/MAXIME/MICROSCOPE/CSV/SegmentSDI10018.csv', '../data/SFITS_28_03_22/MAXIME/MICROSCOPE/CSV/SegmentSDI10019.csv', '../data/SFITS_28_03_22/MAXIME/MICROSCOPE/CSV/SegmentSDI10014.csv', '../data/SFITS_28_03_22/MAXIME/MICROSCOPE/CSV/SegmentSDI10016.csv', '../data/SFITS_28_03_22/MAXIME/MICROSCOPE/CSV/SegmentSDI10012.csv', '../data/SFITS_28_03_22/MAXIME/MICROSCOPE/CSV/SegmentSDI10015.csv', '../data/SFITS_28_03_22/MAXIME/MICROSCOPE/CSV/SegmentSDI10017.csv']\n"
     ]
    }
   ],
   "source": [
    "csv_names = []\n",
    "fps = 59.940\n",
    "for j in range(len(folder)):\n",
    "    files = [x[2] for x in os.walk(join(data_folder,folder[j]))]\n",
    "    #print(files[0])  \n",
    "    \n",
    "    for i in range(len(files[0])):\n",
    "        file = files[0][i]  \n",
    "        if os.path.splitext(file)[1] == '.mp4':\n",
    "            csv_names.append(join(data_folder, 'CSV', str(file)[0:15] + '.csv'))\n",
    "            f = open(csv_names[-1], 'w') # open the file in the write mode\n",
    "    \n",
    "    \n",
    "            # create the csv writer\n",
    "            writer = csv.writer(f)\n",
    "            header = ['index','frequency','relative_time']\n",
    "    \n",
    "            # write a row to the csv file\n",
    "            writer.writerow(header)\n",
    "            rel_time = 0\n",
    "            for j in range((nb_frames[file])):\n",
    "                row = [j, fps, rel_time]\n",
    "                writer.writerow(row)\n",
    "                rel_time = rel_time + 1/fps\n",
    "            # close the file\n",
    "            f.close()\n",
    "\n",
    "print(csv_names)  \n",
    "\n"
   ]
  },
  {
   "cell_type": "markdown",
   "id": "603adc44-86f9-4ece-bc75-dd28f3d92ca9",
   "metadata": {},
   "source": [
    "# Transform bag in MP4 and absolute time"
   ]
  },
  {
   "cell_type": "code",
   "execution_count": 7,
   "id": "97b7ec14-8b20-4c54-ab56-d80ef643e266",
   "metadata": {},
   "outputs": [],
   "source": [
    "# extract the png with the converter (from shell)\n",
    "recording_session = 'SFITS_28_03_22'\n",
    "subject = 'MAXIME'"
   ]
  },
  {
   "cell_type": "code",
   "execution_count": 8,
   "id": "d3c2b5db-701e-4b09-bf6f-6a574fff44cf",
   "metadata": {},
   "outputs": [
    {
     "name": "stdout",
     "output_type": "stream",
     "text": [
      "20220328_111741_maxime1.bag\n",
      "/home/anaelle/git/surgeon_recording/data/SFITS_28_03_22/MAXIME/REALSENSE/BAG/20220328_111741_maxime1.bag\n",
      "/home/anaelle/git/surgeon_recording/data/SFITS_28_03_22/MAXIME/REALSENSE/PNG/a\n"
     ]
    },
    {
     "data": {
      "text/plain": [
       "2"
      ]
     },
     "execution_count": 8,
     "metadata": {},
     "output_type": "execute_result"
    }
   ],
   "source": [
    "data_folder = join('..', 'data', recording_session , subject)\n",
    "camera = 'REALSENSE'\n",
    "\n",
    "bag_file = [x[2] for x in os.walk(join(data_folder, camera, 'BAG'))]\n",
    "print(bag_file[0][0])\n",
    "\n",
    "path_bag_file = join('/home/anaelle/git/surgeon_recording/data', recording_session , subject, camera, 'BAG', bag_file[0][0])\n",
    "print(path_bag_file)\n",
    "path_png=  join('/home/anaelle/git/surgeon_recording/data', recording_session , subject,  camera, 'PNG', 'a')\n",
    "print(path_png)\n",
    "os.system('rs-convert -i ' + path_bag_file + ' -p ' + path_png)"
   ]
  },
  {
   "cell_type": "code",
   "execution_count": 39,
   "id": "d39d1754-5580-4174-be17-5c18befdc524",
   "metadata": {},
   "outputs": [],
   "source": [
    "fps_rs = 29.98\n",
    "\n",
    "image_folder=join(data_folder, camera, 'PNG')\n",
    "fps= fps_rs\n",
    "\n",
    "image_files = [os.path.join(image_folder,img) for img in os.listdir(image_folder) if img.endswith(\".png\")]\n",
    "#print(natsorted(image_files))"
   ]
  },
  {
   "cell_type": "code",
   "execution_count": 39,
   "id": "c1964a18-ec22-4aa5-bad4-55ac3dee508e",
   "metadata": {},
   "outputs": [
    {
     "name": "stdout",
     "output_type": "stream",
     "text": [
      "Moviepy - Building video my_video2.mp4.\n",
      "Moviepy - Writing video my_video2.mp4\n",
      "\n"
     ]
    },
    {
     "name": "stderr",
     "output_type": "stream",
     "text": [
      "                                                                                \r"
     ]
    },
    {
     "name": "stdout",
     "output_type": "stream",
     "text": [
      "Moviepy - Done !\n",
      "Moviepy - video ready my_video2.mp4\n"
     ]
    }
   ],
   "source": [
    "clip = moviepy.video.io.ImageSequenceClip.ImageSequenceClip(natsorted(image_files), fps=fps)\n",
    "clip.write_videofile('my_video2.mp4')"
   ]
  },
  {
   "cell_type": "code",
   "execution_count": null,
   "id": "e67f018f-a3ad-45cf-88f0-c067313d118d",
   "metadata": {},
   "outputs": [],
   "source": [
    "# get nb of frames of the rs camera\n",
    "rs_nb_frame = len(image_files)\n",
    "print(no_frame_rs)\n",
    "\n",
    "# get absolute time vector of rs from png files\n",
    "camera = 'REALSENSE'\n",
    "abs_time_vector = {}\n",
    "abs_time_vector[camera] = [name[-32:-4] for name in natsorted(image_files)]"
   ]
  },
  {
   "cell_type": "code",
   "execution_count": null,
   "id": "b233c51d-0333-4de3-9597-af474d3a47d9",
   "metadata": {},
   "outputs": [],
   "source": [
    "#print(abs_time[camera][0:100])"
   ]
  },
  {
   "cell_type": "code",
   "execution_count": 132,
   "id": "500d0a38-ba9b-4c53-89a5-4203fcfe3126",
   "metadata": {},
   "outputs": [
    {
     "name": "stdout",
     "output_type": "stream",
     "text": [
      "1648459775463.8828\n"
     ]
    }
   ],
   "source": [
    "#rs_frame = 18216\n",
    "#rs_abs_time = float(abs_time_vector['REALSENSE'][rs_frame]) #decalage: viewer part pas de frame 0 ??? mais 17516, et encore decalage de 6 pour rtomber sur valeur affichee\n",
    "#print(rs_abs_time)\n",
    "# mais abs time at 17515 (premiere frame) coresp bien a la valeur du png ! donc on dit que ok"
   ]
  },
  {
   "cell_type": "markdown",
   "id": "4847faf0-1676-4323-b5f4-dae92efe92dc",
   "metadata": {
    "tags": []
   },
   "source": [
    "# BUILD CSV FILES GOPRO, MICROSCOPE, REALSENSE V1 (from RS viewer)"
   ]
  },
  {
   "cell_type": "markdown",
   "id": "9305e781-867c-48b4-b2c0-bf90422d625d",
   "metadata": {
    "jp-MarkdownHeadingCollapsed": true,
    "tags": []
   },
   "source": [
    "## data from visual synchro"
   ]
  },
  {
   "cell_type": "code",
   "execution_count": 110,
   "id": "a5d002a2-a087-411e-b990-0af270aaac69",
   "metadata": {},
   "outputs": [],
   "source": [
    "rs_frame = 18216\n",
    "micro_frame = 365\n",
    "gopro_frame = 1217\n",
    "\n",
    "rs_abs_time = 1648459085159.2\n",
    "rs_nb_frame = 66934\n",
    "\n",
    "fps_gopro = 59.940\n",
    "fps_rs = 29.98\n",
    "fps_micro = 30\n",
    "\n",
    "frame = {\n",
    "    \"REALSENSE\": rs_frame,\n",
    "    \"GOPRO\": gopro_frame,\n",
    "    \"MICROSCOPE\": micro_frame\n",
    "}\n",
    "frame\n",
    "\n",
    "fps = {\n",
    "    \"GOPRO\": fps_gopro,\n",
    "    \"MICROSCOPE\": fps_micro,\n",
    "    \"REALSENSE\": fps_rs\n",
    "}\n",
    "\n",
    "cameras = ['GOPRO', 'MICROSCOPE', 'REALSENSE']\n",
    "folder = ['complete','segments']"
   ]
  },
  {
   "cell_type": "markdown",
   "id": "46a1ece0-fba0-4bb2-9941-3d3450f435eb",
   "metadata": {
    "jp-MarkdownHeadingCollapsed": true,
    "tags": []
   },
   "source": [
    "## get nb of frames"
   ]
  },
  {
   "cell_type": "code",
   "execution_count": 111,
   "id": "b77a9db7-7ff1-44b1-be7b-e2588af5eb1b",
   "metadata": {},
   "outputs": [
    {
     "name": "stdout",
     "output_type": "stream",
     "text": [
      "Total nb of frames of segments for  GOPRO 98287\n",
      "Total nb of frames of segments for  MICROSCOPE 97236\n",
      "Total nb of frames of segments for  REALSENSE {}\n",
      "Nb of frames of the output GOPRO video:    98289\n",
      "Nb of frames of the output MICROSCOPE video:    48610\n"
     ]
    }
   ],
   "source": [
    "# get the nub of frames for each segments and the total videos for the gopro and microscope\n",
    "\n",
    "data_folder = join('..', 'data', 'SFITS_28_03_22', 'MAXIME')\n",
    "nb_frames = {}\n",
    "sum_frame = {}\n",
    "\n",
    "\n",
    "for k in range(len(cameras)):    #for the different cameras\n",
    "    camera = cameras[k]\n",
    "    sum_frame[camera] = {}\n",
    "    for j in range(len(folder)):  #segments and complete\n",
    "        files = [x[2] for x in os.walk(join(data_folder, camera,folder[j]))]   #get the nam of the files of the video\n",
    "        tmp = 0\n",
    "        if camera == 'REALSENSE':\n",
    "                    nb_frames[camera] = rs_nb_frame\n",
    "        else:\n",
    "            if len(files) != 0:                                                    # exclude rs for now bc no files\n",
    "                for i in range(len(files[0])):                                   \n",
    "                    file = files[0][i]                                             # prend la valeur des differents fichiers a la suite (les videos)\n",
    "                \n",
    "                    if os.path.splitext(file)[1] == '.MP4' or os.path.splitext(file)[1] == '.mp4':   #check si bien une video\n",
    "                    #print(join(data_folder, folder[j], file))\n",
    "                        cap = cv2.VideoCapture(join(data_folder, camera, folder[j], file))\n",
    "                        nb_frames[file] = int(cap.get(cv2.CAP_PROP_FRAME_COUNT))                     # store nb of frames with file name as key\n",
    "                \n",
    "                        if folder[j] == 'segments':                                # si on est dans le fichiers des segments on calcule la somme de tous les segments\n",
    "                            tmp = tmp + nb_frames[file]\n",
    "                            sum_frame[camera] = tmp\n",
    "                \n",
    "                #print(file, '  nb of frames:   ', nb_frames[file] )\n",
    "    print('Total nb of frames of segments for ', camera, sum_frame[camera])\n",
    "print('Nb of frames of the output GOPRO video:   ' , nb_frames['output_gopro.MP4'])\n",
    "print('Nb of frames of the output MICROSCOPE video:   ', nb_frames['output_microscope.MP4'])\n",
    "    \n",
    "#print(nb_frames) #ok le nb of frame obtenu pour les segments coresp. a celui donne par Resolve\n",
    "  \n",
    "    "
   ]
  },
  {
   "cell_type": "markdown",
   "id": "720799ab-037d-4193-abaf-395c22506c24",
   "metadata": {
    "jp-MarkdownHeadingCollapsed": true,
    "tags": []
   },
   "source": [
    "## write csv files"
   ]
  },
  {
   "cell_type": "code",
   "execution_count": 10,
   "id": "a06fd19c-ce46-4f20-aa13-2e3642a82b4a",
   "metadata": {},
   "outputs": [
    {
     "ename": "NameError",
     "evalue": "name 'cameras' is not defined",
     "output_type": "error",
     "traceback": [
      "\u001b[0;31m---------------------------------------------------------------------------\u001b[0m",
      "\u001b[0;31mNameError\u001b[0m                                 Traceback (most recent call last)",
      "Input \u001b[0;32mIn [10]\u001b[0m, in \u001b[0;36m<cell line: 4>\u001b[0;34m()\u001b[0m\n\u001b[1;32m      1\u001b[0m data_folder \u001b[38;5;241m=\u001b[39m join(\u001b[38;5;124m'\u001b[39m\u001b[38;5;124m..\u001b[39m\u001b[38;5;124m'\u001b[39m, \u001b[38;5;124m'\u001b[39m\u001b[38;5;124mdata\u001b[39m\u001b[38;5;124m'\u001b[39m, \u001b[38;5;124m'\u001b[39m\u001b[38;5;124mSFITS_28_03_22\u001b[39m\u001b[38;5;124m'\u001b[39m, \u001b[38;5;124m'\u001b[39m\u001b[38;5;124mMAXIME\u001b[39m\u001b[38;5;124m'\u001b[39m)\n\u001b[1;32m      2\u001b[0m csv_names \u001b[38;5;241m=\u001b[39m []\n\u001b[0;32m----> 4\u001b[0m \u001b[38;5;28;01mfor\u001b[39;00m k \u001b[38;5;129;01min\u001b[39;00m \u001b[38;5;28mrange\u001b[39m(\u001b[38;5;28mlen\u001b[39m(\u001b[43mcameras\u001b[49m)):\n\u001b[1;32m      5\u001b[0m     camera \u001b[38;5;241m=\u001b[39m cameras[k]\n\u001b[1;32m      7\u001b[0m     \u001b[38;5;28;01mfor\u001b[39;00m j \u001b[38;5;129;01min\u001b[39;00m \u001b[38;5;28mrange\u001b[39m(\u001b[38;5;28mlen\u001b[39m(folder)):\n",
      "\u001b[0;31mNameError\u001b[0m: name 'cameras' is not defined"
     ]
    }
   ],
   "source": [
    "data_folder = join('..', 'data', 'SFITS_28_03_22', 'MAXIME')\n",
    "csv_names = []\n",
    "\n",
    "for k in range(len(cameras)):\n",
    "    camera = cameras[k]\n",
    "    \n",
    "    for j in range(len(folder)):\n",
    "        files = [x[2] for x in os.walk(join(data_folder, camera ,folder[j]))]\n",
    "        print(files)  \n",
    "        \n",
    "        if camera == 'REALSENSE':\n",
    "            \n",
    "            rs_csv = join(data_folder,camera, 'CSV', 'complete', 'REALSENSE_abs_time.csv')\n",
    "            f = open(rs_csv, 'w') # open the file in the write mode                        #open last one\n",
    "    \n",
    "            # create the csv writer\n",
    "            writer = csv.writer(f)\n",
    "            header = ['index','frequency','relative_time','abs_time']\n",
    "            # write a row to the csv file\n",
    "            writer.writerow(header)\n",
    "            rel_time = 0\n",
    "            abs_time = rs_abs_time                                        #put the ref_abs time we got from RS as the first absolute time to write\n",
    "            \n",
    "            for m in range((nb_frames[camera])):                            #pour toutes les frames\n",
    "                        if m >= frame[camera]:        # si on est dans les videos completes et que l-indice est plus grand que la frame avec le mvmt de ref\n",
    "                            row = [m,fps[camera],rel_time,abs_time]               # alors on inscrit le abs time, et a partir de la on l'incremente de la fps (en ms)\n",
    "                            abs_time = abs_time + 1/fps[camera]*1000\n",
    "                        else:\n",
    "                            row = [m, fps[camera], rel_time]                      # sinon on est soit dans les segments (pas besoin absolute time), soit on est avant le mvmt de ref donc pas de abs time\n",
    "                    \n",
    "                        writer.writerow(row)\n",
    "                        rel_time = rel_time + 1/fps[camera]                       # on incremente le rel time par la fps corespondante \n",
    "                            \n",
    "            print(abs_time-1/fps[camera]*1000)\n",
    "            f.close()        \n",
    "            \n",
    "        else:\n",
    "            for i in range(len(files[0])):\n",
    "                file = files[0][i] \n",
    "                if os.path.splitext(file)[1] == '.mp4' or os.path.splitext(file)[1] == '.MP4':\n",
    "            \n",
    "                    csv_names.append(join(data_folder,camera, 'CSV',folder[j], str(file)[0:15] + '_abs_time.csv'))  #create the csv references\n",
    "                    f = open(csv_names[-1], 'w') # open the file in the write mode                        #open last one\n",
    "    \n",
    "    \n",
    "                    # create the csv writer\n",
    "                    writer = csv.writer(f)\n",
    "                    header = ['index','frequency','relative_time','abs_time']\n",
    "    \n",
    "                    # write a row to the csv file\n",
    "                    writer.writerow(header)\n",
    "                    rel_time = 0\n",
    "                    abs_time = rs_abs_time                                        #put the ref_abs time we got from RS as the first absolute time to write\n",
    "                    #print(file)\n",
    "                    \n",
    "                    for m in range((nb_frames[file])):                            #pour toutes les frames\n",
    "                        if folder[j] == 'complete' and m >= frame[camera]:        # si on est dans les videos completes et que l-indice est plus grand que la frame avec le mvmt de ref\n",
    "                            row = [m,fps[camera],rel_time,abs_time]               # alors on inscrit le abs time, et a partir de la on l'incremente de la fps (en ms)\n",
    "                            abs_time = abs_time + 1/fps[camera]*1000\n",
    "                        else:\n",
    "                            row = [m, fps[camera], rel_time]                      # sinon on est soit dans les segments (pas besoin absolute time), soit on est avant le mvmt de ref donc pas de abs time\n",
    "                    \n",
    "                        writer.writerow(row)\n",
    "                        rel_time = rel_time + 1/fps[camera]                       # on incremente le rel time par la fps corespondante \n",
    "                            \n",
    "           \n",
    "                    f.close()"
   ]
  },
  {
   "cell_type": "markdown",
   "id": "b0458573-4093-4ec0-97f4-87b475de5415",
   "metadata": {},
   "source": [
    "# BUILD CSV FILES GOPRO, MICROSCOPE, REALSENSE, V2 (from png infos on absolute time)"
   ]
  },
  {
   "cell_type": "markdown",
   "id": "a7ea8f8d-b15b-4d98-a515-d0ce2f12bb52",
   "metadata": {},
   "source": [
    "## data from visual synchro"
   ]
  },
  {
   "cell_type": "code",
   "execution_count": 2,
   "id": "25e0fe18-eef1-42eb-af56-2c5cd6f8d466",
   "metadata": {},
   "outputs": [],
   "source": [
    "rs_frame = 18216\n",
    "micro_frame = 365\n",
    "gopro_frame = 1217\n",
    "\n",
    "#rs_abs_time = 1648459085159.2\n",
    "#rs_nb_frame = 66934\n",
    "\n",
    "fps_gopro = 59.940\n",
    "fps_rs = 29.98\n",
    "fps_micro = 30\n",
    "\n",
    "frame = {\n",
    "    \"REALSENSE\": rs_frame,\n",
    "    \"GOPRO\": gopro_frame,\n",
    "    \"MICROSCOPE\": micro_frame\n",
    "}\n",
    "\n",
    "\n",
    "fps = {\n",
    "    \"GOPRO\": fps_gopro,\n",
    "    \"MICROSCOPE\": fps_micro,\n",
    "    \"REALSENSE\": fps_rs\n",
    "}\n",
    "\n",
    "cameras = ['GOPRO', 'MICROSCOPE', 'REALSENSE']\n",
    "folder = ['complete','segments']"
   ]
  },
  {
   "cell_type": "markdown",
   "id": "57f5b503-bf62-45ab-9d28-1f4057eb6e06",
   "metadata": {},
   "source": [
    "## get nb of frames"
   ]
  },
  {
   "cell_type": "code",
   "execution_count": null,
   "id": "ce48a2e4-6c9a-4605-9c56-ce28d5b4aacb",
   "metadata": {},
   "outputs": [],
   "source": [
    "# get the nub of frames for each segments and the total videos for the gopro and microscope\n",
    "\n",
    "data_folder = join('..', 'data', 'SFITS_28_03_22', 'MAXIME')\n",
    "nb_frames = {}\n",
    "sum_frame = {}\n",
    "\n",
    "\n",
    "for k in range(len(cameras)):    #for the different cameras\n",
    "    camera = cameras[k]\n",
    "    sum_frame[camera] = {}\n",
    "    for j in range(len(folder)):  #segments and complete\n",
    "        files = [x[2] for x in os.walk(join(data_folder, camera,folder[j]))]   #get the nam of the files of the video\n",
    "        tmp = 0\n",
    "        if camera == 'REALSENSE':\n",
    "                    nb_frames[camera] = rs_nb_frame\n",
    "        else:\n",
    "            if len(files) != 0:                                                    # exclude rs for now bc no files\n",
    "                for i in range(len(files[0])):                                   \n",
    "                    file = files[0][i]                                             # prend la valeur des differents fichiers a la suite (les videos)\n",
    "                \n",
    "                    if os.path.splitext(file)[1] == '.MP4' or os.path.splitext(file)[1] == '.mp4':   #check si bien une video\n",
    "                    #print(join(data_folder, folder[j], file))\n",
    "                        cap = cv2.VideoCapture(join(data_folder, camera, folder[j], file))\n",
    "                        nb_frames[file] = int(cap.get(cv2.CAP_PROP_FRAME_COUNT))                     # store nb of frames with file name as key\n",
    "                \n",
    "                        if folder[j] == 'segments':                                # si on est dans le fichiers des segments on calcule la somme de tous les segments\n",
    "                            tmp = tmp + nb_frames[file]\n",
    "                            sum_frame[camera] = tmp\n",
    "                \n",
    "                #print(file, '  nb of frames:   ', nb_frames[file] )\n",
    "    print('Total nb of frames of segments for ', camera, sum_frame[camera])\n",
    "print('Nb of frames of the output GOPRO video:   ' , nb_frames['output_gopro.MP4'])\n",
    "print('Nb of frames of the output MICROSCOPE video:   ', nb_frames['output_microscope.MP4'])\n",
    "    \n",
    "#print(nb_frames) #ok le nb of frame obtenu pour les segments coresp. a celui donne par Resolve\n",
    "  \n",
    "    "
   ]
  },
  {
   "cell_type": "markdown",
   "id": "2b6555fa-d88e-4c94-9229-a3d8ee706c6a",
   "metadata": {},
   "source": [
    "## write csv files"
   ]
  },
  {
   "cell_type": "code",
   "execution_count": null,
   "id": "eeb6f04a-ffe7-41f4-9461-72af15837f42",
   "metadata": {},
   "outputs": [],
   "source": [
    "data_folder = join('..', 'data', 'SFITS_28_03_22', 'MAXIME')\n",
    "csv_names = []\n",
    "\n",
    "for k in range(len(cameras)):\n",
    "    camera = cameras[k]\n",
    "    \n",
    "    for j in range(len(folder)):\n",
    "        files = [x[2] for x in os.walk(join(data_folder, camera ,folder[j]))]\n",
    "        print(files)  \n",
    "        \n",
    "        if camera == 'REALSENSE':\n",
    "            \n",
    "            rs_csv = join(data_folder,camera, 'CSV', 'complete', 'REALSENSE_abs_time.csv')\n",
    "            f = open(rs_csv, 'w') # open the file in the write mode                        #open last one\n",
    "    \n",
    "            # create the csv writer\n",
    "            writer = csv.writer(f)\n",
    "            header = ['index','frequency','relative_time','abs_time']\n",
    "            # write a row to the csv file\n",
    "            writer.writerow(header)\n",
    "            rel_time = 0\n",
    "            #abs_time = rs_abs_time                                        #put the ref_abs time we got from RS as the first absolute time to write\n",
    "            \n",
    "            for m in range((nb_frames[camera])):                            #pour toutes les frames\n",
    "                abs_time = abs_time_vector['REALSENSE'][m]\n",
    "                        #if m >= frame[camera]:        # si on est dans les videos completes et que l-indice est plus grand que la frame avec le mvmt de ref\n",
    "                row = [m,fps[camera],rel_time,float(abs_time)]               # alors on inscrit le abs time, et a partir de la on l'incremente de la fps (en ms)\n",
    "                            #abs_time = abs_time + 1/fps[camera]*1000\n",
    "                        #else:\n",
    "                            #row = [m, fps[camera], rel_time]                      # sinon on est soit dans les segments (pas besoin absolute time), soit on est avant le mvmt de ref donc pas de abs time\n",
    "                    \n",
    "                writer.writerow(row)\n",
    "                rel_time = rel_time + 1/fps[camera]                       # on incremente le rel time par la fps corespondante \n",
    "                            \n",
    "            print(float(abs_time)-1/fps[camera]*1000)\n",
    "            f.close()        \n",
    "            \n",
    "        else:\n",
    "            for i in range(len(files[0])):\n",
    "                file = files[0][i] \n",
    "                if os.path.splitext(file)[1] == '.mp4' or os.path.splitext(file)[1] == '.MP4':\n",
    "            \n",
    "                    csv_names.append(join(data_folder,camera, 'CSV',folder[j], str(file)[0:15] + '_abs_time.csv'))  #create the csv references\n",
    "                    f = open(csv_names[-1], 'w') # open the file in the write mode                        #open last one\n",
    "    \n",
    "    \n",
    "                    # create the csv writer\n",
    "                    writer = csv.writer(f)\n",
    "                    header = ['index','frequency','relative_time','abs_time']\n",
    "    \n",
    "                    # write a row to the csv file\n",
    "                    writer.writerow(header)\n",
    "                    rel_time = 0\n",
    "                    abs_time = rs_abs_time                                        #put the ref_abs time we got from RS as the first absolute time to write\n",
    "                    #print(file)\n",
    "                    \n",
    "                    for m in range((nb_frames[file])):                            #pour toutes les frames\n",
    "                        if folder[j] == 'complete' and m >= frame[camera]:        # si on est dans les videos completes et que l-indice est plus grand que la frame avec le mvmt de ref\n",
    "                            row = [m,fps[camera],rel_time,abs_time]               # alors on inscrit le abs time, et a partir de la on l'incremente de la fps (en ms)\n",
    "                            abs_time = abs_time + 1/fps[camera]*1000\n",
    "                        else:\n",
    "                            row = [m, fps[camera], rel_time]                      # sinon on est soit dans les segments (pas besoin absolute time), soit on est avant le mvmt de ref donc pas de abs time\n",
    "                    \n",
    "                        writer.writerow(row)\n",
    "                        rel_time = rel_time + 1/fps[camera]                       # on incremente le rel time par la fps corespondante \n",
    "                            \n",
    "           \n",
    "                    f.close()"
   ]
  },
  {
   "cell_type": "code",
   "execution_count": null,
   "id": "c4a72b15-4e65-4468-86b7-359eec03361d",
   "metadata": {},
   "outputs": [],
   "source": []
  },
  {
   "cell_type": "markdown",
   "id": "432cd5e9-bc58-4095-95c2-58fe0f4b441d",
   "metadata": {},
   "source": [
    "# Segmentation"
   ]
  },
  {
   "cell_type": "markdown",
   "id": "92182b06-2de9-4d0a-9a27-e338df5ed268",
   "metadata": {},
   "source": [
    "## read csv data"
   ]
  },
  {
   "cell_type": "code",
   "execution_count": 101,
   "id": "5edb2c95-b39a-4e3a-bbf4-0011dd35f6e6",
   "metadata": {},
   "outputs": [
    {
     "name": "stdout",
     "output_type": "stream",
     "text": [
      "output_gopro.MP_abs_time.csv\n",
      "../data/SFITS_28_03_22/MAXIME/GOPRO/CSV/complete/output_gopro.MP_abs_time.csv\n",
      "output_microsco_abs_time.csv\n",
      "../data/SFITS_28_03_22/MAXIME/MICROSCOPE/CSV/complete/output_microsco_abs_time.csv\n",
      "REALSENSE_abs_time.csv\n",
      "../data/SFITS_28_03_22/MAXIME/REALSENSE/CSV/complete/REALSENSE_abs_time.csv\n"
     ]
    }
   ],
   "source": [
    "#reprend les donnes de csv , on peut en profiter pour les cut\n",
    "index = {}\n",
    "relative_time = {}\n",
    "absolute_time = {}\n",
    "\n",
    "for k in range(len(cameras)):\n",
    "    camera = cameras[k]\n",
    "    file = [x[2] for x in os.walk(join(data_folder, camera , 'CSV', 'complete'))]\n",
    "    print(file[0][0])  \n",
    "    \n",
    "    directory = join(data_folder, camera , 'CSV', 'complete', file[0][0])\n",
    "    print(directory)\n",
    "    synchro.play(directory, camera)\n",
    "    index[camera] = synchro.data[camera]['index']\n",
    "    relative_time[camera] = synchro.data[camera]['relative_time']\n",
    "    absolute_time[camera] = synchro.data[camera]['abs_time']\n",
    "    #print(absolute_time[camera])\n",
    "#print(relative_time)"
   ]
  },
  {
   "cell_type": "markdown",
   "id": "6e84e3d1-7ba1-4d93-98e9-a69b385b4f18",
   "metadata": {
    "jp-MarkdownHeadingCollapsed": true,
    "tags": []
   },
   "source": [
    "## get frames"
   ]
  },
  {
   "cell_type": "code",
   "execution_count": null,
   "id": "19d5bd60-9a48-44f4-a78b-58d87e59bdaa",
   "metadata": {},
   "outputs": [],
   "source": [
    "start_ref_frame = 1000\n",
    "stop_ref_frame = 2000\n",
    "camera_ref = \"MICROSCOPE\"\n",
    "\n",
    "#camera = camera_ref\n",
    "start_ref_abs_time = absolute_time[camera_ref][start_ref_frame]\n",
    "stop_ref_abs_time = absolute_time[camera_ref][stop_ref_frame]\n",
    "#\n",
    "pos_start = {}\n",
    "pos_stop = {}\n",
    "rel_time_start = {}\n",
    "rel_time_stop = {}\n",
    "abs_time_start = {}\n",
    "abs_time_stop = {}\n",
    "#for camera in cameras:\n",
    "print(\"start reference abs time:  \", start_ref_abs_time)  \n",
    "print(\"stop reference abs time:  \", stop_ref_abs_time) \n",
    "print(\"----------------------\")\n",
    "for camera in cameras:\n",
    "    pos_start[camera] = []\n",
    "    pos_stop[camera] = []\n",
    "    rel_time_start[camera] = {}\n",
    "    rel_time_stop[camera] = {}\n",
    "    abs_time_start[camera] = {}\n",
    "    abs_time_stop[camera] = {}\n",
    "    if not camera in camera_ref:\n",
    "        #print(absolute_time[camera])\n",
    "        [pos_start[camera], abs_time_start[camera]]= synchro.take_closest(absolute_time[camera], start_ref_abs_time, frame[camera])\n",
    "        print(camera, \"start index:       \", pos_start[camera], \"abs time:   \", abs_time_start[camera])\n",
    "        [pos_stop[camera], abs_time_stop[camera]] = synchro.take_closest(absolute_time[camera], stop_ref_abs_time, frame[camera])\n",
    "        print(camera, \"stop index:        \", pos_stop[camera], \"abs time:   \", abs_time_stop[camera])\n",
    "        rel_time_start[camera] = relative_time[camera][pos_start[camera]]\n",
    "        rel_time_stop[camera] = relative_time[camera][pos_stop[camera]]\n",
    "        print(camera, \"start index:       \", pos_start[camera], \"rel time:   \", rel_time_start[camera])\n",
    "        print(camera, \"stop index:       \", pos_stop[camera], \"rel time:   \", rel_time_stop[camera])\n",
    "        print(\"----------------------\")\n",
    "    else:\n",
    "        rel_time_start[camera] = relative_time[camera][start_ref_frame]\n",
    "        rel_time_stop[camera]  = relative_time[camera][stop_ref_frame]\n",
    "        abs_time_start[camera] = absolute_time[camera][start_ref_frame]\n",
    "        abs_time_stop[camera]  = absolute_time[camera][stop_ref_frame]\n",
    "        print(camera, \"start index   \", start_ref_frame, \"rel time:   \", rel_time_start[camera])\n",
    "        print(camera, \"stop index   \", stop_ref_frame, \"rel time:   \", rel_time_stop[camera])\n",
    "        print(\"----------------------\")\n",
    "        pos_start[camera] = start_ref_frame\n",
    "        pos_stop[camera] = stop_ref_frame\n",
    "    "
   ]
  },
  {
   "cell_type": "code",
   "execution_count": null,
   "id": "d9ce7525-1bb0-4aed-9994-34d1b1febe36",
   "metadata": {},
   "outputs": [],
   "source": []
  },
  {
   "cell_type": "code",
   "execution_count": null,
   "id": "100b36e5-d5b0-4b08-8d0f-999d4e80a02b",
   "metadata": {},
   "outputs": [],
   "source": []
  },
  {
   "cell_type": "code",
   "execution_count": null,
   "id": "5b32f144-c2e0-4f91-bfe6-59d3f669b719",
   "metadata": {},
   "outputs": [],
   "source": []
  },
  {
   "cell_type": "markdown",
   "id": "fb3d5526-9dde-4b8d-83cb-22b69644b92b",
   "metadata": {
    "jp-MarkdownHeadingCollapsed": true,
    "tags": []
   },
   "source": [
    "## EXPORT the corresponding videos"
   ]
  },
  {
   "cell_type": "code",
   "execution_count": 82,
   "id": "39af9a26-1116-4b4e-9e55-d4b752f7d4a6",
   "metadata": {},
   "outputs": [
    {
     "name": "stdout",
     "output_type": "stream",
     "text": [
      "output_gopro.MP4\n",
      "/home/anaelle/git/surgeon_recording/data/SFITS_28_03_22/MAXIME/GOPRO/SEGMENTATION/2486_to_4484.mp4\n",
      "Moviepy - Running:\n",
      ">>> \"+ \" \".join(cmd)\n",
      "Moviepy - Command successful\n",
      "output_microscope.MP4\n",
      "/home/anaelle/git/surgeon_recording/data/SFITS_28_03_22/MAXIME/MICROSCOPE/SEGMENTATION/1000_to_2000.mp4\n",
      "Moviepy - Running:\n",
      ">>> \"+ \" \".join(cmd)\n",
      "Moviepy - Command successful\n",
      "my_video2.mp4\n",
      "/home/anaelle/git/surgeon_recording/data/SFITS_28_03_22/MAXIME/REALSENSE/SEGMENTATION/18727_to_19515.mp4\n",
      "Moviepy - Running:\n",
      ">>> \"+ \" \".join(cmd)\n",
      "Moviepy - Command successful\n"
     ]
    }
   ],
   "source": [
    "#export video from t1 to t2 in seconds\n",
    "recording_session = 'SFITS_28_03_22'\n",
    "subject = 'MAXIME'\n",
    "\n",
    "path_to_data_folder = '/home/anaelle/git/surgeon_recording/data'\n",
    "\n",
    "data_folder = join('..', 'data', recording_session , subject)\n",
    "\n",
    "from moviepy.video.io.ffmpeg_tools import ffmpeg_extract_subclip\n",
    "for camera in cameras:\n",
    "    t1 = rel_time_start[camera]\n",
    "    t2 = rel_time_stop[camera]\n",
    "    \n",
    "    #name with abs time ref\n",
    "    #r1 = abs_time_start[camera]\n",
    "    #r2 = abs_time_stop[camera]\n",
    "    #ref = str(r1)[1:7] + \"_to_\" + str(r2)[1:7] + \".mp4\"\n",
    "    \n",
    "    #name with no of frame\n",
    "    r1 = pos_start[camera]\n",
    "    r2 = pos_stop[camera]\n",
    "    ref = str(r1) + \"_to_\" + str(r2) + \".mp4\"\n",
    "\n",
    "    #name with rel time\n",
    "    #ref = str(t1)[1:7] + \"_to_\" + str(t2)[1:7] + \".mp4\"\n",
    "    \n",
    "    file = [x[2] for x in os.walk(join(data_folder, camera , 'complete'))]\n",
    "    print(file[0][0])  \n",
    "    target_name = join(path_to_data_folder, recording_session, subject, camera , 'SEGMENTATION', ref)\n",
    "    file_name = join(data_folder, camera, 'complete', file[0][0])\n",
    "    print(target_name)\n",
    "    ffmpeg_extract_subclip(file_name, t1, t2, targetname=target_name)\n",
    "    \n",
    "    #export videos parts according to microscope frames"
   ]
  },
  {
   "cell_type": "markdown",
   "id": "b1e59c4b-5e3b-4fc6-afd2-a2b24f096ffd",
   "metadata": {},
   "source": [
    "## get the right frame nb and export videos of segment from ref frame nb on CSV file"
   ]
  },
  {
   "cell_type": "code",
   "execution_count": 1,
   "id": "9b2bc017-ea1f-4511-8683-863fa1d1b87a",
   "metadata": {},
   "outputs": [
    {
     "ename": "NameError",
     "evalue": "name 'os' is not defined",
     "output_type": "error",
     "traceback": [
      "\u001b[0;31m---------------------------------------------------------------------------\u001b[0m",
      "\u001b[0;31mNameError\u001b[0m                                 Traceback (most recent call last)",
      "Input \u001b[0;32mIn [1]\u001b[0m, in \u001b[0;36m<cell line: 8>\u001b[0;34m()\u001b[0m\n\u001b[1;32m      4\u001b[0m \u001b[38;5;28;01mfrom\u001b[39;00m \u001b[38;5;21;01mmoviepy\u001b[39;00m\u001b[38;5;21;01m.\u001b[39;00m\u001b[38;5;21;01mvideo\u001b[39;00m\u001b[38;5;21;01m.\u001b[39;00m\u001b[38;5;21;01mio\u001b[39;00m\u001b[38;5;21;01m.\u001b[39;00m\u001b[38;5;21;01mffmpeg_tools\u001b[39;00m \u001b[38;5;28;01mimport\u001b[39;00m ffmpeg_extract_subclip\n\u001b[1;32m      5\u001b[0m \u001b[38;5;66;03m#get ref fram of microscope directly from csv file\u001b[39;00m\n\u001b[0;32m----> 8\u001b[0m file \u001b[38;5;241m=\u001b[39m [x[\u001b[38;5;241m2\u001b[39m] \u001b[38;5;28;01mfor\u001b[39;00m x \u001b[38;5;129;01min\u001b[39;00m \u001b[43mos\u001b[49m\u001b[38;5;241m.\u001b[39mwalk(join(data_folder, \u001b[38;5;124m'\u001b[39m\u001b[38;5;124mSEGMENTATION_CSV\u001b[39m\u001b[38;5;124m'\u001b[39m))]\n\u001b[1;32m      9\u001b[0m \u001b[38;5;28mprint\u001b[39m(file[\u001b[38;5;241m0\u001b[39m][\u001b[38;5;241m0\u001b[39m])  \n\u001b[1;32m     11\u001b[0m directory \u001b[38;5;241m=\u001b[39m join(data_folder ,\u001b[38;5;124m'\u001b[39m\u001b[38;5;124mSEGMENTATION_CSV\u001b[39m\u001b[38;5;124m'\u001b[39m, file[\u001b[38;5;241m0\u001b[39m][\u001b[38;5;241m0\u001b[39m])\n",
      "\u001b[0;31mNameError\u001b[0m: name 'os' is not defined"
     ]
    }
   ],
   "source": [
    "#start_ref_frame = 1000\n",
    "#stop_ref_frame = 2000\n",
    "camera_ref = \"MICROSCOPE\"\n",
    "from moviepy.video.io.ffmpeg_tools import ffmpeg_extract_subclip\n",
    "#get ref fram of microscope directly from csv file\n",
    "\n",
    "\n",
    "file = [x[2] for x in os.walk(join(data_folder, 'SEGMENTATION_CSV'))]\n",
    "print(file[0][0])  \n",
    "    \n",
    "directory = join(data_folder ,'SEGMENTATION_CSV', file[0][0])\n",
    "print(directory)\n",
    "DATA = pd.read_csv(directory)\n",
    "start_ref_frame_vector = DATA['Start_frame']\n",
    "stop_ref_frame_vector = DATA['Stop_frame']\n",
    "index_segment_vector = DATA['nb']\n",
    "print(start_ref_frame)\n",
    "    \n",
    "for o in range(len(start_ref_frame_vector)):\n",
    "    start_ref_frame = start_ref_frame_vector[o]\n",
    "    stop_ref_frame = stop_ref_frame_vector[o]\n",
    "\n",
    "    #camera = camera_ref\n",
    "    start_ref_abs_time = absolute_time[camera_ref][start_ref_frame]\n",
    "    stop_ref_abs_time = absolute_time[camera_ref][stop_ref_frame]\n",
    "    #\n",
    "    pos_start = {}\n",
    "    pos_stop = {}\n",
    "    rel_time_start = {}\n",
    "    rel_time_stop = {}\n",
    "    abs_time_start = {}\n",
    "    abs_time_stop = {}\n",
    "    #for camera in cameras:\n",
    "    print(\"start reference abs time:  \", start_ref_abs_time)  \n",
    "    print(\"stop reference abs time:  \", stop_ref_abs_time) \n",
    "    print(\"----------------------\")\n",
    "    for camera in cameras:\n",
    "        pos_start[camera] = []\n",
    "        pos_stop[camera] = []\n",
    "        rel_time_start[camera] = {}\n",
    "        rel_time_stop[camera] = {}\n",
    "        abs_time_start[camera] = {}\n",
    "        abs_time_stop[camera] = {}\n",
    "        if not camera in camera_ref:\n",
    "            #print(absolute_time[camera])\n",
    "            [pos_start[camera], abs_time_start[camera]]= synchro.take_closest(absolute_time[camera], start_ref_abs_time, frame[camera])\n",
    "            print(camera, \"start index:       \", pos_start[camera], \"abs time:   \", abs_time_start[camera])\n",
    "            [pos_stop[camera], abs_time_stop[camera]] = synchro.take_closest(absolute_time[camera], stop_ref_abs_time, frame[camera])\n",
    "            print(camera, \"stop index:        \", pos_stop[camera], \"abs time:   \", abs_time_stop[camera])\n",
    "            rel_time_start[camera] = relative_time[camera][pos_start[camera]]\n",
    "            rel_time_stop[camera] = relative_time[camera][pos_stop[camera]]\n",
    "            print(camera, \"start index:       \", pos_start[camera], \"rel time:   \", rel_time_start[camera])\n",
    "            print(camera, \"stop index:       \", pos_stop[camera], \"rel time:   \", rel_time_stop[camera])\n",
    "            print(\"----------------------\")\n",
    "        else:\n",
    "            rel_time_start[camera] = relative_time[camera][start_ref_frame]\n",
    "            rel_time_stop[camera]  = relative_time[camera][stop_ref_frame]\n",
    "            abs_time_start[camera] = absolute_time[camera][start_ref_frame]\n",
    "            abs_time_stop[camera]  = absolute_time[camera][stop_ref_frame]\n",
    "            print(camera, \"start index   \", start_ref_frame, \"rel time:   \", rel_time_start[camera])\n",
    "            print(camera, \"stop index   \", stop_ref_frame, \"rel time:   \", rel_time_stop[camera])\n",
    "            print(\"----------------------\")\n",
    "            pos_start[camera] = start_ref_frame\n",
    "            pos_stop[camera] = stop_ref_frame\n",
    "            \n",
    "        #export video from t1 to t2 in seconds\n",
    "\n",
    "\n",
    "        path_to_data_folder = '/home/anaelle/git/surgeon_recording/data'\n",
    "\n",
    "        data_folder = join('..', 'data', recording_session , subject)\n",
    "\n",
    "     \n",
    "        #for camera in cameras:\n",
    "        t1 = rel_time_start[camera]\n",
    "        t2 = rel_time_stop[camera]\n",
    "    \n",
    "        #name with abs time ref\n",
    "        #r1 = abs_time_start[camera]\n",
    "        #r2 = abs_time_stop[camera]\n",
    "        #ref = str(r1)[1:7] + \"_to_\" + str(r2)[1:7] + \".mp4\"\n",
    "    \n",
    "        #name with no of frame\n",
    "        #r1 = pos_start[camera]\n",
    "        #r2 = pos_stop[camera]\n",
    "        #ref = str(r1) + \"_to_\" + str(r2) + \".mp4\"\n",
    "\n",
    "        #name with rel time\n",
    "        #ref = str(t1)[1:7] + \"_to_\" + str(t2)[1:7] + \".mp4\"\n",
    "    \n",
    "        #name with rsegment nb\n",
    "        r1 = index_segment_vector[o]\n",
    "        ref = \"segment_nb_\" + str(r1) + \".mp4\"\n",
    "        \n",
    "        file = [x[2] for x in os.walk(join(data_folder, camera , 'complete'))]\n",
    "        print(file[0][0])  \n",
    "        target_name = join(path_to_data_folder, recording_session, subject, camera , 'SEGMENTATION', ref)\n",
    "        file_name = join(data_folder, camera, 'complete', file[0][0])\n",
    "        print(target_name)\n",
    "        ffmpeg_extract_subclip(file_name, t1, t2, targetname=target_name)\n",
    "        \n",
    "        \n",
    "    \n",
    "    #export videos parts according to microscope frames"
   ]
  },
  {
   "cell_type": "code",
   "execution_count": 3,
   "id": "a0873118-47c2-4d09-b444-38a525fcc548",
   "metadata": {},
   "outputs": [
    {
     "name": "stdout",
     "output_type": "stream",
     "text": [
      "Moviepy - Building video color.mp4.\n",
      "Moviepy - Writing video color.mp4\n",
      "\n"
     ]
    },
    {
     "name": "stderr",
     "output_type": "stream",
     "text": [
      "                                                                                "
     ]
    },
    {
     "name": "stdout",
     "output_type": "stream",
     "text": [
      "Moviepy - Done !\n",
      "Moviepy - video ready color.mp4\n"
     ]
    },
    {
     "name": "stderr",
     "output_type": "stream",
     "text": [
      "\r"
     ]
    }
   ],
   "source": []
  },
  {
   "cell_type": "code",
   "execution_count": 10,
   "id": "39beaac3-272c-4fbe-b3f5-05c5d64e3b99",
   "metadata": {},
   "outputs": [
    {
     "name": "stdout",
     "output_type": "stream",
     "text": [
      "Moviepy - Building video /home/anaelle/git/surgeon_recording/data/SFITS_28_03_22/MAXIME/blank_video.mp4.\n",
      "Moviepy - Writing video /home/anaelle/git/surgeon_recording/data/SFITS_28_03_22/MAXIME/blank_video.mp4\n",
      "\n"
     ]
    },
    {
     "name": "stderr",
     "output_type": "stream",
     "text": [
      "                                                                                "
     ]
    },
    {
     "name": "stdout",
     "output_type": "stream",
     "text": [
      "Moviepy - Done !\n",
      "Moviepy - video ready /home/anaelle/git/surgeon_recording/data/SFITS_28_03_22/MAXIME/blank_video.mp4\n"
     ]
    },
    {
     "name": "stderr",
     "output_type": "stream",
     "text": [
      "\r"
     ]
    },
    {
     "name": "stdout",
     "output_type": "stream",
     "text": [
      "Moviepy - Building video /home/anaelle/git/surgeon_recording/data/SFITS_28_03_22/MAXIME/segment_nb_1_all_views.mp4.\n",
      "Moviepy - Writing video /home/anaelle/git/surgeon_recording/data/SFITS_28_03_22/MAXIME/segment_nb_1_all_views.mp4\n",
      "\n"
     ]
    },
    {
     "name": "stderr",
     "output_type": "stream",
     "text": [
      "                                                                                \r"
     ]
    },
    {
     "name": "stdout",
     "output_type": "stream",
     "text": [
      "Moviepy - Done !\n",
      "Moviepy - video ready /home/anaelle/git/surgeon_recording/data/SFITS_28_03_22/MAXIME/segment_nb_1_all_views.mp4\n"
     ]
    }
   ],
   "source": [
    "## export one video with 3 videos inside\n",
    "\n",
    "\n",
    "recording_session = 'SFITS_28_03_22'\n",
    "subject = 'MAXIME'\n",
    "\n",
    "path_to_data_folder = '/home/anaelle/git/surgeon_recording/data'\n",
    "\n",
    "data_folder = join('..', 'data', recording_session , subject)\n",
    "\n",
    "# Import everything needed to edit video clips\n",
    "from moviepy.editor import *\n",
    "# loading video dsa gfg intro video\n",
    "# getting subclip as video is large\n",
    "# adding margin to the video\n",
    "\n",
    "def color_clip(size, duration, output, fps=25, color=(0,0,0)):\n",
    "    ColorClip(size, color, duration=duration).write_videofile(output, fps=fps)\n",
    "    \n",
    "output_name = join(path_to_data_folder, recording_session, subject, 'blank_video.mp4')\n",
    "\n",
    "size = (200, 100)\n",
    "duration = 5\n",
    "color_clip(size, duration, output_name)\n",
    "clip4 = VideoFileClip(output_name)\n",
    "\n",
    "camera = 'MICROSCOPE'\n",
    "ref = 'segment_nb_1.mp4'\n",
    "\n",
    "target_name = join(path_to_data_folder, recording_session, subject, camera , 'SEGMENTATION', ref)\n",
    "\n",
    "clip1 = VideoFileClip(target_name)\n",
    "\n",
    "camera = 'GOPRO'\n",
    "target_name = join(path_to_data_folder, recording_session, subject, camera , 'SEGMENTATION', ref)\n",
    "clip2 = VideoFileClip(target_name)\n",
    "\n",
    "camera = 'REALSENSE'\n",
    "target_name = join(path_to_data_folder, recording_session, subject, camera , 'SEGMENTATION', ref)\n",
    "clip3 = VideoFileClip(target_name)\n",
    "bottom_frame = np.zeros(shape=[80, 800, 3], dtype=np.uint8)\n",
    "\n",
    "#clips = [[clip1, clip2],\n",
    "#         [clip1, clip3.resize(1.2)]]\n",
    "\n",
    "clips = [[clip1, clip2],\n",
    "         [clip4, clip3.resize(1.4)]] #to test\n",
    "        \n",
    "# stacking clips\n",
    "final = clips_array(clips, rows_widths=[1000, 1000], cols_widths=[2000, 2000])\n",
    " \n",
    "# showing final clip\n",
    "#final.ipython_display(width = 480)\n",
    "ref2 = \"segment_nb_1_all_views.mp4\"\n",
    "output_name = join(path_to_data_folder, recording_session, subject, ref2)\n",
    "final.set_duration(5).write_videofile(output_name, fps=30, remove_temp=True, audio = False)\n",
    "    "
   ]
  },
  {
   "cell_type": "code",
   "execution_count": null,
   "id": "4da0c4fb-cfa6-4c31-9e97-7a3b5d965d9a",
   "metadata": {},
   "outputs": [],
   "source": [
    "clip1 = VideoFileClip(\"geeks.mp4\").subclip(0, 5).margin(10)\n",
    " \n",
    "# getting clip2 by mirroring over x axis\n",
    "clip2 = clip1.fx(vfx.mirror_x)\n",
    " \n",
    "# getting clip3 by mirroring over y axis\n",
    "clip3 = clip1.fx(vfx.mirror_y)\n",
    " \n",
    "# getting clip 4 by resising the clip\n",
    "clip4 = clip1.resize(0.60)\n",
    " \n",
    "# clips list\n",
    "clips = [[clip1, clip2],\n",
    "        [clip3, clip4]]\n",
    " \n",
    "# stacking clips\n",
    "final = clips_array(clips)\n",
    " \n",
    "# showing final clip\n",
    "final.ipython_display(width = 480)"
   ]
  },
  {
   "cell_type": "code",
   "execution_count": null,
   "id": "8a541898-5889-4d73-a8d9-c340edd5c13e",
   "metadata": {},
   "outputs": [],
   "source": []
  },
  {
   "cell_type": "code",
   "execution_count": null,
   "id": "eed2b01f-c0e1-4ce0-9d80-80f63f78364a",
   "metadata": {},
   "outputs": [],
   "source": []
  },
  {
   "cell_type": "code",
   "execution_count": null,
   "id": "c026b55b-91f1-4641-9dbd-5a627e46c05d",
   "metadata": {},
   "outputs": [],
   "source": []
  },
  {
   "cell_type": "code",
   "execution_count": null,
   "id": "2d405e50-c32f-46ff-a060-9f7b0c4a2ddd",
   "metadata": {},
   "outputs": [],
   "source": []
  },
  {
   "cell_type": "code",
   "execution_count": null,
   "id": "f74e2842-2da7-4257-8346-ec180dcb8f0a",
   "metadata": {},
   "outputs": [],
   "source": []
  }
 ],
 "metadata": {
  "kernelspec": {
   "display_name": "Python 3 (ipykernel)",
   "language": "python",
   "name": "python3"
  },
  "language_info": {
   "codemirror_mode": {
    "name": "ipython",
    "version": 3
   },
   "file_extension": ".py",
   "mimetype": "text/x-python",
   "name": "python",
   "nbconvert_exporter": "python",
   "pygments_lexer": "ipython3",
   "version": "3.8.12"
  }
 },
 "nbformat": 4,
 "nbformat_minor": 5
}
