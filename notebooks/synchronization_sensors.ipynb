{
 "cells": [
  {
   "cell_type": "code",
   "execution_count": 1,
   "id": "cbd8509e-25c0-4436-914b-a141f1e93dd8",
   "metadata": {},
   "outputs": [],
   "source": [
    "from surgeon_recording.reader import Reader\n",
    "from glob import glob\n",
    "from os.path import join\n",
    "import os\n",
    "import numpy as np\n",
    "from scipy import stats\n",
    "import plotly.express as px\n",
    "import plotly.graph_objects as go\n",
    "from copy import deepcopy\n",
    "import pandas as pd\n",
    "\n",
    "import cv2\n",
    "import csv\n",
    "from natsort import natsorted\n",
    "from surgeon_recording.synchronization import Synchro\n",
    "\n",
    "from moviepy.editor import *\n",
    "\n",
    "from moviepy.video.io.ffmpeg_tools import ffmpeg_extract_subclip\n",
    "import moviepy.video.io.ImageSequenceClip"
   ]
  },
  {
   "cell_type": "code",
   "execution_count": 2,
   "id": "cb1860e5-b88d-46e9-80fd-ae988cc825da",
   "metadata": {},
   "outputs": [],
   "source": [
    "# code to export from absolute time, to be integrated afterwards with the microscope frames giving the absolute time\n",
    "synchro = Synchro()\n",
    "\n",
    "recording_session = 'test_19_04_22'\n",
    "subject = 'ANAELLE_all4'\n",
    "\n",
    "\n",
    "#path_to_data_folder = '/home/anaelle/git/surgeon_recording/data'\n",
    "path_to_data_folder = '/Users/anael/Documents/GitHub/surgeon_recordings/data'\n",
    "\n",
    "data_folder = join('..', 'data', recording_session , subject)"
   ]
  },
  {
   "cell_type": "code",
   "execution_count": null,
   "id": "ee8407d8-4228-4816-ad76-c0ba4ab7f8fe",
   "metadata": {},
   "outputs": [],
   "source": []
  },
  {
   "cell_type": "code",
   "execution_count": 3,
   "id": "3f3cfd65-157b-4a48-b398-171d3006e847",
   "metadata": {},
   "outputs": [],
   "source": [
    "sensors = ['optitrack', 'emg', 'tps']"
   ]
  },
  {
   "cell_type": "code",
   "execution_count": 17,
   "id": "514f3cc5-1790-4680-9ede-9bc9fb66f5d6",
   "metadata": {},
   "outputs": [
    {
     "name": "stdout",
     "output_type": "stream",
     "text": [
      "optitrack.csv\n",
      "['index', 'absolute_time', 'relative_time', 'tweezers_x', 'tweezers_y', 'tweezers_z', 'tweezers_qx', 'tweezers_qy', 'tweezers_qz', 'tweezers_qw', 'scissors_x', 'scissors_y', 'scissors_z', 'scissors_qx', 'scissors_qy', 'scissors_qz', 'scissors_qw']\n",
      "emg.csv\n",
      "['index', 'absolute_time', 'relative_time', 'emg0', 'emg1', 'emg2', 'emg3', 'emg4', 'emg5', 'emg6', 'emg7']\n",
      "tps.csv\n",
      "['index', 'absolute_time', 'relative_time', 'right_thumb_calibrated', 'right_thumb_raw', 'right_index_calibrated', 'right_index_raw', 'right_middle_calibrated', 'right_middle_raw']\n"
     ]
    }
   ],
   "source": [
    "# get sensor data from CSV\n",
    "\n",
    "index_sensor = {}\n",
    "relative_time_sensor = {}\n",
    "absolute_time_sensor = {}\n",
    "headers = {}\n",
    "directory_sensor = {}\n",
    "\n",
    "\n",
    "#file = [x[2] for x in os.walk(join(data_folder, 'SENSORS'))]\n",
    "#print(file[0])  \n",
    "\n",
    "for sensor in sensors:\n",
    "    file = sensor + '.csv'\n",
    "    print(file)\n",
    "    directory_sensor[sensor] = join(data_folder, 'SENSORS', file)\n",
    "\n",
    "    synchro.play(directory_sensor[sensor], sensor)\n",
    "    index_sensor[sensor] = synchro.data[sensor]['index']\n",
    "    relative_time_sensor[sensor] = synchro.data[sensor]['relative_time']\n",
    "    absolute_time_sensor[sensor] = synchro.data[sensor]['absolute_time']\n",
    "    \n",
    "    f = open(directory_sensor[sensor])\n",
    "    d_reader = csv.DictReader(f)\n",
    "    #get fieldnames from DictReader object and store in list\n",
    "    headers[sensor] = d_reader.fieldnames\n",
    "    print(headers[sensor])\n"
   ]
  },
  {
   "cell_type": "code",
   "execution_count": 78,
   "id": "ed289040-4734-4ff8-974f-2178a891f78b",
   "metadata": {},
   "outputs": [
    {
     "name": "stdout",
     "output_type": "stream",
     "text": [
      "segmentation_micro_frames.csv\n",
      "..\\data\\test_19_04_22\\ANAELLE_all4\\SEGMENTATION_CSV\\segmentation_micro_frames.csv\n",
      "start reference abs time:   1650380304.0\n",
      "stop reference abs time:   1650380305.2\n",
      "----------------------\n",
      "optitrack start index:        59      abs time:    1650380303.997059\n",
      "optitrack stop index:         148       abs time:    1650380305.206076\n",
      "emg start index:        714      abs time:    1650380304.000162\n",
      "emg stop index:         1811       abs time:    1650380305.2000115\n",
      "tps start index:        16      abs time:    1650380303.9820645\n",
      "tps stop index:         51       abs time:    1650380305.1265695\n"
     ]
    }
   ],
   "source": [
    "camera_ref = \"MICROSCOPE\"\n",
    "\n",
    "#get ref frame of microscope directly from csv file\n",
    "file = [x[2] for x in os.walk(join(data_folder, 'SEGMENTATION_CSV'))]\n",
    "print(file[0][0])  \n",
    "    \n",
    "directory = join(data_folder ,'SEGMENTATION_CSV', file[0][0])\n",
    "print(directory)\n",
    "DATA = pd.read_csv(directory)\n",
    "start_ref_frame_vector = DATA['Start_frame']\n",
    "stop_ref_frame_vector = DATA['Stop_frame']\n",
    "index_segment_vector = DATA['nb']\n",
    "#print(start_ref_frame)\n",
    "    \n",
    "for o in range(len(start_ref_frame_vector)):                                     #pour chaque segment\n",
    "    start_ref_frame = start_ref_frame_vector[o]\n",
    "    stop_ref_frame = stop_ref_frame_vector[o]\n",
    "\n",
    "    #camera = camera_ref\n",
    "    #start_ref_abs_time = absolute_time[camera_ref][start_ref_frame]\n",
    "    #stop_ref_abs_time = absolute_time[camera_ref][stop_ref_frame]\n",
    "    start_ref_abs_time = 1650380304.000000\n",
    "    stop_ref_abs_time = 1650380305.200000\n",
    "    \n",
    "    pos_start_sensor = {}\n",
    "    pos_stop_sensor = {}\n",
    "    #rel_time_start = {}\n",
    "    #rel_time_stop = {}\n",
    "    abs_time_start_sensor = {}\n",
    "    abs_time_stop_sensor = {}\n",
    "\n",
    "    print(\"start reference abs time:  \", start_ref_abs_time)  \n",
    "    print(\"stop reference abs time:  \", stop_ref_abs_time) \n",
    "    print(\"----------------------\")\n",
    "    for sensor in sensors:\n",
    "        pos_start_sensor[sensor] = []\n",
    "        pos_stop_sensor[sensor] = []\n",
    "        abs_time_start_sensor[sensor] = {}\n",
    "        abs_time_stop_sensor[sensor] = {}\n",
    "        \n",
    "        [pos_start_sensor[sensor], abs_time_start_sensor[sensor]]= synchro.take_closest(absolute_time_sensor[sensor], start_ref_abs_time, 0)\n",
    "        print(sensor, \"start index:       \", pos_start_sensor[sensor], \"     abs time:   \", abs_time_start_sensor[sensor])\n",
    "        [pos_stop_sensor[sensor], abs_time_stop_sensor[sensor]] = synchro.take_closest(absolute_time_sensor[sensor], stop_ref_abs_time, 0)\n",
    "        print(sensor, \"stop index:        \", pos_stop_sensor[sensor], \"      abs time:   \", abs_time_stop_sensor[sensor])\n",
    "        \n",
    "        r1 = index_segment_vector[o]\n",
    "        ref = \"segment_nb_\" + str(r1) + \"_\" + sensor + \".csv\"\n",
    "        csv_name = join(data_folder,'SENSORS', 'SEGMENTATION', ref)\n",
    "          \n",
    "        f = open(csv_name, 'w', newline='') # open the file in the write mode                        #open last one\n",
    "    \n",
    "        # create the csv writer\n",
    "        writer = csv.writer(f)\n",
    "       \n",
    "        # write a row to the csv file\n",
    "        writer.writerow(headers[sensor])\n",
    "        table = pd.read_csv(directory_sensor[sensor],skiprows=pos_start_sensor[sensor]-1,nrows=(pos_stop_sensor[sensor] - pos_start_sensor[sensor]+1))\n",
    "        table2 = table.to_numpy()\n",
    "    \n",
    "        for m in range(pos_stop_sensor[sensor] - pos_start_sensor[sensor]+1):\n",
    "            row = table2[m]\n",
    "            writer.writerow(row)\n",
    "            # print(row)\n",
    "    \n",
    "        f.close()        \n"
   ]
  },
  {
   "cell_type": "code",
   "execution_count": null,
   "id": "d170757f-6161-4ee1-8035-025273622615",
   "metadata": {},
   "outputs": [],
   "source": [
    "table2\n",
    "\n"
   ]
  },
  {
   "cell_type": "code",
   "execution_count": 37,
   "id": "7c4565f6-a33e-4ea3-9606-88ad70da8c62",
   "metadata": {},
   "outputs": [
    {
     "data": {
      "text/html": [
       "<div>\n",
       "<style scoped>\n",
       "    .dataframe tbody tr th:only-of-type {\n",
       "        vertical-align: middle;\n",
       "    }\n",
       "\n",
       "    .dataframe tbody tr th {\n",
       "        vertical-align: top;\n",
       "    }\n",
       "\n",
       "    .dataframe thead th {\n",
       "        text-align: right;\n",
       "    }\n",
       "</style>\n",
       "<table border=\"1\" class=\"dataframe\">\n",
       "  <thead>\n",
       "    <tr style=\"text-align: right;\">\n",
       "      <th></th>\n",
       "      <th>nb;Start_frame;Stop_frame</th>\n",
       "    </tr>\n",
       "  </thead>\n",
       "  <tbody>\n",
       "    <tr>\n",
       "      <th>0</th>\n",
       "      <td>1;400;500</td>\n",
       "    </tr>\n",
       "  </tbody>\n",
       "</table>\n",
       "</div>"
      ],
      "text/plain": [
       "  nb;Start_frame;Stop_frame\n",
       "0                 1;400;500"
      ]
     },
     "execution_count": 37,
     "metadata": {},
     "output_type": "execute_result"
    }
   ],
   "source": []
  },
  {
   "cell_type": "code",
   "execution_count": null,
   "id": "bf7f8588-dc49-4eff-ab04-46906549257f",
   "metadata": {},
   "outputs": [],
   "source": [
    " DATA['nb']"
   ]
  },
  {
   "cell_type": "code",
   "execution_count": null,
   "id": "fc5cd104-4c4f-4a9f-9a6e-eea7bcd996de",
   "metadata": {},
   "outputs": [],
   "source": []
  }
 ],
 "metadata": {
  "kernelspec": {
   "display_name": "Python 3 (ipykernel)",
   "language": "python",
   "name": "python3"
  },
  "language_info": {
   "codemirror_mode": {
    "name": "ipython",
    "version": 3
   },
   "file_extension": ".py",
   "mimetype": "text/x-python",
   "name": "python",
   "nbconvert_exporter": "python",
   "pygments_lexer": "ipython3",
   "version": "3.8.12"
  }
 },
 "nbformat": 4,
 "nbformat_minor": 5
}
