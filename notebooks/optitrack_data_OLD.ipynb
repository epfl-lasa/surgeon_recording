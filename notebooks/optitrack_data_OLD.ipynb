{
 "cells": [
  {
   "cell_type": "code",
   "execution_count": 1,
   "id": "5e034850-adec-436e-8482-79a20ee263e4",
   "metadata": {},
   "outputs": [],
   "source": [
    "from pyquaternion import Quaternion\n",
    "import numpy as np\n",
    "from numpy import linalg as LA\n",
    "\n",
    "from surgeon_recording.data_analysis.tool_transformation import *\n",
    "\n",
    "from surgeon_recording.reader_wo_align_rel_time import Reader #car sinon tronque encore les valeurs quand lit les fichiers segmentes, pas utile ? a revoir !\n",
    "\n",
    "from glob import glob\n",
    "from os.path import join\n",
    "import os\n",
    "from scipy import stats\n",
    "import plotly.express as px\n",
    "import plotly.graph_objects as go\n",
    "from copy import deepcopy\n",
    "import pandas as pd\n",
    "import csv\n",
    "import matplotlib.pyplot as plt\n",
    "import natsort\n",
    "import matplotlib\n",
    "import math"
   ]
  },
  {
   "cell_type": "code",
   "execution_count": 26,
   "id": "734da995-6256-4eec-9c5d-417dd5686109",
   "metadata": {},
   "outputs": [],
   "source": []
  },
  {
   "cell_type": "markdown",
   "id": "761c0784-5c6e-46eb-9840-a95fece588d7",
   "metadata": {},
   "source": [
    "# Compute the transformation matrix from marker to tip and marker to tool"
   ]
  },
  {
   "cell_type": "code",
   "execution_count": 7,
   "id": "193e12a8-ae6f-484c-8504-6ea53b2b60ad",
   "metadata": {},
   "outputs": [],
   "source": [
    "# hardcoded tool and tooltip rotation and position in form [qw,qx,qy,qz,tx,ty,tz,1]\n",
    "#  Quaternion((w, x, y, z)) function: Creates a unit quaternion 1 + 0i + 0j + 0k\n",
    "# approximation for the 1st set of recorded data (not exact as fell several times + position measured afterwards, the marker was not placed exactly at same location)\n",
    "\n",
    "#done in 2 times: once with 3 points to show the top and once with 3 points to show the tip = two different matrix for the main marker used during the experiment\n",
    "#tools = {\n",
    "#    \"tweezers\": {\n",
    "#        \"marker_top\": [0.294683893, -0.381338443, 0.804004129, -0,348218245, 0.02071305, 0.315910506, 0.109691984, 1],     # the one from the fixed marker for top measurement\n",
    "#        \"marker_tip\": [-0.934570634, -0.199016144, -0.27846308, -0.09708261, -0.084385462, 0.322035324, 0.247498733, 1],     # the one from the fixed marker for tip measurement\n",
    "#        \"top\":  [-0.957423623, 0.232203992, 0.045994597, -0.164969258, -0.957423623, 0.064656852, 0.30305547, 0.118855763,1],    # marker to rpz top\n",
    "#        \"tip\":  [-0.982271943, 0.074956687, 0.087323391, -0.147737227, 0.009193922, 0.29774011, 0.185825182, 1]      # marker to rpz tip\n",
    "        \n",
    "#    },\n",
    "#    \"holder\":  {\n",
    " #       \"marker_top\": [-0.464328416, -0.824174638, 0.259212521, 0.194345126, -0.028731799, 0.37167886, 0.187163421, 1],\n",
    "#        \"marker_tip\": [-0.607490434, -0.786474846, 0.065937201, 0.066721948, -0.09777691, 0.273007487, 0.129043679, 1],\n",
    "#        \"top\": [-0.999966857, -0.005855143, 0.001344358, -0.004240937, 0.038997519, 0.391597069, 0.185368827, 1],\n",
    "#        \"tip\":  [-0.998836327, 0.047065242, 0.006078749, -0.008203204, -0.003049673, 0.288822714, 0.204019114, 1]\n",
    "\n",
    "#    },        \n",
    "#    \"scissors\": {\n",
    "#        \"marker_top\": [-0.042840319, -0.680377306, -0.566847792, 0.46252974, -0.081934339, 0.350532647, 0.195744726, 1],\n",
    "#        \"marker_tip\": [0.006243079, -0.843461761, -0.292836166, 0.450291385, 0.091436198, 0.357834012, 0.119615055, 1],\n",
    "#        \"top\": [-0.998896472, -0.011071288, 0.035124272, -0.028830308, -0.010444363, 0.372744524, 0.189865359, 1],\n",
    "#        \"tip\": [-0.174518025, -0.309318304, 0.422878875, 0.833678217, 0.052825127, 0.265624369, 0.148519055, 1]\n",
    "#    }\n",
    "#}"
   ]
  },
  {
   "cell_type": "code",
   "execution_count": 8,
   "id": "e733ce19-a8a2-4622-9f09-3d86c15daadc",
   "metadata": {},
   "outputs": [
    {
     "name": "stdout",
     "output_type": "stream",
     "text": [
      "tweezers\n",
      "holder\n",
      "scissors\n"
     ]
    }
   ],
   "source": [
    "#for tool in tools:\n",
    "#    print(tool)\n",
    "#    marker_top_quaternion = Quaternion(tools[tool][\"marker_top\"][:4])  #Return homogeneous rotation matrix from quaternion. = on calcule la matrice de rotation qui correspond aux quaternions du tool (chiffres en haut) #ATTENTION: normalise le quaternion a 1 donc pas exactemetn meme valeurs\n",
    "#    T_marker_top_fixed = marker_top_quaternion.transformation_matrix         # deja en 4*4 matrix\n",
    "    \n",
    "#    marker_top_translation_vector = np.array((tools[tool][\"marker_top\"][-4:])) #Return matrix to translate by direction vector = on calcule la matrice de translation qui correspond aux positions du tool (chiffres en haut)\n",
    "#    T_marker_top_fixed[:,-1] = marker_top_translation_vector       #matrice de transformation pour passer de mon objet au centre du reference frame à sa position actuelle (marker de l'outils)\n",
    "    \n",
    "#    marker_tip_quaternion = Quaternion(tools[tool][\"marker_tip\"][:4])  #Return homogeneous rotation matrix from quaternion. = on calcule la matrice de rotation qui correspond aux quaternions du tool (chiffres en haut) #ATTENTION: normalise le quaternion a 1 donc pas exactemetn meme valeurs\n",
    "#    T_marker_tip_fixed = marker_tip_quaternion.transformation_matrix         # deja en 4*4 matrix\n",
    "#    \n",
    "#    marker_tip_translation_vector = np.array((tools[tool][\"marker_tip\"][-4:])) #Return matrix to translate by direction vector = on calcule la matrice de translation qui correspond aux positions du tool (chiffres en haut)\n",
    "#    T_marker_tip_fixed[:,-1] = marker_tip_translation_vector       #matrice de transformation pour passer de mon objet au centre du reference frame à sa position actuelle (marker de l'outils)\n",
    "        \n",
    "#    top_quaternion = Quaternion(tools[tool][\"top\"][:4])  #Return homogeneous rotation matrix from quaternion. = on calcule la matrice de rotation qui correspond aux quaternions du tool (chiffres en haut) #ATTENTION: normalise le quaternion a 1 donc pas exactemetn meme valeurs\n",
    "#    T_top = top_quaternion.transformation_matrix         # deja en 4*4 matrix\n",
    "    \n",
    "#    top_translation_vector = np.array((tools[tool][\"top\"][-4:])) #Return matrix to translate by direction vector = on calcule la matrice de translation qui correspond aux positions du tool (chiffres en haut)\n",
    "#    T_top[:,-1] = top_translation_vector       #matrice de transformation pour passer de mon objet au centre du reference frame à sa position actuelle (marker de l'outils)\n",
    "    \n",
    "#    tip_quaternion = Quaternion(tools[tool][\"tip\"][:4]) #matrice de rotation des quaternions du tip #ATTENTION: normalise le quaternion a 1 donc pas exactemetn meme valeurs\n",
    "#    T_tip = tip_quaternion.transformation_matrix\n",
    "  \n",
    "#    tip_translation_vector = np.array((tools[tool][\"tip\"][-4:])) #-4 car 4 dernieres valeurs\n",
    "#    T_tip[:,-1] = tip_translation_vector       #matrice de transformation pour passer de mon objet au centre du reference frame à sa position actuelle (tip de l'outils)\n",
    "    \n",
    "#    T_marker_top_fixed_inv = LA.inv(T_marker_top_fixed)  \n",
    "#    T_marker_tip_fixed_inv = LA.inv(T_marker_tip_fixed)  \n",
    "#    #T_marker_inv = np.identity(4)\n",
    "#    #T_marker_inv[:3, :3] = LA.inv(T_tool[:3, :3])\n",
    "#    #T_marker_inv[:3, -1] = -T_tool_inv[:3, :3].dot(T_tool[:3, -1]) #msimplement une autre maniere de la calculer l'inverse !!!!!!!!!!!!!!\n",
    "   \n",
    "    \n",
    "## ORIGIN TO TOOL, BASED ON MARKER POSITION\n",
    "   \n",
    "#    T_marker_top = T_marker_top_fixed_inv.dot(T_top) #Matrice mTtop = marker to top\n",
    "#    q_marker_tool = Quaternion(matrix = T_marker_top)\n",
    "\n",
    "    \n",
    "## ORIGIN TO TIP, BASED ON MARKER POSITION\n",
    "     \n",
    "#    T_marker_tip = T_marker_tip_fixed_inv.dot(T_tip) #Matrice mTtip = marker to tip\n",
    "#    q_marker_tip = Quaternion(matrix = T_marker_tip)\n",
    "    "
   ]
  },
  {
   "cell_type": "markdown",
   "id": "46f21cd1-5d0b-45b1-a136-6d3869fd878a",
   "metadata": {
    "tags": []
   },
   "source": [
    "# get Optitrack data"
   ]
  },
  {
   "cell_type": "code",
   "execution_count": 9,
   "id": "1962a528-da4c-4ab6-9121-eb581595707b",
   "metadata": {},
   "outputs": [],
   "source": [
    "# pour avoir x,y,z tip on multplie la matrice mTt (cste) par oTm qui varie a chaque instant\n",
    "#besoin du vecteur de translation de la matrice oTt (origin to tip) pour avoir la positio du tip = multiplication de oTm et mTt, oTm connue = Ttool a chaque instant"
   ]
  },
  {
   "cell_type": "code",
   "execution_count": 10,
   "id": "1a259cc1-8410-4c5a-8498-038ff0023e99",
   "metadata": {},
   "outputs": [],
   "source": [
    "# EN REALITE TOOL EST MARQUEUR DONC BESOIN DE REFAIRE PAREIL POUR LE VRAI HAUT DU TOOL SI ON VEUT PLUS PRECIS\n",
    "# DESIGNER MARQUEUR POUR QUE CE SOIT PLUS SIMPLE"
   ]
  },
  {
   "cell_type": "code",
   "execution_count": 2,
   "id": "7a72d0e4-acb4-4bf5-9839-d5f55d5c7317",
   "metadata": {},
   "outputs": [],
   "source": [
    "reader = Reader()"
   ]
  },
  {
   "cell_type": "code",
   "execution_count": 3,
   "id": "8032b679-90d7-43b3-85ad-3e5faa719465",
   "metadata": {},
   "outputs": [
    {
     "name": "stdout",
     "output_type": "stream",
     "text": [
      "WARNING: segmentation for 14,20 and 22 from alreadz segmented parts = relative time does not alwazs correspond to the initial file relative time\n"
     ]
    }
   ],
   "source": [
    "data_folder = join('..', 'data','SEGMENTATION_suturing_cutting')\n",
    "#subject_nb = ['12']\n",
    "subject_nb = ['12', '14', '15', '20','22'] # 15 run 1 incomplete ? (5 cutting and 5 suturing)\n",
    "blacklist = ['15']\n",
    "print(\"WARNING: segmentation for 14,20 and 22 from alreadz segmented parts = relative time does not alwazs correspond to the initial file relative time\")\n",
    "\n",
    "experiment = 'chicken'\n",
    "\n",
    "sensors_file = ['camera.csv', 'optitrack.csv','emg.csv','tps.csv']\n",
    "\n",
    "sensors = ['camera', 'optitrack','emg','tps']\n",
    "\n",
    "action = ['suturing', 'cutting']\n",
    "#action = 'cutting'\n",
    "\n",
    "\n",
    "specialty_keys = [\"neuro\", \"plastic\"]\n",
    "expertise_keys = [\"novice\", \"expert\"]\n",
    "\n",
    "tools = ['tweezers','holder','scissors']"
   ]
  },
  {
   "cell_type": "code",
   "execution_count": 4,
   "id": "b8270e09-0e1c-441c-8e91-9c0964cda7e4",
   "metadata": {},
   "outputs": [],
   "source": [
    "# declaration variable\n",
    "run_dir = {}\n",
    "opti_data = {}\n",
    "\n",
    "for a in action:\n",
    "    run_dir[a] = {}\n",
    "    opti_data[a] = {}\n",
    "    \n",
    "    for d in subject_nb:\n",
    "        run_dir[a][d] = {}\n",
    "        opti_data[a][d] = {}\n",
    "        \n",
    "        for l in tools:\n",
    "                for f in ['x','y','z','qx','qy','qz','qw']:\n",
    "                    key = l + '_' + f \n",
    "                    opti_data[a][d][key] = []\n",
    "                    \n",
    "  "
   ]
  },
  {
   "cell_type": "code",
   "execution_count": null,
   "id": "bd12b32a-eebf-4648-befd-b5615d09995f",
   "metadata": {},
   "outputs": [],
   "source": [
    "# directory of files\n",
    "#ATTENTION: OK SI UN SEUL RUN DANS LE DOCUMENT SEGMENTATION POUR L'INSTANT\n",
    "\n",
    "for a in action:\n",
    "    for d in subject_nb:\n",
    "        tmp = [x[0] for x in os.walk(join(data_folder, d, experiment,'segmentation',a))][2:]\n",
    "        run_dir[a][d] = natsort.natsorted(tmp,reverse=False)\n",
    "print(run_dir)"
   ]
  },
  {
   "cell_type": "code",
   "execution_count": 6,
   "id": "af8c5ad0-e6ae-46e8-98e3-4bf9ffde060a",
   "metadata": {},
   "outputs": [],
   "source": [
    "# data of different segments for one action and one subject put together\n",
    "for a in action:\n",
    "    for d in subject_nb:  \n",
    "        for rd in run_dir[a][d]:\n",
    "            reader.play(rd) \n",
    "            for l in tools:\n",
    "                for f in ['x','y','z','qx','qy','qz','qw']:\n",
    "                    key = l + '_' + f \n",
    "                    opti_data[a][d][key].append(reader.data['optitrack'][key].to_numpy())  #add opti data for one action, one subject, one key in one structure\n",
    "            "
   ]
  },
  {
   "cell_type": "code",
   "execution_count": 7,
   "id": "8b91ac5a-7b30-48b7-a52b-459a14c4354c",
   "metadata": {},
   "outputs": [],
   "source": [
    "# need to put them in the format to compute oTmarker\n",
    "translation_vector = {}\n",
    "quaternion_vector = {}\n",
    "position_vector_tip = {}\n",
    "position_vector_top = {}\n",
    "vector_top_to_tip = {}\n",
    "pos_x = {}\n",
    "pos_y = {}\n",
    "pos_z = {}\n",
    "\n",
    "for a in action:\n",
    "    translation_vector[a] = {}\n",
    "    quaternion_vector[a] = {}\n",
    "    position_vector_tip[a] = {}\n",
    "    position_vector_top[a] = {}\n",
    "    vector_top_to_tip[a] = {}\n",
    "    pos_x[a]= {}\n",
    "    pos_y[a]= {}\n",
    "    pos_z[a]= {}\n",
    "    \n",
    "    for d in subject_nb:  \n",
    "        translation_vector[a][d] = {}\n",
    "        quaternion_vector[a][d] = {}\n",
    "        position_vector_tip[a][d] = {}\n",
    "        position_vector_top[a][d] = {} \n",
    "        vector_top_to_tip[a][d] = {}\n",
    "        pos_x[a][d]= {}\n",
    "        pos_y[a][d]= {}\n",
    "        pos_z[a][d]= {}\n",
    "        \n",
    "        id_s = len(run_dir[a][d])\n",
    "        for s in range(id_s): #s prend la valeur des segments\n",
    "            translation_vector[a][d][s] = {}\n",
    "            quaternion_vector[a][d][s] = {}\n",
    "            position_vector_top[a][d][s] = {}\n",
    "            position_vector_tip[a][d][s] = {}\n",
    "            vector_top_to_tip[a][d][s] = {}\n",
    "            pos_x[a][d][s] = {}\n",
    "            pos_y[a][d][s] = {}\n",
    "            pos_z[a][d][s] = {}\n",
    "            \n",
    "            for tool in tools:\n",
    "                T_marker_top=[]\n",
    "                T_marker_tip = []\n",
    "                [T_marker_top, T_marker_tip] = get_transformation_matrix(tool)\n",
    "                \n",
    "                position_vector_tip[a][d][s][tool] = []\n",
    "                position_vector_top[a][d][s][tool] = []\n",
    "                translation_vector[a][d][s][tool] = []\n",
    "                quaternion_vector[a][d][s][tool] = []\n",
    "                vector_top_to_tip[a][d][s][tool] = []\n",
    "                pos_x[a][d][s][tool] = []\n",
    "                pos_y[a][d][s][tool] = []\n",
    "                pos_z[a][d][s][tool] = []\n",
    "                \n",
    "                for i in range(len(opti_data[a][d][tool + '_' + 'x'][s])):\n",
    "                    current_trans_vect = np.array([opti_data[a][d][tool + '_' + 'x'][s][i], opti_data[a][d][tool + '_' + 'y'][s][i], opti_data[a][d][tool + '_' + 'z'][s][i],1])\n",
    "                    translation_vector[a][d][s][tool].append(current_trans_vect)\n",
    "                    current_quaternion = np.array([opti_data[a][d][tool + '_' + 'qw'][s][i], opti_data[a][d][tool + '_' + 'qx'][s][i], opti_data[a][d][tool + '_' + 'qy'][s][i], opti_data[a][d][tool + '_' + 'qz'][s][i]])\n",
    "                    #ajoute a la suite pour une action, 1 sujet, un outils et un sgment le vecteur ieme vecteur x,y,z \n",
    "                    q = Quaternion(current_quaternion)\n",
    "                    quaternion_vector[a][d][s][tool].append(current_quaternion)                       \n",
    "                   \n",
    "                    T_marker = q.transformation_matrix        \n",
    "                    T_marker[:,-1] = current_trans_vect\n",
    "                    \n",
    "                    tmp_pos_tip = T_marker.dot(T_marker_tip)[0:3,-1]\n",
    "                    tmp_pos_top = T_marker.dot(T_marker_top)[0:3,-1]\n",
    "                    \n",
    "                    position_vector_tip[a][d][s][tool].append(tmp_pos_tip) #prend le vecteur de translation de la matrice obtenue qui correspond a la position par rapport au referentiel\n",
    "                    position_vector_top[a][d][s][tool].append(tmp_pos_top)\n",
    "                    \n",
    "                    tmp_top_to_tip = np.subtract(tmp_pos_tip, tmp_pos_top)\n",
    "                    \n",
    "                    vector_top_to_tip[a][d][s][tool].append(tmp_top_to_tip) #format x,y,y\n",
    "                \n",
    "                pos_x[a][d][s][tool] = [item[0] for item in vector_top_to_tip[a][d][s][tool]]  #que les x\n",
    "                pos_y[a][d][s][tool] = [item[1] for item in vector_top_to_tip[a][d][s][tool]]  \n",
    "                pos_z[a][d][s][tool] = [item[2] for item in vector_top_to_tip[a][d][s][tool]]"
   ]
  },
  {
   "cell_type": "code",
   "execution_count": 8,
   "id": "1ba70635-7a7d-4c0b-b6c2-8dc2eade2eef",
   "metadata": {},
   "outputs": [
    {
     "name": "stdout",
     "output_type": "stream",
     "text": [
      "[-0.07306491 -0.10992132  0.00266896]\n",
      "-0.07306491224987083\n"
     ]
    }
   ],
   "source": [
    "print(vector_top_to_tip[a][d][s][tool][1])\n",
    "print(pos_x[a][d][s][tool][1])"
   ]
  },
  {
   "cell_type": "markdown",
   "id": "014638c6-ca47-45d9-a16a-339b9348d9cd",
   "metadata": {},
   "source": [
    "## Compute motion dynamics"
   ]
  },
  {
   "cell_type": "code",
   "execution_count": 60,
   "id": "0fbe523e-df83-435f-ad49-dee7f351d006",
   "metadata": {},
   "outputs": [],
   "source": [
    "# calcul vitesse\n",
    "# TAKE relative time to integrate or fixed theoretical frequecy ??????????????\n",
    "pos = {}\n",
    "speed = {}\n",
    "acc = {}\n",
    "jerk = {}\n",
    "x_speed = {}\n",
    "amp_speed = {}\n",
    "\n",
    "frequency_theo = 65\n",
    "for a in action:\n",
    "    pos[a] = {}\n",
    "    speed[a] = {}\n",
    "    acc[a] = {}\n",
    "    jerk[a] = {}\n",
    "    x_speed[a] = {}\n",
    "    amp_speed[a] = {}\n",
    "    \n",
    "    for d in subject_nb:  \n",
    "        pos[a][d] = {}\n",
    "        speed[a][d] = {}\n",
    "        acc[a][d] = {}\n",
    "        jerk[a][d] = {}\n",
    "        x_speed[a][d] = {}\n",
    "        amp_speed[a][d] = {}\n",
    "        \n",
    "        id_s = len(run_dir[a][d])\n",
    "        for s in range(id_s): #s prend la valeur des segments\n",
    "            pos[a][d][s] = {}\n",
    "            speed[a][d][s] = {}\n",
    "            acc[a][d][s] = {}\n",
    "            jerk[a][d][s] = {}\n",
    "            x_speed[a][d][s] = {}\n",
    "            amp_speed[a][d][s] = {}\n",
    "            \n",
    "            for tool in tools:\n",
    "                amp_speed[a][d][s][tool] = []\n",
    "                \n",
    "                speed[a][d][s][tool] = np.gradient(vector_top_to_tip[a][d][s][tool], frequency_theo, axis = 0) # OU ALORS ON DERIVE LA POSITION DU TIP JUSTE ?\n",
    "                acc[a][d][s][tool] = np.gradient(speed[a][d][s][tool], frequency_theo, axis = 0)               #format (x,y,z)\n",
    "                jerk[a][d][s][tool] = np.gradient(acc[a][d][s][tool], frequency_theo, axis = 0)\n",
    "                \n",
    "                x_speed[a][d][s][tool] = np.gradient(pos_x[a][d][s][tool], frequency_theo)       #x point\n",
    "                #y_speed[a][d][s][tool] = np.gradient(pos_y[a][d][s][tool], frequency_theo)       #y point\n",
    "                #z_speed[a][d][s][tool] = np.gradient(pos_z[a][d][s][tool], frequency_theo)       #z point\n",
    "                \n",
    "                for i in range(len(speed[a][d][s][tool])):\n",
    "                    amp_speed[a][d][s][tool].append(LA.norm(speed[a][d][s][tool][i]))\n",
    "        \n",
    "\n"
   ]
  },
  {
   "cell_type": "code",
   "execution_count": null,
   "id": "d84f9346-724c-440b-a243-29498462fe81",
   "metadata": {},
   "outputs": [],
   "source": []
  },
  {
   "cell_type": "code",
   "execution_count": null,
   "id": "d6cf3172-36a1-4596-ade3-9d3c52c3b22d",
   "metadata": {},
   "outputs": [],
   "source": [
    "\n"
   ]
  },
  {
   "cell_type": "markdown",
   "id": "74fb0d5c-b94d-46f2-bea7-47733ecd840f",
   "metadata": {},
   "source": [
    "## compute angles"
   ]
  },
  {
   "cell_type": "code",
   "execution_count": 11,
   "id": "7b582ac1-aeb7-4f22-8b9e-a50c0f1a54e2",
   "metadata": {},
   "outputs": [],
   "source": [
    "# calcul angles \n",
    "\n",
    "#vecteurs directeurs\n",
    "vect_i = np.array([1,0,0])\n",
    "vect_j = np.array([0,1,0])\n",
    "vect_k = np.array([0,0,1])\n",
    "\n",
    "angle_x  = {}\n",
    "angle_y  = {}\n",
    "angle_z  = {}\n",
    "angle_z_from_tip  = {}\n",
    "\n",
    "for a in action:\n",
    "    angle_x[a]={}\n",
    "    angle_y[a]={}\n",
    "    angle_z[a]={}\n",
    "    angle_z_from_tip[a]={}\n",
    "    for d in subject_nb: \n",
    "        angle_x[a][d]={}\n",
    "        angle_y[a][d]={}\n",
    "        angle_z[a][d]={}\n",
    "        angle_z_from_tip[a][d]={}\n",
    "        id_s = len(run_dir[a][d])        \n",
    "        for s in range(id_s): #s prend la valeur des segments\n",
    "            angle_x[a][d][s]={}\n",
    "            angle_y[a][d][s]={}\n",
    "            angle_z[a][d][s]={}\n",
    "            angle_z_from_tip[a][d][s] = {}\n",
    "            for tool in tools:\n",
    "                angle_x[a][d][s][tool] = []\n",
    "                angle_y[a][d][s][tool] = []\n",
    "                angle_z[a][d][s][tool] = []\n",
    "                angle_z_from_tip[a][d][s][tool] = []\n",
    "                for i in range(len(vector_top_to_tip[a][d][s][tool])):\n",
    "                    current_vector = vector_top_to_tip[a][d][s][tool][i]\n",
    "                    norm_current_vector = LA.norm(current_vector)\n",
    "                    alpha = np.arccos((current_vector.dot(vect_i))/norm_current_vector)\n",
    "                    beta = np.arccos((current_vector.dot(vect_j))/norm_current_vector)\n",
    "                    gamma = np.arccos((current_vector.dot(vect_k))/norm_current_vector)\n",
    "                    \n",
    "                    angle_x[a][d][s][tool].append(math.degrees(alpha))\n",
    "                    angle_y[a][d][s][tool].append(math.degrees(beta))\n",
    "                    angle_z[a][d][s][tool].append(math.degrees(gamma))\n",
    "                    angle_z_from_tip[a][d][s][tool].append(math.degrees(math.pi-gamma))\n",
    "                    "
   ]
  },
  {
   "cell_type": "markdown",
   "id": "897dce52-f747-44b1-9a27-7ddf0ef9a008",
   "metadata": {
    "tags": []
   },
   "source": [
    "## Graphs"
   ]
  },
  {
   "cell_type": "code",
   "execution_count": null,
   "id": "0f945c8a-cf4a-4d23-a7f0-1e615b7e302b",
   "metadata": {},
   "outputs": [],
   "source": [
    "# graph of all segments pu next to each other = for shorter segments we could visaully inspect this\n",
    "for a in action:\n",
    "    for d in subject_nb:  \n",
    "        id_s = len(run_dir[a][d])\n",
    "        plt.figure()\n",
    "        fig, axs = plt.subplots(1, 3, figsize=(25, 4))\n",
    "        for i, tool in enumerate(tools):\n",
    "            y = []\n",
    "            for s in range(id_s): #s prend la valeur des segments            \n",
    "                #tmp = (x_speed[a][d][s][tool])\n",
    "                tmp = (amp_speed[a][d][s][tool])\n",
    "                y = np.concatenate((y,tmp), axis = None)\n",
    "            \n",
    "            axs[i].plot(y, color='green', marker='o', linestyle='dashed', linewidth=1, markersize=1) #3 tools for 5 subjects fro 2 actions = 30 graphs\n",
    "            axs[i].set_title(\"speed amplitude \" + a + \" subject\" + d+ \" tool \" + tool)\n",
    "            \n",
    "            \n",
    "            #bizarre d'avoir des valeurs pour scissors pour l-action suturing (surtout pour 14) "
   ]
  },
  {
   "cell_type": "code",
   "execution_count": null,
   "id": "3e0c2ac9-d9d6-493e-8a4f-6e7e7a133b02",
   "metadata": {},
   "outputs": [],
   "source": []
  },
  {
   "cell_type": "code",
   "execution_count": null,
   "id": "8c179aca-f34e-405a-a8d1-f9d867832a02",
   "metadata": {},
   "outputs": [
    {
     "name": "stderr",
     "output_type": "stream",
     "text": [
      "/home/anaelle/anaconda3/envs/surgeon_recording/lib/python3.8/site-packages/numpy/core/shape_base.py:65: VisibleDeprecationWarning: Creating an ndarray from ragged nested sequences (which is a list-or-tuple of lists-or-tuples-or ndarrays with different lengths or shapes) is deprecated. If you meant to do this, you must specify 'dtype=object' when creating the ndarray.\n",
      "  ary = asanyarray(ary)\n"
     ]
    },
    {
     "data": {
      "image/png": "[encoded data removed]",
      "text/plain": [
       "<Figure size 432x288 with 1 Axes>"
      ]
     },
     "metadata": {
      "needs_background": "light"
     },
     "output_type": "display_data"
    }
   ],
   "source": [
    "a = 'suturing'\n",
    "d = '14'\n",
    "id_s = len(run_dir[a][d])\n",
    "for tool in tools:\n",
    "    y = []\n",
    "    for s in range(id_s): #s prend la valeur des segments            \n",
    "        y.append(x_speed[a][d][s][tool])\n",
    "    plt.plot(y, color='green', marker='o', linestyle='dashed', linewidth=2, markersize=12)"
   ]
  },
  {
   "cell_type": "code",
   "execution_count": 34,
   "id": "07998eeb-f96f-46eb-81cc-e1ab79eec0f9",
   "metadata": {},
   "outputs": [
    {
     "name": "stdout",
     "output_type": "stream",
     "text": [
      "<generator object <genexpr> at 0x7f4bd401e4a0>\n"
     ]
    }
   ],
   "source": [
    "print(x_speed[a][d][s][tool] for s in range(id_s))\n"
   ]
  },
  {
   "cell_type": "code",
   "execution_count": null,
   "id": "b7c44eeb-52f3-461a-a24d-7d92bfc0080c",
   "metadata": {},
   "outputs": [],
   "source": []
  },
  {
   "cell_type": "code",
   "execution_count": null,
   "id": "c10bc54f-ee7a-44c7-9c28-459b6fe149bf",
   "metadata": {},
   "outputs": [],
   "source": []
  },
  {
   "cell_type": "code",
   "execution_count": null,
   "id": "b9f46392-f6a2-4d53-9524-5a5b84905ffd",
   "metadata": {},
   "outputs": [],
   "source": []
  },
  {
   "cell_type": "code",
   "execution_count": null,
   "id": "b5717458-aa01-45da-bb7b-0e42885ea006",
   "metadata": {},
   "outputs": [],
   "source": []
  },
  {
   "cell_type": "code",
   "execution_count": 8,
   "id": "de34308f-792c-4e03-ac98-df7e26b22406",
   "metadata": {},
   "outputs": [
    {
     "name": "stdout",
     "output_type": "stream",
     "text": [
      "tweezers\n",
      "holder\n",
      "scissors\n"
     ]
    }
   ],
   "source": [
    "#get transformation matrix from the function tool transformation \n",
    "\n",
    "for tool in tools:\n",
    "    T_marker_top=[]\n",
    "    T_marker_tip = []\n",
    "    [T_marker_top, T_marker_tip] = get_transformation_matrix(tool)\n",
    "    \n",
    "    "
   ]
  },
  {
   "cell_type": "code",
   "execution_count": null,
   "id": "7976606e-6ece-41b3-955d-13ca2dd150e4",
   "metadata": {},
   "outputs": [],
   "source": [
    "print(a)\n",
    "print(d)\n",
    "print(s)\n",
    "print(l)\n",
    "print(opti_data[a][d][key][0][0]) #donne la premiere valeur du premier segment pour a,d,key\n",
    "quaternion_vector[a][d][s][l]"
   ]
  },
  {
   "cell_type": "code",
   "execution_count": null,
   "id": "46a7060e-45be-4543-9ccb-550fbb710108",
   "metadata": {},
   "outputs": [],
   "source": []
  },
  {
   "cell_type": "code",
   "execution_count": 89,
   "id": "eae32513-d5ed-49e6-96d0-c8a587e7eaf9",
   "metadata": {},
   "outputs": [
    {
     "name": "stdout",
     "output_type": "stream",
     "text": [
      "scissors\n",
      "[[-0.07664115  0.72080926 -0.68888325  0.01519849]\n",
      " [ 0.75452231 -0.40972711 -0.51265951  0.05286031]\n",
      " [-0.65178387 -0.5590686  -0.51246472 -0.05112284]\n",
      " [ 0.          0.          0.          1.        ]]\n",
      "[[-0.31404191 -0.89272029 -0.32315346 -0.0842514 ]\n",
      " [ 0.19357901  0.27301496 -0.94233221  0.04960364]\n",
      " [ 0.92946482 -0.35848753  0.08707377  0.03563783]\n",
      " [ 0.          0.          0.          1.        ]]\n"
     ]
    }
   ],
   "source": [
    "[test1, test2] = get_transformation_matrix('scissors')\n",
    "print(test1)\n",
    "print(test2)"
   ]
  },
  {
   "cell_type": "markdown",
   "id": "3e089368-3dae-4857-832e-15789893a0c9",
   "metadata": {},
   "source": [
    "# Find tip and tool position"
   ]
  },
  {
   "cell_type": "code",
   "execution_count": null,
   "id": "9b702965-802a-42b5-8dab-103be4095f49",
   "metadata": {},
   "outputs": [],
   "source": []
  },
  {
   "cell_type": "code",
   "execution_count": null,
   "id": "c910d93b-629d-4a24-8f7d-9674d6851a1a",
   "metadata": {},
   "outputs": [],
   "source": []
  },
  {
   "cell_type": "code",
   "execution_count": null,
   "id": "1d5096e3-1f5d-405f-831a-bcdb4e342978",
   "metadata": {},
   "outputs": [],
   "source": []
  },
  {
   "cell_type": "code",
   "execution_count": null,
   "id": "55d5a718-67b4-4885-97ce-b403113b68bf",
   "metadata": {},
   "outputs": [],
   "source": []
  },
  {
   "cell_type": "code",
   "execution_count": null,
   "id": "2d7b551d-ab0b-47a0-8d4d-cf35579a6705",
   "metadata": {},
   "outputs": [],
   "source": []
  },
  {
   "cell_type": "code",
   "execution_count": 19,
   "id": "9f1373ee-7e1b-4455-aa92-2ed25471ad47",
   "metadata": {},
   "outputs": [
    {
     "name": "stdout",
     "output_type": "stream",
     "text": [
      "[[ 1  1  1  2]\n",
      " [ 0  2  5  4]\n",
      " [ 2  5 -1  5]\n",
      " [ 3  2  5  6]]\n",
      "[[1 1 1 1]\n",
      " [1 1 1 1]\n",
      " [1 1 1 1]\n",
      " [1 1 1 1]]\n",
      "[[ 1  1  1]\n",
      " [ 0  2  5]\n",
      " [ 2  5 -1]]\n",
      "[[1 0 0 1]\n",
      " [0 0 0 1]\n",
      " [0 0 0 1]\n",
      " [1 1 1 1]]\n",
      "[[ 1  1  1  2]\n",
      " [ 0  2  5  4]\n",
      " [ 2  5 -1  5]\n",
      " [ 3  2  5  6]]\n"
     ]
    }
   ],
   "source": [
    "a = np.array([[1,1,1,2],[0,2,5,4],[2,5,-1,5],[3,2,5,6]]) \n",
    "b = np.array([[1,1,1,1],[1,1,1,1],[1,1,1,1],[1,1,1,1]]) \n",
    "print(a)\n",
    "print(b)\n",
    "print(a[:3, :3])\n",
    "b[:3, :3] = np.linalg.inv(a[:3, :3])\n",
    "print(b)\n",
    "print(a)\n"
   ]
  },
  {
   "cell_type": "code",
   "execution_count": 18,
   "id": "8377f5c4-cf6c-4375-98fe-f2148bcd4ffc",
   "metadata": {},
   "outputs": [
    {
     "name": "stdout",
     "output_type": "stream",
     "text": [
      "[[1 2]\n",
      " [3 4]]\n",
      "[[-2.   1. ]\n",
      " [ 1.5 -0.5]]\n"
     ]
    }
   ],
   "source": [
    "x = np.array([[1,2],[3,4]]) \n",
    "y = np.linalg.inv(x) \n",
    "print(x) \n",
    "print(y) "
   ]
  },
  {
   "cell_type": "code",
   "execution_count": 51,
   "id": "18db82d5-be22-4448-952b-a55e4f8e7a42",
   "metadata": {},
   "outputs": [
    {
     "name": "stdout",
     "output_type": "stream",
     "text": [
      "0.301 -0.426i -0.784j -0.335k\n",
      "1.0\n"
     ]
    }
   ],
   "source": [
    "print(tool_quaternion)\n",
    "print(tool_quaternion.norm)"
   ]
  },
  {
   "cell_type": "code",
   "execution_count": 52,
   "id": "f444d21c-08e4-40db-aeb7-d5af731ff21f",
   "metadata": {},
   "outputs": [
    {
     "name": "stdout",
     "output_type": "stream",
     "text": [
      "[0.2908416534, -0.4116654148, -0.7575458665, -0.3240295256]\n",
      "0.9658820602986157\n"
     ]
    }
   ],
   "source": [
    "print(tools[tool][\"tool\"][:4])\n",
    "vector = [-0.3240295256, 0.2908416534, -0.4116654148, -0.7575458665]\n",
    "print(LA.norm(vector))"
   ]
  },
  {
   "cell_type": "code",
   "execution_count": null,
   "id": "60060581-ce07-4a0b-8d34-165878606d6b",
   "metadata": {},
   "outputs": [],
   "source": []
  }
 ],
 "metadata": {
  "kernelspec": {
   "display_name": "Python 3 (ipykernel)",
   "language": "python",
   "name": "python3"
  },
  "language_info": {
   "codemirror_mode": {
    "name": "ipython",
    "version": 3
   },
   "file_extension": ".py",
   "mimetype": "text/x-python",
   "name": "python",
   "nbconvert_exporter": "python",
   "pygments_lexer": "ipython3",
   "version": "3.8.12"
  }
 },
 "nbformat": 4,
 "nbformat_minor": 5
}
