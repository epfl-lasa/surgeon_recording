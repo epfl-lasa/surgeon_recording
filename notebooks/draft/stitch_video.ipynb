{
 "cells": [
  {
   "cell_type": "code",
   "execution_count": 2,
   "id": "6e861a61-6698-4127-bbec-6af3a82406e0",
   "metadata": {},
   "outputs": [
    {
     "name": "stdout",
     "output_type": "stream",
     "text": [
      "['GOPR5852.MP4', 'GP015852.MP4', 'GP025852.MP4']\n",
      "Moviepy - Building video output2.mp4.\n",
      "MoviePy - Writing audio in output2TEMP_MPY_wvf_snd.mp3\n"
     ]
    },
    {
     "name": "stderr",
     "output_type": "stream",
     "text": [
      "                                                                                \r"
     ]
    },
    {
     "name": "stdout",
     "output_type": "stream",
     "text": [
      "MoviePy - Done.\n",
      "Moviepy - Writing video output2.mp4\n",
      "\n"
     ]
    },
    {
     "name": "stderr",
     "output_type": "stream",
     "text": [
      "                                                                                \r"
     ]
    },
    {
     "name": "stdout",
     "output_type": "stream",
     "text": [
      "Moviepy - Done !\n",
      "Moviepy - video ready output2.mp4\n"
     ]
    }
   ],
   "source": [
    "from moviepy.editor import *\n",
    "import os\n",
    "from natsort import natsorted\n",
    "\n",
    "L =[]\n",
    "\n",
    "for root, dirs, files in os.walk(\"../data/SFITS_28_03_22/MAXIME/GOPRO/segments\"):\n",
    "\n",
    "    #files.sort()\n",
    "    files = natsorted(files)\n",
    "    print(files)\n",
    "    for file in files:\n",
    "        if os.path.splitext(file)[1] == '.MP4':\n",
    "            filePath = os.path.join(root, file)\n",
    "            video = VideoFileClip(filePath)\n",
    "            L.append(video)\n",
    "\n",
    "final_clip = concatenate_videoclips(L)\n",
    "final_clip.to_videofile(\"output2.mp4\", fps=59.940, remove_temp=False)"
   ]
  },
  {
   "cell_type": "code",
   "execution_count": null,
   "id": "105bb80e-fce7-4268-8afb-9b83ba2c3ff7",
   "metadata": {},
   "outputs": [
    {
     "name": "stderr",
     "output_type": "stream",
     "text": [
      "t:   4%|▉                        | 3856/97220 [01:33<30:51, 50.43it/s, now=None]"
     ]
    }
   ],
   "source": [
    "from moviepy.editor import *\n",
    "import os\n",
    "from natsort import natsorted\n",
    "\n",
    "L =[]\n",
    "\n",
    "for root, dirs, files in os.walk(\"../data/SFITS_28_03_22/MAXIME/MICROSCOPE/segments\"):\n",
    "\n",
    "    #files.sort()\n",
    "    files = natsorted(files)\n",
    "    print(files)\n",
    "    for file in files:\n",
    "        if os.path.splitext(file)[1] == '.mp4':\n",
    "            filePath = os.path.join(root, file)\n",
    "            video = VideoFileClip(filePath)\n",
    "            L.append(video)\n",
    "final_clip = concatenate_videoclips(L)\n",
    "final_clip.write_videofile(\"output_microscope2.MP4\", fps=60, remove_temp=True, audio = False)"
   ]
  },
  {
   "cell_type": "code",
   "execution_count": null,
   "id": "6a830a20-66ff-43c0-94f3-719133320aee",
   "metadata": {},
   "outputs": [],
   "source": [
    "print(files)"
   ]
  },
  {
   "cell_type": "code",
   "execution_count": 9,
   "id": "05c48b29-0f45-4ccb-b2ea-7a3e64a32417",
   "metadata": {},
   "outputs": [
    {
     "ename": "ValueError",
     "evalue": "invalid literal for int() with base 10: 'fe'",
     "output_type": "error",
     "traceback": [
      "\u001b[0;31m---------------------------------------------------------------------------\u001b[0m",
      "\u001b[0;31mValueError\u001b[0m                                Traceback (most recent call last)",
      "Input \u001b[0;32mIn [10]\u001b[0m, in \u001b[0;36m<cell line: 3>\u001b[0;34m()\u001b[0m\n\u001b[1;32m      1\u001b[0m \u001b[38;5;28;01mfrom\u001b[39;00m \u001b[38;5;21;01mtimecode\u001b[39;00m  \u001b[38;5;28;01mimport\u001b[39;00m Timecode\n\u001b[0;32m----> 3\u001b[0m tc1 \u001b[38;5;241m=\u001b[39m \u001b[43mTimecode\u001b[49m\u001b[43m(\u001b[49m\u001b[38;5;124;43m'\u001b[39;49m\u001b[38;5;124;43m30\u001b[39;49m\u001b[38;5;124;43m'\u001b[39;49m\u001b[43m,\u001b[49m\u001b[43m \u001b[49m\u001b[38;5;241;43m421789315\u001b[39;49m\u001b[43m)\u001b[49m\n",
      "File \u001b[0;32m~/anaconda3/envs/surgeon_recording/lib/python3.8/site-packages/timecode/__init__.py:77\u001b[0m, in \u001b[0;36mTimecode.__init__\u001b[0;34m(self, framerate, start_timecode, start_seconds, frames, force_non_drop_frame)\u001b[0m\n\u001b[1;32m     74\u001b[0m \u001b[38;5;66;03m# attribute override order\u001b[39;00m\n\u001b[1;32m     75\u001b[0m \u001b[38;5;66;03m# start_timecode > frames > start_seconds\u001b[39;00m\n\u001b[1;32m     76\u001b[0m \u001b[38;5;28;01mif\u001b[39;00m start_timecode:\n\u001b[0;32m---> 77\u001b[0m     \u001b[38;5;28mself\u001b[39m\u001b[38;5;241m.\u001b[39mframes \u001b[38;5;241m=\u001b[39m \u001b[38;5;28;43mself\u001b[39;49m\u001b[38;5;241;43m.\u001b[39;49m\u001b[43mtc_to_frames\u001b[49m\u001b[43m(\u001b[49m\u001b[43mstart_timecode\u001b[49m\u001b[43m)\u001b[49m\n\u001b[1;32m     78\u001b[0m \u001b[38;5;28;01melse\u001b[39;00m:\n\u001b[1;32m     79\u001b[0m     \u001b[38;5;28;01mif\u001b[39;00m frames \u001b[38;5;129;01mis\u001b[39;00m \u001b[38;5;129;01mnot\u001b[39;00m \u001b[38;5;28;01mNone\u001b[39;00m:\n",
      "File \u001b[0;32m~/anaconda3/envs/surgeon_recording/lib/python3.8/site-packages/timecode/__init__.py:209\u001b[0m, in \u001b[0;36mTimecode.tc_to_frames\u001b[0;34m(self, timecode)\u001b[0m\n\u001b[1;32m    206\u001b[0m \u001b[38;5;28;01mif\u001b[39;00m \u001b[38;5;28misinstance\u001b[39m(timecode, Timecode):\n\u001b[1;32m    207\u001b[0m     \u001b[38;5;28;01mreturn\u001b[39;00m timecode\u001b[38;5;241m.\u001b[39mframes\n\u001b[0;32m--> 209\u001b[0m hours, minutes, seconds, frames \u001b[38;5;241m=\u001b[39m \u001b[38;5;28mmap\u001b[39m(\u001b[38;5;28mint\u001b[39m, \u001b[38;5;28;43mself\u001b[39;49m\u001b[38;5;241;43m.\u001b[39;49m\u001b[43mparse_timecode\u001b[49m\u001b[43m(\u001b[49m\u001b[43mtimecode\u001b[49m\u001b[43m)\u001b[49m)\n\u001b[1;32m    211\u001b[0m \u001b[38;5;28;01mif\u001b[39;00m \u001b[38;5;28misinstance\u001b[39m(timecode, \u001b[38;5;28mint\u001b[39m):\n\u001b[1;32m    212\u001b[0m     time_tokens \u001b[38;5;241m=\u001b[39m [hours, minutes, seconds, frames]\n",
      "File \u001b[0;32m~/anaconda3/envs/surgeon_recording/lib/python3.8/site-packages/timecode/__init__.py:330\u001b[0m, in \u001b[0;36mTimecode.parse_timecode\u001b[0;34m(cls, timecode)\u001b[0m\n\u001b[1;32m    328\u001b[0m     \u001b[38;5;66;03m# fix short string\u001b[39;00m\n\u001b[1;32m    329\u001b[0m     hex_repr \u001b[38;5;241m=\u001b[39m \u001b[38;5;124m'\u001b[39m\u001b[38;5;124m0x\u001b[39m\u001b[38;5;132;01m%s\u001b[39;00m\u001b[38;5;124m'\u001b[39m \u001b[38;5;241m%\u001b[39m (hex_repr[\u001b[38;5;241m2\u001b[39m:]\u001b[38;5;241m.\u001b[39mzfill(\u001b[38;5;241m8\u001b[39m))\n\u001b[0;32m--> 330\u001b[0m     hrs, mins, secs, frs \u001b[38;5;241m=\u001b[39m \u001b[38;5;28;43mtuple\u001b[39;49m\u001b[43m(\u001b[49m\u001b[38;5;28;43mmap\u001b[39;49m\u001b[43m(\u001b[49m\u001b[38;5;28;43mint\u001b[39;49m\u001b[43m,\u001b[49m\u001b[43m \u001b[49m\u001b[43m[\u001b[49m\u001b[43mhex_repr\u001b[49m\u001b[43m[\u001b[49m\u001b[43mi\u001b[49m\u001b[43m:\u001b[49m\u001b[43mi\u001b[49m\u001b[43m \u001b[49m\u001b[38;5;241;43m+\u001b[39;49m\u001b[43m \u001b[49m\u001b[38;5;241;43m2\u001b[39;49m\u001b[43m]\u001b[49m\u001b[43m \u001b[49m\u001b[38;5;28;43;01mfor\u001b[39;49;00m\u001b[43m \u001b[49m\u001b[43mi\u001b[49m\u001b[43m \u001b[49m\u001b[38;5;129;43;01min\u001b[39;49;00m\u001b[43m \u001b[49m\u001b[38;5;28;43mrange\u001b[39;49m\u001b[43m(\u001b[49m\u001b[38;5;241;43m2\u001b[39;49m\u001b[43m,\u001b[49m\u001b[43m \u001b[49m\u001b[38;5;241;43m10\u001b[39;49m\u001b[43m,\u001b[49m\u001b[43m \u001b[49m\u001b[38;5;241;43m2\u001b[39;49m\u001b[43m)\u001b[49m\u001b[43m]\u001b[49m\u001b[43m)\u001b[49m\u001b[43m)\u001b[49m\n\u001b[1;32m    332\u001b[0m \u001b[38;5;28;01melse\u001b[39;00m:\n\u001b[1;32m    333\u001b[0m     bfr \u001b[38;5;241m=\u001b[39m timecode\u001b[38;5;241m.\u001b[39mreplace(\u001b[38;5;124m'\u001b[39m\u001b[38;5;124m;\u001b[39m\u001b[38;5;124m'\u001b[39m, \u001b[38;5;124m'\u001b[39m\u001b[38;5;124m:\u001b[39m\u001b[38;5;124m'\u001b[39m)\u001b[38;5;241m.\u001b[39mreplace(\u001b[38;5;124m'\u001b[39m\u001b[38;5;124m.\u001b[39m\u001b[38;5;124m'\u001b[39m, \u001b[38;5;124m'\u001b[39m\u001b[38;5;124m:\u001b[39m\u001b[38;5;124m'\u001b[39m)\u001b[38;5;241m.\u001b[39msplit(\u001b[38;5;124m'\u001b[39m\u001b[38;5;124m:\u001b[39m\u001b[38;5;124m'\u001b[39m)\n",
      "\u001b[0;31mValueError\u001b[0m: invalid literal for int() with base 10: 'fe'"
     ]
    }
   ],
   "source": [
    "from timecode  import Timecode\n",
    "\n",
    "tc1 = Timecode('30', 42179315)\n",
    "\n",
    "\n"
   ]
  },
  {
   "cell_type": "code",
   "execution_count": 14,
   "id": "4602b037-473e-42c7-914f-57ea57df5c10",
   "metadata": {},
   "outputs": [
    {
     "name": "stdout",
     "output_type": "stream",
     "text": [
      "2022-04-25 16:01:11\n"
     ]
    }
   ],
   "source": [
    "import time\n",
    "\n",
    "my_time = time.strftime('%Y-%m-%d %H:%M:%S', time.localtime(1650895271.27))\n",
    "\n",
    "print(my_time)"
   ]
  },
  {
   "cell_type": "code",
   "execution_count": null,
   "id": "7c5603e8-b688-453c-af1c-9a5cefbef40d",
   "metadata": {},
   "outputs": [],
   "source": []
  }
 ],
 "metadata": {
  "kernelspec": {
   "display_name": "Python 3 (ipykernel)",
   "language": "python",
   "name": "python3"
  },
  "language_info": {
   "codemirror_mode": {
    "name": "ipython",
    "version": 3
   },
   "file_extension": ".py",
   "mimetype": "text/x-python",
   "name": "python",
   "nbconvert_exporter": "python",
   "pygments_lexer": "ipython3",
   "version": "3.8.12"
  }
 },
 "nbformat": 4,
 "nbformat_minor": 5
}
