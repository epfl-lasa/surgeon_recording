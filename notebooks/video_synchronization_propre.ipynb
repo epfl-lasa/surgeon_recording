{
 "cells": [
  {
   "cell_type": "code",
   "execution_count": null,
   "id": "f2409397-6fb0-465a-8b60-515c2dbf2c09",
   "metadata": {},
   "outputs": [],
   "source": [
    "from surgeon_recording.reader import Reader\n",
    "from glob import glob\n",
    "from os.path import join\n",
    "import os\n",
    "import numpy as np\n",
    "from scipy import stats\n",
    "import plotly.express as px\n",
    "import plotly.graph_objects as go\n",
    "from copy import deepcopy\n",
    "import pandas as pd\n",
    "\n",
    "import cv2\n",
    "import csv\n",
    "from natsort import natsorted\n",
    "from surgeon_recording.synchronization import Synchro\n",
    "\n",
    "from moviepy.editor import *\n"
   ]
  },
  {
   "cell_type": "code",
   "execution_count": null,
   "id": "ea7b093a-f754-4d85-b55f-1612bfa0982e",
   "metadata": {},
   "outputs": [],
   "source": [
    "synchro = Synchro()"
   ]
  },
  {
   "cell_type": "markdown",
   "id": "f23f05ab-9ce8-4d53-b5f7-b1f61ed72498",
   "metadata": {},
   "source": [
    "# Manual entries"
   ]
  },
  {
   "cell_type": "code",
   "execution_count": null,
   "id": "fa29bace-8de4-4612-8633-d4a81e9eed93",
   "metadata": {},
   "outputs": [],
   "source": [
    "recording_session = 'SFITS_28_03_22'\n",
    "subject = 'MAXIME'\n",
    "\n",
    "#synchro mouvement frames\n",
    "rs_frame = 18216\n",
    "micro_frame = 365\n",
    "gopro_frame = 1217\n",
    "\n",
    "#rs_abs_time = 1648459085159.2    #REMPLACER AVEC LES INFOS DES PNG\n",
    "#rs_nb_frame = 66934\n",
    "\n",
    "fps_gopro = 59.940\n",
    "fps_rs = 29.98\n",
    "fps_micro = 30\n",
    "\n",
    "frame = {\n",
    "    \"REALSENSE\": rs_frame,\n",
    "    \"GOPRO\": gopro_frame,\n",
    "    \"MICROSCOPE\": micro_frame\n",
    "}\n",
    "frame\n",
    "\n",
    "fps = {\n",
    "    \"GOPRO\": fps_gopro,\n",
    "    \"MICROSCOPE\": fps_micro,\n",
    "    \"REALSENSE\": fps_rs\n",
    "}\n",
    "\n",
    "cameras = ['GOPRO', 'MICROSCOPE', 'REALSENSE']\n",
    "folder = ['complete','segments']\n",
    "\n",
    "\n",
    "path_to_data_folder = '/home/anaelle/git/surgeon_recording/data'\n",
    "\n",
    "data_folder = join('..', 'data', recording_session , subject)"
   ]
  },
  {
   "cell_type": "code",
   "execution_count": 1,
   "id": "ab12b7f1-db68-4648-b59a-63196fe1651d",
   "metadata": {},
   "outputs": [
    {
     "name": "stdout",
     "output_type": "stream",
     "text": [
      "WARNING: need to create the appropriate folders: GOPRO, MICROSCOPE, REALSENSE, CSV, PNG, complete, segments\n"
     ]
    }
   ],
   "source": [
    "print('WARNING: need to create the appropriate folders: GOPRO, MICROSCOPE, REALSENSE, CSV, PNG, complete, segments')"
   ]
  },
  {
   "cell_type": "markdown",
   "id": "baa5d82c-7da2-4709-b868-b2ceb4220803",
   "metadata": {
    "tags": []
   },
   "source": [
    "# Convert video"
   ]
  },
  {
   "cell_type": "markdown",
   "id": "ba65e765-61e2-4a50-8c78-df0efc985215",
   "metadata": {},
   "source": [
    "## bag to png to mp4"
   ]
  },
  {
   "cell_type": "code",
   "execution_count": null,
   "id": "6d6d6fba-b201-4a65-9519-6e1fbe121c31",
   "metadata": {},
   "outputs": [],
   "source": [
    "# extract the png with the converter (from shell) to the folder PNG in the folder REALSENSE in the SUBJECT folder\n",
    "\n",
    "camera = 'REALSENSE'\n",
    "\n",
    "synchro.bag_to_png(path_to_data_folder, data_folder, camera)"
   ]
  },
  {
   "cell_type": "code",
   "execution_count": null,
   "id": "52d927b6-a9b6-4db7-b05b-98c1713b1d93",
   "metadata": {},
   "outputs": [],
   "source": [
    "# put the png into MP4 video with given fps\n",
    "synchro.png_to_MP4(fps_rs, data_folder, camera)"
   ]
  },
  {
   "cell_type": "markdown",
   "id": "2df3f7db-4cc0-4bc7-8375-5aee616a9d39",
   "metadata": {},
   "source": [
    "## get segments into one video (gopro, microscope)\n"
   ]
  },
  {
   "cell_type": "code",
   "execution_count": 6,
   "id": "de37d8b2-8651-444c-9b8e-db6fce4c9e0d",
   "metadata": {},
   "outputs": [
    {
     "ename": "SyntaxError",
     "evalue": "invalid syntax (315731105.py, line 3)",
     "output_type": "error",
     "traceback": [
      "\u001b[0;36m  Input \u001b[0;32mIn [6]\u001b[0;36m\u001b[0m\n\u001b[0;31m    synchro.concatenate_videos(fps, data_folder, camera):\u001b[0m\n\u001b[0m                                                         ^\u001b[0m\n\u001b[0;31mSyntaxError\u001b[0m\u001b[0;31m:\u001b[0m invalid syntax\n"
     ]
    }
   ],
   "source": [
    "for camera in cameras:\n",
    "    if camera != 'REALSENSE':\n",
    "        synchro.concatenate_videos(fps[camera], data_folder, camera)"
   ]
  },
  {
   "cell_type": "markdown",
   "id": "e05c0b8d-d694-4e96-90fb-e746b3f38022",
   "metadata": {},
   "source": [
    "# Get absolute time from png names"
   ]
  },
  {
   "cell_type": "code",
   "execution_count": null,
   "id": "9ac79763-36b2-470b-8818-a7354801f824",
   "metadata": {},
   "outputs": [],
   "source": [
    "# file directory to access the png files (Attention: also in the function to get video from png)\n",
    "image_files = [os.path.join(image_folder,img) for img in os.listdir(image_folder) if img.endswith(\".png\")]\n",
    "\n",
    "# get nb of frames of the rs camera\n",
    "rs_nb_frame = len(image_files)\n",
    "\n",
    "# get absolute time vector of rs from png files\n",
    "camera = 'REALSENSE'\n",
    "abs_time = {}\n",
    "abs_time[camera] = [name[-32:-4] for name in natsorted(image_files)]"
   ]
  },
  {
   "cell_type": "markdown",
   "id": "5bef99d4-d7dd-49d2-9e54-b1248493ba5b",
   "metadata": {},
   "source": [
    "# Writ CSV files"
   ]
  },
  {
   "cell_type": "markdown",
   "id": "e09fc700-7a89-4ba0-bc49-075b995f761d",
   "metadata": {},
   "source": [
    "## Get nb of frames"
   ]
  },
  {
   "cell_type": "code",
   "execution_count": null,
   "id": "8840b549-56c8-4d6d-ba92-af612c6f777a",
   "metadata": {},
   "outputs": [],
   "source": []
  },
  {
   "cell_type": "markdown",
   "id": "05390fe5-4be6-4022-b73d-0c1236679520",
   "metadata": {},
   "source": [
    "## get coresponding no of frame"
   ]
  },
  {
   "cell_type": "code",
   "execution_count": null,
   "id": "b4d52ff2-472f-4059-9f1b-48d6f6b01b55",
   "metadata": {},
   "outputs": [],
   "source": []
  },
  {
   "cell_type": "markdown",
   "id": "5df54a6c-df41-4f7b-a621-553f97756ca1",
   "metadata": {},
   "source": [
    "## write CSV with absolute time for RS"
   ]
  },
  {
   "cell_type": "code",
   "execution_count": null,
   "id": "b417b71e-34b2-486f-8eb5-477a8b6e8614",
   "metadata": {},
   "outputs": [],
   "source": []
  },
  {
   "cell_type": "markdown",
   "id": "dd153566-389a-41ba-a4d8-30decd4a5d5e",
   "metadata": {},
   "source": [
    "## get abs time ref to right frame anf write CSV"
   ]
  },
  {
   "cell_type": "code",
   "execution_count": null,
   "id": "2bb33535-f4ca-4e21-b61c-afc63841cd87",
   "metadata": {},
   "outputs": [],
   "source": []
  },
  {
   "cell_type": "markdown",
   "id": "cfe0debf-bf2d-41a8-a692-1450dbda6a71",
   "metadata": {},
   "source": [
    "# Segmentation"
   ]
  },
  {
   "cell_type": "markdown",
   "id": "c2d59c5f-ba2c-486b-aa3b-5ef0d4190729",
   "metadata": {},
   "source": [
    "## get closest no of frame to the ref no frame (on microscope) using absolute time"
   ]
  },
  {
   "cell_type": "code",
   "execution_count": null,
   "id": "2e84d4ff-e8e9-4c74-ad1d-1c47aea6dc36",
   "metadata": {},
   "outputs": [],
   "source": []
  },
  {
   "cell_type": "markdown",
   "id": "165d8f19-1600-45d0-be01-5469b9bcff87",
   "metadata": {},
   "source": [
    "## export segmented videos"
   ]
  },
  {
   "cell_type": "code",
   "execution_count": null,
   "id": "53eda739-506d-4b22-92d4-777733d66414",
   "metadata": {},
   "outputs": [],
   "source": []
  },
  {
   "cell_type": "code",
   "execution_count": null,
   "id": "342168bf-e57e-45e1-96aa-500f67e4ab76",
   "metadata": {},
   "outputs": [],
   "source": []
  },
  {
   "cell_type": "code",
   "execution_count": null,
   "id": "511604ee-54a3-4c68-87ac-847967824e2a",
   "metadata": {},
   "outputs": [],
   "source": []
  }
 ],
 "metadata": {
  "kernelspec": {
   "display_name": "Python 3 (ipykernel)",
   "language": "python",
   "name": "python3"
  },
  "language_info": {
   "codemirror_mode": {
    "name": "ipython",
    "version": 3
   },
   "file_extension": ".py",
   "mimetype": "text/x-python",
   "name": "python",
   "nbconvert_exporter": "python",
   "pygments_lexer": "ipython3",
   "version": "3.8.12"
  }
 },
 "nbformat": 4,
 "nbformat_minor": 5
}
