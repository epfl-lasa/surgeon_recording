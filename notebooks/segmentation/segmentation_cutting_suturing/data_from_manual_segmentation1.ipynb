{
 "cells": [
  {
   "cell_type": "code",
   "execution_count": 94,
   "id": "97cc687c-42c6-4bcb-a69b-d009a713f2a0",
   "metadata": {},
   "outputs": [],
   "source": [
    "from surgeon_recording.reader import Reader\n",
    "from glob import glob\n",
    "from os.path import join\n",
    "import os\n",
    "import numpy as np\n",
    "from scipy import stats\n",
    "import plotly.express as px\n",
    "import plotly.graph_objects as go\n",
    "from copy import deepcopy\n",
    "import pandas as pd\n",
    "import csv\n",
    "import matplotlib.pyplot as plt\n",
    "import natsort\n",
    "import matplotlib"
   ]
  },
  {
   "cell_type": "code",
   "execution_count": 95,
   "id": "9bc710ef-9300-4f81-949d-3807cac1a9fc",
   "metadata": {},
   "outputs": [],
   "source": [
    "reader = Reader()"
   ]
  },
  {
   "cell_type": "code",
   "execution_count": 64,
   "id": "6964abd9-12f6-4dc9-986b-da336f61045f",
   "metadata": {},
   "outputs": [
    {
     "name": "stdout",
     "output_type": "stream",
     "text": [
      "WARNING: segmentation for 14,20 and 22 from alreadz segmented parts = relative time does not alwazs correspond to the initial file relative time\n"
     ]
    }
   ],
   "source": [
    "# GOAL: first test data analsysis using the pilot data segmented in 2 tasks: cutting or suturing\n",
    "\n",
    "data_folder = join('..', 'data','SEGMENTATION_suturing_cutting')\n",
    "#subject_nb = ['12','15']\n",
    "subject_nb = ['12', '14', '15', '20','22'] # 15 run 1 incomplete ? (5 cutting and 5 suturing)\n",
    "blacklist = ['15']\n",
    "print(\"WARNING: segmentation for 14,20 and 22 from already segmented parts = relative time does not always correspond to the initial file relative time\")\n",
    "\n",
    "experiment = 'chicken'\n",
    "\n",
    "sensors_file = ['camera.csv', 'optitrack.csv','emg.csv','tps.csv']\n",
    "\n",
    "sensors = ['camera', 'optitrack','emg','tps']\n",
    "\n",
    "action = ['suturing', 'cutting']\n",
    "\n",
    "tps_data_type = 'calibrated'\n",
    "\n",
    "specialty_keys = [\"neuro\", \"plastic\"]\n",
    "expertise_keys = [\"novice\", \"expert\"]"
   ]
  },
  {
   "cell_type": "code",
   "execution_count": 65,
   "id": "582faab0-e77c-400b-8760-a9d35f97ebcb",
   "metadata": {},
   "outputs": [],
   "source": [
    "# declaration variable\n",
    "run_dir = {}\n",
    "\n",
    "segment_durations = {}\n",
    "mean_time={}\n",
    "std_time={}\n",
    "sum_time={}\n",
    "nb_event={}\n",
    "tps_forces = {}\n",
    "emg_data = {}\n",
    "run_dir_segment = {}\n",
    "average_emg={}\n",
    "emg_data_all_segments= {}\n",
    "channel_mean = {}\n",
    "channel_std = {}\n",
    "channel_max = {}\n",
    "channel_min = {}\n",
    "tps_forces_all_segments={}\n",
    "average_tps={}\n",
    "finger_mean_abs = {}\n",
    "finger_mean = {}\n",
    "finger_std = {}\n",
    "\n",
    "for a in action:\n",
    "    run_dir[a] = {}\n",
    "    tps_forces[a] = {}\n",
    "    emg_data[a] = {}\n",
    "    run_dir_segment[a] = {}\n",
    "    average_emg[a]={}\n",
    "    segment_durations[a] = {}\n",
    "    mean_time[a]={}\n",
    "    std_time[a]={}\n",
    "    sum_time[a]={}\n",
    "    nb_event[a]={}\n",
    "    emg_data_all_segments[a] = {}\n",
    "    channel_mean[a] = {}\n",
    "    channel_std[a] = {}\n",
    "    tps_forces_all_segments[a] = {}\n",
    "    average_tps[a]={}\n",
    "    finger_mean_abs[a] = {}\n",
    "    finger_mean[a] = {}\n",
    "    channel_max[a] = {}\n",
    "    channel_min[a] = {}\n",
    "    finger_std[a] = {}\n",
    "    \n",
    "    for d in subject_nb:\n",
    "        run_dir[a][d] = {}\n",
    "        tps_forces[a][d] = {}\n",
    "        emg_data[a][d] = {}\n",
    "        run_dir_segment[a][d] = {}\n",
    "        average_emg[a][d]={}\n",
    "        segment_durations[a][d] = []\n",
    "        mean_time[a][d]={}\n",
    "        std_time[a][d]={}\n",
    "        sum_time[a][d]={}\n",
    "        nb_event[a][d]=[]\n",
    "        emg_data_all_segments[a][d] = {}\n",
    "        channel_mean[a][d] = {}\n",
    "        channel_std[a][d] = {}\n",
    "        tps_forces_all_segments[a][d] = {}\n",
    "        average_tps[a][d]={}\n",
    "        finger_mean_abs[a][d] = {}\n",
    "        finger_mean[a][d] = {}\n",
    "        channel_max[a][d] = {}\n",
    "        channel_min[a][d] = {}\n",
    "        finger_std[a][d] = {}\n",
    "        \n",
    "        for l in ['right', 'left']:\n",
    "                for f in ['index', 'middle', 'thumb']:\n",
    "                    key = l + '_' + f + '_' + tps_data_type\n",
    "                    tps_forces[a][d][key] = []\n",
    "                    tps_forces_all_segments[a][d][key] = []\n",
    "                    average_tps[a][d][key] = {}\n",
    "            \n",
    "        for c in ['emg' + str(x) for x in range(8)]:\n",
    "                emg_data[a][d][c] = []   \n",
    "                average_emg[a][d][c] = {}      \n",
    "                emg_data_all_segments[a][d][c] = []\n",
    "       \n",
    " "
   ]
  },
  {
   "cell_type": "code",
   "execution_count": null,
   "id": "0939bd92-8891-4c51-a208-adf66a37bcf1",
   "metadata": {},
   "outputs": [],
   "source": [
    "# directory of files\n",
    "#ATTENTION: OK SI UN SEUL RUN DANS LE DOCUMENT SEGMENTATION POUR L'INSTANT\n",
    "\n",
    "for a in action:\n",
    "    for d in subject_nb:\n",
    "        tmp = [x[0] for x in os.walk(join(data_folder, d, experiment,'segmentation',a))][2:]\n",
    "        run_dir[a][d] = natsort.natsorted(tmp,reverse=False)\n"
   ]
  },
  {
   "cell_type": "code",
   "execution_count": 67,
   "id": "72c03edc-ad43-4b9f-b8a0-690b7cc2328d",
   "metadata": {},
   "outputs": [],
   "source": [
    "# data of different segments for one action and one subject put together\n",
    "for a in action:\n",
    "    for d in subject_nb:  \n",
    "        for rd in run_dir[a][d]:\n",
    "            #print(rd)              \n",
    "            reader.play(rd) \n",
    "            time = reader.data['camera']['relative_time'].iloc[-1] - reader.data['camera']['relative_time'].iloc[0]       \n",
    "            segment_durations[a][d].append(time) #add duration of each segment next to each other for one action and one subject\n",
    "            #[duration segment1, duration segment2,...]\n",
    "            \n",
    "            for l in ['right', 'left']:\n",
    "                for f in ['index', 'middle', 'thumb']:\n",
    "                    key = l + '_' + f + '_' + tps_data_type\n",
    "                    tps_forces[a][d][key].append(reader.data['tps'][key].to_numpy())  #add tps data for one action, one subject, one key in one structure\n",
    "            \n",
    "            for c in ['emg' + str(x) for x in range(8)]:\n",
    "                emg_data[a][d][c].append(np.absolute(reader.data['emg'][c].to_numpy())) #add emg data for one action, one subject, one channel in several vectors (for each segment) next to each other\n",
    "        \n",
    "   "
   ]
  },
  {
   "cell_type": "code",
   "execution_count": 68,
   "id": "c034e0cd-1028-4c4c-897f-111b61c7fb95",
   "metadata": {},
   "outputs": [],
   "source": [
    "subject_data = pd.read_csv(join(data_folder,\"subject_data.csv\"))  "
   ]
  },
  {
   "cell_type": "markdown",
   "id": "e89eb716-876c-49b9-aebc-f0e1147ea30b",
   "metadata": {
    "tags": []
   },
   "source": [
    "# TIME DATA \n"
   ]
  },
  {
   "cell_type": "code",
   "execution_count": 69,
   "id": "0e7d368a-17f4-43ff-966e-a4cb2ff98ec2",
   "metadata": {},
   "outputs": [
    {
     "name": "stdout",
     "output_type": "stream",
     "text": [
      "action: suturing     subject: 12      mean time: 73.61266067292955      std time: 36.10759629507347      sum: 662.513946056366\n",
      "----------------\n",
      "action: suturing     subject: 14      mean time: 56.9252054063897      std time: 55.176643343033405      sum: 1081.5789027214043\n",
      "----------------\n",
      "action: suturing     subject: 15      mean time: 76.33140163421632      std time: 28.434620881866117      sum: 381.6570081710816\n",
      "----------------\n",
      "action: suturing     subject: 20      mean time: 46.17377092440924      std time: 18.383778494595433      sum: 554.0852510929109\n",
      "----------------\n",
      "action: suturing     subject: 22      mean time: 58.59828260209825      std time: 16.425318141359565      sum: 527.3845434188843\n",
      "----------------\n",
      "action: cutting     subject: 12      mean time: 9.004241764545426      std time: 5.007710673324429      sum: 72.03393411636341\n",
      "----------------\n",
      "action: cutting     subject: 14      mean time: 11.338099996248795      std time: 6.3555449556777335      sum: 68.02859997749277\n",
      "----------------\n",
      "action: cutting     subject: 15      mean time: 6.970885658264126      std time: 1.416884816906939      sum: 34.85442829132063\n",
      "----------------\n",
      "action: cutting     subject: 20      mean time: 8.783368802070601      std time: 3.1508579662555376      sum: 87.833688020706\n",
      "----------------\n",
      "action: cutting     subject: 22      mean time: 4.376846551895231      std time: 5.21489455533563      sum: 30.637925863266616\n",
      "----------------\n"
     ]
    }
   ],
   "source": [
    "# mean and std and total of the time on the 2 actions for each subject (given the different segments)\n",
    "for act, value in segment_durations.items():\n",
    "    for subject, values in value.items():\n",
    "        mean_time[act][subject]=np.mean(values)   #valeur moyene sur les segments pour un sujet et une action\n",
    "        std_time[act][subject]=np.std(values)\n",
    "        sum_time[act][subject]=np.sum(values)\n",
    "        print(\"action:\", act, \"    subject:\", subject, \"     mean time:\", mean_time[act][subject], \"     std time:\", std_time[act][subject], \"     sum:\", sum_time[act][subject])\n",
    "        print(\"----------------\")\n",
    "        \n",
    "#duration of the runs (total, with the change of instruments....)\n",
    "#total time not sinificant as sometimes time to put the sensors back on correctly\n",
    "#should segment when they change instruments to compare this"
   ]
  },
  {
   "cell_type": "code",
   "execution_count": 71,
   "id": "c7869bd7-ef9c-4500-ab6b-ae698de58920",
   "metadata": {},
   "outputs": [
    {
     "name": "stdout",
     "output_type": "stream",
     "text": [
      "subject: 12     action: suturing     nb of segments: 9\n",
      "----------------------\n",
      "subject: 14     action: suturing     nb of segments: 19\n",
      "----------------------\n",
      "subject: 15     action: suturing     nb of segments: 5\n",
      "----------------------\n",
      "subject: 20     action: suturing     nb of segments: 12\n",
      "----------------------\n",
      "subject: 22     action: suturing     nb of segments: 9\n",
      "----------------------\n",
      "subject: 12     action: cutting     nb of segments: 8\n",
      "----------------------\n",
      "subject: 14     action: cutting     nb of segments: 6\n",
      "----------------------\n",
      "subject: 15     action: cutting     nb of segments: 5\n",
      "----------------------\n",
      "subject: 20     action: cutting     nb of segments: 10\n",
      "----------------------\n",
      "subject: 22     action: cutting     nb of segments: 7\n",
      "----------------------\n"
     ]
    }
   ],
   "source": [
    "#nb of actions (nb of segments for each action for each subject)\n",
    "\n",
    "for a in action:\n",
    "    for d in subject_nb:  \n",
    "        nb_event[a][d]=len(run_dir[a][d])\n",
    "        print(\"subject:\", d, \"    action:\", a, \"    nb of segments:\", nb_event[a][d])\n",
    "        print(\"----------------------\")"
   ]
  },
  {
   "cell_type": "code",
   "execution_count": 72,
   "id": "399a8a7f-f1d7-40ae-a771-3b4d003d5db1",
   "metadata": {},
   "outputs": [
    {
     "data": {
      "image/png": "[encoded data removed]",
      "text/plain": [
       "<Figure size 1080x288 with 2 Axes>"
      ]
     },
     "metadata": {
      "needs_background": "light"
     },
     "output_type": "display_data"
    }
   ],
   "source": [
    "# colorbar plots of time statistics between the 2 actions\n",
    "\n",
    "colors = {'12': 'green',\n",
    "          '14': 'orange',\n",
    "          '15': 'yellow',\n",
    "          '20': 'pink',\n",
    "          '22': 'black'}\n",
    "\n",
    "#fig = go.Figure()\n",
    "fig, axs = plt.subplots(1, 2, figsize=(15, 4))\n",
    "a = action[0]\n",
    "for i, a in enumerate(action):\n",
    "    for d in subject_nb: \n",
    "        if not d in blacklist: \n",
    "            axs[i].bar(\n",
    "            x=[d],\n",
    "            height=[sum_time[a][d]],\n",
    "            width=0.5,\n",
    "            color=matplotlib.colors.to_rgba(colors[d]),\n",
    "            #yerr=[std_time[a][d]]\n",
    "        )\n",
    "    \n",
    "        axs[i].set_title(\"Total time for \" + a)\n",
    "        axs[i].set_xlabel(\"Subject nb \")\n",
    "\n",
    "    \n",
    "fig.savefig(join(os.getcwd(), \"figures\",\"data_manual_segmentation\", \"tot_time.png\"))"
   ]
  },
  {
   "cell_type": "code",
   "execution_count": 73,
   "id": "e2b4e778-2876-45c1-a7e1-c7abca030d07",
   "metadata": {},
   "outputs": [
    {
     "data": {
      "image/png": "[encoded data removed]",
      "text/plain": [
       "<Figure size 1080x288 with 2 Axes>"
      ]
     },
     "metadata": {
      "needs_background": "light"
     },
     "output_type": "display_data"
    }
   ],
   "source": [
    "# colorbar plots of time statistics between the 2 actions, with std\n",
    "\n",
    "\n",
    "fig, axs = plt.subplots(1, 2, figsize=(15, 4))\n",
    "a = action[0]\n",
    "for i, a in enumerate(action):\n",
    "    for d in subject_nb: \n",
    "        if not d in blacklist: \n",
    "            axs[i].bar(\n",
    "                x=[d],\n",
    "                height=[mean_time[a][d]],\n",
    "                width=0.5,\n",
    "                color=matplotlib.colors.to_rgba(colors[d]),\n",
    "                yerr=[std_time[a][d]]\n",
    "            )\n",
    "    \n",
    "            axs[i].set_title(\"Mean segment time for \" + a)\n",
    "            axs[i].set_xlabel(\"Subject nb \")\n",
    "fig.savefig(join(os.getcwd(), \"figures\",\"data_manual_segmentation\", \"mean_seg_time.png\"))"
   ]
  },
  {
   "cell_type": "code",
   "execution_count": 74,
   "id": "18d9c53f-14cc-4be2-aaa7-f0b6204f2a41",
   "metadata": {},
   "outputs": [
    {
     "data": {
      "image/png": "[encoded data removed]",
      "text/plain": [
       "<Figure size 1080x288 with 2 Axes>"
      ]
     },
     "metadata": {
      "needs_background": "light"
     },
     "output_type": "display_data"
    }
   ],
   "source": [
    "# plots number of actions (suturing/ cutting)\n",
    "\n",
    "fig, axs = plt.subplots(1, 2, figsize=(15, 4))\n",
    "a = action[0]\n",
    "for i, a in enumerate(action):\n",
    "    for d in subject_nb: \n",
    "        if not d in blacklist: \n",
    "            axs[i].bar(\n",
    "            x=[d],\n",
    "            height=[nb_event[a][d]],\n",
    "            width=0.5,\n",
    "            color=matplotlib.colors.to_rgba(colors[d]),\n",
    "        )\n",
    "    \n",
    "        axs[i].set_title(\"Nb of segments for  \" + a)\n",
    "        axs[i].set_xlabel(\"Subject nb \")\n",
    "fig.savefig(join(os.getcwd(), \"figures\",\"data_manual_segmentation\", \"nb_events.png\"))"
   ]
  },
  {
   "cell_type": "markdown",
   "id": "df41b01a-0de6-4ae0-93c2-9a84fcc37d50",
   "metadata": {
    "tags": []
   },
   "source": [
    "# EMG DATA"
   ]
  },
  {
   "cell_type": "code",
   "execution_count": 75,
   "id": "018ea006-0193-4582-95cd-7c4cbed33a22",
   "metadata": {},
   "outputs": [],
   "source": [
    "# EMG data: compare the subjects for same activity \n",
    "\n",
    "# take average values for emg signal (should compute the enveloppe first, see last analysis made for complete procedure)\n",
    "\n",
    "for act, value1 in emg_data.items():\n",
    "    for subject, value2 in value1.items():\n",
    "        for ch, emg_vectors in value2.items():\n",
    "            n = len(emg_vectors)                                   #nb of vectors for one subject and one action = nb of segments\n",
    "            tmp = np.concatenate(emg_vectors[0:-1])\n",
    "            emg_data_all_segments[act][subject][ch] = list(filter(lambda a: (a != 0), tmp))\n",
    "            # take values over the data of all similar segments (cutting or suturing)\n",
    "            average_emg[act][subject][ch]['mean'] = (np.mean(emg_data_all_segments[act][subject][ch]))            \n",
    "            average_emg[act][subject][ch]['std'] = (np.std(emg_data_all_segments[act][subject][ch]))\n",
    "            average_emg[act][subject][ch]['max'] = (np.max(emg_data_all_segments[act][subject][ch]))\n",
    "            average_emg[act][subject][ch]['min'] = (np.min(emg_data_all_segments[act][subject][ch]))\n",
    "            #print(\"subject:\", subject, \"    action:\", act, \"    emg channel:\", ch, \"    average emg:\", average_emg[act][subject][ch],\"    max:\",average_emg[act][subject][ch]['max']  )\n",
    "            #print(\"----------------------\")"
   ]
  },
  {
   "cell_type": "code",
   "execution_count": 76,
   "id": "7bd3f558-400a-4d15-875a-afcea7c01899",
   "metadata": {},
   "outputs": [],
   "source": [
    "for act, value1 in average_emg.items():\n",
    "    for subject, value2 in value1.items():\n",
    "        tmp = []\n",
    "        tmp2 = []\n",
    "        tmp3 = []\n",
    "        tmp4 = []\n",
    "        for ch, value3 in value2.items():\n",
    "            tmp.append(average_emg[act][subject][ch]['mean'])\n",
    "            tmp2.append(average_emg[act][subject][ch]['std'])\n",
    "            tmp3.append(average_emg[act][subject][ch]['max'])\n",
    "            tmp4.append(average_emg[act][subject][ch]['min'])\n",
    "            \n",
    "        # put next to each other values for the channels (for plot)\n",
    "        channel_mean[act][subject] = tmp                      \n",
    "        channel_std[act][subject] = tmp2\n",
    "        channel_max[act][subject] = tmp3\n",
    "        channel_min[act][subject] = tmp4\n",
    "   "
   ]
  },
  {
   "cell_type": "markdown",
   "id": "40e67ddb-d668-4c35-b064-a4981d44f943",
   "metadata": {
    "tags": []
   },
   "source": [
    "### EMG plots"
   ]
  },
  {
   "cell_type": "code",
   "execution_count": 77,
   "id": "5aa91279-be5a-4546-8241-29dfb8cc7493",
   "metadata": {},
   "outputs": [],
   "source": [
    "\n",
    "colors = {'12': 'green',\n",
    "          '14': 'orange',\n",
    "          '15': 'yellow',\n",
    "          '20': 'pink',\n",
    "          '22': 'black'}\n",
    "\n",
    "fig = go.Figure()\n",
    "a = action[0]\n",
    "for d in subject_nb: \n",
    "    fig.add_trace(go.Bar(\n",
    "        name=d,\n",
    "        x=['emg' + str(x) for x in range(8)],\n",
    "        y=channel_mean[a][d],\n",
    "        width=0.15,\n",
    "        marker={'color': colors[d]},\n",
    "        #error_y=dict(type='data', array=channel_std[a][d])\n",
    "    ))\n",
    "\n",
    "fig.update_layout(barmode='group',\n",
    "                  title=a,\n",
    "                  legend_title=\"subject\",\n",
    "                  autosize=False,\n",
    "                  width=1000,\n",
    "                  height=500,\n",
    "                 )\n",
    "fig.write_image(join(os.getcwd(), \"figures\",\"data_manual_segmentation\", \"emg_per_subject_suturing.png\"))"
   ]
  },
  {
   "cell_type": "code",
   "execution_count": 78,
   "id": "abcd3f9a-6e5b-4c04-9279-38121456c613",
   "metadata": {},
   "outputs": [],
   "source": [
    "\n",
    "fig = go.Figure()\n",
    "a = action[1]\n",
    "for d in subject_nb: \n",
    "    fig.add_trace(go.Bar(\n",
    "        name=d,\n",
    "        x=['emg' + str(x) for x in range(8)],\n",
    "        y=channel_mean[a][d],\n",
    "        width=0.15,\n",
    "        marker={'color': colors[d]},\n",
    "        #error_y=dict(type='data', array=channel_std[a][d])\n",
    "    ))\n",
    "fig.update_layout(barmode='group',\n",
    "                  title=a,\n",
    "                  legend_title=\"subject\",\n",
    "                  autosize=False,\n",
    "                  width=1000,\n",
    "                  height=500,\n",
    "                 )\n",
    "fig.write_image(join(os.getcwd(), \"figures\",\"data_manual_segmentation\", \"emg_per_subject_cutting.png\"))"
   ]
  },
  {
   "cell_type": "code",
   "execution_count": 80,
   "id": "50f31ba1-4840-453a-803c-0cb9d5431ab8",
   "metadata": {},
   "outputs": [],
   "source": [
    "# EMG data: compare for same subjects the 2 activities\n",
    "colors2 = {'suturing': 'blue',\n",
    "          'cutting': 'red'}\n",
    "\n",
    "for d in subject_nb: \n",
    "    fig = go.Figure()\n",
    "    for a in action:\n",
    "        fig.add_trace(go.Bar(\n",
    "        name=a,\n",
    "        x=['emg' + str(x) for x in range(8)],\n",
    "        y=channel_mean[a][d],\n",
    "        width=0.3,\n",
    "        marker={'color': colors2[a]},\n",
    "        #error_y=dict(type='data', array=channel_std[a][d])\n",
    "            \n",
    "    ))\n",
    "\n",
    "    fig.update_layout(barmode='group',\n",
    "                  title=\"EMG, subject \" + d,\n",
    "                  legend_title=\"action\",\n",
    "                  autosize=False,\n",
    "                  width=1000,\n",
    "                  height=500,\n",
    "                 )\n",
    "    fig.write_image(join(os.getcwd(), \"figures\",\"data_manual_segmentation\", \"emg_per_activity_subject_\" + d + \".png\"))"
   ]
  },
  {
   "cell_type": "markdown",
   "id": "73a8d656-00f4-40d6-b23b-baf2ebac9d32",
   "metadata": {
    "tags": []
   },
   "source": [
    "# TPS DATA"
   ]
  },
  {
   "cell_type": "markdown",
   "id": "26a4ebfd-863f-43fb-b1fc-d1e63273626e",
   "metadata": {},
   "source": [
    "## compare for same activity between subjects"
   ]
  },
  {
   "cell_type": "code",
   "execution_count": 81,
   "id": "d858a8ca-da4c-49d2-b7e7-e7d61fe74897",
   "metadata": {},
   "outputs": [],
   "source": [
    "# TPS data: compare for same activity the subjects\n",
    "\n",
    "for act, value1 in tps_forces.items():\n",
    "    #print(value1)\n",
    "    for subject, value2 in value1.items():\n",
    "        for key, tps_vectors in value2.items():\n",
    "            n = len(tps_vectors)                                   #nb of vectors for one subject and one action = nb of sgments\n",
    "            tps_forces_all_segments[act][subject][key] = np.concatenate(tps_vectors[0:-1])\n",
    "            average_tps[act][subject][key]['mean'] = (np.mean(tps_forces_all_segments[act][subject][key]))          \n",
    "            average_tps[act][subject][key]['std'] = (np.std(tps_forces_all_segments[act][subject][key]))\n",
    "            #print(\"subject:\", subject, \"    action:\", act, \"    key:\", key, \"    average tps:\", average_tps[act][subject][key])\n",
    "            #print(\"----------------------\")"
   ]
  },
  {
   "cell_type": "code",
   "execution_count": 83,
   "id": "58beee54-9364-4aff-b30b-bff46f05dbab",
   "metadata": {},
   "outputs": [],
   "source": [
    "finger_names = []\n",
    "for act, value1 in average_tps.items():\n",
    "    for subject, value2 in value1.items():\n",
    "        tmp = []\n",
    "        tmp2 = []\n",
    "        tmp3 = []\n",
    "        for finger, value3 in value2.items():\n",
    "            finger_names.append(finger)\n",
    "            #print(average_tps[act][subject][finger])\n",
    "            tmp.append(abs(average_tps[act][subject][finger]['mean']))\n",
    "            tmp2.append(average_tps[act][subject][finger]['mean'])\n",
    "            tmp3.append(average_tps[act][subject][finger]['std'])\n",
    "        finger_mean_abs[act][subject] = tmp                      #valeurs moyennes pour chaque doigt a la suite pour une personne et une action\n",
    "        finger_mean[act][subject] = tmp2\n",
    "        finger_std[act][subject] = tmp3\n",
    "    #print(channel_mean)\n",
    "   "
   ]
  },
  {
   "cell_type": "markdown",
   "id": "20fdcdd8-3c83-4472-98fb-ba6bd5bc1116",
   "metadata": {},
   "source": [
    "### TPS plots"
   ]
  },
  {
   "cell_type": "code",
   "execution_count": 91,
   "id": "32231c76-d06b-4aad-8fc5-e4b4e6e85f9a",
   "metadata": {},
   "outputs": [],
   "source": [
    "#colors = {'12': 'green',\n",
    "#          '15': 'yellow'}\n",
    "fig = go.Figure()\n",
    "a = action[0]\n",
    "for d in subject_nb: \n",
    "    fig.add_trace(go.Bar(\n",
    "        name=d,\n",
    "        x=finger_names,\n",
    "        #y=finger_mean_abs[a][d],\n",
    "        y=finger_mean[a][d],\n",
    "        width=0.15,\n",
    "        marker={'color': colors[d]},\n",
    "        #error_y=dict(type='data', array=finger_std[a][d])\n",
    "    ))\n",
    "\n",
    "fig.update_layout(barmode='group',\n",
    "                  #title=\"TPS, \" +a+ \", absolute value\",\n",
    "                  title=\"TPS, \" +a,\n",
    "                  legend_title=\"subject\",\n",
    "                  autosize=False,\n",
    "                  width=1000,\n",
    "                  height=500,\n",
    "                 )\n",
    "fig.write_image(join(os.getcwd(), \"figures\",\"data_manual_segmentation\", \"tps_per_subject_suturing.png\"))"
   ]
  },
  {
   "cell_type": "code",
   "execution_count": 92,
   "id": "1ad38dcc-2e0a-4327-80aa-dff56778d53b",
   "metadata": {},
   "outputs": [],
   "source": [
    "\n",
    "fig = go.Figure()\n",
    "a = action[1]\n",
    "for d in subject_nb: \n",
    "    fig.add_trace(go.Bar(\n",
    "        name=d,\n",
    "        x=finger_names,\n",
    "        #y=finger_mean_abs[a][d],\n",
    "        y=finger_mean[a][d],\n",
    "        width=0.15,\n",
    "        marker={'color': colors[d]},\n",
    "        #error_y=dict(type='data', array=finger_std[a][d])\n",
    "    ))\n",
    "fig.update_layout(barmode='group',\n",
    "                  #title=\"TPS, \" +a+ \", absolute value\",\n",
    "                  title=\"TPS, \" +a,\n",
    "                  legend_title=\"subject\",\n",
    "                  autosize=False,\n",
    "                  width=1000,\n",
    "                  height=500,\n",
    "                 )\n",
    "fig.write_image(join(os.getcwd(), \"figures\",\"data_manual_segmentation\", \"tps_per_subject_cutting.png\"))"
   ]
  },
  {
   "cell_type": "markdown",
   "id": "b8128f2f-d920-43e4-b7bc-3030387f3757",
   "metadata": {},
   "source": [
    "## compare for same subject between activities"
   ]
  },
  {
   "cell_type": "code",
   "execution_count": 93,
   "id": "5fbc8b6f-1764-4cc6-b68f-2240f47091d4",
   "metadata": {},
   "outputs": [],
   "source": [
    "# tps data: compare for same subjects the 2 activities\n",
    "\n",
    "\n",
    "for d in subject_nb: \n",
    "    fig = go.Figure()\n",
    "    for a in action:\n",
    "        fig.add_trace(go.Bar(\n",
    "        name=a,\n",
    "        x=finger_names,\n",
    "        #y=finger_mean_abs[a][d],\n",
    "        y=finger_mean[a][d],\n",
    "        width=0.15,\n",
    "        marker={'color': colors2[a]},\n",
    "        \n",
    "        #error_y=dict(type='data', array=finger_std[a][d])\n",
    "    ))\n",
    "\n",
    "    fig.update_layout(barmode='group',\n",
    "                  #title=\"TPS, absolute values, subject \" + d,\n",
    "                  title=\"TPS, subject \" + d,\n",
    "                  legend_title=\"action\",\n",
    "                  autosize=False,\n",
    "                  width=1000,\n",
    "                  height=500,\n",
    "                 )\n",
    "    fig.write_image(join(os.getcwd(), \"figures\",\"data_manual_segmentation\", \"tps_per_activity_subject_\" + d + \".png\"))"
   ]
  },
  {
   "cell_type": "code",
   "execution_count": null,
   "id": "0483c6fb-6b93-4476-b5f6-969a3a177331",
   "metadata": {},
   "outputs": [],
   "source": []
  },
  {
   "cell_type": "code",
   "execution_count": null,
   "id": "dbc54afa-961d-491a-8357-9cfc9165b5fa",
   "metadata": {},
   "outputs": [],
   "source": []
  },
  {
   "cell_type": "code",
   "execution_count": null,
   "id": "4023edd6-b058-4829-96d6-e80bf743e596",
   "metadata": {},
   "outputs": [],
   "source": []
  },
  {
   "cell_type": "code",
   "execution_count": null,
   "id": "4a91b737-f06b-4d3b-9897-8ecf73a82583",
   "metadata": {},
   "outputs": [],
   "source": []
  }
 ],
 "metadata": {
  "kernelspec": {
   "display_name": "Python 3 (ipykernel)",
   "language": "python",
   "name": "python3"
  },
  "language_info": {
   "codemirror_mode": {
    "name": "ipython",
    "version": 3
   },
   "file_extension": ".py",
   "mimetype": "text/x-python",
   "name": "python",
   "nbconvert_exporter": "python",
   "pygments_lexer": "ipython3",
   "version": "3.8.12"
  }
 },
 "nbformat": 4,
 "nbformat_minor": 5
}
