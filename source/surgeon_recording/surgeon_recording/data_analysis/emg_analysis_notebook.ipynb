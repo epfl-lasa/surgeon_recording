{
 "cells": [
  {
   "cell_type": "code",
   "execution_count": null,
   "id": "50ee4179",
   "metadata": {},
   "outputs": [],
   "source": [
    "## Imports"
   ]
  },
  {
   "cell_type": "code",
   "execution_count": null,
   "id": "96b05563",
   "metadata": {},
   "outputs": [],
   "source": [
    "import emg_utils as myfct\n",
    "import matplotlib.pyplot as plt\n",
    "import scipy.signal as sp\n",
    "import pyemgpipeline as pep\n",
    "import numpy as np\n",
    "from matplotlib.figure import SubplotParams\n",
    "import os \n",
    "import pywt"
   ]
  },
  {
   "cell_type": "code",
   "execution_count": null,
   "id": "88fd258e",
   "metadata": {},
   "outputs": [],
   "source": [
    "## Global variables"
   ]
  },
  {
   "cell_type": "code",
   "execution_count": null,
   "id": "08d9c50a",
   "metadata": {},
   "outputs": [],
   "source": [
    "SR = 1500 #sampling rate"
   ]
  }
 ],
 "metadata": {
  "kernelspec": {
   "display_name": "Python 3 (Spyder)",
   "language": "python3",
   "name": "python3"
  },
  "language_info": {
   "codemirror_mode": {
    "name": "ipython",
    "version": 3
   },
   "file_extension": ".py",
   "mimetype": "text/x-python",
   "name": "python",
   "nbconvert_exporter": "python",
   "pygments_lexer": "ipython3",
   "version": "3.9.13"
  }
 },
 "nbformat": 4,
 "nbformat_minor": 5
}
