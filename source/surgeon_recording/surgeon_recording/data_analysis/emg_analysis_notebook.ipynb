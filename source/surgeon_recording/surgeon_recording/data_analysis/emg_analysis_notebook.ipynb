{
 "cells": [
  {
   "cell_type": "markdown",
   "id": "6bbe4820-ef8f-4a60-82cf-151e00763199",
   "metadata": {},
   "source": [
    "## Imports"
   ]
  },
  {
   "cell_type": "code",
   "execution_count": null,
   "id": "96b05563",
   "metadata": {},
   "outputs": [],
   "source": [
    "import emg_utils as myfct\n",
    "import matplotlib.pyplot as plt\n",
    "import scipy.signal as sp\n",
    "import pyemgpipeline as pep\n",
    "import numpy as np\n",
    "from matplotlib.figure import SubplotParams\n",
    "import os \n",
    "import pywt"
   ]
  },
  {
   "cell_type": "markdown",
   "id": "07c7255f-5813-41ac-aec6-97d6a8036513",
   "metadata": {},
   "source": [
    "## Global variables"
   ]
  },
  {
   "cell_type": "code",
   "execution_count": 2,
   "id": "08d9c50a",
   "metadata": {},
   "outputs": [],
   "source": [
    "SR = 1500 #sampling rate\n",
    "emg_placement = 'Jarque-Bou'"
   ]
  },
  {
   "cell_type": "markdown",
   "id": "206180ef-299e-4427-bb54-eca2af829703",
   "metadata": {},
   "source": [
    "## Path to mydata.csv folder"
   ]
  },
  {
   "cell_type": "code",
   "execution_count": 1,
   "id": "b7d93b58-0454-41ac-9d28-705a4311398b",
   "metadata": {},
   "outputs": [],
   "source": [
    "data_dir = r'../emg_recordings/12-01-2023/'\n",
    "path_to_calibration = data_dir + 'torstein_calib_half/mydata.csv'\n",
    "path_to_mydata = data_dir + 'torstein_task_2/mydata.csv'"
   ]
  },
  {
   "cell_type": "markdown",
   "id": "4ec66e86-6fee-4289-bcc2-cd1655fc80f4",
   "metadata": {},
   "source": [
    "## Plot raw data "
   ]
  },
  {
   "cell_type": "code",
   "execution_count": null,
   "id": "ed932d00-e9c5-432b-8949-f30ae0e93fbb",
   "metadata": {},
   "outputs": [],
   "source": [
    "myfct.plot_mydata_raw(path_to_mydata)\n",
    "myfct.plot_mydata_raw(path_to_calibration)"
   ]
  },
  {
   "cell_type": "markdown",
   "id": "64fdd5ff-06d8-4172-994e-8f58b720e5b2",
   "metadata": {},
   "source": [
    "## Data after clean_enmg function (right time arrays, remove nan + unexpected high values, remove DC offset, rectify)"
   ]
  },
  {
   "cell_type": "code",
   "execution_count": null,
   "id": "771ad348-7d7d-405d-bbbe-4b0c103d52d9",
   "metadata": {},
   "outputs": [],
   "source": [
    "cleanemg_calib = myfct.clean_emg(path_to_calibration, emg_placement)   \n",
    "cleanemgDF = myfct.clean_emg(path_to_mydata, emg_placement)   \n",
    "\n",
    "myfct.plot_emgDF(cleanemg_calib)\n",
    "myfct.plot_emgDF(cleanemgDF)\n",
    "\n",
    "print(f\"Calibration recording duration : {cleanemg_calib['relative time'].iloc[-1]:.2f} s\")\n",
    "print(f\"Recording duration : {cleanemgDF['relative time'].iloc[-1]:.2f} s\")"
   ]
  },
  {
   "cell_type": "markdown",
   "id": "303d7b5c-a44f-4798-90cf-952df8401a1a",
   "metadata": {
    "tags": []
   },
   "source": [
    "## Choose cut off frequency"
   ]
  },
  {
   "cell_type": "code",
   "execution_count": null,
   "id": "ca38bffe-8e3f-4834-a816-f622db76b8d9",
   "metadata": {},
   "outputs": [],
   "source": [
    "ch1=cleanemgDF[\"Flexor Carpi Ulnaris R\"].to_numpy()\n",
    "ch1 = myfct.interpolate_clean_emg(cleanemgDF)\n",
    "ch1_fft = fft(ch1)\n",
    "# ch1_fft_db = plt.magnitude_spectrum(ch1_fft, scale = \"dB\")\n",
    "ch1_fft_db = plt.magnitude_spectrum(ch1_fft)\n",
    "\n",
    "time = mydataDF['absolute time [s]'].to_numpy()\n",
    "N = len(ch1)\n",
    "n = np.arange(N)\n",
    "sr=1500\n",
    "T = N/sr\n",
    "freq = n/T\n",
    "\n",
    "# plt.plot(1/np.array(time), ch1_fft_db[0])\n",
    "plt.plot(freq, np.abs(ch1_fft_db[0]))\n",
    "# plt.xscale(\"log\")\n",
    "plt.show()\n",
    "\n",
    "# Obtained freq at -3dB is 8*10^-6 Hz which is really small ..."
   ]
  },
  {
   "cell_type": "markdown",
   "id": "f5410aca-b5a8-4552-97f0-c1cde9f1e25d",
   "metadata": {},
   "source": [
    "##"
   ]
  }
 ],
 "metadata": {
  "kernelspec": {
   "display_name": "Python 3 (ipykernel)",
   "language": "python",
   "name": "python3"
  },
  "language_info": {
   "codemirror_mode": {
    "name": "ipython",
    "version": 3
   },
   "file_extension": ".py",
   "mimetype": "text/x-python",
   "name": "python",
   "nbconvert_exporter": "python",
   "pygments_lexer": "ipython3",
   "version": "3.9.12"
  }
 },
 "nbformat": 4,
 "nbformat_minor": 5
}
